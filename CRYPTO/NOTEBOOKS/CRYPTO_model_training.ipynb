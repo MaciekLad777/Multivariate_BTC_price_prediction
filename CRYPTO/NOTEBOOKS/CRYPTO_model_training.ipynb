{
  "nbformat": 4,
  "nbformat_minor": 0,
  "metadata": {
    "colab": {
      "provenance": []
    },
    "kernelspec": {
      "name": "python3",
      "display_name": "Python 3"
    },
    "language_info": {
      "name": "python"
    }
  },
  "cells": [
    {
      "cell_type": "code",
      "execution_count": 1,
      "metadata": {
        "id": "wGjUW-TFrukp"
      },
      "outputs": [],
      "source": [
        "import pandas as pd\n",
        "\n",
        "file_path = \"/content/drive/MyDrive/CRYPTO/Preprocessed_data/data.csv\"\n",
        "\n",
        "data = pd.read_csv(file_path)\n"
      ]
    },
    {
      "cell_type": "code",
      "source": [
        "import pandas as pd\n",
        "nan_values = data.isna().any().any()\n",
        "\n",
        "if nan_values:\n",
        "    print(\"There are NaN values in the DataFrame.\")\n",
        "else:\n",
        "    print(\"There are no NaN values in the DataFrame.\")"
      ],
      "metadata": {
        "colab": {
          "base_uri": "https://localhost:8080/"
        },
        "id": "e2UeY2rYYr8S",
        "outputId": "e6e6907d-fe18-4fb5-9fed-c7b110e49233"
      },
      "execution_count": 2,
      "outputs": [
        {
          "output_type": "stream",
          "name": "stdout",
          "text": [
            "There are NaN values in the DataFrame.\n"
          ]
        }
      ]
    },
    {
      "cell_type": "markdown",
      "source": [
        "Na początek wypełniamy brakujące wartości średnią wartości z danej kolumny"
      ],
      "metadata": {
        "id": "_nuAl0a8zBIu"
      }
    },
    {
      "cell_type": "code",
      "source": [
        "import pandas as pd\n",
        "\n",
        "data_filled = data.fillna(data.mean())"
      ],
      "metadata": {
        "id": "De79xJSfY_Z7"
      },
      "execution_count": 3,
      "outputs": []
    },
    {
      "cell_type": "code",
      "source": [
        "DATA = data_filled.values"
      ],
      "metadata": {
        "id": "ld5-cyTDFVM8"
      },
      "execution_count": 4,
      "outputs": []
    },
    {
      "cell_type": "code",
      "source": [
        "DATA[0][:5]"
      ],
      "metadata": {
        "colab": {
          "base_uri": "https://localhost:8080/"
        },
        "id": "PD5DrB7PAZpv",
        "outputId": "2cd97ef9-8484-4c12-9a1c-fc7f865880ea"
      },
      "execution_count": 5,
      "outputs": [
        {
          "output_type": "execute_result",
          "data": {
            "text/plain": [
              "array([7.44683008e+03, 7.44683008e+03, 7.10152002e+03, 7.14358008e+03,\n",
              "       2.05314000e+00])"
            ]
          },
          "metadata": {},
          "execution_count": 5
        }
      ]
    },
    {
      "cell_type": "markdown",
      "source": [
        "Dzielimy dane na ramki.\n",
        "\n",
        "Będziemy przewidywać 1 dzień na podstawie poprzedniego miesiącia czyli 1 ramka będzie zawierała dane z 30 dni, każdy dzień zawiera dane z poszczególnych kolumn\n",
        "\n"
      ],
      "metadata": {
        "id": "BBU52cXVA1Js"
      }
    },
    {
      "cell_type": "code",
      "source": [
        "DATA.shape"
      ],
      "metadata": {
        "colab": {
          "base_uri": "https://localhost:8080/"
        },
        "id": "a1xx8XOoNF2t",
        "outputId": "69854225-2aea-4681-8c5c-505590d5ca71"
      },
      "execution_count": 6,
      "outputs": [
        {
          "output_type": "execute_result",
          "data": {
            "text/plain": [
              "(2344, 50)"
            ]
          },
          "metadata": {},
          "execution_count": 6
        }
      ]
    },
    {
      "cell_type": "code",
      "source": [
        "def reshape_data_mlt(data, n_timesteps):\n",
        "    n_samples, n_features = data.shape\n",
        "\n",
        "    reshaped_data_X = np.zeros((n_samples - n_timesteps, n_timesteps, n_features))\n",
        "    reshaped_data_y = np.zeros((n_samples - n_timesteps, n_features))\n",
        "\n",
        "    for i in range(n_samples - n_timesteps):\n",
        "        reshaped_data_X[i] = data[i:i+n_timesteps]\n",
        "        reshaped_data_y[i] = data[i+n_timesteps]\n",
        "\n",
        "    return reshaped_data_X, reshaped_data_y\n"
      ],
      "metadata": {
        "id": "v5eOM5X6Pz6p"
      },
      "execution_count": 7,
      "outputs": []
    },
    {
      "cell_type": "code",
      "source": [
        "n_timesteps=30\n",
        "n_features=50"
      ],
      "metadata": {
        "id": "TQ_syyzyPT4d"
      },
      "execution_count": 8,
      "outputs": []
    },
    {
      "cell_type": "markdown",
      "source": [
        "Zrobimy prosty model bez specjalnego przygotowania danych, użyjemy jedynie naszej funkcji do zmiany kształtu danych.\n",
        "\n",
        "Sprawdzimy czy nie będzie żadnych nieoczekiwanych błędów."
      ],
      "metadata": {
        "id": "7kOvKlR-zutS"
      }
    },
    {
      "cell_type": "code",
      "source": [
        "import tensorflow as tf\n",
        "import numpy as np\n",
        "from tensorflow.keras.models import Sequential\n",
        "from tensorflow.keras.layers import LSTM,Dense,Dropout\n",
        "\n",
        "\n",
        "# Reshape the data into windows\n",
        "X, y = reshape_data_mlt(DATA, n_timesteps)\n",
        "\n",
        "# Extract only the first element of each target (y) sample\n",
        "y = y[:, 3]\n",
        "\n",
        "from tensorflow.keras.optimizers import Adam\n",
        "from tensorflow.keras.callbacks import ReduceLROnPlateau\n",
        "\n",
        "# Define the LSTM model\n",
        "model = Sequential([\n",
        "    LSTM(50, activation='relu', input_shape=(n_timesteps, n_features)),\n",
        "    Dense(1)  # Output only 1 value\n",
        "])\n",
        "\n",
        "# Compile the model with a lower learning rate\n",
        "optimizer = Adam(lr=0.001)  # Adjust the learning rate as needed\n",
        "model.compile(optimizer=optimizer, loss='mse',metrics=[\"mae\"])\n",
        "\n",
        "# Add a callback to reduce learning rate on plateau\n",
        "reduce_lr = ReduceLROnPlateau(monitor='val_loss', factor=0.2, patience=5, min_lr=0.0001)\n",
        "callbacks = [reduce_lr]\n",
        "\n",
        "# Train the model with callbacks\n",
        "# history = model.fit(X, y, epochs=500, batch_size=32, validation_split=0.2, callbacks=callbacks)\n"
      ],
      "metadata": {
        "colab": {
          "base_uri": "https://localhost:8080/"
        },
        "id": "ABNUeMSjSatz",
        "outputId": "e3cda6b8-906b-4d3e-9c24-2fcf68290981"
      },
      "execution_count": 9,
      "outputs": [
        {
          "output_type": "stream",
          "name": "stderr",
          "text": [
            "WARNING:absl:`lr` is deprecated in Keras optimizer, please use `learning_rate` or use the legacy optimizer, e.g.,tf.keras.optimizers.legacy.Adam.\n"
          ]
        }
      ]
    },
    {
      "cell_type": "code",
      "source": [
        "# model.save(\"/content/drive/MyDrive/CRYPTO/Models/OVERALL_model.h5\")"
      ],
      "metadata": {
        "id": "IY-s6q60mUew"
      },
      "execution_count": 10,
      "outputs": []
    },
    {
      "cell_type": "code",
      "source": [
        "from tensorflow.keras.models import load_model\n",
        "\n",
        "# Load the saved model\n",
        "OVERALL_model = load_model(\"/content/drive/MyDrive/CRYPTO/Models/OVERALL_model.h5\")"
      ],
      "metadata": {
        "id": "jyJfaXbzmbcv"
      },
      "execution_count": 11,
      "outputs": []
    },
    {
      "cell_type": "code",
      "source": [
        "OVERALL_model.evaluate(X,y)"
      ],
      "metadata": {
        "colab": {
          "base_uri": "https://localhost:8080/"
        },
        "id": "5NHs0Oc8hf8Q",
        "outputId": "1b5fefb6-2b37-4005-e450-c20dcf73ada5"
      },
      "execution_count": 12,
      "outputs": [
        {
          "output_type": "stream",
          "name": "stdout",
          "text": [
            "73/73 [==============================] - 2s 11ms/step - loss: 337231968.0000 - mae: 7044.8047\n"
          ]
        },
        {
          "output_type": "execute_result",
          "data": {
            "text/plain": [
              "[337231968.0, 7044.8046875]"
            ]
          },
          "metadata": {},
          "execution_count": 12
        }
      ]
    },
    {
      "cell_type": "markdown",
      "source": [
        "Model myli się o około 7-8 tysięcy. Biorąc pod uwagę że cena BTC zazwyczaj utrzymuje się między 10-60k. Oczywiście nie jest to model który można uznać za dobry ale teraz mamy pewność, że zarówna nasza funkcja jak i model działa bez żadnych błędów.\n",
        "\n",
        " Dzięki temu mamy również pogląd na czym stoimy, jakie wyniki jesteśmy w stanie uzyskać za pomocą najprostszej architektury i bez specjalnej regularyzacji.\n",
        "\n",
        "Teraz dokładniej przeanalizujemy wpływ poszczególnych danych na wynik."
      ],
      "metadata": {
        "id": "cppGb-FwmoQC"
      }
    },
    {
      "cell_type": "code",
      "source": [
        "my_list = [str(i) for i in range(50)]\n",
        "print(my_list)"
      ],
      "metadata": {
        "colab": {
          "base_uri": "https://localhost:8080/"
        },
        "id": "E5bA4Zdfq72v",
        "outputId": "c67d6b96-0acb-4361-9f14-10ac54aca654"
      },
      "execution_count": 13,
      "outputs": [
        {
          "output_type": "stream",
          "name": "stdout",
          "text": [
            "['0', '1', '2', '3', '4', '5', '6', '7', '8', '9', '10', '11', '12', '13', '14', '15', '16', '17', '18', '19', '20', '21', '22', '23', '24', '25', '26', '27', '28', '29', '30', '31', '32', '33', '34', '35', '36', '37', '38', '39', '40', '41', '42', '43', '44', '45', '46', '47', '48', '49']\n"
          ]
        }
      ]
    },
    {
      "cell_type": "code",
      "source": [
        "del my_list[4]"
      ],
      "metadata": {
        "id": "Uauu4HtQq_bW"
      },
      "execution_count": 14,
      "outputs": []
    },
    {
      "cell_type": "markdown",
      "source": [
        "Algorytm sprawdzający które kolumny mają największy wpływ na target"
      ],
      "metadata": {
        "id": "QZmjBgwivz5u"
      }
    },
    {
      "cell_type": "code",
      "source": [
        "data_filled.shape"
      ],
      "metadata": {
        "colab": {
          "base_uri": "https://localhost:8080/"
        },
        "id": "QlQMhDutkTbD",
        "outputId": "059ffd11-0d1b-4b9c-ac1c-9d96336b7a13"
      },
      "execution_count": 15,
      "outputs": [
        {
          "output_type": "execute_result",
          "data": {
            "text/plain": [
              "(2344, 50)"
            ]
          },
          "metadata": {},
          "execution_count": 15
        }
      ]
    },
    {
      "cell_type": "code",
      "source": [
        "import pandas as pd\n",
        "import numpy as np\n",
        "import matplotlib.pyplot as plt\n",
        "from sklearn.ensemble import RandomForestRegressor\n",
        "\n",
        "# Define features and target variable\n",
        "features = my_list\n",
        "\n",
        "df= data_filled\n",
        "X = df[features]\n",
        "y = df['3']\n",
        "\n",
        "# Initialize and train the RandomForestRegressor\n",
        "regressor = RandomForestRegressor()\n",
        "regressor.fit(X, y)\n",
        "\n",
        "# Plot feature importances\n",
        "importances = regressor.feature_importances_\n",
        "sorted_idx = np.argsort(importances)\n",
        "print(sorted_idx)\n",
        "padding = np.arange(len(features)) + 0.5\n",
        "plt.barh(padding, importances[sorted_idx], align='center')\n",
        "# plt.yticks(padding, features[sorted_idx])\n",
        "plt.xlabel(\"Relative Importance\")\n",
        "plt.title(\"Variable Importance\")\n",
        "plt.show()\n",
        "\n",
        "\n"
      ],
      "metadata": {
        "colab": {
          "base_uri": "https://localhost:8080/",
          "height": 527
        },
        "id": "qX2mORxcsau1",
        "outputId": "5c653018-c22a-451b-9e01-5166c4be4713"
      },
      "execution_count": 16,
      "outputs": [
        {
          "output_type": "stream",
          "name": "stdout",
          "text": [
            "[48 44 13 47 45 12 46 14 19 22 20 23 18 15 11 21 28 36  9 16 17  4  8 10\n",
            "  5  7 32  6 40 38 42 33 29  0 24 25 26 34 30 41  2  1 37 43 27 39 31 35\n",
            "  3]\n"
          ]
        },
        {
          "output_type": "display_data",
          "data": {
            "text/plain": [
              "<Figure size 640x480 with 1 Axes>"
            ],
            "image/png": "[encoded data removed]"
          },
          "metadata": {}
        }
      ]
    },
    {
      "cell_type": "code",
      "source": [
        "sorted_idx=np.flip(sorted_idx)"
      ],
      "metadata": {
        "id": "Jrm82bAvgI6U"
      },
      "execution_count": 17,
      "outputs": []
    },
    {
      "cell_type": "code",
      "source": [
        "len(sorted_idx)"
      ],
      "metadata": {
        "colab": {
          "base_uri": "https://localhost:8080/"
        },
        "id": "kjFsJ5gJhF2b",
        "outputId": "3516b3a8-3997-48a3-f328-03809fb6b502"
      },
      "execution_count": 18,
      "outputs": [
        {
          "output_type": "execute_result",
          "data": {
            "text/plain": [
              "49"
            ]
          },
          "metadata": {},
          "execution_count": 18
        }
      ]
    },
    {
      "cell_type": "code",
      "source": [
        "List_of_data=[\"BTC_OPEN\",\"BTC_HIGH\",\"BTC_LOW\",\"BTC_CLOSE\",\"BNB_OPEN\",\"BNB_HIGH\",\"BNB_LOW\",\"BNB_CLOSE\",\"ETH_OPEN\",\"ETH_HIGH\",\"ETH_LOW\",\"ETH_CLOSE\",\"BCH_OPEN\",\"BCH_HIGH\",\"BCH_LOW\",\"BCH_CLOSE\",\"DOGE_OPEN\",\"DOGE_HIGH\",\"DOGE_LOW\",\"DOGE_CLOSE\",\"AVAX_OPEN\",\"AVAX_HIGH\",\"AVAX_LOW\",\"AVAX_CLOSE\",\"API_DATA\",\"CAD_OPEN\",\"CAD_HIGH\",\"CAD_LOW\",\"CAD_CLOSE\",\"CNY_OPEN\",\"CNY_HIGH\",\"CNY_LOW\",\"CNY_CLOSE\",\"EUR_OPEN\",\"EUR_HIGH\",\"EUR_LOW\",\"EUR_CLOSE\",\"GBP_OPEN\",\"GBP_HIGH\",\"GBP_LOW\",\"GBP_CLOSE\",\"JPY_OPEN\",\"JPY_HIGH\",\"JPY_LOW\",\"JPY_CLOSE\",\"BTC_VOLUME\",\"NYSE\",\"NASDAQ\",\"LSE\",\"HALVING\"]"
      ],
      "metadata": {
        "id": "V9MrWlKrh7U9"
      },
      "execution_count": 19,
      "outputs": []
    },
    {
      "cell_type": "code",
      "source": [
        "for x in range(len(List_of_data)-1):\n",
        "    print(List_of_data[sorted_idx[x]])"
      ],
      "metadata": {
        "colab": {
          "base_uri": "https://localhost:8080/"
        },
        "id": "Q-yc2CfAjKH4",
        "outputId": "3d4edb94-9f8f-47ca-9dcf-de99a66175d1"
      },
      "execution_count": 20,
      "outputs": [
        {
          "output_type": "stream",
          "name": "stdout",
          "text": [
            "BTC_CLOSE\n",
            "EUR_LOW\n",
            "CNY_LOW\n",
            "GBP_LOW\n",
            "CAD_LOW\n",
            "JPY_LOW\n",
            "GBP_OPEN\n",
            "BTC_HIGH\n",
            "BTC_LOW\n",
            "JPY_OPEN\n",
            "CNY_HIGH\n",
            "EUR_HIGH\n",
            "CAD_HIGH\n",
            "CAD_OPEN\n",
            "API_DATA\n",
            "BTC_OPEN\n",
            "CNY_OPEN\n",
            "EUR_OPEN\n",
            "JPY_HIGH\n",
            "GBP_HIGH\n",
            "GBP_CLOSE\n",
            "BNB_LOW\n",
            "CNY_CLOSE\n",
            "BNB_CLOSE\n",
            "BNB_HIGH\n",
            "ETH_LOW\n",
            "ETH_OPEN\n",
            "BNB_OPEN\n",
            "DOGE_HIGH\n",
            "DOGE_OPEN\n",
            "ETH_HIGH\n",
            "EUR_CLOSE\n",
            "CAD_CLOSE\n",
            "AVAX_HIGH\n",
            "ETH_CLOSE\n",
            "BCH_CLOSE\n",
            "DOGE_LOW\n",
            "AVAX_CLOSE\n",
            "AVAX_OPEN\n",
            "AVAX_LOW\n",
            "DOGE_CLOSE\n",
            "BCH_LOW\n",
            "NYSE\n",
            "BCH_OPEN\n",
            "BTC_VOLUME\n",
            "NASDAQ\n",
            "BCH_HIGH\n",
            "JPY_CLOSE\n",
            "LSE\n"
          ]
        }
      ]
    },
    {
      "cell_type": "markdown",
      "source": [
        "Mamy teraz pewien pogląd na to które dane mają duży wpływ na wynik. Oczywiście nie jest to ostateczny wyznacznik, jedynie zgodność korelacji, warto jednak przyjrzeć się temu dokładniej."
      ],
      "metadata": {
        "id": "_J3y8G5CgFuF"
      }
    },
    {
      "cell_type": "markdown",
      "source": [
        "Waluty\n",
        "\n",
        "Z analizy wynika że największa korelacja jest oczywiście z cenami w przeliczeniu na inne waluty. Nie mówi to koniecznie o tym że te właśnie dane polepszają jakość modelu. Wręcz przeciwnie, korelacja oznacza że dane są do siebie podobne, oznacza to że podawanie cen w porównaniu do innych walut może być tylko niepotrzebnym wprowadzaniem danych które ostatecznie nie dodają żadnych wartościowych informacji, jedynie je powielają. Możemy więc stwierdzić że powinniśmy traktować te listę w sposób odwrotny, dane z największą korelacją mogą być tymi które wprowadzają najmniej wartościowych informacji.\n",
        "\n",
        "Nie powinniśmy ich całkime usuwać, jednak należałoby ograniczyć ich ilość, np. poprzez usunięcie Open,High,Low. Tak szczegółowa analiza samych walut sprawi tylko że model będzie działał wolniej i niekoniecznie lepiej\n",
        "\n"
      ],
      "metadata": {
        "id": "WLM7XNpQl7PY"
      }
    },
    {
      "cell_type": "markdown",
      "source": [
        "Aby sprawdzić realny wpływ na performance stworzymy kilka prostych modeli\n",
        "\n",
        "1.BTC+co-currencies\n",
        "\n",
        "2.BTC+API\n",
        "\n",
        "3.BTC+waluty\n",
        "\n",
        "4.BTC+Volume\n",
        "\n",
        "5.BTC+Markets_value\n",
        "\n",
        "*Halving traktujemy jako integralną częśc ceny BTC, jego wpływ jest zbyt oczywisty, ważny aby go rozważać"
      ],
      "metadata": {
        "id": "D92PedIcmyBl"
      }
    },
    {
      "cell_type": "markdown",
      "source": [
        "Na początek stworzymy jednak Base model, tylko na podstawie ceny BTC aby mieć punkt odniesienia"
      ],
      "metadata": {
        "id": "WyonEGedo6x-"
      }
    },
    {
      "cell_type": "markdown",
      "source": [
        "Zmodyfikujemy naszą funckję. Teraz będzie tworzyła ramki jedynie z kolumn których indeksy jej podamy."
      ],
      "metadata": {
        "id": "tPSMOLCx1YkZ"
      }
    },
    {
      "cell_type": "code",
      "source": [
        "import numpy as np\n",
        "\n",
        "def reshape_data_mlt_feature_changer(data, n_timesteps, feature_indices):\n",
        "\n",
        "    n_samples, n_features = data.shape\n",
        "\n",
        "    reshaped_data_X = np.zeros((n_samples - n_timesteps, n_timesteps, len(feature_indices)))\n",
        "    reshaped_data_y = np.zeros((n_samples - n_timesteps, 1))\n",
        "\n",
        "    for i in range(n_samples - n_timesteps):\n",
        "        selected_features_X = data[i:i+n_timesteps, feature_indices]\n",
        "        selected_features_y = data[i+n_timesteps, 3]\n",
        "        reshaped_data_X[i] = selected_features_X\n",
        "        reshaped_data_y[i] = selected_features_y\n",
        "\n",
        "    return reshaped_data_X, reshaped_data_y\n"
      ],
      "metadata": {
        "id": "anrHDV-MSJxD"
      },
      "execution_count": 21,
      "outputs": []
    },
    {
      "cell_type": "markdown",
      "source": [
        "Base model"
      ],
      "metadata": {
        "id": "0gfMX01g7pFP"
      }
    },
    {
      "cell_type": "code",
      "source": [
        "base_features=[0,1,2,3,49]"
      ],
      "metadata": {
        "id": "zL7pDvAxqGbX"
      },
      "execution_count": 22,
      "outputs": []
    },
    {
      "cell_type": "markdown",
      "source": [
        "Wprowadzamy MinMaxScaler, skalujemy wszystkie dane do wartości między 0 a 1."
      ],
      "metadata": {
        "id": "xF7h2BHL1kkv"
      }
    },
    {
      "cell_type": "code",
      "source": [
        "\n",
        "import numpy as np\n",
        "from sklearn.model_selection import train_test_split\n",
        "from keras.models import Sequential\n",
        "from keras.layers import LSTM, Dense, Dropout\n",
        "from keras.optimizers import Adam\n",
        "from sklearn.preprocessing import MinMaxScaler\n",
        "\n",
        "\n",
        "scalers = [MinMaxScaler() for _ in range(DATA.shape[1])]\n",
        "\n",
        "\n",
        "DATA_scaled = np.hstack([scaler.fit_transform(DATA[:, [i]]) for i, scaler in enumerate(scalers)])\n",
        "\n",
        "\n",
        "reshaped_data_X, reshaped_data_y=reshape_data_mlt_feature_changer(DATA_scaled,n_timesteps,base_features)\n",
        "\n",
        "X_train, X_test, y_train, y_test = train_test_split(reshaped_data_X, reshaped_data_y, test_size=0.2, random_state=42,shuffle=False)\n",
        "\n",
        "\n",
        "base_model = Sequential()\n",
        "base_model.add(LSTM(128, input_shape=(X_train.shape[1], X_train.shape[2]), return_sequences=True))\n",
        "base_model.add(Dropout(0.2))\n",
        "base_model.add(LSTM(64, return_sequences=False))\n",
        "base_model.add(Dense(1))\n",
        "\n",
        "optimizer = Adam(lr=0.001)\n",
        "base_model.compile(optimizer=optimizer, loss='mse', metrics=['mae', 'mse'])\n",
        "\n",
        "history = base_model.fit(X_train, y_train, epochs=50, batch_size=32, validation_split=0.2)\n",
        "\n",
        "loss, mae, mse = base_model.evaluate(X_test, y_test)\n",
        "print(\"Test Loss:\", loss)\n",
        "print(\"Test MAE:\", mae)\n",
        "print(\"Test MSE:\", mse)\n"
      ],
      "metadata": {
        "colab": {
          "base_uri": "https://localhost:8080/"
        },
        "id": "sTTUyAIlqieN",
        "outputId": "13e712cd-951f-4a4b-8528-35d956cc1ed1"
      },
      "execution_count": 23,
      "outputs": [
        {
          "output_type": "stream",
          "name": "stderr",
          "text": [
            "WARNING:absl:`lr` is deprecated in Keras optimizer, please use `learning_rate` or use the legacy optimizer, e.g.,tf.keras.optimizers.legacy.Adam.\n"
          ]
        },
        {
          "output_type": "stream",
          "name": "stdout",
          "text": [
            "Epoch 1/50\n",
            "47/47 [==============================] - 11s 93ms/step - loss: 0.0063 - mae: 0.0461 - mse: 0.0063 - val_loss: 0.0011 - val_mae: 0.0243 - val_mse: 0.0011\n",
            "Epoch 2/50\n",
            "47/47 [==============================] - 4s 95ms/step - loss: 0.0013 - mae: 0.0240 - mse: 0.0013 - val_loss: 0.0025 - val_mae: 0.0405 - val_mse: 0.0025\n",
            "Epoch 3/50\n",
            "47/47 [==============================] - 4s 77ms/step - loss: 0.0011 - mae: 0.0205 - mse: 0.0011 - val_loss: 0.0013 - val_mae: 0.0271 - val_mse: 0.0013\n",
            "Epoch 4/50\n",
            "47/47 [==============================] - 3s 65ms/step - loss: 0.0011 - mae: 0.0211 - mse: 0.0011 - val_loss: 0.0011 - val_mae: 0.0254 - val_mse: 0.0011\n",
            "Epoch 5/50\n",
            "47/47 [==============================] - 3s 67ms/step - loss: 8.8178e-04 - mae: 0.0196 - mse: 8.8178e-04 - val_loss: 0.0021 - val_mae: 0.0384 - val_mse: 0.0021\n",
            "Epoch 6/50\n",
            "47/47 [==============================] - 5s 98ms/step - loss: 9.6804e-04 - mae: 0.0212 - mse: 9.6804e-04 - val_loss: 0.0010 - val_mae: 0.0236 - val_mse: 0.0010\n",
            "Epoch 7/50\n",
            "47/47 [==============================] - 4s 80ms/step - loss: 8.4711e-04 - mae: 0.0184 - mse: 8.4711e-04 - val_loss: 0.0013 - val_mae: 0.0288 - val_mse: 0.0013\n",
            "Epoch 8/50\n",
            "47/47 [==============================] - 3s 65ms/step - loss: 8.9091e-04 - mae: 0.0198 - mse: 8.9091e-04 - val_loss: 0.0014 - val_mae: 0.0286 - val_mse: 0.0014\n",
            "Epoch 9/50\n",
            "47/47 [==============================] - 3s 66ms/step - loss: 7.3084e-04 - mae: 0.0175 - mse: 7.3084e-04 - val_loss: 0.0010 - val_mae: 0.0237 - val_mse: 0.0010\n",
            "Epoch 10/50\n",
            "47/47 [==============================] - 5s 102ms/step - loss: 9.1820e-04 - mae: 0.0198 - mse: 9.1820e-04 - val_loss: 6.6762e-04 - val_mae: 0.0178 - val_mse: 6.6762e-04\n",
            "Epoch 11/50\n",
            "47/47 [==============================] - 4s 74ms/step - loss: 8.1191e-04 - mae: 0.0177 - mse: 8.1191e-04 - val_loss: 0.0027 - val_mae: 0.0436 - val_mse: 0.0027\n",
            "Epoch 12/50\n",
            "47/47 [==============================] - 3s 69ms/step - loss: 6.9914e-04 - mae: 0.0165 - mse: 6.9914e-04 - val_loss: 0.0018 - val_mae: 0.0352 - val_mse: 0.0018\n",
            "Epoch 13/50\n",
            "47/47 [==============================] - 3s 72ms/step - loss: 6.0514e-04 - mae: 0.0153 - mse: 6.0514e-04 - val_loss: 7.3988e-04 - val_mae: 0.0200 - val_mse: 7.3988e-04\n",
            "Epoch 14/50\n",
            "47/47 [==============================] - 5s 114ms/step - loss: 6.2242e-04 - mae: 0.0151 - mse: 6.2242e-04 - val_loss: 5.7011e-04 - val_mae: 0.0169 - val_mse: 5.7011e-04\n",
            "Epoch 15/50\n",
            "47/47 [==============================] - 3s 68ms/step - loss: 5.7702e-04 - mae: 0.0146 - mse: 5.7702e-04 - val_loss: 6.5068e-04 - val_mae: 0.0188 - val_mse: 6.5068e-04\n",
            "Epoch 16/50\n",
            "47/47 [==============================] - 3s 71ms/step - loss: 5.7524e-04 - mae: 0.0155 - mse: 5.7524e-04 - val_loss: 9.2082e-04 - val_mae: 0.0226 - val_mse: 9.2082e-04\n",
            "Epoch 17/50\n",
            "47/47 [==============================] - 3s 68ms/step - loss: 5.5585e-04 - mae: 0.0147 - mse: 5.5585e-04 - val_loss: 5.1049e-04 - val_mae: 0.0156 - val_mse: 5.1049e-04\n",
            "Epoch 18/50\n",
            "47/47 [==============================] - 5s 114ms/step - loss: 6.9095e-04 - mae: 0.0167 - mse: 6.9095e-04 - val_loss: 6.8428e-04 - val_mae: 0.0189 - val_mse: 6.8428e-04\n",
            "Epoch 19/50\n",
            "47/47 [==============================] - 3s 66ms/step - loss: 5.6333e-04 - mae: 0.0144 - mse: 5.6333e-04 - val_loss: 7.4132e-04 - val_mae: 0.0200 - val_mse: 7.4132e-04\n",
            "Epoch 20/50\n",
            "47/47 [==============================] - 3s 69ms/step - loss: 5.8860e-04 - mae: 0.0147 - mse: 5.8860e-04 - val_loss: 0.0019 - val_mae: 0.0373 - val_mse: 0.0019\n",
            "Epoch 21/50\n",
            "47/47 [==============================] - 3s 72ms/step - loss: 5.9109e-04 - mae: 0.0151 - mse: 5.9109e-04 - val_loss: 7.5153e-04 - val_mae: 0.0207 - val_mse: 7.5153e-04\n",
            "Epoch 22/50\n",
            "47/47 [==============================] - 5s 110ms/step - loss: 5.1884e-04 - mae: 0.0138 - mse: 5.1884e-04 - val_loss: 6.7774e-04 - val_mae: 0.0197 - val_mse: 6.7774e-04\n",
            "Epoch 23/50\n",
            "47/47 [==============================] - 3s 66ms/step - loss: 5.8471e-04 - mae: 0.0150 - mse: 5.8471e-04 - val_loss: 6.9229e-04 - val_mae: 0.0196 - val_mse: 6.9229e-04\n",
            "Epoch 24/50\n",
            "47/47 [==============================] - 3s 66ms/step - loss: 4.8722e-04 - mae: 0.0135 - mse: 4.8722e-04 - val_loss: 4.4866e-04 - val_mae: 0.0146 - val_mse: 4.4866e-04\n",
            "Epoch 25/50\n",
            "47/47 [==============================] - 3s 68ms/step - loss: 5.8165e-04 - mae: 0.0152 - mse: 5.8165e-04 - val_loss: 6.0067e-04 - val_mae: 0.0183 - val_mse: 6.0067e-04\n",
            "Epoch 26/50\n",
            "47/47 [==============================] - 6s 126ms/step - loss: 5.0841e-04 - mae: 0.0136 - mse: 5.0841e-04 - val_loss: 8.2798e-04 - val_mae: 0.0228 - val_mse: 8.2798e-04\n",
            "Epoch 27/50\n",
            "47/47 [==============================] - 3s 69ms/step - loss: 5.3057e-04 - mae: 0.0140 - mse: 5.3057e-04 - val_loss: 7.7007e-04 - val_mae: 0.0206 - val_mse: 7.7007e-04\n",
            "Epoch 28/50\n",
            "47/47 [==============================] - 3s 68ms/step - loss: 5.0140e-04 - mae: 0.0140 - mse: 5.0140e-04 - val_loss: 0.0011 - val_mae: 0.0270 - val_mse: 0.0011\n",
            "Epoch 29/50\n",
            "47/47 [==============================] - 4s 84ms/step - loss: 4.6745e-04 - mae: 0.0134 - mse: 4.6745e-04 - val_loss: 0.0014 - val_mae: 0.0309 - val_mse: 0.0014\n",
            "Epoch 30/50\n",
            "47/47 [==============================] - 4s 94ms/step - loss: 4.8451e-04 - mae: 0.0145 - mse: 4.8451e-04 - val_loss: 7.9299e-04 - val_mae: 0.0223 - val_mse: 7.9299e-04\n",
            "Epoch 31/50\n",
            "47/47 [==============================] - 3s 68ms/step - loss: 4.3922e-04 - mae: 0.0125 - mse: 4.3922e-04 - val_loss: 4.4112e-04 - val_mae: 0.0149 - val_mse: 4.4112e-04\n",
            "Epoch 32/50\n",
            "47/47 [==============================] - 3s 68ms/step - loss: 5.2116e-04 - mae: 0.0148 - mse: 5.2116e-04 - val_loss: 4.6929e-04 - val_mae: 0.0161 - val_mse: 4.6929e-04\n",
            "Epoch 33/50\n",
            "47/47 [==============================] - 4s 84ms/step - loss: 5.0845e-04 - mae: 0.0145 - mse: 5.0845e-04 - val_loss: 7.4840e-04 - val_mae: 0.0210 - val_mse: 7.4840e-04\n",
            "Epoch 34/50\n",
            "47/47 [==============================] - 4s 88ms/step - loss: 5.8057e-04 - mae: 0.0145 - mse: 5.8057e-04 - val_loss: 7.7092e-04 - val_mae: 0.0212 - val_mse: 7.7092e-04\n",
            "Epoch 35/50\n",
            "47/47 [==============================] - 3s 67ms/step - loss: 5.1380e-04 - mae: 0.0139 - mse: 5.1380e-04 - val_loss: 7.6105e-04 - val_mae: 0.0211 - val_mse: 7.6105e-04\n",
            "Epoch 36/50\n",
            "47/47 [==============================] - 3s 65ms/step - loss: 5.1495e-04 - mae: 0.0142 - mse: 5.1495e-04 - val_loss: 4.6787e-04 - val_mae: 0.0153 - val_mse: 4.6787e-04\n",
            "Epoch 37/50\n",
            "47/47 [==============================] - 4s 78ms/step - loss: 4.4493e-04 - mae: 0.0123 - mse: 4.4493e-04 - val_loss: 5.6663e-04 - val_mae: 0.0176 - val_mse: 5.6663e-04\n",
            "Epoch 38/50\n",
            "47/47 [==============================] - 4s 94ms/step - loss: 5.4709e-04 - mae: 0.0150 - mse: 5.4709e-04 - val_loss: 5.7499e-04 - val_mae: 0.0181 - val_mse: 5.7499e-04\n",
            "Epoch 39/50\n",
            "47/47 [==============================] - 3s 68ms/step - loss: 4.4764e-04 - mae: 0.0127 - mse: 4.4764e-04 - val_loss: 4.6973e-04 - val_mae: 0.0154 - val_mse: 4.6973e-04\n",
            "Epoch 40/50\n",
            "47/47 [==============================] - 3s 65ms/step - loss: 4.4832e-04 - mae: 0.0125 - mse: 4.4832e-04 - val_loss: 3.8443e-04 - val_mae: 0.0139 - val_mse: 3.8443e-04\n",
            "Epoch 41/50\n",
            "47/47 [==============================] - 4s 76ms/step - loss: 5.8349e-04 - mae: 0.0151 - mse: 5.8349e-04 - val_loss: 8.4262e-04 - val_mae: 0.0228 - val_mse: 8.4262e-04\n",
            "Epoch 42/50\n",
            "47/47 [==============================] - 4s 94ms/step - loss: 4.6339e-04 - mae: 0.0125 - mse: 4.6339e-04 - val_loss: 4.2579e-04 - val_mae: 0.0147 - val_mse: 4.2579e-04\n",
            "Epoch 43/50\n",
            "47/47 [==============================] - 3s 65ms/step - loss: 4.3919e-04 - mae: 0.0124 - mse: 4.3919e-04 - val_loss: 3.6071e-04 - val_mae: 0.0130 - val_mse: 3.6071e-04\n",
            "Epoch 44/50\n",
            "47/47 [==============================] - 3s 68ms/step - loss: 4.2300e-04 - mae: 0.0126 - mse: 4.2300e-04 - val_loss: 3.7704e-04 - val_mae: 0.0138 - val_mse: 3.7704e-04\n",
            "Epoch 45/50\n",
            "47/47 [==============================] - 4s 76ms/step - loss: 3.7138e-04 - mae: 0.0115 - mse: 3.7138e-04 - val_loss: 5.4564e-04 - val_mae: 0.0172 - val_mse: 5.4564e-04\n",
            "Epoch 46/50\n",
            "47/47 [==============================] - 5s 99ms/step - loss: 3.8429e-04 - mae: 0.0116 - mse: 3.8429e-04 - val_loss: 4.5878e-04 - val_mae: 0.0159 - val_mse: 4.5878e-04\n",
            "Epoch 47/50\n",
            "47/47 [==============================] - 3s 68ms/step - loss: 4.6418e-04 - mae: 0.0133 - mse: 4.6418e-04 - val_loss: 3.9403e-04 - val_mae: 0.0138 - val_mse: 3.9403e-04\n",
            "Epoch 48/50\n",
            "47/47 [==============================] - 3s 68ms/step - loss: 3.7189e-04 - mae: 0.0115 - mse: 3.7189e-04 - val_loss: 3.4516e-04 - val_mae: 0.0127 - val_mse: 3.4516e-04\n",
            "Epoch 49/50\n",
            "47/47 [==============================] - 4s 80ms/step - loss: 4.0153e-04 - mae: 0.0124 - mse: 4.0153e-04 - val_loss: 7.6315e-04 - val_mae: 0.0222 - val_mse: 7.6315e-04\n",
            "Epoch 50/50\n",
            "47/47 [==============================] - 4s 91ms/step - loss: 4.3700e-04 - mae: 0.0123 - mse: 4.3700e-04 - val_loss: 4.9489e-04 - val_mae: 0.0162 - val_mse: 4.9489e-04\n",
            "15/15 [==============================] - 0s 21ms/step - loss: 3.6914e-04 - mae: 0.0149 - mse: 3.6914e-04\n",
            "Test Loss: 0.0003691406163852662\n",
            "Test MAE: 0.014907455071806908\n",
            "Test MSE: 0.0003691406163852662\n"
          ]
        }
      ]
    },
    {
      "cell_type": "code",
      "source": [
        "zero_model_performance=[0,0,0]\n",
        "zero_model_performance[0],zero_model_performance[1],zero_model_performance[2]=base_model.evaluate(X_test,y_test)"
      ],
      "metadata": {
        "colab": {
          "base_uri": "https://localhost:8080/"
        },
        "id": "thtfyYtBX3jK",
        "outputId": "95df70f3-3536-4ed8-f07b-98ad92f44464"
      },
      "execution_count": 24,
      "outputs": [
        {
          "output_type": "stream",
          "name": "stdout",
          "text": [
            "15/15 [==============================] - 1s 49ms/step - loss: 3.6914e-04 - mae: 0.0149 - mse: 3.6914e-04\n"
          ]
        }
      ]
    },
    {
      "cell_type": "code",
      "source": [
        "y_scaler=scalers[3]"
      ],
      "metadata": {
        "id": "qfNIQ3TdjOpg"
      },
      "execution_count": 25,
      "outputs": []
    },
    {
      "cell_type": "code",
      "source": [
        "import matplotlib.pyplot as plt\n",
        "\n",
        "predictions = base_model.predict(X_test)\n",
        "\n",
        "predictions = y_scaler.inverse_transform(predictions)\n",
        "real_y=y_scaler.inverse_transform(y_test)\n",
        "\n",
        "# Plot the real values and predictions\n",
        "plt.figure(figsize=(10, 6))\n",
        "plt.plot(real_y, label='Real Values')\n",
        "plt.plot(predictions, label='Predictions')\n",
        "plt.xlabel('Time')\n",
        "plt.ylabel('Value')\n",
        "plt.title('Real Values vs Predictions')\n",
        "plt.legend()\n",
        "plt.grid(True)\n",
        "plt.show()\n"
      ],
      "metadata": {
        "id": "HCCueBA0poxL",
        "colab": {
          "base_uri": "https://localhost:8080/",
          "height": 582
        },
        "outputId": "b0807c08-384d-40b6-a12d-c2f69cb9c41b"
      },
      "execution_count": 26,
      "outputs": [
        {
          "output_type": "stream",
          "name": "stdout",
          "text": [
            "15/15 [==============================] - 1s 22ms/step\n"
          ]
        },
        {
          "output_type": "display_data",
          "data": {
            "text/plain": [
              "<Figure size 1000x600 with 1 Axes>"
            ],
            "image/png": "[encoded data removed]"
          },
          "metadata": {}
        }
      ]
    },
    {
      "cell_type": "markdown",
      "source": [
        "1.BTC + co-currencies\n",
        "\n",
        "Najpierw Stworzymy model rozszerzony który zawiera Open,High,Low prices.\n",
        "\n",
        "Potem model tylko na podstawie Close price.\n",
        "\n",
        "Ocenimy czy takie dodatkowe cechy faktycznie pomagają w trenowaniu modelu czy tylko niepotrzebnie spowalniają model"
      ],
      "metadata": {
        "id": "0eILamTm7sXa"
      }
    },
    {
      "cell_type": "code",
      "source": [
        "co_currencies_extended_indexes=[0,1,2,3,4,5,6,7,8,9,10,11,12,13,14,15,16,17,18,19,20,21,22,23,49]"
      ],
      "metadata": {
        "id": "HnMm12sm8OG0"
      },
      "execution_count": 27,
      "outputs": []
    },
    {
      "cell_type": "code",
      "source": [
        "reshaped_data_X, reshaped_data_y=reshape_data_mlt_feature_changer(DATA,n_timesteps,co_currencies_extended_indexes)"
      ],
      "metadata": {
        "id": "DZBBMK9U9sm-"
      },
      "execution_count": 28,
      "outputs": []
    },
    {
      "cell_type": "code",
      "source": [
        "import numpy as np\n",
        "from sklearn.model_selection import train_test_split\n",
        "from keras.models import Sequential\n",
        "from keras.layers import LSTM, Dense, Dropout\n",
        "from keras.optimizers import Adam\n",
        "from sklearn.preprocessing import MinMaxScaler\n",
        "\n",
        "# Assuming you have reshaped_data_X and reshaped_data_y from the previous function\n",
        "#\n",
        "scalers = [MinMaxScaler() for _ in range(DATA.shape[1])]\n",
        "\n",
        "\n",
        "DATA_scaled = np.hstack([scaler.fit_transform(DATA[:, [i]]) for i, scaler in enumerate(scalers)])\n",
        "\n",
        "\n",
        "reshaped_data_X, reshaped_data_y=reshape_data_mlt_feature_changer(DATA_scaled,n_timesteps,co_currencies_extended_indexes)\n",
        "\n",
        "X_train, X_test, y_train, y_test = train_test_split(reshaped_data_X, reshaped_data_y, test_size=0.2, random_state=42,shuffle=False)\n",
        "#\n",
        "# Define the LSTM model\n",
        "co_cur_ext_model = Sequential()\n",
        "co_cur_ext_model.add(LSTM(128, input_shape=(X_train.shape[1], X_train.shape[2]), return_sequences=True))\n",
        "co_cur_ext_model.add(Dropout(0.2))\n",
        "co_cur_ext_model.add(LSTM(64, return_sequences=False))\n",
        "co_cur_ext_model.add(Dense(1))\n",
        "\n",
        "# Compile the co_cur_ext_model\n",
        "optimizer = Adam(lr=0.001)\n",
        "co_cur_ext_model.compile(optimizer=optimizer, loss='mse', metrics=['mae', 'mse'])\n",
        "\n",
        "# Train the co_cur_ext_model\n",
        "history = co_cur_ext_model.fit(X_train, y_train, epochs=50, batch_size=32, validation_split=0.2)\n",
        "\n",
        "# Evaluate the co_cur_ext_model on the testing data\n",
        "loss, mae, mse = co_cur_ext_model.evaluate(X_test, y_test)\n",
        "print(\"Test Loss:\", loss)\n",
        "print(\"Test MAE:\", mae)\n",
        "print(\"Test MSE:\", mse)\n"
      ],
      "metadata": {
        "colab": {
          "base_uri": "https://localhost:8080/"
        },
        "id": "qm1cx6jZ90ky",
        "outputId": "498c5b56-af1f-4dbe-96d0-bdab4b23c291"
      },
      "execution_count": 29,
      "outputs": [
        {
          "output_type": "stream",
          "name": "stderr",
          "text": [
            "WARNING:absl:`lr` is deprecated in Keras optimizer, please use `learning_rate` or use the legacy optimizer, e.g.,tf.keras.optimizers.legacy.Adam.\n"
          ]
        },
        {
          "output_type": "stream",
          "name": "stdout",
          "text": [
            "Epoch 1/50\n",
            "47/47 [==============================] - 10s 100ms/step - loss: 0.0059 - mae: 0.0465 - mse: 0.0059 - val_loss: 0.0190 - val_mae: 0.1313 - val_mse: 0.0190\n",
            "Epoch 2/50\n",
            "47/47 [==============================] - 3s 67ms/step - loss: 0.0013 - mae: 0.0236 - mse: 0.0013 - val_loss: 0.0130 - val_mae: 0.1074 - val_mse: 0.0130\n",
            "Epoch 3/50\n",
            "47/47 [==============================] - 5s 114ms/step - loss: 0.0012 - mae: 0.0228 - mse: 0.0012 - val_loss: 0.0048 - val_mae: 0.0618 - val_mse: 0.0048\n",
            "Epoch 4/50\n",
            "47/47 [==============================] - 4s 75ms/step - loss: 9.6321e-04 - mae: 0.0205 - mse: 9.6321e-04 - val_loss: 0.0092 - val_mae: 0.0907 - val_mse: 0.0092\n",
            "Epoch 5/50\n",
            "47/47 [==============================] - 3s 69ms/step - loss: 9.3587e-04 - mae: 0.0199 - mse: 9.3587e-04 - val_loss: 0.0026 - val_mae: 0.0440 - val_mse: 0.0026\n",
            "Epoch 6/50\n",
            "47/47 [==============================] - 3s 67ms/step - loss: 9.6130e-04 - mae: 0.0211 - mse: 9.6130e-04 - val_loss: 0.0084 - val_mae: 0.0868 - val_mse: 0.0084\n",
            "Epoch 7/50\n",
            "47/47 [==============================] - 5s 104ms/step - loss: 0.0011 - mae: 0.0230 - mse: 0.0011 - val_loss: 0.0049 - val_mae: 0.0647 - val_mse: 0.0049\n",
            "Epoch 8/50\n",
            "47/47 [==============================] - 3s 72ms/step - loss: 9.0366e-04 - mae: 0.0204 - mse: 9.0366e-04 - val_loss: 0.0029 - val_mae: 0.0478 - val_mse: 0.0029\n",
            "Epoch 9/50\n",
            "47/47 [==============================] - 3s 67ms/step - loss: 9.6033e-04 - mae: 0.0203 - mse: 9.6033e-04 - val_loss: 0.0059 - val_mae: 0.0720 - val_mse: 0.0059\n",
            "Epoch 10/50\n",
            "47/47 [==============================] - 3s 67ms/step - loss: 8.0648e-04 - mae: 0.0181 - mse: 8.0648e-04 - val_loss: 0.0038 - val_mae: 0.0560 - val_mse: 0.0038\n",
            "Epoch 11/50\n",
            "47/47 [==============================] - 5s 101ms/step - loss: 9.0759e-04 - mae: 0.0192 - mse: 9.0759e-04 - val_loss: 0.0050 - val_mae: 0.0659 - val_mse: 0.0050\n",
            "Epoch 12/50\n",
            "47/47 [==============================] - 3s 69ms/step - loss: 7.8446e-04 - mae: 0.0177 - mse: 7.8446e-04 - val_loss: 0.0039 - val_mae: 0.0575 - val_mse: 0.0039\n",
            "Epoch 13/50\n",
            "47/47 [==============================] - 3s 68ms/step - loss: 7.3946e-04 - mae: 0.0178 - mse: 7.3946e-04 - val_loss: 0.0037 - val_mae: 0.0563 - val_mse: 0.0037\n",
            "Epoch 14/50\n",
            "47/47 [==============================] - 3s 67ms/step - loss: 7.0583e-04 - mae: 0.0176 - mse: 7.0583e-04 - val_loss: 0.0028 - val_mae: 0.0477 - val_mse: 0.0028\n",
            "Epoch 15/50\n",
            "47/47 [==============================] - 5s 107ms/step - loss: 6.2172e-04 - mae: 0.0155 - mse: 6.2172e-04 - val_loss: 0.0084 - val_mae: 0.0882 - val_mse: 0.0084\n",
            "Epoch 16/50\n",
            "47/47 [==============================] - 3s 66ms/step - loss: 7.3271e-04 - mae: 0.0178 - mse: 7.3271e-04 - val_loss: 0.0026 - val_mae: 0.0457 - val_mse: 0.0026\n",
            "Epoch 17/50\n",
            "47/47 [==============================] - 3s 66ms/step - loss: 6.1708e-04 - mae: 0.0165 - mse: 6.1708e-04 - val_loss: 0.0057 - val_mae: 0.0719 - val_mse: 0.0057\n",
            "Epoch 18/50\n",
            "47/47 [==============================] - 3s 66ms/step - loss: 5.6873e-04 - mae: 0.0154 - mse: 5.6873e-04 - val_loss: 0.0030 - val_mae: 0.0496 - val_mse: 0.0030\n",
            "Epoch 19/50\n",
            "47/47 [==============================] - 5s 104ms/step - loss: 6.2758e-04 - mae: 0.0160 - mse: 6.2758e-04 - val_loss: 0.0027 - val_mae: 0.0472 - val_mse: 0.0027\n",
            "Epoch 20/50\n",
            "47/47 [==============================] - 3s 72ms/step - loss: 5.0737e-04 - mae: 0.0144 - mse: 5.0737e-04 - val_loss: 0.0046 - val_mae: 0.0634 - val_mse: 0.0046\n",
            "Epoch 21/50\n",
            "47/47 [==============================] - 3s 69ms/step - loss: 5.8698e-04 - mae: 0.0154 - mse: 5.8698e-04 - val_loss: 0.0017 - val_mae: 0.0361 - val_mse: 0.0017\n",
            "Epoch 22/50\n",
            "47/47 [==============================] - 3s 66ms/step - loss: 5.5200e-04 - mae: 0.0148 - mse: 5.5200e-04 - val_loss: 0.0022 - val_mae: 0.0425 - val_mse: 0.0022\n",
            "Epoch 23/50\n",
            "47/47 [==============================] - 5s 113ms/step - loss: 5.4735e-04 - mae: 0.0147 - mse: 5.4735e-04 - val_loss: 0.0035 - val_mae: 0.0550 - val_mse: 0.0035\n",
            "Epoch 24/50\n",
            "47/47 [==============================] - 3s 67ms/step - loss: 5.4180e-04 - mae: 0.0149 - mse: 5.4180e-04 - val_loss: 0.0032 - val_mae: 0.0515 - val_mse: 0.0032\n",
            "Epoch 25/50\n",
            "47/47 [==============================] - 3s 66ms/step - loss: 5.3490e-04 - mae: 0.0147 - mse: 5.3490e-04 - val_loss: 0.0027 - val_mae: 0.0468 - val_mse: 0.0027\n",
            "Epoch 26/50\n",
            "47/47 [==============================] - 3s 67ms/step - loss: 5.1546e-04 - mae: 0.0142 - mse: 5.1546e-04 - val_loss: 0.0047 - val_mae: 0.0649 - val_mse: 0.0047\n",
            "Epoch 27/50\n",
            "47/47 [==============================] - 5s 108ms/step - loss: 5.2617e-04 - mae: 0.0146 - mse: 5.2617e-04 - val_loss: 0.0047 - val_mae: 0.0649 - val_mse: 0.0047\n",
            "Epoch 28/50\n",
            "47/47 [==============================] - 3s 66ms/step - loss: 5.7947e-04 - mae: 0.0145 - mse: 5.7947e-04 - val_loss: 0.0035 - val_mae: 0.0547 - val_mse: 0.0035\n",
            "Epoch 29/50\n",
            "47/47 [==============================] - 3s 67ms/step - loss: 4.9055e-04 - mae: 0.0136 - mse: 4.9055e-04 - val_loss: 0.0027 - val_mae: 0.0471 - val_mse: 0.0027\n",
            "Epoch 30/50\n",
            "47/47 [==============================] - 3s 71ms/step - loss: 5.8842e-04 - mae: 0.0163 - mse: 5.8842e-04 - val_loss: 0.0051 - val_mae: 0.0679 - val_mse: 0.0051\n",
            "Epoch 31/50\n",
            "47/47 [==============================] - 5s 110ms/step - loss: 4.5937e-04 - mae: 0.0131 - mse: 4.5937e-04 - val_loss: 0.0033 - val_mae: 0.0533 - val_mse: 0.0033\n",
            "Epoch 32/50\n",
            "47/47 [==============================] - 3s 64ms/step - loss: 4.4056e-04 - mae: 0.0128 - mse: 4.4056e-04 - val_loss: 0.0015 - val_mae: 0.0342 - val_mse: 0.0015\n",
            "Epoch 33/50\n",
            "47/47 [==============================] - 3s 67ms/step - loss: 4.3778e-04 - mae: 0.0131 - mse: 4.3778e-04 - val_loss: 0.0034 - val_mae: 0.0545 - val_mse: 0.0034\n",
            "Epoch 34/50\n",
            "47/47 [==============================] - 3s 68ms/step - loss: 5.4614e-04 - mae: 0.0149 - mse: 5.4614e-04 - val_loss: 0.0018 - val_mae: 0.0365 - val_mse: 0.0018\n",
            "Epoch 35/50\n",
            "47/47 [==============================] - 5s 107ms/step - loss: 4.8682e-04 - mae: 0.0135 - mse: 4.8682e-04 - val_loss: 0.0043 - val_mae: 0.0618 - val_mse: 0.0043\n",
            "Epoch 36/50\n",
            "47/47 [==============================] - 3s 65ms/step - loss: 4.6584e-04 - mae: 0.0132 - mse: 4.6584e-04 - val_loss: 0.0017 - val_mae: 0.0372 - val_mse: 0.0017\n",
            "Epoch 37/50\n",
            "47/47 [==============================] - 3s 68ms/step - loss: 4.5959e-04 - mae: 0.0135 - mse: 4.5959e-04 - val_loss: 0.0022 - val_mae: 0.0417 - val_mse: 0.0022\n",
            "Epoch 38/50\n",
            "47/47 [==============================] - 3s 69ms/step - loss: 3.9111e-04 - mae: 0.0125 - mse: 3.9111e-04 - val_loss: 0.0016 - val_mae: 0.0346 - val_mse: 0.0016\n",
            "Epoch 39/50\n",
            "47/47 [==============================] - 5s 108ms/step - loss: 5.3225e-04 - mae: 0.0145 - mse: 5.3225e-04 - val_loss: 0.0016 - val_mae: 0.0357 - val_mse: 0.0016\n",
            "Epoch 40/50\n",
            "47/47 [==============================] - 3s 68ms/step - loss: 4.7520e-04 - mae: 0.0135 - mse: 4.7520e-04 - val_loss: 0.0015 - val_mae: 0.0342 - val_mse: 0.0015\n",
            "Epoch 41/50\n",
            "47/47 [==============================] - 3s 65ms/step - loss: 4.7158e-04 - mae: 0.0137 - mse: 4.7158e-04 - val_loss: 0.0041 - val_mae: 0.0606 - val_mse: 0.0041\n",
            "Epoch 42/50\n",
            "47/47 [==============================] - 3s 67ms/step - loss: 4.6099e-04 - mae: 0.0126 - mse: 4.6099e-04 - val_loss: 0.0020 - val_mae: 0.0407 - val_mse: 0.0020\n",
            "Epoch 43/50\n",
            "47/47 [==============================] - 5s 112ms/step - loss: 4.1364e-04 - mae: 0.0127 - mse: 4.1364e-04 - val_loss: 0.0037 - val_mae: 0.0569 - val_mse: 0.0037\n",
            "Epoch 44/50\n",
            "47/47 [==============================] - 3s 66ms/step - loss: 4.1539e-04 - mae: 0.0123 - mse: 4.1539e-04 - val_loss: 0.0024 - val_mae: 0.0440 - val_mse: 0.0024\n",
            "Epoch 45/50\n",
            "47/47 [==============================] - 3s 66ms/step - loss: 4.3709e-04 - mae: 0.0129 - mse: 4.3709e-04 - val_loss: 0.0024 - val_mae: 0.0450 - val_mse: 0.0024\n",
            "Epoch 46/50\n",
            "47/47 [==============================] - 3s 68ms/step - loss: 3.6205e-04 - mae: 0.0121 - mse: 3.6205e-04 - val_loss: 0.0032 - val_mae: 0.0534 - val_mse: 0.0032\n",
            "Epoch 47/50\n",
            "47/47 [==============================] - 5s 115ms/step - loss: 3.9765e-04 - mae: 0.0121 - mse: 3.9765e-04 - val_loss: 0.0017 - val_mae: 0.0368 - val_mse: 0.0017\n",
            "Epoch 48/50\n",
            "47/47 [==============================] - 3s 66ms/step - loss: 4.5593e-04 - mae: 0.0132 - mse: 4.5593e-04 - val_loss: 0.0067 - val_mae: 0.0790 - val_mse: 0.0067\n",
            "Epoch 49/50\n",
            "47/47 [==============================] - 3s 65ms/step - loss: 4.5499e-04 - mae: 0.0129 - mse: 4.5499e-04 - val_loss: 0.0023 - val_mae: 0.0443 - val_mse: 0.0023\n",
            "Epoch 50/50\n",
            "47/47 [==============================] - 3s 65ms/step - loss: 4.2875e-04 - mae: 0.0122 - mse: 4.2875e-04 - val_loss: 0.0017 - val_mae: 0.0362 - val_mse: 0.0017\n",
            "15/15 [==============================] - 0s 28ms/step - loss: 0.0016 - mae: 0.0363 - mse: 0.0016\n",
            "Test Loss: 0.001625190139748156\n",
            "Test MAE: 0.0362958163022995\n",
            "Test MSE: 0.001625190139748156\n"
          ]
        }
      ]
    },
    {
      "cell_type": "code",
      "source": [
        "co_cur_ext_model.evaluate(X_test,y_test)"
      ],
      "metadata": {
        "colab": {
          "base_uri": "https://localhost:8080/"
        },
        "id": "KGf6CuYmiMIH",
        "outputId": "e7e8bcf7-71d2-4c13-b986-60227a032494"
      },
      "execution_count": 30,
      "outputs": [
        {
          "output_type": "stream",
          "name": "stdout",
          "text": [
            "15/15 [==============================] - 1s 38ms/step - loss: 0.0016 - mae: 0.0363 - mse: 0.0016\n"
          ]
        },
        {
          "output_type": "execute_result",
          "data": {
            "text/plain": [
              "[0.001625190139748156, 0.0362958163022995, 0.001625190139748156]"
            ]
          },
          "metadata": {},
          "execution_count": 30
        }
      ]
    },
    {
      "cell_type": "code",
      "source": [
        "co_currenceis_simplified_indexes=[0,1,2,3,7,11,15,19,23,49]"
      ],
      "metadata": {
        "id": "SCwj0GKc8oh5"
      },
      "execution_count": 31,
      "outputs": []
    },
    {
      "cell_type": "code",
      "source": [
        "import numpy as np\n",
        "from sklearn.model_selection import train_test_split\n",
        "from keras.models import Sequential\n",
        "from keras.layers import LSTM, Dense, Dropout\n",
        "from keras.optimizers import Adam\n",
        "from sklearn.preprocessing import MinMaxScaler\n",
        "\n",
        "# Assuming you have reshaped_data_X and reshaped_data_y from the previous function\n",
        "\n",
        "scalers = [MinMaxScaler() for _ in range(DATA.shape[1])]\n",
        "\n",
        "\n",
        "DATA_scaled = np.hstack([scaler.fit_transform(DATA[:, [i]]) for i, scaler in enumerate(scalers)])\n",
        "\n",
        "\n",
        "reshaped_data_X, reshaped_data_y=reshape_data_mlt_feature_changer(DATA_scaled,n_timesteps,co_currenceis_simplified_indexes)\n",
        "\n",
        "X_train, X_test, y_train, y_test = train_test_split(reshaped_data_X, reshaped_data_y, test_size=0.2, random_state=42,shuffle=False)\n",
        "\n",
        "# Define the LSTM model\n",
        "co_cur_simp_model = Sequential()\n",
        "co_cur_simp_model.add(LSTM(128, input_shape=(X_train.shape[1], X_train.shape[2]), return_sequences=True))\n",
        "co_cur_simp_model.add(Dropout(0.2))\n",
        "co_cur_simp_model.add(LSTM(64, return_sequences=False))\n",
        "co_cur_simp_model.add(Dense(1))\n",
        "\n",
        "# Compile the co_cur_simp_model\n",
        "optimizer = Adam(lr=0.001)\n",
        "co_cur_simp_model.compile(optimizer=optimizer, loss='mae', metrics=['mae', 'mse'])\n",
        "\n",
        "# Train the co_cur_simp_model\n",
        "history = co_cur_simp_model.fit(X_train, y_train, epochs=50, batch_size=32, validation_split=0.2)\n",
        "\n",
        "# Evaluate the co_cur_simp_model on the testing data\n",
        "loss, mae, mse = co_cur_simp_model.evaluate(X_test, y_test)\n",
        "print(\"Test Loss:\", loss)\n",
        "print(\"Test MAE:\", mae)\n",
        "print(\"Test MSE:\", mse)\n"
      ],
      "metadata": {
        "colab": {
          "base_uri": "https://localhost:8080/"
        },
        "id": "K4-zRmy9_QBf",
        "outputId": "1446d503-4bd5-4d5e-d637-8f4a6fa0ffb9"
      },
      "execution_count": 32,
      "outputs": [
        {
          "output_type": "stream",
          "name": "stderr",
          "text": [
            "WARNING:absl:`lr` is deprecated in Keras optimizer, please use `learning_rate` or use the legacy optimizer, e.g.,tf.keras.optimizers.legacy.Adam.\n"
          ]
        },
        {
          "output_type": "stream",
          "name": "stdout",
          "text": [
            "Epoch 1/50\n",
            "47/47 [==============================] - 9s 91ms/step - loss: 0.0486 - mae: 0.0486 - mse: 0.0066 - val_loss: 0.0617 - val_mae: 0.0617 - val_mse: 0.0046\n",
            "Epoch 2/50\n",
            "47/47 [==============================] - 3s 66ms/step - loss: 0.0224 - mae: 0.0224 - mse: 0.0014 - val_loss: 0.0390 - val_mae: 0.0390 - val_mse: 0.0020\n",
            "Epoch 3/50\n",
            "47/47 [==============================] - 5s 107ms/step - loss: 0.0192 - mae: 0.0192 - mse: 9.7528e-04 - val_loss: 0.0521 - val_mae: 0.0521 - val_mse: 0.0034\n",
            "Epoch 4/50\n",
            "47/47 [==============================] - 3s 63ms/step - loss: 0.0181 - mae: 0.0181 - mse: 8.8206e-04 - val_loss: 0.0487 - val_mae: 0.0487 - val_mse: 0.0030\n",
            "Epoch 5/50\n",
            "47/47 [==============================] - 3s 67ms/step - loss: 0.0172 - mae: 0.0172 - mse: 7.6312e-04 - val_loss: 0.0374 - val_mae: 0.0374 - val_mse: 0.0019\n",
            "Epoch 6/50\n",
            "47/47 [==============================] - 3s 64ms/step - loss: 0.0181 - mae: 0.0181 - mse: 8.1678e-04 - val_loss: 0.0460 - val_mae: 0.0460 - val_mse: 0.0027\n",
            "Epoch 7/50\n",
            "47/47 [==============================] - 5s 108ms/step - loss: 0.0168 - mae: 0.0168 - mse: 7.4533e-04 - val_loss: 0.0326 - val_mae: 0.0326 - val_mse: 0.0015\n",
            "Epoch 8/50\n",
            "47/47 [==============================] - 3s 66ms/step - loss: 0.0173 - mae: 0.0173 - mse: 7.5324e-04 - val_loss: 0.0197 - val_mae: 0.0197 - val_mse: 6.6472e-04\n",
            "Epoch 9/50\n",
            "47/47 [==============================] - 3s 63ms/step - loss: 0.0162 - mae: 0.0162 - mse: 7.0876e-04 - val_loss: 0.0345 - val_mae: 0.0345 - val_mse: 0.0016\n",
            "Epoch 10/50\n",
            "47/47 [==============================] - 3s 66ms/step - loss: 0.0151 - mae: 0.0151 - mse: 6.0383e-04 - val_loss: 0.0267 - val_mae: 0.0267 - val_mse: 0.0010\n",
            "Epoch 11/50\n",
            "47/47 [==============================] - 5s 107ms/step - loss: 0.0154 - mae: 0.0154 - mse: 6.2663e-04 - val_loss: 0.0484 - val_mae: 0.0484 - val_mse: 0.0028\n",
            "Epoch 12/50\n",
            "47/47 [==============================] - 3s 66ms/step - loss: 0.0148 - mae: 0.0148 - mse: 5.9440e-04 - val_loss: 0.0396 - val_mae: 0.0396 - val_mse: 0.0020\n",
            "Epoch 13/50\n",
            "47/47 [==============================] - 3s 65ms/step - loss: 0.0149 - mae: 0.0149 - mse: 5.6319e-04 - val_loss: 0.0174 - val_mae: 0.0174 - val_mse: 5.3400e-04\n",
            "Epoch 14/50\n",
            "47/47 [==============================] - 3s 65ms/step - loss: 0.0152 - mae: 0.0152 - mse: 6.0766e-04 - val_loss: 0.0179 - val_mae: 0.0179 - val_mse: 6.1262e-04\n",
            "Epoch 15/50\n",
            "47/47 [==============================] - 5s 97ms/step - loss: 0.0165 - mae: 0.0165 - mse: 8.0156e-04 - val_loss: 0.0317 - val_mae: 0.0317 - val_mse: 0.0013\n",
            "Epoch 16/50\n",
            "47/47 [==============================] - 3s 72ms/step - loss: 0.0137 - mae: 0.0137 - mse: 5.5068e-04 - val_loss: 0.0224 - val_mae: 0.0224 - val_mse: 7.5552e-04\n",
            "Epoch 17/50\n",
            "47/47 [==============================] - 3s 64ms/step - loss: 0.0128 - mae: 0.0128 - mse: 4.7128e-04 - val_loss: 0.0382 - val_mae: 0.0382 - val_mse: 0.0018\n",
            "Epoch 18/50\n",
            "47/47 [==============================] - 3s 64ms/step - loss: 0.0132 - mae: 0.0132 - mse: 4.6464e-04 - val_loss: 0.0374 - val_mae: 0.0374 - val_mse: 0.0018\n",
            "Epoch 19/50\n",
            "47/47 [==============================] - 5s 97ms/step - loss: 0.0135 - mae: 0.0135 - mse: 5.1094e-04 - val_loss: 0.0245 - val_mae: 0.0245 - val_mse: 8.6989e-04\n",
            "Epoch 20/50\n",
            "47/47 [==============================] - 4s 75ms/step - loss: 0.0137 - mae: 0.0137 - mse: 5.3239e-04 - val_loss: 0.0388 - val_mae: 0.0388 - val_mse: 0.0019\n",
            "Epoch 21/50\n",
            "47/47 [==============================] - 3s 65ms/step - loss: 0.0135 - mae: 0.0135 - mse: 5.0434e-04 - val_loss: 0.0161 - val_mae: 0.0161 - val_mse: 4.5347e-04\n",
            "Epoch 22/50\n",
            "47/47 [==============================] - 3s 65ms/step - loss: 0.0123 - mae: 0.0123 - mse: 4.5952e-04 - val_loss: 0.0147 - val_mae: 0.0147 - val_mse: 4.2745e-04\n",
            "Epoch 23/50\n",
            "47/47 [==============================] - 4s 93ms/step - loss: 0.0138 - mae: 0.0138 - mse: 5.3937e-04 - val_loss: 0.0247 - val_mae: 0.0247 - val_mse: 8.6416e-04\n",
            "Epoch 24/50\n",
            "47/47 [==============================] - 4s 76ms/step - loss: 0.0128 - mae: 0.0128 - mse: 4.4156e-04 - val_loss: 0.0204 - val_mae: 0.0204 - val_mse: 6.6106e-04\n",
            "Epoch 25/50\n",
            "47/47 [==============================] - 3s 66ms/step - loss: 0.0153 - mae: 0.0153 - mse: 6.1763e-04 - val_loss: 0.0276 - val_mae: 0.0276 - val_mse: 0.0010\n",
            "Epoch 26/50\n",
            "47/47 [==============================] - 3s 65ms/step - loss: 0.0133 - mae: 0.0133 - mse: 5.1767e-04 - val_loss: 0.0305 - val_mae: 0.0305 - val_mse: 0.0012\n",
            "Epoch 27/50\n",
            "47/47 [==============================] - 4s 90ms/step - loss: 0.0131 - mae: 0.0131 - mse: 4.6033e-04 - val_loss: 0.0201 - val_mae: 0.0201 - val_mse: 6.0046e-04\n",
            "Epoch 28/50\n",
            "47/47 [==============================] - 4s 79ms/step - loss: 0.0128 - mae: 0.0128 - mse: 4.7232e-04 - val_loss: 0.0296 - val_mae: 0.0296 - val_mse: 0.0012\n",
            "Epoch 29/50\n",
            "47/47 [==============================] - 3s 67ms/step - loss: 0.0122 - mae: 0.0122 - mse: 4.5398e-04 - val_loss: 0.0198 - val_mae: 0.0198 - val_mse: 5.7866e-04\n",
            "Epoch 30/50\n",
            "47/47 [==============================] - 3s 66ms/step - loss: 0.0129 - mae: 0.0129 - mse: 4.7542e-04 - val_loss: 0.0162 - val_mae: 0.0162 - val_mse: 4.2433e-04\n",
            "Epoch 31/50\n",
            "47/47 [==============================] - 4s 85ms/step - loss: 0.0138 - mae: 0.0138 - mse: 5.1942e-04 - val_loss: 0.0170 - val_mae: 0.0170 - val_mse: 4.6766e-04\n",
            "Epoch 32/50\n",
            "47/47 [==============================] - 4s 83ms/step - loss: 0.0121 - mae: 0.0121 - mse: 4.4508e-04 - val_loss: 0.0283 - val_mae: 0.0283 - val_mse: 0.0011\n",
            "Epoch 33/50\n",
            "47/47 [==============================] - 3s 65ms/step - loss: 0.0117 - mae: 0.0117 - mse: 4.1591e-04 - val_loss: 0.0174 - val_mae: 0.0174 - val_mse: 4.8641e-04\n",
            "Epoch 34/50\n",
            "47/47 [==============================] - 3s 66ms/step - loss: 0.0114 - mae: 0.0114 - mse: 3.8147e-04 - val_loss: 0.0173 - val_mae: 0.0173 - val_mse: 4.6315e-04\n",
            "Epoch 35/50\n",
            "47/47 [==============================] - 4s 78ms/step - loss: 0.0119 - mae: 0.0119 - mse: 4.2220e-04 - val_loss: 0.0486 - val_mae: 0.0486 - val_mse: 0.0028\n",
            "Epoch 36/50\n",
            "47/47 [==============================] - 4s 94ms/step - loss: 0.0118 - mae: 0.0118 - mse: 4.0943e-04 - val_loss: 0.0282 - val_mae: 0.0282 - val_mse: 0.0011\n",
            "Epoch 37/50\n",
            "47/47 [==============================] - 3s 66ms/step - loss: 0.0127 - mae: 0.0127 - mse: 4.9300e-04 - val_loss: 0.0213 - val_mae: 0.0213 - val_mse: 6.5695e-04\n",
            "Epoch 38/50\n",
            "47/47 [==============================] - 3s 65ms/step - loss: 0.0118 - mae: 0.0118 - mse: 4.0816e-04 - val_loss: 0.0170 - val_mae: 0.0170 - val_mse: 4.5047e-04\n",
            "Epoch 39/50\n",
            "47/47 [==============================] - 4s 75ms/step - loss: 0.0120 - mae: 0.0120 - mse: 4.5800e-04 - val_loss: 0.0283 - val_mae: 0.0283 - val_mse: 0.0010\n",
            "Epoch 40/50\n",
            "47/47 [==============================] - 4s 95ms/step - loss: 0.0119 - mae: 0.0119 - mse: 4.4632e-04 - val_loss: 0.0249 - val_mae: 0.0249 - val_mse: 8.4480e-04\n",
            "Epoch 41/50\n",
            "47/47 [==============================] - 3s 67ms/step - loss: 0.0114 - mae: 0.0114 - mse: 3.9058e-04 - val_loss: 0.0504 - val_mae: 0.0504 - val_mse: 0.0029\n",
            "Epoch 42/50\n",
            "47/47 [==============================] - 3s 65ms/step - loss: 0.0132 - mae: 0.0132 - mse: 5.1387e-04 - val_loss: 0.0298 - val_mae: 0.0298 - val_mse: 0.0011\n",
            "Epoch 43/50\n",
            "47/47 [==============================] - 3s 74ms/step - loss: 0.0113 - mae: 0.0113 - mse: 3.9478e-04 - val_loss: 0.0166 - val_mae: 0.0166 - val_mse: 4.2853e-04\n",
            "Epoch 44/50\n",
            "47/47 [==============================] - 5s 97ms/step - loss: 0.0119 - mae: 0.0119 - mse: 4.3258e-04 - val_loss: 0.0186 - val_mae: 0.0186 - val_mse: 5.2661e-04\n",
            "Epoch 45/50\n",
            "47/47 [==============================] - 3s 65ms/step - loss: 0.0122 - mae: 0.0122 - mse: 4.2098e-04 - val_loss: 0.0258 - val_mae: 0.0258 - val_mse: 9.2044e-04\n",
            "Epoch 46/50\n",
            "47/47 [==============================] - 3s 65ms/step - loss: 0.0114 - mae: 0.0114 - mse: 4.0122e-04 - val_loss: 0.0273 - val_mae: 0.0273 - val_mse: 9.7781e-04\n",
            "Epoch 47/50\n",
            "47/47 [==============================] - 3s 73ms/step - loss: 0.0113 - mae: 0.0113 - mse: 3.9469e-04 - val_loss: 0.0198 - val_mae: 0.0198 - val_mse: 5.8490e-04\n",
            "Epoch 48/50\n",
            "47/47 [==============================] - 5s 100ms/step - loss: 0.0116 - mae: 0.0116 - mse: 3.9802e-04 - val_loss: 0.0307 - val_mae: 0.0307 - val_mse: 0.0012\n",
            "Epoch 49/50\n",
            "47/47 [==============================] - 3s 66ms/step - loss: 0.0112 - mae: 0.0112 - mse: 3.6837e-04 - val_loss: 0.0152 - val_mae: 0.0152 - val_mse: 3.7326e-04\n",
            "Epoch 50/50\n",
            "47/47 [==============================] - 3s 65ms/step - loss: 0.0124 - mae: 0.0124 - mse: 4.4299e-04 - val_loss: 0.0318 - val_mae: 0.0318 - val_mse: 0.0012\n",
            "15/15 [==============================] - 0s 24ms/step - loss: 0.0306 - mae: 0.0306 - mse: 0.0011\n",
            "Test Loss: 0.030599337071180344\n",
            "Test MAE: 0.030599337071180344\n",
            "Test MSE: 0.0011268524685874581\n"
          ]
        }
      ]
    },
    {
      "cell_type": "code",
      "source": [
        "co_cur_simp_model.evaluate(X_test,y_test)"
      ],
      "metadata": {
        "id": "xBVt0yzZRYbR",
        "colab": {
          "base_uri": "https://localhost:8080/"
        },
        "outputId": "3bd0e6ae-9872-43a2-ebb7-08a312c4d074"
      },
      "execution_count": 33,
      "outputs": [
        {
          "output_type": "stream",
          "name": "stdout",
          "text": [
            "15/15 [==============================] - 0s 22ms/step - loss: 0.0306 - mae: 0.0306 - mse: 0.0011\n"
          ]
        },
        {
          "output_type": "execute_result",
          "data": {
            "text/plain": [
              "[0.030599337071180344, 0.030599337071180344, 0.0011268524685874581]"
            ]
          },
          "metadata": {},
          "execution_count": 33
        }
      ]
    },
    {
      "cell_type": "markdown",
      "source": [
        "Różnica między modelami nie jest duża.\n",
        "\n",
        "Model uproszczony wydaje się sprawować nieco lepiej jednak może to wynikać z infrastruktury obu modeli. Mimo że model rozszerzony przyjmuje kilkukrotnie więcej danych, ma on tyle samo neuronów na obliczenia co model podstawowy.\n",
        "\n",
        "Wyszkolenie go zajęło trochę dłużej niż wyszkolenie modelu podstawowego jednak nie jest to duża różnica\n",
        "\n",
        "Nie zważając na niewielka różnice w wynikach, kolejne modele będziemy testować w wersji rozszerzonej. Kiedy rozbudujemy architekturę modelu, wtedy dane z wersji rozszerzonych powinny mieć większy wpływ na wynik."
      ],
      "metadata": {
        "id": "ARY9keebiggy"
      }
    },
    {
      "cell_type": "code",
      "source": [
        "loop_models_indexes=[[0,1,2,3,4,5,6,7,8,9,10,11,12,13,14,15,16,17,18,19,20,21,22,23,49],[0,1,2,3,24,49],[0,1,2,3,25,26,27,28,29,30,31,32,33,34,35,36,37,38,39,40,41,42,43,44,49],[0,1,2,3,45,49],[0,1,2,3,46,47,48,49]]"
      ],
      "metadata": {
        "id": "ZfpaWiUCRYWD"
      },
      "execution_count": 34,
      "outputs": []
    },
    {
      "cell_type": "code",
      "source": [
        "loop_models_performance=np.empty((5,3))"
      ],
      "metadata": {
        "id": "9ewi9fYIk3in"
      },
      "execution_count": 35,
      "outputs": []
    },
    {
      "cell_type": "code",
      "source": [
        "for x in range(len(loop_models_indexes)):\n",
        "    indexes=loop_models_indexes[x]\n",
        "\n",
        "    scalers = [MinMaxScaler() for _ in range(DATA.shape[1])]\n",
        "\n",
        "    DATA_scaled = np.hstack([scaler.fit_transform(DATA[:, [i]]) for i, scaler in enumerate(scalers)])\n",
        "\n",
        "    reshaped_data_X, reshaped_data_y=reshape_data_mlt_feature_changer(DATA_scaled,n_timesteps,indexes)\n",
        "\n",
        "    X_train, X_test, y_train, y_test = train_test_split(reshaped_data_X, reshaped_data_y, test_size=0.2, random_state=42,shuffle=False)\n",
        "\n",
        "    loop_model = Sequential()\n",
        "    loop_model.add(LSTM(128, input_shape=(X_train.shape[1], X_train.shape[2]), return_sequences=True))\n",
        "    loop_model.add(Dropout(0.2))\n",
        "    loop_model.add(LSTM(64, return_sequences=False))\n",
        "    loop_model.add(Dense(1))\n",
        "\n",
        "    optimizer = Adam(lr=0.001)\n",
        "    loop_model.compile(optimizer=optimizer, loss='mae', metrics=['mae', 'mse'])\n",
        "\n",
        "    history = loop_model.fit(X_train, y_train, epochs=50, batch_size=32, validation_split=0.2,verbose=0)\n",
        "\n",
        "    print(x)\n",
        "    loss,mae,mse=loop_model.evaluate(X_test,y_test)\n",
        "\n",
        "    loop_models_performance[x][0]=loss\n",
        "    loop_models_performance[x][1]=mae\n",
        "    loop_models_performance[x][2]=mse\n"
      ],
      "metadata": {
        "colab": {
          "base_uri": "https://localhost:8080/"
        },
        "id": "TNedCbPYlG2k",
        "outputId": "1c514381-ab9e-4f14-9354-7761d9ced936"
      },
      "execution_count": 36,
      "outputs": [
        {
          "metadata": {
            "tags": null
          },
          "name": "stderr",
          "output_type": "stream",
          "text": [
            "WARNING:absl:`lr` is deprecated in Keras optimizer, please use `learning_rate` or use the legacy optimizer, e.g.,tf.keras.optimizers.legacy.Adam.\n"
          ]
        },
        {
          "metadata": {
            "tags": null
          },
          "name": "stdout",
          "output_type": "stream",
          "text": [
            "0\n",
            "15/15 [==============================] - 0s 27ms/step - loss: 0.0303 - mae: 0.0303 - mse: 0.0011\n"
          ]
        },
        {
          "metadata": {
            "tags": null
          },
          "name": "stderr",
          "output_type": "stream",
          "text": [
            "WARNING:absl:`lr` is deprecated in Keras optimizer, please use `learning_rate` or use the legacy optimizer, e.g.,tf.keras.optimizers.legacy.Adam.\n"
          ]
        },
        {
          "metadata": {
            "tags": null
          },
          "name": "stdout",
          "output_type": "stream",
          "text": [
            "1\n",
            "15/15 [==============================] - 0s 24ms/step - loss: 0.0203 - mae: 0.0203 - mse: 5.4877e-04\n"
          ]
        },
        {
          "metadata": {
            "tags": null
          },
          "name": "stderr",
          "output_type": "stream",
          "text": [
            "WARNING:absl:`lr` is deprecated in Keras optimizer, please use `learning_rate` or use the legacy optimizer, e.g.,tf.keras.optimizers.legacy.Adam.\n"
          ]
        },
        {
          "output_type": "stream",
          "name": "stdout",
          "text": [
            "2\n",
            "15/15 [==============================] - 0s 24ms/step - loss: 0.0389 - mae: 0.0389 - mse: 0.0021\n"
          ]
        },
        {
          "output_type": "stream",
          "name": "stderr",
          "text": [
            "WARNING:absl:`lr` is deprecated in Keras optimizer, please use `learning_rate` or use the legacy optimizer, e.g.,tf.keras.optimizers.legacy.Adam.\n"
          ]
        },
        {
          "output_type": "stream",
          "name": "stdout",
          "text": [
            "3\n",
            "15/15 [==============================] - 0s 21ms/step - loss: 0.0126 - mae: 0.0126 - mse: 4.4193e-04\n"
          ]
        },
        {
          "output_type": "stream",
          "name": "stderr",
          "text": [
            "WARNING:absl:`lr` is deprecated in Keras optimizer, please use `learning_rate` or use the legacy optimizer, e.g.,tf.keras.optimizers.legacy.Adam.\n"
          ]
        },
        {
          "output_type": "stream",
          "name": "stdout",
          "text": [
            "4\n",
            "15/15 [==============================] - 0s 22ms/step - loss: 0.0156 - mae: 0.0156 - mse: 3.7441e-04\n"
          ]
        }
      ]
    },
    {
      "cell_type": "markdown",
      "source": [
        "Porównujemy MAE wszystkich modeli"
      ],
      "metadata": {
        "id": "kxLbtQj_2NEJ"
      }
    },
    {
      "cell_type": "code",
      "source": [
        "print(f\"Base model: {zero_model_performance[1]}\")\n",
        "print(f\"BTC+co-currencies: {loop_models_performance[0][1]}\")\n",
        "print(f\"BTC+API: {loop_models_performance[1][1]}\")\n",
        "print(f\"BTC+world-currencies: {loop_models_performance[2][1]}\")\n",
        "print(f\"BTC+Volume: {loop_models_performance[3][1]}\")\n",
        "print(f\"BTC+Markets: {loop_models_performance[4][1]}\")"
      ],
      "metadata": {
        "colab": {
          "base_uri": "https://localhost:8080/"
        },
        "id": "SGT-XNv10SiF",
        "outputId": "6e334c75-25b0-4cd7-81cc-012d729782d8"
      },
      "execution_count": 37,
      "outputs": [
        {
          "output_type": "stream",
          "name": "stdout",
          "text": [
            "Base model: 0.014907455071806908\n",
            "BTC+co-currencies: 0.03027386963367462\n",
            "BTC+API: 0.02028595469892025\n",
            "BTC+world-currencies: 0.038922782987356186\n",
            "BTC+Volume: 0.01261178683489561\n",
            "BTC+Markets: 0.015608582645654678\n"
          ]
        }
      ]
    },
    {
      "cell_type": "markdown",
      "source": [
        "Prawie wszystkie modele okazały się lepsze niż base model.\n",
        "Jedynie modele przetwarzające znacznie większa ilość danych spisują się gorzej. Tak jak pisałem wcześniej, może to wynikać z architektury modelu a nie z danych.\n",
        "Sprawdzimy to jeszcze raz podczas trenowania ostatecznego modelu, który będzie bardziej rozbudowany niż modele trenowane przez nas teraz.\n",
        "\n",
        "Z modeli przetwarzającyh mniejszą ilość danych najlepiej spisał się BTC+Markets a najgorzej BTC+Volume. Mimo że model nie jest zły to warto się mu dokładniej przyjrzeć"
      ],
      "metadata": {
        "id": "G4_4ittC1nPC"
      }
    },
    {
      "cell_type": "markdown",
      "source": [
        "Porównamy ilość NaN'ów w Volume oraz giełdach, model z giełdami spisał się dobrze mimo że duża część danych to NaN. Czy to znaczy że w Volume NaN'ów jest o wiele więcej?"
      ],
      "metadata": {
        "id": "xpAPYmWK3EcM"
      }
    },
    {
      "cell_type": "code",
      "source": [
        "import pandas as pd\n",
        "\n",
        "count_nan_volume = data['45'].isna().sum()\n",
        "count_nan_nyse= data['46'].isna().sum()\n",
        "count_nan_nasdaq = data['47'].isna().sum()\n",
        "count_nan_lse = data['48'].isna().sum()\n",
        "\n",
        "\n",
        "print(f\"Volume: {count_nan_volume}\")\n",
        "print(f\"Nyse: {count_nan_nyse}\")\n",
        "print(f\"Nasdaq: {count_nan_nasdaq}\")\n",
        "print(f\"Lse: {count_nan_lse}\")\n"
      ],
      "metadata": {
        "colab": {
          "base_uri": "https://localhost:8080/"
        },
        "id": "jxPBWEuBa-gl",
        "outputId": "26a23be4-710d-42cd-d0bf-c9b1a326b84b"
      },
      "execution_count": 39,
      "outputs": [
        {
          "output_type": "stream",
          "name": "stdout",
          "text": [
            "Volume: 770\n",
            "Nyse: 961\n",
            "Nasdaq: 961\n",
            "Lse: 961\n"
          ]
        }
      ]
    },
    {
      "cell_type": "markdown",
      "source": [
        "Okazuje się że w Volume brakujących wartości jest MNIEJ niż w giełdach, skąd więc taka duża różnica w wynikach modelu?"
      ],
      "metadata": {
        "id": "kqYrijFI3-aP"
      }
    },
    {
      "cell_type": "markdown",
      "source": [
        "Warto pamiętać że brakujące wartości zastąpiliśmy średnią wartością danych z danej kolumny, co oczywiście nie jest idealnym rozwiązaniem jednak w większości przypadków absolutnie wystarczającym"
      ],
      "metadata": {
        "id": "5VbcJNdl4ayx"
      }
    },
    {
      "cell_type": "code",
      "source": [
        "import pandas as pd\n",
        "\n",
        "min_value = df['45'].min()\n",
        "max_value = df['45'].max()\n",
        "\n",
        "print(\"Min Volume value :\", min_value)\n",
        "print(\"Max Volume value :\", max_value)\n",
        "\n",
        "min_value = df['46'].min()\n",
        "max_value = df['46'].max()\n",
        "\n",
        "print(\"Min NYSE:\", min_value)\n",
        "print(\"Max NYSE:\", max_value)\n",
        "\n",
        "min_value = df['47'].min()\n",
        "max_value = df['47'].max()\n",
        "\n",
        "print(\"Min NASDAQ:\", min_value)\n",
        "print(\"Max NASDAQ:\", max_value)\n",
        "\n",
        "min_value = df['48'].min()\n",
        "max_value = df['48'].max()\n",
        "\n",
        "print(\"Min LSE:\", min_value)\n",
        "print(\"Max LSE:\", max_value)\n",
        "\n",
        "\n"
      ],
      "metadata": {
        "colab": {
          "base_uri": "https://localhost:8080/"
        },
        "id": "QCyA4OQi4YxP",
        "outputId": "01a11d4e-ad26-43b9-86aa-c569f7abcc31"
      },
      "execution_count": 40,
      "outputs": [
        {
          "output_type": "stream",
          "name": "stdout",
          "text": [
            "Min Volume value : 7326.81\n",
            "Max Volume value : 1446125474.0765376\n",
            "Min NYSE: 8777.3798828125\n",
            "Max NYSE: 17353.759765625\n",
            "Min NASDAQ: 6192.919921875\n",
            "Max NASDAQ: 16057.4404296875\n",
            "Min LSE: 3649.0\n",
            "Max LSE: 9910.0\n"
          ]
        }
      ]
    },
    {
      "cell_type": "code",
      "source": [
        "mean_value = df['45'].mean()\n",
        "\n",
        "print(\"mean Volume value :\", mean_value)\n",
        "\n",
        "mean_value = df['46'].mean()\n",
        "\n",
        "print(\"mean NYSE:\", mean_value)\n",
        "\n",
        "mean_value = df['47'].mean()\n",
        "\n",
        "print(\"mean NASDAQ:\", mean_value)\n",
        "\n",
        "mean_value = df['48'].mean()\n",
        "\n",
        "print(\"mean LSE:\", mean_value)\n"
      ],
      "metadata": {
        "colab": {
          "base_uri": "https://localhost:8080/"
        },
        "id": "-JEv2Oaj5_iz",
        "outputId": "c49e2509-244c-417c-f726-4cc5b6e4988b"
      },
      "execution_count": 41,
      "outputs": [
        {
          "metadata": {
            "tags": null
          },
          "name": "stdout",
          "output_type": "stream",
          "text": [
            "mean Volume value : 102721105.78741343\n",
            "mean NYSE: 14104.88804413526\n",
            "mean NASDAQ: 10582.317238058116\n",
            "mean LSE: 6849.880587166147\n"
          ]
        }
      ]
    },
    {
      "cell_type": "code",
      "source": [
        "print(f\"MIN wartość volume jest {int(1446125474.0765376/7326.81)} razy mniejsza niż MAX\")"
      ],
      "metadata": {
        "colab": {
          "base_uri": "https://localhost:8080/"
        },
        "id": "Tm1n33fr6o7Z",
        "outputId": "054dae5f-7a38-4a4e-98bb-d51bf1e21a7e"
      },
      "execution_count": 42,
      "outputs": [
        {
          "output_type": "stream",
          "name": "stdout",
          "text": [
            "MIN wartość volume jest 197374 razy mniejsza niż MAX\n"
          ]
        }
      ]
    },
    {
      "cell_type": "code",
      "source": [
        "print(f\"MIN wartość NASDAQ jest {int(16057.4404296875/6192.919921875)} razy mniejsza niż MAX\")"
      ],
      "metadata": {
        "colab": {
          "base_uri": "https://localhost:8080/"
        },
        "id": "LISx4b8Rt2GI",
        "outputId": "99588215-d5f4-4cba-8661-ddc85f7960fa"
      },
      "execution_count": 43,
      "outputs": [
        {
          "output_type": "stream",
          "name": "stdout",
          "text": [
            "MIN wartość NASDAQ jest 2 raza mniejsza niż MAX\n"
          ]
        }
      ]
    },
    {
      "cell_type": "code",
      "source": [
        "data_filled.shape"
      ],
      "metadata": {
        "colab": {
          "base_uri": "https://localhost:8080/"
        },
        "id": "OVWR_8vi8eWG",
        "outputId": "354ff323-3076-4612-b6a8-bf4eac075928"
      },
      "execution_count": 44,
      "outputs": [
        {
          "output_type": "execute_result",
          "data": {
            "text/plain": [
              "(2344, 50)"
            ]
          },
          "metadata": {},
          "execution_count": 44
        }
      ]
    },
    {
      "cell_type": "code",
      "source": [
        "import matplotlib.pyplot as plt\n",
        "plt.plot(data_filled['45'])\n",
        "plt.xlabel('Index')\n",
        "plt.ylabel('Value')\n",
        "plt.title('Volume value')\n",
        "plt.show()"
      ],
      "metadata": {
        "colab": {
          "base_uri": "https://localhost:8080/",
          "height": 472
        },
        "id": "D8rUGU1I-BKQ",
        "outputId": "40458104-1572-423e-de90-06755db4dcd4"
      },
      "execution_count": 45,
      "outputs": [
        {
          "output_type": "display_data",
          "data": {
            "text/plain": [
              "<Figure size 640x480 with 1 Axes>"
            ],
            "image/png": "[encoded data removed]"
          },
          "metadata": {}
        }
      ]
    },
    {
      "cell_type": "code",
      "source": [
        "import matplotlib.pyplot as plt\n",
        "plt.plot(data_filled['46'])\n",
        "plt.xlabel('Index')\n",
        "plt.ylabel('Value')\n",
        "plt.title('NYSE value')\n",
        "plt.show()"
      ],
      "metadata": {
        "colab": {
          "base_uri": "https://localhost:8080/",
          "height": 472
        },
        "id": "nSQgAuvD8RMw",
        "outputId": "e4bfc61d-bf2e-4a8f-cdfc-a8fccd422f6f"
      },
      "execution_count": 46,
      "outputs": [
        {
          "output_type": "display_data",
          "data": {
            "text/plain": [
              "<Figure size 640x480 with 1 Axes>"
            ],
            "image/png": "[encoded data removed]"
          },
          "metadata": {}
        }
      ]
    },
    {
      "cell_type": "markdown",
      "source": [
        "Teraz dobrze widać gdzie jest problem.\n",
        "\n",
        "W rozpatrywanym przez nas czasie Volume zwiększa się niemal 200 000 krotnie, podczas gdy wartość giełd 2-3 krotnie.\n",
        "\n",
        "W przypadku giełd zastosowanie średniej wartości nie jest złym wyjściem gdyż nie zmienia się ona drastycznie na przestrzeni czasu.\n",
        "\n",
        "W przypadku Volume sprawa jest inna, model wariuje kiedy widzi że w ciągu np. miesiąca wartość kilkukrotnie skacze od 20 tysięcy do np. 2 milionów a następnie na długi czas zatrzymuje się na jednej wartości"
      ],
      "metadata": {
        "id": "VWkC2Blr6Rda"
      }
    },
    {
      "cell_type": "markdown",
      "source": [
        "Musimy Zastąpić puste rekordy w inny sposób.\n",
        "\n",
        "Zastąpienie sąsiednim rekordem w tym przypadku również nie zadziała, brakujące dane występują w dwóch długich seriach więc sytuacja będzię taka sama jak przy zaastąpieniu średnią wartością - duże wahania a nastepnie brak zmian.\n",
        "\n"
      ],
      "metadata": {
        "id": "TBq01iBd7mde"
      }
    },
    {
      "cell_type": "markdown",
      "source": [
        "Najlepsze efekty da nam zbudowanie prostego modelu który na podstawie znanej korelacji Volume oraz ceny BTC, uzupełni brakujące dane bazując na właśnie na zmianie ceny BTC.\n",
        "\n",
        "Niestety znowu nie jest to rozwiązanie idealne, w tego typu przypadku jedynym idealnym rozwiązaniem jest posiadanie pełnych danych, jednak nie zawsze możemy na to liczyć. Istnieje możliwość że przewidując Volume na podstawie BTC, a następnie na odwrót, BTC na podstawie Volume, właściwie nie wprowadzimy żadnych nowych danych gdyż po wygenerowaniu takich danych będą one niejako tożsame.\n",
        "\n",
        "Jednakże ze szkolenia modeli w pętli wynikło, że dawanie modelowi danych, niejako tożsamych np. cen różnych walut które ostatecznie i tak są odpowiednio przeliczane na USD, przynosi efekty i poprawia działanie modelu, jest on w stanie wyciągnąć z nich to co potrzebne.\n",
        "\n",
        "Stowrzymy model do Volume a następnie sprawdzimy czy faktycznie, wygenerowane dane sprawią że model BTC+Volume będzie lepszy niż jego poprzednik\n",
        "\n"
      ],
      "metadata": {
        "id": "6abgsyaOBorp"
      }
    },
    {
      "cell_type": "markdown",
      "source": [
        "Zrobimy to jednak w oddzielnym pliku - CRYPTO_volume_model"
      ],
      "metadata": {
        "id": "Fn2EfpYrDMGE"
      }
    },
    {
      "cell_type": "markdown",
      "source": [
        "Pobieramy uzupełnione dane Volume"
      ],
      "metadata": {
        "id": "yalrZ0UDOybQ"
      }
    },
    {
      "cell_type": "code",
      "source": [
        "Volume_df= pd.read_csv(\"/content/drive/MyDrive/CRYPTO/Preprocessed_data/Volume.csv\")"
      ],
      "metadata": {
        "id": "73z82iFMDLAh"
      },
      "execution_count": 47,
      "outputs": []
    },
    {
      "cell_type": "code",
      "source": [
        "Volume_data = Volume_df.to_numpy()"
      ],
      "metadata": {
        "id": "IERwysvqWjyM"
      },
      "execution_count": 48,
      "outputs": []
    },
    {
      "cell_type": "code",
      "source": [
        "Volume_model_indicies=[0,1,2,3,4,5]"
      ],
      "metadata": {
        "id": "7Xx2dms02wTC"
      },
      "execution_count": 49,
      "outputs": []
    },
    {
      "cell_type": "code",
      "source": [
        "BTC_base_data=np.empty((2344,4))\n",
        "vol_data=np.empty((2344,1))\n",
        "halving_data=np.empty((2344,1))\n",
        "\n",
        "Volume_model_full_data=np.empty((2344,6))\n",
        "for x in range(2344):\n",
        "\n",
        "\n",
        "    BTC_base_data[x][0]=DATA[x][0]\n",
        "    BTC_base_data[x][1]=DATA[x][1]\n",
        "    BTC_base_data[x][2]=DATA[x][2]\n",
        "    BTC_base_data[x][3]=DATA[x][3]\n",
        "\n",
        "    vol_data[x][0]=Volume_data[x]\n",
        "\n",
        "    halving_data[x][0]=DATA[x][49]"
      ],
      "metadata": {
        "colab": {
          "base_uri": "https://localhost:8080/"
        },
        "id": "e4boZCx_P7YB",
        "outputId": "833c1b57-2487-4aa8-807e-7e908e128b98"
      },
      "execution_count": 50,
      "outputs": [
        {
          "output_type": "stream",
          "name": "stderr",
          "text": [
            "<ipython-input-50-aaace3589f43>:14: DeprecationWarning: Conversion of an array with ndim > 0 to a scalar is deprecated, and will error in future. Ensure you extract a single element from your array before performing this operation. (Deprecated NumPy 1.25.)\n",
            "  vol_data[x][0]=Volume_data[x]\n"
          ]
        }
      ]
    },
    {
      "cell_type": "code",
      "source": [
        "DATA.shape"
      ],
      "metadata": {
        "colab": {
          "base_uri": "https://localhost:8080/"
        },
        "id": "luSiDHeqcLIR",
        "outputId": "7dee1eb3-368f-4976-d36f-f7d854aeb77c"
      },
      "execution_count": 51,
      "outputs": [
        {
          "output_type": "execute_result",
          "data": {
            "text/plain": [
              "(2344, 50)"
            ]
          },
          "metadata": {},
          "execution_count": 51
        }
      ]
    },
    {
      "cell_type": "code",
      "source": [
        "base_scaler = MinMaxScaler()\n",
        "halving_scaler = MinMaxScaler()\n",
        "vol_scaler=MinMaxScaler()\n",
        "\n",
        "\n",
        "BTC_base_data_scaled = base_scaler.fit_transform(BTC_base_data)\n",
        "halving_data_scaled = halving_scaler.fit_transform(halving_data)\n",
        "vol_data_scaled = vol_scaler.fit_transform(vol_data)\n",
        "\n",
        "Volume_model_full_data=np.empty((2344,6))\n",
        "\n",
        "for x in range(2344):\n",
        "    Volume_model_full_data[x][0]=BTC_base_data_scaled[x][0]\n",
        "    Volume_model_full_data[x][1]=BTC_base_data_scaled[x][1]\n",
        "    Volume_model_full_data[x][2]=BTC_base_data_scaled[x][2]\n",
        "    Volume_model_full_data[x][3]=BTC_base_data_scaled[x][3]\n",
        "    Volume_model_full_data[x][4]=vol_data_scaled[x]\n",
        "    Volume_model_full_data[x][5]=halving_data_scaled[x]\n",
        "\n",
        "\n",
        "reshaped_data_X, reshaped_data_y=reshape_data_mlt_feature_changer(Volume_model_full_data, n_timesteps, Volume_model_indicies)\n",
        "\n",
        "y_scaler = MinMaxScaler()\n",
        "y_scaled = y_scaler.fit_transform(reshaped_data_y.reshape(-1, 1))\n",
        "y_scaled = y_scaled.reshape(reshaped_data_y.shape)\n",
        "\n",
        "\n",
        "X_train, X_test, y_train, y_test = train_test_split(reshaped_data_X, y_scaled, test_size=0.2, random_state=42)\n",
        "\n",
        "\n",
        "# Define the LSTM model\n",
        "volume_model = Sequential()\n",
        "volume_model.add(LSTM(128, input_shape=(X_train.shape[1], X_train.shape[2]), return_sequences=True))\n",
        "volume_model.add(Dropout(0.2))\n",
        "volume_model.add(LSTM(64, return_sequences=False))\n",
        "volume_model.add(Dense(1))\n",
        "\n",
        "# Compile the volume_model\n",
        "optimizer = Adam(lr=0.001)\n",
        "volume_model.compile(optimizer=optimizer, loss='mse', metrics=['mae', 'mse'])\n",
        "\n",
        "# Train the volume_model\n",
        "history = volume_model.fit(X_train, y_train, epochs=50, batch_size=32, validation_split=0.2)\n",
        "\n",
        "loss,mae,mse=volume_model.evaluate(X_test,y_test)\n",
        "\n",
        "loop_models_performance[3][0]=loss\n",
        "loop_models_performance[3][1]=mae\n",
        "loop_models_performance[3][2]=mse"
      ],
      "metadata": {
        "colab": {
          "base_uri": "https://localhost:8080/"
        },
        "id": "HYTtlrmYPkFW",
        "outputId": "e6d6947a-607e-4b0b-950d-b5fe4ea5fa92"
      },
      "execution_count": 52,
      "outputs": [
        {
          "output_type": "stream",
          "name": "stderr",
          "text": [
            "<ipython-input-52-51a3564b16f8>:17: DeprecationWarning: Conversion of an array with ndim > 0 to a scalar is deprecated, and will error in future. Ensure you extract a single element from your array before performing this operation. (Deprecated NumPy 1.25.)\n",
            "  Volume_model_full_data[x][4]=vol_data_scaled[x]\n",
            "<ipython-input-52-51a3564b16f8>:18: DeprecationWarning: Conversion of an array with ndim > 0 to a scalar is deprecated, and will error in future. Ensure you extract a single element from your array before performing this operation. (Deprecated NumPy 1.25.)\n",
            "  Volume_model_full_data[x][5]=halving_data_scaled[x]\n",
            "WARNING:absl:`lr` is deprecated in Keras optimizer, please use `learning_rate` or use the legacy optimizer, e.g.,tf.keras.optimizers.legacy.Adam.\n"
          ]
        },
        {
          "output_type": "stream",
          "name": "stdout",
          "text": [
            "Epoch 1/50\n",
            "47/47 [==============================] - 10s 99ms/step - loss: 0.0082 - mae: 0.0561 - mse: 0.0082 - val_loss: 0.0013 - val_mae: 0.0223 - val_mse: 0.0013\n",
            "Epoch 2/50\n",
            "47/47 [==============================] - 3s 71ms/step - loss: 0.0014 - mae: 0.0253 - mse: 0.0014 - val_loss: 0.0011 - val_mae: 0.0214 - val_mse: 0.0011\n",
            "Epoch 3/50\n",
            "47/47 [==============================] - 4s 94ms/step - loss: 0.0012 - mae: 0.0234 - mse: 0.0012 - val_loss: 0.0011 - val_mae: 0.0197 - val_mse: 0.0011\n",
            "Epoch 4/50\n",
            "47/47 [==============================] - 4s 83ms/step - loss: 0.0011 - mae: 0.0224 - mse: 0.0011 - val_loss: 9.3903e-04 - val_mae: 0.0192 - val_mse: 9.3903e-04\n",
            "Epoch 5/50\n",
            "47/47 [==============================] - 3s 70ms/step - loss: 0.0011 - mae: 0.0223 - mse: 0.0011 - val_loss: 0.0011 - val_mae: 0.0223 - val_mse: 0.0011\n",
            "Epoch 6/50\n",
            "47/47 [==============================] - 3s 69ms/step - loss: 0.0010 - mae: 0.0213 - mse: 0.0010 - val_loss: 8.5376e-04 - val_mae: 0.0177 - val_mse: 8.5376e-04\n",
            "Epoch 7/50\n",
            "47/47 [==============================] - 5s 108ms/step - loss: 9.6667e-04 - mae: 0.0212 - mse: 9.6667e-04 - val_loss: 9.9530e-04 - val_mae: 0.0209 - val_mse: 9.9530e-04\n",
            "Epoch 8/50\n",
            "47/47 [==============================] - 3s 71ms/step - loss: 9.1414e-04 - mae: 0.0206 - mse: 9.1414e-04 - val_loss: 7.7074e-04 - val_mae: 0.0179 - val_mse: 7.7074e-04\n",
            "Epoch 9/50\n",
            "47/47 [==============================] - 3s 72ms/step - loss: 8.4027e-04 - mae: 0.0198 - mse: 8.4027e-04 - val_loss: 9.7940e-04 - val_mae: 0.0223 - val_mse: 9.7940e-04\n",
            "Epoch 10/50\n",
            "47/47 [==============================] - 3s 70ms/step - loss: 8.3213e-04 - mae: 0.0198 - mse: 8.3213e-04 - val_loss: 7.2385e-04 - val_mae: 0.0184 - val_mse: 7.2385e-04\n",
            "Epoch 11/50\n",
            "47/47 [==============================] - 5s 107ms/step - loss: 7.4976e-04 - mae: 0.0186 - mse: 7.4976e-04 - val_loss: 9.0243e-04 - val_mae: 0.0187 - val_mse: 9.0243e-04\n",
            "Epoch 12/50\n",
            "47/47 [==============================] - 5s 103ms/step - loss: 6.9574e-04 - mae: 0.0179 - mse: 6.9574e-04 - val_loss: 6.6924e-04 - val_mae: 0.0159 - val_mse: 6.6924e-04\n",
            "Epoch 13/50\n",
            "47/47 [==============================] - 4s 76ms/step - loss: 7.5185e-04 - mae: 0.0183 - mse: 7.5185e-04 - val_loss: 6.2038e-04 - val_mae: 0.0152 - val_mse: 6.2038e-04\n",
            "Epoch 14/50\n",
            "47/47 [==============================] - 5s 105ms/step - loss: 8.0524e-04 - mae: 0.0195 - mse: 8.0524e-04 - val_loss: 5.9992e-04 - val_mae: 0.0158 - val_mse: 5.9992e-04\n",
            "Epoch 15/50\n",
            "47/47 [==============================] - 3s 70ms/step - loss: 6.7846e-04 - mae: 0.0178 - mse: 6.7846e-04 - val_loss: 6.1157e-04 - val_mae: 0.0155 - val_mse: 6.1157e-04\n",
            "Epoch 16/50\n",
            "47/47 [==============================] - 3s 70ms/step - loss: 6.6651e-04 - mae: 0.0175 - mse: 6.6651e-04 - val_loss: 5.6396e-04 - val_mae: 0.0154 - val_mse: 5.6396e-04\n",
            "Epoch 17/50\n",
            "47/47 [==============================] - 3s 70ms/step - loss: 6.0318e-04 - mae: 0.0165 - mse: 6.0318e-04 - val_loss: 5.2942e-04 - val_mae: 0.0146 - val_mse: 5.2942e-04\n",
            "Epoch 18/50\n",
            "47/47 [==============================] - 5s 109ms/step - loss: 6.3203e-04 - mae: 0.0172 - mse: 6.3203e-04 - val_loss: 5.2591e-04 - val_mae: 0.0148 - val_mse: 5.2591e-04\n",
            "Epoch 19/50\n",
            "47/47 [==============================] - 4s 77ms/step - loss: 5.6759e-04 - mae: 0.0160 - mse: 5.6759e-04 - val_loss: 8.1955e-04 - val_mae: 0.0189 - val_mse: 8.1955e-04\n",
            "Epoch 20/50\n",
            "47/47 [==============================] - 3s 72ms/step - loss: 6.2554e-04 - mae: 0.0166 - mse: 6.2554e-04 - val_loss: 5.5824e-04 - val_mae: 0.0149 - val_mse: 5.5824e-04\n",
            "Epoch 21/50\n",
            "47/47 [==============================] - 4s 87ms/step - loss: 5.2596e-04 - mae: 0.0155 - mse: 5.2596e-04 - val_loss: 5.5856e-04 - val_mae: 0.0151 - val_mse: 5.5856e-04\n",
            "Epoch 22/50\n",
            "47/47 [==============================] - 5s 102ms/step - loss: 5.5461e-04 - mae: 0.0158 - mse: 5.5461e-04 - val_loss: 4.6817e-04 - val_mae: 0.0135 - val_mse: 4.6817e-04\n",
            "Epoch 23/50\n",
            "47/47 [==============================] - 3s 73ms/step - loss: 5.5407e-04 - mae: 0.0155 - mse: 5.5407e-04 - val_loss: 6.8575e-04 - val_mae: 0.0172 - val_mse: 6.8575e-04\n",
            "Epoch 24/50\n",
            "47/47 [==============================] - 3s 70ms/step - loss: 5.0227e-04 - mae: 0.0154 - mse: 5.0227e-04 - val_loss: 4.7567e-04 - val_mae: 0.0135 - val_mse: 4.7567e-04\n",
            "Epoch 25/50\n",
            "47/47 [==============================] - 5s 108ms/step - loss: 5.2140e-04 - mae: 0.0149 - mse: 5.2140e-04 - val_loss: 4.4647e-04 - val_mae: 0.0133 - val_mse: 4.4647e-04\n",
            "Epoch 26/50\n",
            "47/47 [==============================] - 3s 70ms/step - loss: 5.7901e-04 - mae: 0.0161 - mse: 5.7901e-04 - val_loss: 5.0554e-04 - val_mae: 0.0154 - val_mse: 5.0554e-04\n",
            "Epoch 27/50\n",
            "47/47 [==============================] - 3s 69ms/step - loss: 4.5689e-04 - mae: 0.0141 - mse: 4.5689e-04 - val_loss: 4.3709e-04 - val_mae: 0.0132 - val_mse: 4.3709e-04\n",
            "Epoch 28/50\n",
            "47/47 [==============================] - 3s 70ms/step - loss: 5.4381e-04 - mae: 0.0154 - mse: 5.4381e-04 - val_loss: 6.7119e-04 - val_mae: 0.0187 - val_mse: 6.7119e-04\n",
            "Epoch 29/50\n",
            "47/47 [==============================] - 5s 108ms/step - loss: 5.7974e-04 - mae: 0.0164 - mse: 5.7974e-04 - val_loss: 4.3102e-04 - val_mae: 0.0131 - val_mse: 4.3102e-04\n",
            "Epoch 30/50\n",
            "47/47 [==============================] - 3s 69ms/step - loss: 4.8361e-04 - mae: 0.0143 - mse: 4.8361e-04 - val_loss: 4.2757e-04 - val_mae: 0.0128 - val_mse: 4.2757e-04\n",
            "Epoch 31/50\n",
            "47/47 [==============================] - 3s 69ms/step - loss: 5.3357e-04 - mae: 0.0151 - mse: 5.3357e-04 - val_loss: 4.6418e-04 - val_mae: 0.0135 - val_mse: 4.6418e-04\n",
            "Epoch 32/50\n",
            "47/47 [==============================] - 4s 79ms/step - loss: 5.2264e-04 - mae: 0.0150 - mse: 5.2264e-04 - val_loss: 6.8811e-04 - val_mae: 0.0178 - val_mse: 6.8811e-04\n",
            "Epoch 33/50\n",
            "47/47 [==============================] - 5s 97ms/step - loss: 4.9104e-04 - mae: 0.0147 - mse: 4.9104e-04 - val_loss: 3.9909e-04 - val_mae: 0.0125 - val_mse: 3.9909e-04\n",
            "Epoch 34/50\n",
            "47/47 [==============================] - 3s 69ms/step - loss: 4.6052e-04 - mae: 0.0141 - mse: 4.6052e-04 - val_loss: 4.0345e-04 - val_mae: 0.0130 - val_mse: 4.0345e-04\n",
            "Epoch 35/50\n",
            "47/47 [==============================] - 3s 70ms/step - loss: 5.6156e-04 - mae: 0.0153 - mse: 5.6156e-04 - val_loss: 3.8060e-04 - val_mae: 0.0122 - val_mse: 3.8060e-04\n",
            "Epoch 36/50\n",
            "47/47 [==============================] - 4s 88ms/step - loss: 7.3283e-04 - mae: 0.0182 - mse: 7.3283e-04 - val_loss: 3.9264e-04 - val_mae: 0.0126 - val_mse: 3.9264e-04\n",
            "Epoch 37/50\n",
            "47/47 [==============================] - 4s 89ms/step - loss: 4.6013e-04 - mae: 0.0138 - mse: 4.6013e-04 - val_loss: 3.8691e-04 - val_mae: 0.0120 - val_mse: 3.8691e-04\n",
            "Epoch 38/50\n",
            "47/47 [==============================] - 4s 76ms/step - loss: 4.4108e-04 - mae: 0.0142 - mse: 4.4108e-04 - val_loss: 5.0657e-04 - val_mae: 0.0144 - val_mse: 5.0657e-04\n",
            "Epoch 39/50\n",
            "47/47 [==============================] - 3s 74ms/step - loss: 4.3944e-04 - mae: 0.0136 - mse: 4.3944e-04 - val_loss: 4.5111e-04 - val_mae: 0.0146 - val_mse: 4.5111e-04\n",
            "Epoch 40/50\n",
            "47/47 [==============================] - 6s 132ms/step - loss: 4.1946e-04 - mae: 0.0134 - mse: 4.1946e-04 - val_loss: 6.2641e-04 - val_mae: 0.0172 - val_mse: 6.2641e-04\n",
            "Epoch 41/50\n",
            "47/47 [==============================] - 4s 76ms/step - loss: 5.7432e-04 - mae: 0.0157 - mse: 5.7432e-04 - val_loss: 6.5082e-04 - val_mae: 0.0179 - val_mse: 6.5082e-04\n",
            "Epoch 42/50\n",
            "47/47 [==============================] - 3s 72ms/step - loss: 4.5308e-04 - mae: 0.0141 - mse: 4.5308e-04 - val_loss: 5.0244e-04 - val_mae: 0.0148 - val_mse: 5.0244e-04\n",
            "Epoch 43/50\n",
            "47/47 [==============================] - 4s 86ms/step - loss: 4.1017e-04 - mae: 0.0135 - mse: 4.1017e-04 - val_loss: 3.5609e-04 - val_mae: 0.0114 - val_mse: 3.5609e-04\n",
            "Epoch 44/50\n",
            "47/47 [==============================] - 5s 100ms/step - loss: 3.9561e-04 - mae: 0.0130 - mse: 3.9561e-04 - val_loss: 3.6679e-04 - val_mae: 0.0118 - val_mse: 3.6679e-04\n",
            "Epoch 45/50\n",
            "47/47 [==============================] - 3s 71ms/step - loss: 4.1686e-04 - mae: 0.0134 - mse: 4.1686e-04 - val_loss: 3.5041e-04 - val_mae: 0.0114 - val_mse: 3.5041e-04\n",
            "Epoch 46/50\n",
            "47/47 [==============================] - 3s 73ms/step - loss: 4.1879e-04 - mae: 0.0132 - mse: 4.1879e-04 - val_loss: 3.4016e-04 - val_mae: 0.0115 - val_mse: 3.4016e-04\n",
            "Epoch 47/50\n",
            "47/47 [==============================] - 5s 99ms/step - loss: 3.9241e-04 - mae: 0.0129 - mse: 3.9241e-04 - val_loss: 4.9115e-04 - val_mae: 0.0142 - val_mse: 4.9115e-04\n",
            "Epoch 48/50\n",
            "47/47 [==============================] - 4s 79ms/step - loss: 4.1826e-04 - mae: 0.0134 - mse: 4.1826e-04 - val_loss: 3.3867e-04 - val_mae: 0.0113 - val_mse: 3.3867e-04\n",
            "Epoch 49/50\n",
            "47/47 [==============================] - 3s 71ms/step - loss: 4.5573e-04 - mae: 0.0140 - mse: 4.5573e-04 - val_loss: 6.3231e-04 - val_mae: 0.0165 - val_mse: 6.3231e-04\n",
            "Epoch 50/50\n",
            "47/47 [==============================] - 3s 70ms/step - loss: 4.4354e-04 - mae: 0.0136 - mse: 4.4354e-04 - val_loss: 5.7750e-04 - val_mae: 0.0162 - val_mse: 5.7750e-04\n",
            "15/15 [==============================] - 0s 22ms/step - loss: 4.9297e-04 - mae: 0.0149 - mse: 4.9297e-04\n"
          ]
        }
      ]
    },
    {
      "cell_type": "code",
      "source": [
        "print(f\"Base model  -  loss:{zero_model_performance[0]},  mae:{zero_model_performance[1]},  mse:{zero_model_performance[2]}\")\n",
        "print(f\"Volume model  -  loss:{loop_models_performance[3][0]},  mae:{loop_models_performance[3][1]},  mse:{loop_models_performance[3][2]}\")"
      ],
      "metadata": {
        "colab": {
          "base_uri": "https://localhost:8080/"
        },
        "id": "le45yQYXPkDn",
        "outputId": "bccd86b7-e163-4dd6-f7a9-e68b573a2bf5"
      },
      "execution_count": 53,
      "outputs": [
        {
          "output_type": "stream",
          "name": "stdout",
          "text": [
            "Base model  -  loss:0.0003691406163852662,  mae:0.014907455071806908,  mse:0.0003691406163852662\n",
            "Volume model  -  loss:0.00049297307850793,  mae:0.014925513416528702,  mse:0.00049297307850793\n"
          ]
        }
      ]
    },
    {
      "cell_type": "markdown",
      "source": [
        "Wyniki nie są znacząco lepsze. Musimy jednak brać pod uwagę pewien czynnik losowości. Kiedy trenujemy kilka razy ten sam model, zawsze dostaniemy lekko inne wyniki."
      ],
      "metadata": {
        "id": "kr7yJZjfZi8W"
      }
    },
    {
      "cell_type": "markdown",
      "source": [
        "Podsumowując. Ustaliliśmy że wszystkie dane poprawiają wyniki modelu.\n",
        "\n",
        "Teraz zostało nam tylko wyszkolić ostateczny model, który będzie trenowany na wszystkich dostępnych nam danych.\n",
        "\n"
      ],
      "metadata": {
        "id": "qQprDQ5SvuBq"
      }
    },
    {
      "cell_type": "code",
      "source": [
        "vol_data.shape"
      ],
      "metadata": {
        "colab": {
          "base_uri": "https://localhost:8080/"
        },
        "id": "haDsLgqnqGUq",
        "outputId": "be307a39-66a3-4e0c-e1a5-7c6617e617cd"
      },
      "execution_count": 54,
      "outputs": [
        {
          "output_type": "execute_result",
          "data": {
            "text/plain": [
              "(2344, 1)"
            ]
          },
          "metadata": {},
          "execution_count": 54
        }
      ]
    },
    {
      "cell_type": "code",
      "source": [
        "for x in range(len(DATA)):\n",
        "    DATA[x][45]=vol_data[x][0]"
      ],
      "metadata": {
        "id": "HqLBFSg7i_K6"
      },
      "execution_count": 55,
      "outputs": []
    },
    {
      "cell_type": "code",
      "source": [
        "DATA.shape"
      ],
      "metadata": {
        "id": "vFPh2q6lPkAV",
        "colab": {
          "base_uri": "https://localhost:8080/"
        },
        "outputId": "96442370-cf8e-42f2-f06a-0d7ea61d9222"
      },
      "execution_count": 56,
      "outputs": [
        {
          "data": {
            "text/plain": [
              "(2344, 50)"
            ]
          },
          "execution_count": 56,
          "metadata": {},
          "output_type": "execute_result"
        }
      ]
    },
    {
      "cell_type": "code",
      "source": [
        "final_indexes=np.arange(0,50)"
      ],
      "metadata": {
        "id": "iqcLyU2e6eaf"
      },
      "execution_count": 76,
      "outputs": []
    },
    {
      "cell_type": "markdown",
      "source": [
        "Co trzeba wytestować\n",
        "\n",
        "BATCH_SIZE\n",
        "\n",
        "n_timesteps\n",
        "\n",
        "Nurony\n",
        "\n",
        "Różne warstwy\n",
        "    -BiDirectional(Raczej zawsze powinno być)\n",
        "    -LSTM\n",
        "    -CONV\n",
        "    -GRU\n",
        "\n",
        "Różne funckje aktywacyjne\n",
        "    -Różne Liniowe\n",
        "    -Jakieś nieliniowe\n",
        "\n",
        "Loss value\n",
        "    -mae\n",
        "    -mse\n",
        "DODATKI tzn:\n",
        "\n",
        "DROPUT,\n",
        "L-REgularization\n",
        "\n",
        "\n",
        "Pomyśleć nad ensemble learning\n"
      ],
      "metadata": {
        "id": "DbvPeDO9D6ZL"
      }
    },
    {
      "cell_type": "markdown",
      "source": [
        "Najpierw sprawdzimy jakie będzie najlepsze rozbudowanie modelu tzn. czy powinniśmy stworzyć prosty model z niewielką ilością neuronów czy jednak coś bardziej kompleksowego"
      ],
      "metadata": {
        "id": "-2BcVLJ44hLt"
      }
    },
    {
      "cell_type": "markdown",
      "source": [
        "Na początek prosty model Bidirectional LSTM + DENSE(relu)\n",
        "\n",
        "Mała ilość neuronów\n",
        "\n"
      ],
      "metadata": {
        "id": "7l-sMlwgFMDE"
      }
    },
    {
      "cell_type": "code",
      "source": [
        "BATCH_SIZE = 32\n",
        "\n",
        "\n",
        "from tensorflow.keras.models import Sequential\n",
        "from tensorflow.keras.layers import LSTM,Dense,Dropout,Bidirectional\n",
        "from tensorflow.keras.optimizers import Adam\n",
        "from tensorflow.keras.callbacks import ReduceLROnPlateau\n",
        "from tensorflow.keras.callbacks import EarlyStopping\n",
        "from tensorflow.keras.regularizers import l2\n",
        "\n",
        "\n",
        "scalers = [MinMaxScaler() for _ in range(DATA.shape[1])]\n",
        "\n",
        "DATA_scaled = np.hstack([scaler.fit_transform(DATA[:, [i]]) for i, scaler in enumerate(scalers)])\n",
        "\n",
        "reshaped_data_X, reshaped_data_y=reshape_data_mlt_feature_changer(DATA_scaled,n_timesteps,final_indexes)\n",
        "\n",
        "X_train, X_test, y_train, y_test = train_test_split(reshaped_data_X, reshaped_data_y, test_size=0.2, random_state=42,shuffle=False)\n",
        "\n",
        "train_dataset = tf.data.Dataset.from_tensor_slices((X_train, y_train))\n",
        "test_dataset = tf.data.Dataset.from_tensor_slices((X_test, y_test))\n",
        "\n",
        "BATCH_SIZE = 32\n",
        "train_dataset = train_dataset.batch(BATCH_SIZE)\n",
        "test_dataset = test_dataset.batch(BATCH_SIZE)\n",
        "\n",
        "# Use AUTOTUNE for optimization\n",
        "train_dataset = train_dataset.prefetch(tf.data.experimental.AUTOTUNE)\n",
        "test_dataset = test_dataset.prefetch(tf.data.experimental.AUTOTUNE)\n",
        "\n",
        "\n",
        "# Define the LSTM model\n",
        "\n",
        "zero_final_model = Sequential([\n",
        "    Bidirectional(LSTM(128, return_sequences=True, dropout=0.2)),\n",
        "    LSTM(64, activation='relu', dropout=0.2, kernel_regularizer=l2(0.01)),\n",
        "    Dense(32, activation='relu'),\n",
        "    Dense(1)  # Output only 1 value\n",
        "])\n",
        "\n",
        "\n",
        "# Compile the zero_final_model with a lower learning rate\n",
        "optimizer = Adam(learning_rate=0.001)  # Adjust the learning rate as needed\n",
        "zero_final_model.compile(optimizer=optimizer, loss='mse',metrics=[\"mae\"])\n",
        "\n",
        "# Add a callback to reduce learning rate on plateau\n",
        "reduce_lr = ReduceLROnPlateau(monitor='val_loss', factor=0.2, patience=8, min_lr=0.00001)\n",
        "early_stopping = EarlyStopping(monitor='val_loss', patience=15, restore_best_weights=True)\n",
        "callbacks = [reduce_lr,early_stopping]\n",
        "\n",
        "# Train the zero_final_model with callbacks\n",
        "history = zero_final_model.fit(train_dataset, epochs=500, batch_size=32, validation_data=test_dataset, callbacks=callbacks)\n"
      ],
      "metadata": {
        "colab": {
          "base_uri": "https://localhost:8080/"
        },
        "id": "l711JEAtm6xK",
        "outputId": "3559b61c-003c-47d1-ad5f-eb4ea37343fb"
      },
      "execution_count": 83,
      "outputs": [
        {
          "output_type": "stream",
          "name": "stdout",
          "text": [
            "Epoch 1/500\n",
            "58/58 [==============================] - 23s 289ms/step - loss: 1.2548 - mae: 0.0647 - val_loss: 0.5075 - val_mae: 0.2346 - lr: 0.0010\n",
            "Epoch 2/500\n",
            "58/58 [==============================] - 8s 141ms/step - loss: 0.2065 - mae: 0.0730 - val_loss: 0.1526 - val_mae: 0.2391 - lr: 0.0010\n",
            "Epoch 3/500\n",
            "58/58 [==============================] - 17s 290ms/step - loss: 0.0513 - mae: 0.0716 - val_loss: 0.1397 - val_mae: 0.2927 - lr: 0.0010\n",
            "Epoch 4/500\n",
            "58/58 [==============================] - 14s 249ms/step - loss: 0.0366 - mae: 0.0802 - val_loss: 0.1229 - val_mae: 0.2750 - lr: 0.0010\n",
            "Epoch 5/500\n",
            "58/58 [==============================] - 16s 270ms/step - loss: 0.0327 - mae: 0.0912 - val_loss: 0.1007 - val_mae: 0.2294 - lr: 0.0010\n",
            "Epoch 6/500\n",
            "58/58 [==============================] - 14s 243ms/step - loss: 0.0325 - mae: 0.0934 - val_loss: 0.0568 - val_mae: 0.1712 - lr: 0.0010\n",
            "Epoch 7/500\n",
            "58/58 [==============================] - 9s 147ms/step - loss: 0.0350 - mae: 0.1068 - val_loss: 0.0821 - val_mae: 0.2069 - lr: 0.0010\n",
            "Epoch 8/500\n",
            "58/58 [==============================] - 9s 164ms/step - loss: 0.0445 - mae: 0.1278 - val_loss: 0.0730 - val_mae: 0.1779 - lr: 0.0010\n",
            "Epoch 9/500\n",
            "58/58 [==============================] - 7s 120ms/step - loss: 0.0478 - mae: 0.1315 - val_loss: 0.1637 - val_mae: 0.3296 - lr: 0.0010\n",
            "Epoch 10/500\n",
            "58/58 [==============================] - 9s 160ms/step - loss: 0.0355 - mae: 0.0928 - val_loss: 0.1008 - val_mae: 0.2243 - lr: 0.0010\n",
            "Epoch 11/500\n",
            "58/58 [==============================] - 8s 139ms/step - loss: 0.0620 - mae: 0.1600 - val_loss: 0.0411 - val_mae: 0.1075 - lr: 0.0010\n",
            "Epoch 12/500\n",
            "58/58 [==============================] - 7s 121ms/step - loss: 0.0535 - mae: 0.1372 - val_loss: 0.0445 - val_mae: 0.1175 - lr: 0.0010\n",
            "Epoch 13/500\n",
            "58/58 [==============================] - 8s 142ms/step - loss: 0.0453 - mae: 0.1191 - val_loss: 0.0391 - val_mae: 0.1507 - lr: 0.0010\n",
            "Epoch 14/500\n",
            "58/58 [==============================] - 9s 161ms/step - loss: 0.0264 - mae: 0.1038 - val_loss: 0.0218 - val_mae: 0.1145 - lr: 0.0010\n",
            "Epoch 15/500\n",
            "58/58 [==============================] - 7s 124ms/step - loss: 0.0117 - mae: 0.0592 - val_loss: 0.0412 - val_mae: 0.1717 - lr: 0.0010\n",
            "Epoch 16/500\n",
            "58/58 [==============================] - 9s 162ms/step - loss: 0.0085 - mae: 0.0506 - val_loss: 0.0483 - val_mae: 0.1949 - lr: 0.0010\n",
            "Epoch 17/500\n",
            "58/58 [==============================] - 8s 135ms/step - loss: 0.0090 - mae: 0.0562 - val_loss: 0.0203 - val_mae: 0.1232 - lr: 0.0010\n",
            "Epoch 18/500\n",
            "58/58 [==============================] - 7s 126ms/step - loss: 0.0083 - mae: 0.0558 - val_loss: 0.0085 - val_mae: 0.0600 - lr: 0.0010\n",
            "Epoch 19/500\n",
            "58/58 [==============================] - 8s 144ms/step - loss: 0.0060 - mae: 0.0490 - val_loss: 0.0064 - val_mae: 0.0419 - lr: 0.0010\n",
            "Epoch 20/500\n",
            "58/58 [==============================] - 10s 165ms/step - loss: 0.0059 - mae: 0.0476 - val_loss: 0.0050 - val_mae: 0.0463 - lr: 0.0010\n",
            "Epoch 21/500\n",
            "58/58 [==============================] - 8s 144ms/step - loss: 0.0046 - mae: 0.0395 - val_loss: 0.0133 - val_mae: 0.0936 - lr: 0.0010\n",
            "Epoch 22/500\n",
            "58/58 [==============================] - 10s 166ms/step - loss: 0.0047 - mae: 0.0436 - val_loss: 0.0342 - val_mae: 0.1669 - lr: 0.0010\n",
            "Epoch 23/500\n",
            "58/58 [==============================] - 9s 151ms/step - loss: 0.0080 - mae: 0.0572 - val_loss: 0.0208 - val_mae: 0.1260 - lr: 0.0010\n",
            "Epoch 24/500\n",
            "58/58 [==============================] - 9s 148ms/step - loss: 0.0076 - mae: 0.0516 - val_loss: 0.0075 - val_mae: 0.0399 - lr: 0.0010\n",
            "Epoch 25/500\n",
            "58/58 [==============================] - 9s 163ms/step - loss: 0.0050 - mae: 0.0477 - val_loss: 0.0088 - val_mae: 0.0473 - lr: 0.0010\n",
            "Epoch 26/500\n",
            "58/58 [==============================] - 7s 125ms/step - loss: 0.0076 - mae: 0.0535 - val_loss: 0.0074 - val_mae: 0.0447 - lr: 0.0010\n",
            "Epoch 27/500\n",
            "58/58 [==============================] - 7s 127ms/step - loss: 0.0070 - mae: 0.0426 - val_loss: 0.0163 - val_mae: 0.1059 - lr: 0.0010\n",
            "Epoch 28/500\n",
            "58/58 [==============================] - 9s 153ms/step - loss: 0.0049 - mae: 0.0434 - val_loss: 0.0392 - val_mae: 0.1666 - lr: 0.0010\n",
            "Epoch 29/500\n",
            "58/58 [==============================] - 9s 162ms/step - loss: 0.0084 - mae: 0.0549 - val_loss: 0.0063 - val_mae: 0.0408 - lr: 2.0000e-04\n",
            "Epoch 30/500\n",
            "58/58 [==============================] - 7s 120ms/step - loss: 0.0047 - mae: 0.0401 - val_loss: 0.0075 - val_mae: 0.0711 - lr: 2.0000e-04\n",
            "Epoch 31/500\n",
            "58/58 [==============================] - 9s 154ms/step - loss: 0.0031 - mae: 0.0301 - val_loss: 0.0055 - val_mae: 0.0576 - lr: 2.0000e-04\n",
            "Epoch 32/500\n",
            "58/58 [==============================] - 9s 162ms/step - loss: 0.0029 - mae: 0.0298 - val_loss: 0.0057 - val_mae: 0.0601 - lr: 2.0000e-04\n",
            "Epoch 33/500\n",
            "58/58 [==============================] - 8s 135ms/step - loss: 0.0027 - mae: 0.0286 - val_loss: 0.0050 - val_mae: 0.0548 - lr: 2.0000e-04\n",
            "Epoch 34/500\n",
            "58/58 [==============================] - 11s 195ms/step - loss: 0.0026 - mae: 0.0277 - val_loss: 0.0050 - val_mae: 0.0551 - lr: 2.0000e-04\n",
            "Epoch 35/500\n",
            "58/58 [==============================] - 9s 163ms/step - loss: 0.0024 - mae: 0.0270 - val_loss: 0.0047 - val_mae: 0.0533 - lr: 2.0000e-04\n",
            "Epoch 36/500\n",
            "58/58 [==============================] - 7s 122ms/step - loss: 0.0024 - mae: 0.0266 - val_loss: 0.0047 - val_mae: 0.0530 - lr: 2.0000e-04\n",
            "Epoch 37/500\n",
            "58/58 [==============================] - 7s 123ms/step - loss: 0.0023 - mae: 0.0261 - val_loss: 0.0046 - val_mae: 0.0528 - lr: 2.0000e-04\n",
            "Epoch 38/500\n",
            "58/58 [==============================] - 9s 164ms/step - loss: 0.0022 - mae: 0.0257 - val_loss: 0.0042 - val_mae: 0.0488 - lr: 2.0000e-04\n",
            "Epoch 39/500\n",
            "58/58 [==============================] - 7s 123ms/step - loss: 0.0022 - mae: 0.0255 - val_loss: 0.0043 - val_mae: 0.0500 - lr: 2.0000e-04\n",
            "Epoch 40/500\n",
            "58/58 [==============================] - 8s 129ms/step - loss: 0.0021 - mae: 0.0253 - val_loss: 0.0040 - val_mae: 0.0476 - lr: 2.0000e-04\n",
            "Epoch 41/500\n",
            "58/58 [==============================] - 9s 159ms/step - loss: 0.0021 - mae: 0.0248 - val_loss: 0.0041 - val_mae: 0.0481 - lr: 2.0000e-04\n",
            "Epoch 42/500\n",
            "58/58 [==============================] - 8s 144ms/step - loss: 0.0020 - mae: 0.0244 - val_loss: 0.0039 - val_mae: 0.0471 - lr: 2.0000e-04\n",
            "Epoch 43/500\n",
            "58/58 [==============================] - 11s 178ms/step - loss: 0.0019 - mae: 0.0233 - val_loss: 0.0040 - val_mae: 0.0476 - lr: 2.0000e-04\n",
            "Epoch 44/500\n",
            "58/58 [==============================] - 11s 190ms/step - loss: 0.0019 - mae: 0.0225 - val_loss: 0.0040 - val_mae: 0.0482 - lr: 2.0000e-04\n",
            "Epoch 45/500\n",
            "58/58 [==============================] - 14s 241ms/step - loss: 0.0018 - mae: 0.0224 - val_loss: 0.0041 - val_mae: 0.0490 - lr: 2.0000e-04\n",
            "Epoch 46/500\n",
            "58/58 [==============================] - 11s 180ms/step - loss: 0.0017 - mae: 0.0215 - val_loss: 0.0040 - val_mae: 0.0480 - lr: 2.0000e-04\n",
            "Epoch 47/500\n",
            "58/58 [==============================] - 9s 151ms/step - loss: 0.0017 - mae: 0.0218 - val_loss: 0.0037 - val_mae: 0.0462 - lr: 2.0000e-04\n",
            "Epoch 48/500\n",
            "58/58 [==============================] - 7s 122ms/step - loss: 0.0017 - mae: 0.0215 - val_loss: 0.0044 - val_mae: 0.0514 - lr: 2.0000e-04\n",
            "Epoch 49/500\n",
            "58/58 [==============================] - 8s 139ms/step - loss: 0.0017 - mae: 0.0217 - val_loss: 0.0040 - val_mae: 0.0486 - lr: 2.0000e-04\n",
            "Epoch 50/500\n",
            "58/58 [==============================] - 9s 160ms/step - loss: 0.0017 - mae: 0.0218 - val_loss: 0.0042 - val_mae: 0.0501 - lr: 2.0000e-04\n",
            "Epoch 51/500\n",
            "58/58 [==============================] - 7s 123ms/step - loss: 0.0016 - mae: 0.0211 - val_loss: 0.0043 - val_mae: 0.0514 - lr: 2.0000e-04\n",
            "Epoch 52/500\n",
            "58/58 [==============================] - 9s 163ms/step - loss: 0.0016 - mae: 0.0211 - val_loss: 0.0044 - val_mae: 0.0519 - lr: 2.0000e-04\n",
            "Epoch 53/500\n",
            "58/58 [==============================] - 9s 157ms/step - loss: 0.0016 - mae: 0.0209 - val_loss: 0.0040 - val_mae: 0.0493 - lr: 2.0000e-04\n",
            "Epoch 54/500\n",
            "58/58 [==============================] - 7s 121ms/step - loss: 0.0016 - mae: 0.0207 - val_loss: 0.0046 - val_mae: 0.0540 - lr: 2.0000e-04\n",
            "Epoch 55/500\n",
            "58/58 [==============================] - 9s 146ms/step - loss: 0.0015 - mae: 0.0204 - val_loss: 0.0045 - val_mae: 0.0528 - lr: 2.0000e-04\n",
            "Epoch 56/500\n",
            "58/58 [==============================] - 10s 168ms/step - loss: 0.0015 - mae: 0.0196 - val_loss: 0.0037 - val_mae: 0.0469 - lr: 4.0000e-05\n",
            "Epoch 57/500\n",
            "58/58 [==============================] - 7s 121ms/step - loss: 0.0014 - mae: 0.0190 - val_loss: 0.0039 - val_mae: 0.0491 - lr: 4.0000e-05\n",
            "Epoch 58/500\n",
            "58/58 [==============================] - 9s 163ms/step - loss: 0.0014 - mae: 0.0191 - val_loss: 0.0039 - val_mae: 0.0486 - lr: 4.0000e-05\n",
            "Epoch 59/500\n",
            "58/58 [==============================] - 14s 235ms/step - loss: 0.0014 - mae: 0.0188 - val_loss: 0.0039 - val_mae: 0.0490 - lr: 4.0000e-05\n",
            "Epoch 60/500\n",
            "58/58 [==============================] - 14s 246ms/step - loss: 0.0014 - mae: 0.0186 - val_loss: 0.0039 - val_mae: 0.0495 - lr: 4.0000e-05\n",
            "Epoch 61/500\n",
            "58/58 [==============================] - 10s 172ms/step - loss: 0.0014 - mae: 0.0185 - val_loss: 0.0038 - val_mae: 0.0487 - lr: 4.0000e-05\n",
            "Epoch 62/500\n",
            "58/58 [==============================] - 8s 137ms/step - loss: 0.0014 - mae: 0.0186 - val_loss: 0.0039 - val_mae: 0.0493 - lr: 4.0000e-05\n",
            "Epoch 63/500\n",
            "58/58 [==============================] - 9s 165ms/step - loss: 0.0013 - mae: 0.0185 - val_loss: 0.0040 - val_mae: 0.0499 - lr: 4.0000e-05\n",
            "Epoch 64/500\n",
            "58/58 [==============================] - 8s 136ms/step - loss: 0.0013 - mae: 0.0181 - val_loss: 0.0039 - val_mae: 0.0489 - lr: 1.0000e-05\n",
            "Epoch 65/500\n",
            "58/58 [==============================] - 9s 149ms/step - loss: 0.0014 - mae: 0.0187 - val_loss: 0.0038 - val_mae: 0.0487 - lr: 1.0000e-05\n",
            "Epoch 66/500\n",
            "58/58 [==============================] - 9s 160ms/step - loss: 0.0014 - mae: 0.0185 - val_loss: 0.0038 - val_mae: 0.0486 - lr: 1.0000e-05\n",
            "Epoch 67/500\n",
            "58/58 [==============================] - 7s 121ms/step - loss: 0.0013 - mae: 0.0182 - val_loss: 0.0038 - val_mae: 0.0483 - lr: 1.0000e-05\n",
            "Epoch 68/500\n",
            "58/58 [==============================] - 9s 164ms/step - loss: 0.0014 - mae: 0.0185 - val_loss: 0.0038 - val_mae: 0.0485 - lr: 1.0000e-05\n",
            "Epoch 69/500\n",
            "58/58 [==============================] - 8s 147ms/step - loss: 0.0014 - mae: 0.0185 - val_loss: 0.0038 - val_mae: 0.0483 - lr: 1.0000e-05\n",
            "Epoch 70/500\n",
            "58/58 [==============================] - 8s 135ms/step - loss: 0.0014 - mae: 0.0184 - val_loss: 0.0038 - val_mae: 0.0485 - lr: 1.0000e-05\n",
            "Epoch 71/500\n",
            "58/58 [==============================] - 9s 160ms/step - loss: 0.0014 - mae: 0.0185 - val_loss: 0.0038 - val_mae: 0.0488 - lr: 1.0000e-05\n"
          ]
        }
      ]
    },
    {
      "cell_type": "code",
      "source": [
        "zero_final_model.save(\"/content/drive/MyDrive/CRYPTO/Models/zero_final_model.h5\")"
      ],
      "metadata": {
        "colab": {
          "base_uri": "https://localhost:8080/"
        },
        "id": "ekoOe0Pinpd7",
        "outputId": "ca41b27d-b743-463b-f937-15b79f1caa35"
      },
      "execution_count": 84,
      "outputs": [
        {
          "output_type": "stream",
          "name": "stderr",
          "text": [
            "/usr/local/lib/python3.10/dist-packages/keras/src/engine/training.py:3103: UserWarning: You are saving your model as an HDF5 file via `model.save()`. This file format is considered legacy. We recommend using instead the native Keras format, e.g. `model.save('my_model.keras')`.\n",
            "  saving_api.save_model(\n"
          ]
        }
      ]
    },
    {
      "cell_type": "code",
      "source": [
        "zero_final_model_loaded=load_model(\"/content/drive/MyDrive/CRYPTO/Models/zero_final_model.h5\")"
      ],
      "metadata": {
        "id": "swGzVPxpMIen"
      },
      "execution_count": 85,
      "outputs": []
    },
    {
      "cell_type": "code",
      "source": [
        "zero_final_model_loaded.evaluate(X_test,y_test)"
      ],
      "metadata": {
        "colab": {
          "base_uri": "https://localhost:8080/"
        },
        "id": "hVjNqM-xMWl-",
        "outputId": "136fd644-9499-4dbe-c2ee-7a04b80ed837"
      },
      "execution_count": 86,
      "outputs": [
        {
          "output_type": "stream",
          "name": "stdout",
          "text": [
            "15/15 [==============================] - 2s 38ms/step - loss: 0.0037 - mae: 0.0469\n"
          ]
        },
        {
          "output_type": "execute_result",
          "data": {
            "text/plain": [
              "[0.0037072766572237015, 0.04694398120045662]"
            ]
          },
          "metadata": {},
          "execution_count": 86
        }
      ]
    },
    {
      "cell_type": "markdown",
      "source": [
        "Kolejny prosty model ale z dropoutem"
      ],
      "metadata": {
        "id": "7TAJsrKwouhZ"
      }
    },
    {
      "cell_type": "code",
      "source": [
        "BATCH_SIZE = 32\n",
        "\n",
        "\n",
        "from tensorflow.keras.models import Sequential\n",
        "from tensorflow.keras.layers import LSTM,Dense,Dropout,Bidirectional\n",
        "from tensorflow.keras.optimizers import Adam\n",
        "from tensorflow.keras.callbacks import ReduceLROnPlateau\n",
        "from tensorflow.keras.callbacks import EarlyStopping\n",
        "from tensorflow.keras.regularizers import l2\n",
        "\n",
        "\n",
        "scalers = [MinMaxScaler() for _ in range(DATA.shape[1])]\n",
        "\n",
        "DATA_scaled = np.hstack([scaler.fit_transform(DATA[:, [i]]) for i, scaler in enumerate(scalers)])\n",
        "\n",
        "reshaped_data_X, reshaped_data_y=reshape_data_mlt_feature_changer(DATA_scaled,n_timesteps,final_indexes)\n",
        "\n",
        "X_train, X_test, y_train, y_test = train_test_split(reshaped_data_X, reshaped_data_y, test_size=0.2, random_state=42,shuffle=False)\n",
        "\n",
        "train_dataset = tf.data.Dataset.from_tensor_slices((X_train, y_train))\n",
        "test_dataset = tf.data.Dataset.from_tensor_slices((X_test, y_test))\n",
        "\n",
        "BATCH_SIZE = 32\n",
        "train_dataset = train_dataset.batch(BATCH_SIZE)\n",
        "test_dataset = test_dataset.batch(BATCH_SIZE)\n",
        "\n",
        "# Use AUTOTUNE for optimization\n",
        "train_dataset = train_dataset.prefetch(tf.data.experimental.AUTOTUNE)\n",
        "test_dataset = test_dataset.prefetch(tf.data.experimental.AUTOTUNE)\n",
        "\n",
        "\n",
        "# Define the LSTM model\n",
        "\n",
        "zero_dropout_final_model = Sequential([\n",
        "    Bidirectional(LSTM(128, return_sequences=True, dropout=0.2)),\n",
        "    LSTM(64, activation='relu', dropout=0.2, kernel_regularizer=l2(0.01)),\n",
        "    Dense(32, activation='relu'),\n",
        "    Dropout(0.3),\n",
        "    Dense(1)  # Output only 1 value\n",
        "])\n",
        "\n",
        "\n",
        "# Compile the zero_dropout_final_model with a lower learning rate\n",
        "optimizer = Adam(learning_rate=0.001)  # Adjust the learning rate as needed\n",
        "zero_dropout_final_model.compile(optimizer=optimizer, loss='mse',metrics=[\"mae\"])\n",
        "\n",
        "# Add a callback to reduce learning rate on plateau\n",
        "reduce_lr = ReduceLROnPlateau(monitor='val_loss', factor=0.2, patience=8, min_lr=0.00001)\n",
        "early_stopping = EarlyStopping(monitor='val_loss', patience=15, restore_best_weights=True)\n",
        "callbacks = [reduce_lr,early_stopping]\n",
        "\n",
        "# Train the zero_dropout_final_model with callbacks\n",
        "history = zero_dropout_final_model.fit(train_dataset, epochs=500, batch_size=32, validation_data=test_dataset, callbacks=callbacks)\n"
      ],
      "metadata": {
        "colab": {
          "base_uri": "https://localhost:8080/"
        },
        "id": "Kqy2YNj3otfk",
        "outputId": "85a9ea4d-83d1-4293-d86e-061fe17db65d"
      },
      "execution_count": 87,
      "outputs": [
        {
          "output_type": "stream",
          "name": "stdout",
          "text": [
            "Epoch 1/500\n",
            "58/58 [==============================] - 17s 138ms/step - loss: 1.2618 - mae: 0.1031 - val_loss: 0.5117 - val_mae: 0.2534 - lr: 0.0010\n",
            "Epoch 2/500\n",
            "58/58 [==============================] - 9s 159ms/step - loss: 0.2089 - mae: 0.0828 - val_loss: 0.1426 - val_mae: 0.2332 - lr: 0.0010\n",
            "Epoch 3/500\n",
            "58/58 [==============================] - 7s 122ms/step - loss: 0.0551 - mae: 0.0903 - val_loss: 0.0792 - val_mae: 0.1960 - lr: 0.0010\n",
            "Epoch 4/500\n",
            "58/58 [==============================] - 7s 121ms/step - loss: 0.0339 - mae: 0.0856 - val_loss: 0.0827 - val_mae: 0.2108 - lr: 0.0010\n",
            "Epoch 5/500\n",
            "58/58 [==============================] - 9s 156ms/step - loss: 0.0274 - mae: 0.0812 - val_loss: 0.1126 - val_mae: 0.2654 - lr: 0.0010\n",
            "Epoch 6/500\n",
            "58/58 [==============================] - 8s 137ms/step - loss: 0.0276 - mae: 0.0845 - val_loss: 0.0775 - val_mae: 0.2082 - lr: 0.0010\n",
            "Epoch 7/500\n",
            "58/58 [==============================] - 8s 140ms/step - loss: 0.0539 - mae: 0.1391 - val_loss: 0.0363 - val_mae: 0.1122 - lr: 0.0010\n",
            "Epoch 8/500\n",
            "58/58 [==============================] - 9s 159ms/step - loss: 0.0322 - mae: 0.1016 - val_loss: 0.0530 - val_mae: 0.1441 - lr: 0.0010\n",
            "Epoch 9/500\n",
            "58/58 [==============================] - 7s 129ms/step - loss: 0.0380 - mae: 0.1129 - val_loss: 0.1214 - val_mae: 0.2815 - lr: 0.0010\n",
            "Epoch 10/500\n",
            "58/58 [==============================] - 9s 162ms/step - loss: 0.0328 - mae: 0.0953 - val_loss: 0.0366 - val_mae: 0.0970 - lr: 0.0010\n",
            "Epoch 11/500\n",
            "58/58 [==============================] - 8s 135ms/step - loss: 0.0373 - mae: 0.1200 - val_loss: 0.0237 - val_mae: 0.1122 - lr: 0.0010\n",
            "Epoch 12/500\n",
            "58/58 [==============================] - 9s 148ms/step - loss: 0.0338 - mae: 0.1152 - val_loss: 0.0241 - val_mae: 0.1214 - lr: 0.0010\n",
            "Epoch 13/500\n",
            "58/58 [==============================] - 9s 161ms/step - loss: 0.0188 - mae: 0.0793 - val_loss: 0.0202 - val_mae: 0.1171 - lr: 0.0010\n",
            "Epoch 14/500\n",
            "58/58 [==============================] - 7s 121ms/step - loss: 0.0142 - mae: 0.0708 - val_loss: 0.0247 - val_mae: 0.1314 - lr: 0.0010\n",
            "Epoch 15/500\n",
            "58/58 [==============================] - 9s 160ms/step - loss: 0.0108 - mae: 0.0618 - val_loss: 0.0492 - val_mae: 0.1970 - lr: 0.0010\n",
            "Epoch 16/500\n",
            "58/58 [==============================] - 7s 128ms/step - loss: 0.0116 - mae: 0.0661 - val_loss: 0.0251 - val_mae: 0.1406 - lr: 0.0010\n",
            "Epoch 17/500\n",
            "58/58 [==============================] - 7s 125ms/step - loss: 0.0106 - mae: 0.0607 - val_loss: 0.0100 - val_mae: 0.0619 - lr: 0.0010\n",
            "Epoch 18/500\n",
            "58/58 [==============================] - 9s 158ms/step - loss: 0.0078 - mae: 0.0553 - val_loss: 0.0053 - val_mae: 0.0421 - lr: 0.0010\n",
            "Epoch 19/500\n",
            "58/58 [==============================] - 7s 121ms/step - loss: 0.0070 - mae: 0.0508 - val_loss: 0.0110 - val_mae: 0.0802 - lr: 0.0010\n",
            "Epoch 20/500\n",
            "58/58 [==============================] - 7s 123ms/step - loss: 0.0075 - mae: 0.0544 - val_loss: 0.0495 - val_mae: 0.2061 - lr: 0.0010\n",
            "Epoch 21/500\n",
            "58/58 [==============================] - 12s 201ms/step - loss: 0.0130 - mae: 0.0721 - val_loss: 0.0150 - val_mae: 0.1004 - lr: 0.0010\n",
            "Epoch 22/500\n",
            "58/58 [==============================] - 9s 153ms/step - loss: 0.0092 - mae: 0.0594 - val_loss: 0.0161 - val_mae: 0.0790 - lr: 0.0010\n",
            "Epoch 23/500\n",
            "58/58 [==============================] - 9s 159ms/step - loss: 0.0129 - mae: 0.0696 - val_loss: 0.0088 - val_mae: 0.0497 - lr: 0.0010\n",
            "Epoch 24/500\n",
            "58/58 [==============================] - 7s 121ms/step - loss: 0.0093 - mae: 0.0578 - val_loss: 0.0171 - val_mae: 0.1059 - lr: 0.0010\n",
            "Epoch 25/500\n",
            "58/58 [==============================] - 8s 138ms/step - loss: 0.0077 - mae: 0.0527 - val_loss: 0.0266 - val_mae: 0.1433 - lr: 0.0010\n",
            "Epoch 26/500\n",
            "58/58 [==============================] - 9s 160ms/step - loss: 0.0091 - mae: 0.0562 - val_loss: 0.0074 - val_mae: 0.0390 - lr: 0.0010\n",
            "Epoch 27/500\n",
            "58/58 [==============================] - 7s 126ms/step - loss: 0.0071 - mae: 0.0517 - val_loss: 0.0060 - val_mae: 0.0477 - lr: 2.0000e-04\n",
            "Epoch 28/500\n",
            "58/58 [==============================] - 8s 145ms/step - loss: 0.0061 - mae: 0.0471 - val_loss: 0.0053 - val_mae: 0.0433 - lr: 2.0000e-04\n",
            "Epoch 29/500\n",
            "58/58 [==============================] - 9s 158ms/step - loss: 0.0059 - mae: 0.0460 - val_loss: 0.0050 - val_mae: 0.0421 - lr: 2.0000e-04\n",
            "Epoch 30/500\n",
            "58/58 [==============================] - 7s 121ms/step - loss: 0.0052 - mae: 0.0431 - val_loss: 0.0046 - val_mae: 0.0417 - lr: 2.0000e-04\n",
            "Epoch 31/500\n",
            "58/58 [==============================] - 8s 129ms/step - loss: 0.0054 - mae: 0.0433 - val_loss: 0.0045 - val_mae: 0.0428 - lr: 2.0000e-04\n",
            "Epoch 32/500\n",
            "58/58 [==============================] - 9s 161ms/step - loss: 0.0051 - mae: 0.0429 - val_loss: 0.0042 - val_mae: 0.0437 - lr: 2.0000e-04\n",
            "Epoch 33/500\n",
            "58/58 [==============================] - 9s 153ms/step - loss: 0.0052 - mae: 0.0427 - val_loss: 0.0039 - val_mae: 0.0387 - lr: 2.0000e-04\n",
            "Epoch 34/500\n",
            "58/58 [==============================] - 8s 130ms/step - loss: 0.0047 - mae: 0.0407 - val_loss: 0.0039 - val_mae: 0.0404 - lr: 2.0000e-04\n",
            "Epoch 35/500\n",
            "58/58 [==============================] - 8s 144ms/step - loss: 0.0047 - mae: 0.0409 - val_loss: 0.0038 - val_mae: 0.0387 - lr: 2.0000e-04\n",
            "Epoch 36/500\n",
            "58/58 [==============================] - 9s 162ms/step - loss: 0.0045 - mae: 0.0411 - val_loss: 0.0038 - val_mae: 0.0415 - lr: 2.0000e-04\n",
            "Epoch 37/500\n",
            "58/58 [==============================] - 7s 123ms/step - loss: 0.0049 - mae: 0.0414 - val_loss: 0.0037 - val_mae: 0.0409 - lr: 2.0000e-04\n",
            "Epoch 38/500\n",
            "58/58 [==============================] - 9s 157ms/step - loss: 0.0043 - mae: 0.0396 - val_loss: 0.0034 - val_mae: 0.0364 - lr: 2.0000e-04\n",
            "Epoch 39/500\n",
            "58/58 [==============================] - 9s 163ms/step - loss: 0.0044 - mae: 0.0394 - val_loss: 0.0033 - val_mae: 0.0387 - lr: 2.0000e-04\n",
            "Epoch 40/500\n",
            "58/58 [==============================] - 7s 126ms/step - loss: 0.0048 - mae: 0.0410 - val_loss: 0.0032 - val_mae: 0.0387 - lr: 2.0000e-04\n",
            "Epoch 41/500\n",
            "58/58 [==============================] - 8s 141ms/step - loss: 0.0044 - mae: 0.0401 - val_loss: 0.0031 - val_mae: 0.0368 - lr: 2.0000e-04\n",
            "Epoch 42/500\n",
            "58/58 [==============================] - 9s 159ms/step - loss: 0.0042 - mae: 0.0387 - val_loss: 0.0029 - val_mae: 0.0354 - lr: 2.0000e-04\n",
            "Epoch 43/500\n",
            "58/58 [==============================] - 7s 120ms/step - loss: 0.0042 - mae: 0.0391 - val_loss: 0.0029 - val_mae: 0.0348 - lr: 2.0000e-04\n",
            "Epoch 44/500\n",
            "58/58 [==============================] - 9s 159ms/step - loss: 0.0043 - mae: 0.0390 - val_loss: 0.0032 - val_mae: 0.0390 - lr: 2.0000e-04\n",
            "Epoch 45/500\n",
            "58/58 [==============================] - 7s 120ms/step - loss: 0.0040 - mae: 0.0379 - val_loss: 0.0031 - val_mae: 0.0363 - lr: 2.0000e-04\n",
            "Epoch 46/500\n",
            "58/58 [==============================] - 7s 121ms/step - loss: 0.0042 - mae: 0.0383 - val_loss: 0.0031 - val_mae: 0.0386 - lr: 2.0000e-04\n",
            "Epoch 47/500\n",
            "58/58 [==============================] - 9s 163ms/step - loss: 0.0043 - mae: 0.0384 - val_loss: 0.0028 - val_mae: 0.0354 - lr: 2.0000e-04\n",
            "Epoch 48/500\n",
            "58/58 [==============================] - 7s 121ms/step - loss: 0.0042 - mae: 0.0396 - val_loss: 0.0033 - val_mae: 0.0413 - lr: 2.0000e-04\n",
            "Epoch 49/500\n",
            "58/58 [==============================] - 8s 131ms/step - loss: 0.0042 - mae: 0.0395 - val_loss: 0.0027 - val_mae: 0.0333 - lr: 2.0000e-04\n",
            "Epoch 50/500\n",
            "58/58 [==============================] - 11s 198ms/step - loss: 0.0043 - mae: 0.0392 - val_loss: 0.0036 - val_mae: 0.0443 - lr: 2.0000e-04\n",
            "Epoch 51/500\n",
            "58/58 [==============================] - 10s 166ms/step - loss: 0.0044 - mae: 0.0390 - val_loss: 0.0027 - val_mae: 0.0332 - lr: 2.0000e-04\n",
            "Epoch 52/500\n",
            "58/58 [==============================] - 8s 144ms/step - loss: 0.0040 - mae: 0.0381 - val_loss: 0.0035 - val_mae: 0.0437 - lr: 2.0000e-04\n",
            "Epoch 53/500\n",
            "58/58 [==============================] - 8s 138ms/step - loss: 0.0043 - mae: 0.0395 - val_loss: 0.0030 - val_mae: 0.0390 - lr: 2.0000e-04\n",
            "Epoch 54/500\n",
            "58/58 [==============================] - 9s 161ms/step - loss: 0.0041 - mae: 0.0382 - val_loss: 0.0026 - val_mae: 0.0336 - lr: 2.0000e-04\n",
            "Epoch 55/500\n",
            "58/58 [==============================] - 7s 120ms/step - loss: 0.0039 - mae: 0.0374 - val_loss: 0.0033 - val_mae: 0.0413 - lr: 2.0000e-04\n",
            "Epoch 56/500\n",
            "58/58 [==============================] - 9s 161ms/step - loss: 0.0038 - mae: 0.0370 - val_loss: 0.0031 - val_mae: 0.0405 - lr: 2.0000e-04\n",
            "Epoch 57/500\n",
            "58/58 [==============================] - 9s 161ms/step - loss: 0.0041 - mae: 0.0381 - val_loss: 0.0025 - val_mae: 0.0340 - lr: 2.0000e-04\n",
            "Epoch 58/500\n",
            "58/58 [==============================] - 7s 122ms/step - loss: 0.0038 - mae: 0.0371 - val_loss: 0.0037 - val_mae: 0.0446 - lr: 2.0000e-04\n",
            "Epoch 59/500\n",
            "58/58 [==============================] - 9s 164ms/step - loss: 0.0039 - mae: 0.0379 - val_loss: 0.0029 - val_mae: 0.0389 - lr: 2.0000e-04\n",
            "Epoch 60/500\n",
            "58/58 [==============================] - 7s 124ms/step - loss: 0.0037 - mae: 0.0374 - val_loss: 0.0026 - val_mae: 0.0354 - lr: 2.0000e-04\n",
            "Epoch 61/500\n",
            "58/58 [==============================] - 9s 161ms/step - loss: 0.0037 - mae: 0.0374 - val_loss: 0.0027 - val_mae: 0.0371 - lr: 2.0000e-04\n",
            "Epoch 62/500\n",
            "58/58 [==============================] - 9s 156ms/step - loss: 0.0037 - mae: 0.0370 - val_loss: 0.0033 - val_mae: 0.0427 - lr: 2.0000e-04\n",
            "Epoch 63/500\n",
            "58/58 [==============================] - 7s 122ms/step - loss: 0.0039 - mae: 0.0386 - val_loss: 0.0029 - val_mae: 0.0389 - lr: 4.0000e-05\n",
            "Epoch 64/500\n",
            "58/58 [==============================] - 9s 160ms/step - loss: 0.0040 - mae: 0.0383 - val_loss: 0.0028 - val_mae: 0.0380 - lr: 4.0000e-05\n",
            "Epoch 65/500\n",
            "58/58 [==============================] - 8s 139ms/step - loss: 0.0037 - mae: 0.0363 - val_loss: 0.0028 - val_mae: 0.0375 - lr: 4.0000e-05\n",
            "Epoch 66/500\n",
            "58/58 [==============================] - 9s 149ms/step - loss: 0.0038 - mae: 0.0368 - val_loss: 0.0028 - val_mae: 0.0377 - lr: 4.0000e-05\n",
            "Epoch 67/500\n",
            "58/58 [==============================] - 9s 163ms/step - loss: 0.0038 - mae: 0.0374 - val_loss: 0.0029 - val_mae: 0.0389 - lr: 4.0000e-05\n",
            "Epoch 68/500\n",
            "58/58 [==============================] - 7s 122ms/step - loss: 0.0036 - mae: 0.0362 - val_loss: 0.0029 - val_mae: 0.0387 - lr: 4.0000e-05\n",
            "Epoch 69/500\n",
            "58/58 [==============================] - 9s 163ms/step - loss: 0.0037 - mae: 0.0357 - val_loss: 0.0029 - val_mae: 0.0385 - lr: 4.0000e-05\n",
            "Epoch 70/500\n",
            "58/58 [==============================] - 8s 132ms/step - loss: 0.0036 - mae: 0.0362 - val_loss: 0.0028 - val_mae: 0.0376 - lr: 4.0000e-05\n",
            "Epoch 71/500\n",
            "58/58 [==============================] - 7s 123ms/step - loss: 0.0035 - mae: 0.0368 - val_loss: 0.0027 - val_mae: 0.0370 - lr: 1.0000e-05\n",
            "Epoch 72/500\n",
            "58/58 [==============================] - 8s 143ms/step - loss: 0.0033 - mae: 0.0348 - val_loss: 0.0027 - val_mae: 0.0370 - lr: 1.0000e-05\n"
          ]
        }
      ]
    },
    {
      "cell_type": "code",
      "source": [
        "zero_dropout_final_model.save(\"/content/drive/MyDrive/CRYPTO/Models/zero_dropout_final_model.h5\")"
      ],
      "metadata": {
        "id": "mfvCKMtdpXq9"
      },
      "execution_count": 90,
      "outputs": []
    },
    {
      "cell_type": "code",
      "source": [
        "zero_dropout_final_model_loaded=load_model(\"/content/drive/MyDrive/CRYPTO/Models/zero_dropout_final_model.h5\")"
      ],
      "metadata": {
        "id": "dNwq7iSfMn6u"
      },
      "execution_count": 91,
      "outputs": []
    },
    {
      "cell_type": "code",
      "source": [
        "zero_dropout_final_model_loaded.evaluate(X_test,y_test)"
      ],
      "metadata": {
        "colab": {
          "base_uri": "https://localhost:8080/"
        },
        "id": "A0ePLqhdM_Gi",
        "outputId": "186e6d86-ace9-4685-8142-f9dd05d10ad6"
      },
      "execution_count": 92,
      "outputs": [
        {
          "output_type": "stream",
          "name": "stdout",
          "text": [
            "15/15 [==============================] - 2s 73ms/step - loss: 0.0025 - mae: 0.0340\n"
          ]
        },
        {
          "output_type": "execute_result",
          "data": {
            "text/plain": [
              "[0.0025142463855445385, 0.033994052559137344]"
            ]
          },
          "metadata": {},
          "execution_count": 92
        }
      ]
    },
    {
      "cell_type": "markdown",
      "source": [
        "Troche więcej neuronów"
      ],
      "metadata": {
        "id": "WfN55uMxn9a7"
      }
    },
    {
      "cell_type": "code",
      "source": [
        "BATCH_SIZE = 32\n",
        "\n",
        "\n",
        "from tensorflow.keras.models import Sequential\n",
        "from tensorflow.keras.layers import LSTM,Dense,Dropout,Bidirectional\n",
        "from tensorflow.keras.optimizers import Adam\n",
        "from tensorflow.keras.callbacks import ReduceLROnPlateau\n",
        "from tensorflow.keras.callbacks import EarlyStopping\n",
        "from tensorflow.keras.regularizers import l2\n",
        "\n",
        "\n",
        "scalers = [MinMaxScaler() for _ in range(DATA.shape[1])]\n",
        "\n",
        "DATA_scaled = np.hstack([scaler.fit_transform(DATA[:, [i]]) for i, scaler in enumerate(scalers)])\n",
        "\n",
        "reshaped_data_X, reshaped_data_y=reshape_data_mlt_feature_changer(DATA_scaled,n_timesteps,final_indexes)\n",
        "\n",
        "X_train, X_test, y_train, y_test = train_test_split(reshaped_data_X, reshaped_data_y, test_size=0.2, random_state=42,shuffle=False)\n",
        "\n",
        "train_dataset = tf.data.Dataset.from_tensor_slices((X_train, y_train))\n",
        "test_dataset = tf.data.Dataset.from_tensor_slices((X_test, y_test))\n",
        "\n",
        "BATCH_SIZE = 32\n",
        "train_dataset = train_dataset.batch(BATCH_SIZE)\n",
        "test_dataset = test_dataset.batch(BATCH_SIZE)\n",
        "\n",
        "# Use AUTOTUNE for optimization\n",
        "train_dataset = train_dataset.prefetch(tf.data.experimental.AUTOTUNE)\n",
        "test_dataset = test_dataset.prefetch(tf.data.experimental.AUTOTUNE)\n",
        "\n",
        "\n",
        "# Define the LSTM model\n",
        "first_final_model = Sequential([\n",
        "    Bidirectional(LSTM(256, return_sequences=True, dropout=0.2, kernel_regularizer=l2(0.01)),\n",
        "                  input_shape=(n_timesteps, n_features)),\n",
        "    Bidirectional(LSTM(128, return_sequences=True, dropout=0.2, kernel_regularizer=l2(0.01))),\n",
        "    LSTM(64, activation='relu', dropout=0.2, kernel_regularizer=l2(0.01), return_sequences=True),\n",
        "    LSTM(32, activation='relu', dropout=0.2, kernel_regularizer=l2(0.01)),\n",
        "    Dense(64, activation='relu'),\n",
        "    Dense(32, activation='relu'),\n",
        "    Dense(1)  # Output only 1 value\n",
        "])\n",
        "\n",
        "# Compile the first_final_model with a lower learning rate\n",
        "optimizer = Adam(learning_rate=0.001)  # Adjust the learning rate as needed\n",
        "first_final_model.compile(optimizer=optimizer, loss='mse',metrics=[\"mae\"])\n",
        "\n",
        "# Add a callback to reduce learning rate on plateau\n",
        "reduce_lr = ReduceLROnPlateau(monitor='val_loss', factor=0.2, patience=8, min_lr=0.00001)\n",
        "early_stopping = EarlyStopping(monitor='val_loss', patience=15, restore_best_weights=True)\n",
        "callbacks = [reduce_lr,early_stopping]\n",
        "\n",
        "# Train the first_final_model with callbacks\n",
        "# history = first_final_model.fit(train_dataset, epochs=500, batch_size=32, validation_data=test_dataset, callbacks=callbacks)\n"
      ],
      "metadata": {
        "id": "IlgS9gzmPj-x"
      },
      "execution_count": 94,
      "outputs": []
    },
    {
      "cell_type": "code",
      "source": [
        "# mae-0.0112\n",
        "# val_mae-0.0432"
      ],
      "metadata": {
        "id": "0UNOBum7PCpF"
      },
      "execution_count": 63,
      "outputs": []
    },
    {
      "cell_type": "code",
      "source": [
        "# first_final_model.save(\"/content/drive/MyDrive/CRYPTO/Models/first_final_model.h5\")"
      ],
      "metadata": {
        "id": "t9bwhtE3ai9w"
      },
      "execution_count": 64,
      "outputs": []
    },
    {
      "cell_type": "code",
      "source": [
        "first_final_model_lodaed=load_model(\"/content/drive/MyDrive/CRYPTO/Models/first_final_model.h5\")"
      ],
      "metadata": {
        "id": "NEaXr_3Ijgvd"
      },
      "execution_count": 65,
      "outputs": []
    },
    {
      "cell_type": "code",
      "source": [
        "first_final_model_lodaed.evaluate(X_test,y_test)"
      ],
      "metadata": {
        "colab": {
          "base_uri": "https://localhost:8080/"
        },
        "id": "SgrdxJ8cjuHF",
        "outputId": "2a04d8a4-572a-42d2-8ce1-c3351b644f44"
      },
      "execution_count": 95,
      "outputs": [
        {
          "output_type": "stream",
          "name": "stdout",
          "text": [
            "15/15 [==============================] - 8s 195ms/step - loss: 0.0595 - mae: 0.1621\n"
          ]
        },
        {
          "output_type": "execute_result",
          "data": {
            "text/plain": [
              "[0.05950476601719856, 0.1620994210243225]"
            ]
          },
          "metadata": {},
          "execution_count": 95
        }
      ]
    },
    {
      "cell_type": "markdown",
      "source": [
        "Wyniki na danych testowych są znacznie gorsze niż na danych treningowych.\n",
        "\n",
        "Znowu powinniśmy dodać Droput"
      ],
      "metadata": {
        "id": "lqCjRqkAC9Rw"
      }
    },
    {
      "cell_type": "code",
      "source": [
        "from tensorflow.keras.models import Sequential\n",
        "from tensorflow.keras.layers import LSTM,Dense,Dropout,Bidirectional\n",
        "from tensorflow.keras.optimizers import Adam\n",
        "from tensorflow.keras.callbacks import ReduceLROnPlateau\n",
        "from tensorflow.keras.callbacks import EarlyStopping\n",
        "from tensorflow.keras.regularizers import l2\n",
        "\n",
        "\n",
        "scalers = [MinMaxScaler() for _ in range(DATA.shape[1])]\n",
        "\n",
        "DATA_scaled = np.hstack([scaler.fit_transform(DATA[:, [i]]) for i, scaler in enumerate(scalers)])\n",
        "\n",
        "reshaped_data_X, reshaped_data_y=reshape_data_mlt_feature_changer(DATA_scaled,n_timesteps,final_indexes)\n",
        "\n",
        "X_train, X_test, y_train, y_test = train_test_split(reshaped_data_X, reshaped_data_y, test_size=0.2, random_state=42,shuffle=False)\n",
        "\n",
        "\n",
        "train_dataset = tf.data.Dataset.from_tensor_slices((X_train, y_train))\n",
        "test_dataset = tf.data.Dataset.from_tensor_slices((X_test, y_test))\n",
        "\n",
        "BATCH_SIZE = 32\n",
        "train_dataset = train_dataset.batch(BATCH_SIZE)\n",
        "test_dataset = test_dataset.batch(BATCH_SIZE)\n",
        "\n",
        "# Use AUTOTUNE for optimization\n",
        "train_dataset = train_dataset.prefetch(tf.data.experimental.AUTOTUNE)\n",
        "test_dataset = test_dataset.prefetch(tf.data.experimental.AUTOTUNE)\n",
        "\n",
        "\n",
        "# Define the LSTM model\n",
        "first_dropout_final_model = Sequential([\n",
        "    Bidirectional(LSTM(512, return_sequences=True, dropout=0.2, kernel_regularizer=l2(0.01)),\n",
        "                  input_shape=(n_timesteps, n_features)),\n",
        "    Bidirectional(LSTM(256, return_sequences=True, dropout=0.2, kernel_regularizer=l2(0.01))),\n",
        "    Bidirectional(LSTM(128, return_sequences=True, dropout=0.2, kernel_regularizer=l2(0.01))),\n",
        "    LSTM(64, activation='relu', dropout=0.2, kernel_regularizer=l2(0.01), return_sequences=True),\n",
        "    LSTM(32, activation='relu', dropout=0.2, kernel_regularizer=l2(0.01)),\n",
        "    Dense(128, activation='relu'),\n",
        "    Dropout(0.3),\n",
        "    Dense(64, activation='relu'),\n",
        "    Dropout(0.3),\n",
        "    Dense(32, activation='relu'),\n",
        "    Dropout(0.3),\n",
        "    Dense(1)  # Output only 1 value\n",
        "])\n",
        "\n",
        "\n",
        "# Compile the first_dropout_final_model with a lower learning rate\n",
        "optimizer = Adam(learning_rate=0.001)  # Adjust the learning rate as needed\n",
        "first_dropout_final_model.compile(optimizer=optimizer, loss='mse',metrics=[\"mae\"])\n",
        "\n",
        "# Add a callback to reduce learning rate on plateau\n",
        "reduce_lr = ReduceLROnPlateau(monitor='val_loss', factor=0.2, patience=8, min_lr=0.00001)\n",
        "early_stopping = EarlyStopping(monitor='val_loss', patience=15, restore_best_weights=True)\n",
        "callbacks = [reduce_lr,early_stopping]\n",
        "\n",
        "# Train the first_dropout_final_model with callbacks\n",
        "# history = first_dropout_final_model.fit(train_dataset, epochs=500, batch_size=32, validation_data=test_dataset, callbacks=callbacks)\n"
      ],
      "metadata": {
        "id": "uFtx-fM6Pj7-"
      },
      "execution_count": 67,
      "outputs": []
    },
    {
      "cell_type": "code",
      "source": [
        "# first_dropout_final_model.save(\"/content/drive/MyDrive/CRYPTO/Models/first_dropout_final_model.h5\")"
      ],
      "metadata": {
        "id": "5zk0MQW3DOcK"
      },
      "execution_count": 69,
      "outputs": []
    },
    {
      "cell_type": "code",
      "source": [
        "first_dropout_final_model_lodaed=load_model(\"/content/drive/MyDrive/CRYPTO/Models/first_dropout_final_model.h5\")"
      ],
      "metadata": {
        "id": "h6ullw8ZTHtx"
      },
      "execution_count": 98,
      "outputs": []
    },
    {
      "cell_type": "code",
      "source": [
        "first_dropout_final_model_lodaed.evaluate(X_test,y_test)"
      ],
      "metadata": {
        "colab": {
          "base_uri": "https://localhost:8080/"
        },
        "id": "sS9QbIW6TcWq",
        "outputId": "8dfb9af6-f6f8-49da-c612-a920d973b8c1"
      },
      "execution_count": 99,
      "outputs": [
        {
          "output_type": "stream",
          "name": "stdout",
          "text": [
            "15/15 [==============================] - 10s 497ms/step - loss: 0.0746 - mae: 0.2000\n"
          ]
        },
        {
          "output_type": "execute_result",
          "data": {
            "text/plain": [
              "[0.07459024339914322, 0.20000162720680237]"
            ]
          },
          "metadata": {},
          "execution_count": 99
        }
      ]
    },
    {
      "cell_type": "markdown",
      "source": [
        "Teraz wiadomo jak rozbudowany powinien byc model, zbyt skomplikowany zamiast dostrzegac nowe cechy będzie nauczy się tożsamości danych treningowych (overfitting)\n",
        "\n",
        "Teraz budujemy model o podobnej kompleksowości co najlepiej sprawujący sie model.\n",
        "\n",
        "\n",
        "Teraz powinniśmy sprawdzić jaki BATCH_SIZE będzie najefektywniejszy."
      ],
      "metadata": {
        "id": "8t4tT9ZLsOpP"
      }
    },
    {
      "cell_type": "markdown",
      "source": [
        "Duża liczba neuronów niestety nie pomogła z użytkowaniem danych z modeli rozszerzonych, w takim wypadku powinniśmy zrezygnować z używania tych danych"
      ],
      "metadata": {
        "id": "uwYjsQ0qIxak"
      }
    },
    {
      "cell_type": "code",
      "source": [
        "final_indexes=[0,1,2,3,7,11,15,19,23,24,28,32,36,40,44,45,46,47,48,49]"
      ],
      "metadata": {
        "id": "MPIIfCfKPj6R"
      },
      "execution_count": 100,
      "outputs": []
    },
    {
      "cell_type": "code",
      "source": [
        "BATCH_SIZE = 32\n",
        "\n",
        "scalers = [MinMaxScaler() for _ in range(DATA.shape[1])]\n",
        "\n",
        "DATA_scaled = np.hstack([scaler.fit_transform(DATA[:, [i]]) for i, scaler in enumerate(scalers)])\n",
        "\n",
        "reshaped_data_X, reshaped_data_y=reshape_data_mlt_feature_changer(DATA_scaled,n_timesteps,final_indexes)\n",
        "\n",
        "X_train, X_test, y_train, y_test = train_test_split(reshaped_data_X, reshaped_data_y, test_size=0.2, random_state=42,shuffle=False)\n",
        "\n",
        "train_dataset = tf.data.Dataset.from_tensor_slices((X_train, y_train))\n",
        "test_dataset = tf.data.Dataset.from_tensor_slices((X_test, y_test))\n",
        "\n",
        "train_dataset = train_dataset.batch(BATCH_SIZE)\n",
        "test_dataset = test_dataset.batch(BATCH_SIZE)\n",
        "\n",
        "train_dataset = train_dataset.prefetch(tf.data.experimental.AUTOTUNE)\n",
        "test_dataset = test_dataset.prefetch(tf.data.experimental.AUTOTUNE)\n",
        "\n",
        "\n",
        "\n",
        "small_batches_model = Sequential([\n",
        "    Bidirectional(LSTM(128, return_sequences=True, dropout=0.2)),\n",
        "    LSTM(64, activation='relu', dropout=0.2, kernel_regularizer=l2(0.01)),\n",
        "    Dense(32, activation='relu'),\n",
        "    Dense(1)\n",
        "])\n",
        "\n",
        "\n",
        "optimizer = Adam(learning_rate=0.001)\n",
        "small_batches_model.compile(optimizer=optimizer, loss='mse',metrics=[\"mae\"])\n",
        "\n",
        "reduce_lr = ReduceLROnPlateau(monitor='val_loss', factor=0.2, patience=8, min_lr=0.00001)\n",
        "early_stopping = EarlyStopping(monitor='val_loss', patience=15, restore_best_weights=True)\n",
        "callbacks = [reduce_lr,early_stopping]\n",
        "\n",
        "history = small_batches_model.fit(train_dataset, epochs=500, batch_size=32, validation_data=test_dataset, callbacks=callbacks)\n"
      ],
      "metadata": {
        "colab": {
          "base_uri": "https://localhost:8080/"
        },
        "id": "LTW7KErvKNEH",
        "outputId": "81dc25f5-c8a8-4bfe-8a48-ef1028f59a36"
      },
      "execution_count": 101,
      "outputs": [
        {
          "output_type": "stream",
          "name": "stdout",
          "text": [
            "Epoch 1/500\n",
            "58/58 [==============================] - 24s 174ms/step - loss: 1.2347 - mae: 0.0776 - val_loss: 0.4839 - val_mae: 0.2304 - lr: 0.0010\n",
            "Epoch 2/500\n",
            "58/58 [==============================] - 7s 117ms/step - loss: 0.2014 - mae: 0.0857 - val_loss: 0.0729 - val_mae: 0.0744 - lr: 0.0010\n",
            "Epoch 3/500\n",
            "58/58 [==============================] - 12s 205ms/step - loss: 0.0497 - mae: 0.0859 - val_loss: 0.0997 - val_mae: 0.2310 - lr: 0.0010\n",
            "Epoch 4/500\n",
            "58/58 [==============================] - 12s 206ms/step - loss: 0.0301 - mae: 0.0759 - val_loss: 0.1237 - val_mae: 0.2750 - lr: 0.0010\n",
            "Epoch 5/500\n",
            "58/58 [==============================] - 12s 201ms/step - loss: 0.0300 - mae: 0.0881 - val_loss: 0.0517 - val_mae: 0.1359 - lr: 0.0010\n",
            "Epoch 6/500\n",
            "58/58 [==============================] - 14s 249ms/step - loss: 0.0417 - mae: 0.1253 - val_loss: 0.0230 - val_mae: 0.0865 - lr: 0.0010\n",
            "Epoch 7/500\n",
            "58/58 [==============================] - 13s 228ms/step - loss: 0.0387 - mae: 0.1234 - val_loss: 0.0186 - val_mae: 0.0900 - lr: 0.0010\n",
            "Epoch 8/500\n",
            "58/58 [==============================] - 12s 202ms/step - loss: 0.0283 - mae: 0.1079 - val_loss: 0.0212 - val_mae: 0.1209 - lr: 0.0010\n",
            "Epoch 9/500\n",
            "58/58 [==============================] - 14s 234ms/step - loss: 0.0153 - mae: 0.0744 - val_loss: 0.0196 - val_mae: 0.1156 - lr: 0.0010\n",
            "Epoch 10/500\n",
            "58/58 [==============================] - 15s 264ms/step - loss: 0.0084 - mae: 0.0471 - val_loss: 0.0262 - val_mae: 0.1403 - lr: 0.0010\n",
            "Epoch 11/500\n",
            "58/58 [==============================] - 14s 238ms/step - loss: 0.0066 - mae: 0.0442 - val_loss: 0.0409 - val_mae: 0.1797 - lr: 0.0010\n",
            "Epoch 12/500\n",
            "58/58 [==============================] - 10s 167ms/step - loss: 0.0069 - mae: 0.0473 - val_loss: 0.0264 - val_mae: 0.1371 - lr: 0.0010\n",
            "Epoch 13/500\n",
            "58/58 [==============================] - 9s 156ms/step - loss: 0.0077 - mae: 0.0523 - val_loss: 0.0051 - val_mae: 0.0473 - lr: 0.0010\n",
            "Epoch 14/500\n",
            "58/58 [==============================] - 7s 118ms/step - loss: 0.0048 - mae: 0.0395 - val_loss: 0.0049 - val_mae: 0.0386 - lr: 0.0010\n",
            "Epoch 15/500\n",
            "58/58 [==============================] - 8s 128ms/step - loss: 0.0049 - mae: 0.0395 - val_loss: 0.0097 - val_mae: 0.0544 - lr: 0.0010\n",
            "Epoch 16/500\n",
            "58/58 [==============================] - 9s 156ms/step - loss: 0.0053 - mae: 0.0434 - val_loss: 0.0073 - val_mae: 0.0634 - lr: 0.0010\n",
            "Epoch 17/500\n",
            "58/58 [==============================] - 7s 127ms/step - loss: 0.0049 - mae: 0.0438 - val_loss: 0.0074 - val_mae: 0.0663 - lr: 0.0010\n",
            "Epoch 18/500\n",
            "58/58 [==============================] - 7s 119ms/step - loss: 0.0035 - mae: 0.0358 - val_loss: 0.0027 - val_mae: 0.0302 - lr: 0.0010\n",
            "Epoch 19/500\n",
            "58/58 [==============================] - 9s 157ms/step - loss: 0.0031 - mae: 0.0337 - val_loss: 0.0038 - val_mae: 0.0435 - lr: 0.0010\n",
            "Epoch 20/500\n",
            "58/58 [==============================] - 7s 118ms/step - loss: 0.0048 - mae: 0.0425 - val_loss: 0.0084 - val_mae: 0.0594 - lr: 0.0010\n",
            "Epoch 21/500\n",
            "58/58 [==============================] - 7s 117ms/step - loss: 0.0046 - mae: 0.0396 - val_loss: 0.0050 - val_mae: 0.0456 - lr: 0.0010\n",
            "Epoch 22/500\n",
            "58/58 [==============================] - 9s 154ms/step - loss: 0.0040 - mae: 0.0376 - val_loss: 0.0039 - val_mae: 0.0417 - lr: 0.0010\n",
            "Epoch 23/500\n",
            "58/58 [==============================] - 7s 121ms/step - loss: 0.0034 - mae: 0.0352 - val_loss: 0.0054 - val_mae: 0.0572 - lr: 0.0010\n",
            "Epoch 24/500\n",
            "58/58 [==============================] - 9s 160ms/step - loss: 0.0035 - mae: 0.0347 - val_loss: 0.0050 - val_mae: 0.0547 - lr: 0.0010\n",
            "Epoch 25/500\n",
            "58/58 [==============================] - 8s 135ms/step - loss: 0.0037 - mae: 0.0380 - val_loss: 0.0070 - val_mae: 0.0678 - lr: 0.0010\n",
            "Epoch 26/500\n",
            "58/58 [==============================] - 7s 127ms/step - loss: 0.0040 - mae: 0.0405 - val_loss: 0.0057 - val_mae: 0.0577 - lr: 0.0010\n",
            "Epoch 27/500\n",
            "58/58 [==============================] - 9s 155ms/step - loss: 0.0039 - mae: 0.0364 - val_loss: 0.0166 - val_mae: 0.1119 - lr: 2.0000e-04\n",
            "Epoch 28/500\n",
            "58/58 [==============================] - 7s 115ms/step - loss: 0.0045 - mae: 0.0394 - val_loss: 0.0048 - val_mae: 0.0469 - lr: 2.0000e-04\n",
            "Epoch 29/500\n",
            "58/58 [==============================] - 9s 157ms/step - loss: 0.0029 - mae: 0.0332 - val_loss: 0.0080 - val_mae: 0.0770 - lr: 2.0000e-04\n",
            "Epoch 30/500\n",
            "58/58 [==============================] - 8s 146ms/step - loss: 0.0026 - mae: 0.0297 - val_loss: 0.0064 - val_mae: 0.0656 - lr: 2.0000e-04\n",
            "Epoch 31/500\n",
            "58/58 [==============================] - 7s 126ms/step - loss: 0.0024 - mae: 0.0279 - val_loss: 0.0050 - val_mae: 0.0563 - lr: 2.0000e-04\n",
            "Epoch 32/500\n",
            "58/58 [==============================] - 9s 149ms/step - loss: 0.0024 - mae: 0.0285 - val_loss: 0.0059 - val_mae: 0.0635 - lr: 2.0000e-04\n",
            "Epoch 33/500\n",
            "58/58 [==============================] - 9s 151ms/step - loss: 0.0023 - mae: 0.0277 - val_loss: 0.0050 - val_mae: 0.0570 - lr: 2.0000e-04\n"
          ]
        }
      ]
    },
    {
      "cell_type": "code",
      "source": [
        "small_batches_model.save(\"/content/drive/MyDrive/CRYPTO/Models/small_batches_model.h5\")"
      ],
      "metadata": {
        "colab": {
          "base_uri": "https://localhost:8080/"
        },
        "id": "W5QgEuUnV8vg",
        "outputId": "44fadec6-9b0c-47fa-8d48-15f3c4c887e5"
      },
      "execution_count": 102,
      "outputs": [
        {
          "output_type": "stream",
          "name": "stderr",
          "text": [
            "/usr/local/lib/python3.10/dist-packages/keras/src/engine/training.py:3103: UserWarning: You are saving your model as an HDF5 file via `model.save()`. This file format is considered legacy. We recommend using instead the native Keras format, e.g. `model.save('my_model.keras')`.\n",
            "  saving_api.save_model(\n"
          ]
        }
      ]
    },
    {
      "cell_type": "code",
      "source": [
        "small_batches_model_loaded=load_model(\"/content/drive/MyDrive/CRYPTO/Models/small_batches_model.h5\")"
      ],
      "metadata": {
        "id": "mn0T6lYNPj3X"
      },
      "execution_count": 103,
      "outputs": []
    },
    {
      "cell_type": "code",
      "source": [
        "small_batches_model_loaded.evaluate(X_test,y_test)"
      ],
      "metadata": {
        "colab": {
          "base_uri": "https://localhost:8080/"
        },
        "id": "OHS2hIz3isYd",
        "outputId": "376113d9-98da-495c-9df2-53773dbc6c5d"
      },
      "execution_count": 111,
      "outputs": [
        {
          "output_type": "stream",
          "name": "stdout",
          "text": [
            "15/15 [==============================] - 4s 81ms/step - loss: 0.0027 - mae: 0.0302\n"
          ]
        },
        {
          "output_type": "execute_result",
          "data": {
            "text/plain": [
              "[0.002733752829954028, 0.030241791158914566]"
            ]
          },
          "metadata": {},
          "execution_count": 111
        }
      ]
    },
    {
      "cell_type": "markdown",
      "source": [
        "Zwiększamy BATCH_SIZE"
      ],
      "metadata": {
        "id": "f0e8vFEHWaEp"
      }
    },
    {
      "cell_type": "code",
      "source": [
        "BATCH_SIZE = 64\n",
        "\n",
        "scalers = [MinMaxScaler() for _ in range(DATA.shape[1])]\n",
        "\n",
        "DATA_scaled = np.hstack([scaler.fit_transform(DATA[:, [i]]) for i, scaler in enumerate(scalers)])\n",
        "\n",
        "reshaped_data_X, reshaped_data_y=reshape_data_mlt_feature_changer(DATA_scaled,n_timesteps,final_indexes)\n",
        "\n",
        "X_train, X_test, y_train, y_test = train_test_split(reshaped_data_X, reshaped_data_y, test_size=0.2, random_state=42,shuffle=False)\n",
        "\n",
        "train_dataset = tf.data.Dataset.from_tensor_slices((X_train, y_train))\n",
        "test_dataset = tf.data.Dataset.from_tensor_slices((X_test, y_test))\n",
        "\n",
        "train_dataset = train_dataset.batch(BATCH_SIZE)\n",
        "test_dataset = test_dataset.batch(BATCH_SIZE)\n",
        "\n",
        "# Use AUTOTUNE for optimization\n",
        "train_dataset = train_dataset.prefetch(tf.data.experimental.AUTOTUNE)\n",
        "test_dataset = test_dataset.prefetch(tf.data.experimental.AUTOTUNE)\n",
        "\n",
        "\n",
        "# Define the LSTM model\n",
        "\n",
        "medium_batches_model = Sequential([\n",
        "    Bidirectional(LSTM(128, return_sequences=True, dropout=0.2)),\n",
        "    LSTM(64, activation='relu', dropout=0.2, kernel_regularizer=l2(0.01)),\n",
        "    Dense(32, activation='relu'),\n",
        "    Dense(1)  # Output only 1 value\n",
        "])\n",
        "\n",
        "\n",
        "# Compile the medium_batches_model with a lower learning rate\n",
        "optimizer = Adam(learning_rate=0.001)  # Adjust the learning rate as needed\n",
        "medium_batches_model.compile(optimizer=optimizer, loss='mse',metrics=[\"mae\"])\n",
        "\n",
        "# Add a callback to reduce learning rate on plateau\n",
        "reduce_lr = ReduceLROnPlateau(monitor='val_loss', factor=0.2, patience=8, min_lr=0.00001)\n",
        "early_stopping = EarlyStopping(monitor='val_loss', patience=15, restore_best_weights=True)\n",
        "callbacks = [reduce_lr,early_stopping]\n",
        "\n",
        "# Train the medium_batches_model with callbacks\n",
        "history = medium_batches_model.fit(train_dataset, epochs=500, batch_size=64, validation_data=test_dataset, callbacks=callbacks)\n"
      ],
      "metadata": {
        "colab": {
          "base_uri": "https://localhost:8080/"
        },
        "id": "Qj7qzwhtWTF_",
        "outputId": "25613f58-49d8-458d-9700-ed27149c8447"
      },
      "execution_count": 104,
      "outputs": [
        {
          "output_type": "stream",
          "name": "stdout",
          "text": [
            "Epoch 1/500\n",
            "29/29 [==============================] - 15s 242ms/step - loss: 1.7695 - mae: 0.0763 - val_loss: 1.1406 - val_mae: 0.1802 - lr: 0.0010\n",
            "Epoch 2/500\n",
            "29/29 [==============================] - 5s 173ms/step - loss: 0.7468 - mae: 0.0893 - val_loss: 0.4791 - val_mae: 0.1454 - lr: 0.0010\n",
            "Epoch 3/500\n",
            "29/29 [==============================] - 7s 238ms/step - loss: 0.3296 - mae: 0.1266 - val_loss: 0.1947 - val_mae: 0.0800 - lr: 0.0010\n",
            "Epoch 4/500\n",
            "29/29 [==============================] - 5s 179ms/step - loss: 0.1654 - mae: 0.1177 - val_loss: 0.1377 - val_mae: 0.2176 - lr: 0.0010\n",
            "Epoch 5/500\n",
            "29/29 [==============================] - 7s 236ms/step - loss: 0.0706 - mae: 0.0486 - val_loss: 0.0503 - val_mae: 0.0252 - lr: 0.0010\n",
            "Epoch 6/500\n",
            "29/29 [==============================] - 5s 162ms/step - loss: 0.0430 - mae: 0.0451 - val_loss: 0.0333 - val_mae: 0.0368 - lr: 0.0010\n",
            "Epoch 7/500\n",
            "29/29 [==============================] - 7s 253ms/step - loss: 0.0343 - mae: 0.0636 - val_loss: 0.0473 - val_mae: 0.1515 - lr: 0.0010\n",
            "Epoch 8/500\n",
            "29/29 [==============================] - 5s 178ms/step - loss: 0.0220 - mae: 0.0343 - val_loss: 0.0397 - val_mae: 0.1349 - lr: 0.0010\n",
            "Epoch 9/500\n",
            "29/29 [==============================] - 7s 250ms/step - loss: 0.0219 - mae: 0.0552 - val_loss: 0.0153 - val_mae: 0.0258 - lr: 0.0010\n",
            "Epoch 10/500\n",
            "29/29 [==============================] - 5s 166ms/step - loss: 0.0145 - mae: 0.0312 - val_loss: 0.0225 - val_mae: 0.0811 - lr: 0.0010\n",
            "Epoch 11/500\n",
            "29/29 [==============================] - 7s 240ms/step - loss: 0.0196 - mae: 0.0678 - val_loss: 0.0216 - val_mae: 0.1066 - lr: 0.0010\n",
            "Epoch 12/500\n",
            "29/29 [==============================] - 5s 187ms/step - loss: 0.0124 - mae: 0.0478 - val_loss: 0.0195 - val_mae: 0.1005 - lr: 0.0010\n",
            "Epoch 13/500\n",
            "29/29 [==============================] - 7s 239ms/step - loss: 0.0088 - mae: 0.0301 - val_loss: 0.0094 - val_mae: 0.0466 - lr: 0.0010\n",
            "Epoch 14/500\n",
            "29/29 [==============================] - 6s 213ms/step - loss: 0.0076 - mae: 0.0296 - val_loss: 0.0073 - val_mae: 0.0281 - lr: 0.0010\n",
            "Epoch 15/500\n",
            "29/29 [==============================] - 5s 173ms/step - loss: 0.0064 - mae: 0.0283 - val_loss: 0.0069 - val_mae: 0.0322 - lr: 0.0010\n",
            "Epoch 16/500\n",
            "29/29 [==============================] - 7s 245ms/step - loss: 0.0091 - mae: 0.0478 - val_loss: 0.0100 - val_mae: 0.0710 - lr: 0.0010\n",
            "Epoch 17/500\n",
            "29/29 [==============================] - 5s 168ms/step - loss: 0.0077 - mae: 0.0419 - val_loss: 0.0219 - val_mae: 0.1244 - lr: 0.0010\n",
            "Epoch 18/500\n",
            "29/29 [==============================] - 7s 246ms/step - loss: 0.0053 - mae: 0.0298 - val_loss: 0.0195 - val_mae: 0.1134 - lr: 0.0010\n",
            "Epoch 19/500\n",
            "29/29 [==============================] - 5s 169ms/step - loss: 0.0104 - mae: 0.0575 - val_loss: 0.0060 - val_mae: 0.0321 - lr: 0.0010\n",
            "Epoch 20/500\n",
            "29/29 [==============================] - 9s 304ms/step - loss: 0.0058 - mae: 0.0319 - val_loss: 0.0185 - val_mae: 0.0889 - lr: 0.0010\n",
            "Epoch 21/500\n",
            "29/29 [==============================] - 11s 375ms/step - loss: 0.0135 - mae: 0.0686 - val_loss: 0.0152 - val_mae: 0.1047 - lr: 0.0010\n",
            "Epoch 22/500\n",
            "29/29 [==============================] - 11s 371ms/step - loss: 0.0076 - mae: 0.0527 - val_loss: 0.0151 - val_mae: 0.1020 - lr: 0.0010\n",
            "Epoch 23/500\n",
            "29/29 [==============================] - 12s 401ms/step - loss: 0.0047 - mae: 0.0337 - val_loss: 0.0059 - val_mae: 0.0483 - lr: 0.0010\n",
            "Epoch 24/500\n",
            "29/29 [==============================] - 7s 238ms/step - loss: 0.0047 - mae: 0.0348 - val_loss: 0.0054 - val_mae: 0.0376 - lr: 0.0010\n",
            "Epoch 25/500\n",
            "29/29 [==============================] - 5s 186ms/step - loss: 0.0039 - mae: 0.0316 - val_loss: 0.0047 - val_mae: 0.0348 - lr: 0.0010\n",
            "Epoch 26/500\n",
            "29/29 [==============================] - 5s 163ms/step - loss: 0.0075 - mae: 0.0524 - val_loss: 0.0148 - val_mae: 0.1047 - lr: 0.0010\n",
            "Epoch 27/500\n",
            "29/29 [==============================] - 7s 239ms/step - loss: 0.0035 - mae: 0.0278 - val_loss: 0.0090 - val_mae: 0.0738 - lr: 0.0010\n",
            "Epoch 28/500\n",
            "29/29 [==============================] - 5s 174ms/step - loss: 0.0038 - mae: 0.0333 - val_loss: 0.0036 - val_mae: 0.0367 - lr: 0.0010\n",
            "Epoch 29/500\n",
            "29/29 [==============================] - 7s 232ms/step - loss: 0.0035 - mae: 0.0291 - val_loss: 0.0052 - val_mae: 0.0360 - lr: 0.0010\n",
            "Epoch 30/500\n",
            "29/29 [==============================] - 5s 171ms/step - loss: 0.0035 - mae: 0.0307 - val_loss: 0.0051 - val_mae: 0.0352 - lr: 0.0010\n",
            "Epoch 31/500\n",
            "29/29 [==============================] - 8s 288ms/step - loss: 0.0088 - mae: 0.0571 - val_loss: 0.0154 - val_mae: 0.1084 - lr: 0.0010\n",
            "Epoch 32/500\n",
            "29/29 [==============================] - 7s 244ms/step - loss: 0.0040 - mae: 0.0355 - val_loss: 0.0181 - val_mae: 0.1163 - lr: 0.0010\n",
            "Epoch 33/500\n",
            "29/29 [==============================] - 5s 174ms/step - loss: 0.0051 - mae: 0.0437 - val_loss: 0.0071 - val_mae: 0.0625 - lr: 0.0010\n",
            "Epoch 34/500\n",
            "29/29 [==============================] - 6s 215ms/step - loss: 0.0079 - mae: 0.0541 - val_loss: 0.0165 - val_mae: 0.0979 - lr: 0.0010\n",
            "Epoch 35/500\n",
            "29/29 [==============================] - 5s 169ms/step - loss: 0.0060 - mae: 0.0472 - val_loss: 0.0057 - val_mae: 0.0472 - lr: 0.0010\n",
            "Epoch 36/500\n",
            "29/29 [==============================] - 7s 240ms/step - loss: 0.0084 - mae: 0.0550 - val_loss: 0.0258 - val_mae: 0.1469 - lr: 0.0010\n",
            "Epoch 37/500\n",
            "29/29 [==============================] - 5s 178ms/step - loss: 0.0065 - mae: 0.0500 - val_loss: 0.0032 - val_mae: 0.0268 - lr: 2.0000e-04\n",
            "Epoch 38/500\n",
            "29/29 [==============================] - 5s 175ms/step - loss: 0.0052 - mae: 0.0421 - val_loss: 0.0032 - val_mae: 0.0304 - lr: 2.0000e-04\n",
            "Epoch 39/500\n",
            "29/29 [==============================] - 7s 235ms/step - loss: 0.0029 - mae: 0.0264 - val_loss: 0.0036 - val_mae: 0.0388 - lr: 2.0000e-04\n",
            "Epoch 40/500\n",
            "29/29 [==============================] - 5s 174ms/step - loss: 0.0027 - mae: 0.0251 - val_loss: 0.0034 - val_mae: 0.0374 - lr: 2.0000e-04\n",
            "Epoch 41/500\n",
            "29/29 [==============================] - 7s 253ms/step - loss: 0.0026 - mae: 0.0238 - val_loss: 0.0034 - val_mae: 0.0374 - lr: 2.0000e-04\n",
            "Epoch 42/500\n",
            "29/29 [==============================] - 5s 183ms/step - loss: 0.0025 - mae: 0.0239 - val_loss: 0.0033 - val_mae: 0.0370 - lr: 2.0000e-04\n",
            "Epoch 43/500\n",
            "29/29 [==============================] - 7s 232ms/step - loss: 0.0024 - mae: 0.0232 - val_loss: 0.0033 - val_mae: 0.0370 - lr: 2.0000e-04\n",
            "Epoch 44/500\n",
            "29/29 [==============================] - 6s 195ms/step - loss: 0.0024 - mae: 0.0228 - val_loss: 0.0032 - val_mae: 0.0366 - lr: 2.0000e-04\n",
            "Epoch 45/500\n",
            "29/29 [==============================] - 5s 168ms/step - loss: 0.0024 - mae: 0.0230 - val_loss: 0.0032 - val_mae: 0.0362 - lr: 2.0000e-04\n",
            "Epoch 46/500\n",
            "29/29 [==============================] - 7s 251ms/step - loss: 0.0023 - mae: 0.0221 - val_loss: 0.0032 - val_mae: 0.0360 - lr: 4.0000e-05\n",
            "Epoch 47/500\n",
            "29/29 [==============================] - 5s 178ms/step - loss: 0.0023 - mae: 0.0221 - val_loss: 0.0031 - val_mae: 0.0359 - lr: 4.0000e-05\n",
            "Epoch 48/500\n",
            "29/29 [==============================] - 5s 177ms/step - loss: 0.0023 - mae: 0.0224 - val_loss: 0.0031 - val_mae: 0.0358 - lr: 4.0000e-05\n",
            "Epoch 49/500\n",
            "29/29 [==============================] - 7s 239ms/step - loss: 0.0023 - mae: 0.0221 - val_loss: 0.0031 - val_mae: 0.0356 - lr: 4.0000e-05\n",
            "Epoch 50/500\n",
            "29/29 [==============================] - 6s 221ms/step - loss: 0.0023 - mae: 0.0225 - val_loss: 0.0031 - val_mae: 0.0357 - lr: 4.0000e-05\n",
            "Epoch 51/500\n",
            "29/29 [==============================] - 5s 169ms/step - loss: 0.0022 - mae: 0.0219 - val_loss: 0.0031 - val_mae: 0.0360 - lr: 4.0000e-05\n",
            "Epoch 52/500\n",
            "29/29 [==============================] - 7s 242ms/step - loss: 0.0022 - mae: 0.0222 - val_loss: 0.0031 - val_mae: 0.0359 - lr: 4.0000e-05\n",
            "Epoch 53/500\n",
            "29/29 [==============================] - 5s 166ms/step - loss: 0.0022 - mae: 0.0219 - val_loss: 0.0031 - val_mae: 0.0362 - lr: 4.0000e-05\n",
            "Epoch 54/500\n",
            "29/29 [==============================] - 7s 244ms/step - loss: 0.0022 - mae: 0.0222 - val_loss: 0.0031 - val_mae: 0.0362 - lr: 1.0000e-05\n",
            "Epoch 55/500\n",
            "29/29 [==============================] - 5s 165ms/step - loss: 0.0022 - mae: 0.0218 - val_loss: 0.0031 - val_mae: 0.0361 - lr: 1.0000e-05\n",
            "Epoch 56/500\n",
            "29/29 [==============================] - 5s 172ms/step - loss: 0.0023 - mae: 0.0218 - val_loss: 0.0031 - val_mae: 0.0360 - lr: 1.0000e-05\n",
            "Epoch 57/500\n",
            "29/29 [==============================] - 7s 238ms/step - loss: 0.0023 - mae: 0.0222 - val_loss: 0.0031 - val_mae: 0.0361 - lr: 1.0000e-05\n",
            "Epoch 58/500\n",
            "29/29 [==============================] - 6s 225ms/step - loss: 0.0023 - mae: 0.0222 - val_loss: 0.0031 - val_mae: 0.0362 - lr: 1.0000e-05\n",
            "Epoch 59/500\n",
            "29/29 [==============================] - 5s 167ms/step - loss: 0.0022 - mae: 0.0214 - val_loss: 0.0031 - val_mae: 0.0362 - lr: 1.0000e-05\n",
            "Epoch 60/500\n",
            "29/29 [==============================] - 7s 247ms/step - loss: 0.0022 - mae: 0.0218 - val_loss: 0.0031 - val_mae: 0.0363 - lr: 1.0000e-05\n",
            "Epoch 61/500\n",
            "29/29 [==============================] - 5s 177ms/step - loss: 0.0022 - mae: 0.0222 - val_loss: 0.0031 - val_mae: 0.0362 - lr: 1.0000e-05\n",
            "Epoch 62/500\n",
            "29/29 [==============================] - 5s 168ms/step - loss: 0.0022 - mae: 0.0216 - val_loss: 0.0031 - val_mae: 0.0362 - lr: 1.0000e-05\n",
            "Epoch 63/500\n",
            "29/29 [==============================] - 6s 206ms/step - loss: 0.0022 - mae: 0.0223 - val_loss: 0.0031 - val_mae: 0.0362 - lr: 1.0000e-05\n",
            "Epoch 64/500\n",
            "29/29 [==============================] - 5s 171ms/step - loss: 0.0022 - mae: 0.0217 - val_loss: 0.0031 - val_mae: 0.0363 - lr: 1.0000e-05\n",
            "Epoch 65/500\n",
            "29/29 [==============================] - 7s 249ms/step - loss: 0.0023 - mae: 0.0227 - val_loss: 0.0031 - val_mae: 0.0363 - lr: 1.0000e-05\n",
            "Epoch 66/500\n",
            "29/29 [==============================] - 5s 184ms/step - loss: 0.0023 - mae: 0.0227 - val_loss: 0.0031 - val_mae: 0.0362 - lr: 1.0000e-05\n",
            "Epoch 67/500\n",
            "29/29 [==============================] - 6s 222ms/step - loss: 0.0023 - mae: 0.0223 - val_loss: 0.0031 - val_mae: 0.0362 - lr: 1.0000e-05\n",
            "Epoch 68/500\n",
            "29/29 [==============================] - 9s 300ms/step - loss: 0.0022 - mae: 0.0225 - val_loss: 0.0031 - val_mae: 0.0363 - lr: 1.0000e-05\n",
            "Epoch 69/500\n",
            "29/29 [==============================] - 6s 210ms/step - loss: 0.0022 - mae: 0.0216 - val_loss: 0.0031 - val_mae: 0.0363 - lr: 1.0000e-05\n",
            "Epoch 70/500\n",
            "29/29 [==============================] - 6s 222ms/step - loss: 0.0022 - mae: 0.0216 - val_loss: 0.0031 - val_mae: 0.0363 - lr: 1.0000e-05\n",
            "Epoch 71/500\n",
            "29/29 [==============================] - 7s 255ms/step - loss: 0.0021 - mae: 0.0220 - val_loss: 0.0031 - val_mae: 0.0362 - lr: 1.0000e-05\n",
            "Epoch 72/500\n",
            "29/29 [==============================] - 6s 193ms/step - loss: 0.0022 - mae: 0.0226 - val_loss: 0.0031 - val_mae: 0.0361 - lr: 1.0000e-05\n",
            "Epoch 73/500\n",
            "29/29 [==============================] - 5s 179ms/step - loss: 0.0023 - mae: 0.0223 - val_loss: 0.0031 - val_mae: 0.0361 - lr: 1.0000e-05\n",
            "Epoch 74/500\n",
            "29/29 [==============================] - 6s 196ms/step - loss: 0.0021 - mae: 0.0215 - val_loss: 0.0031 - val_mae: 0.0361 - lr: 1.0000e-05\n",
            "Epoch 75/500\n",
            "29/29 [==============================] - 5s 166ms/step - loss: 0.0022 - mae: 0.0222 - val_loss: 0.0031 - val_mae: 0.0361 - lr: 1.0000e-05\n",
            "Epoch 76/500\n",
            "29/29 [==============================] - 7s 255ms/step - loss: 0.0021 - mae: 0.0214 - val_loss: 0.0031 - val_mae: 0.0360 - lr: 1.0000e-05\n",
            "Epoch 77/500\n",
            "29/29 [==============================] - 7s 237ms/step - loss: 0.0021 - mae: 0.0212 - val_loss: 0.0031 - val_mae: 0.0360 - lr: 1.0000e-05\n",
            "Epoch 78/500\n",
            "29/29 [==============================] - 10s 331ms/step - loss: 0.0022 - mae: 0.0220 - val_loss: 0.0031 - val_mae: 0.0361 - lr: 1.0000e-05\n",
            "Epoch 79/500\n",
            "29/29 [==============================] - 7s 239ms/step - loss: 0.0022 - mae: 0.0220 - val_loss: 0.0031 - val_mae: 0.0361 - lr: 1.0000e-05\n",
            "Epoch 80/500\n",
            "29/29 [==============================] - 10s 344ms/step - loss: 0.0022 - mae: 0.0221 - val_loss: 0.0031 - val_mae: 0.0360 - lr: 1.0000e-05\n",
            "Epoch 81/500\n",
            "29/29 [==============================] - 10s 364ms/step - loss: 0.0022 - mae: 0.0226 - val_loss: 0.0031 - val_mae: 0.0363 - lr: 1.0000e-05\n",
            "Epoch 82/500\n",
            "29/29 [==============================] - 8s 283ms/step - loss: 0.0022 - mae: 0.0216 - val_loss: 0.0031 - val_mae: 0.0362 - lr: 1.0000e-05\n",
            "Epoch 83/500\n",
            "29/29 [==============================] - 8s 280ms/step - loss: 0.0021 - mae: 0.0215 - val_loss: 0.0031 - val_mae: 0.0361 - lr: 1.0000e-05\n",
            "Epoch 84/500\n",
            "29/29 [==============================] - 9s 290ms/step - loss: 0.0021 - mae: 0.0217 - val_loss: 0.0031 - val_mae: 0.0362 - lr: 1.0000e-05\n",
            "Epoch 85/500\n",
            "29/29 [==============================] - 9s 301ms/step - loss: 0.0022 - mae: 0.0218 - val_loss: 0.0031 - val_mae: 0.0362 - lr: 1.0000e-05\n",
            "Epoch 86/500\n",
            "29/29 [==============================] - 5s 167ms/step - loss: 0.0022 - mae: 0.0222 - val_loss: 0.0031 - val_mae: 0.0363 - lr: 1.0000e-05\n",
            "Epoch 87/500\n",
            "29/29 [==============================] - 8s 275ms/step - loss: 0.0022 - mae: 0.0218 - val_loss: 0.0031 - val_mae: 0.0362 - lr: 1.0000e-05\n",
            "Epoch 88/500\n",
            "29/29 [==============================] - 9s 328ms/step - loss: 0.0022 - mae: 0.0222 - val_loss: 0.0031 - val_mae: 0.0360 - lr: 1.0000e-05\n",
            "Epoch 89/500\n",
            "29/29 [==============================] - 6s 219ms/step - loss: 0.0022 - mae: 0.0216 - val_loss: 0.0030 - val_mae: 0.0360 - lr: 1.0000e-05\n",
            "Epoch 90/500\n",
            "29/29 [==============================] - 7s 244ms/step - loss: 0.0022 - mae: 0.0216 - val_loss: 0.0031 - val_mae: 0.0361 - lr: 1.0000e-05\n",
            "Epoch 91/500\n",
            "29/29 [==============================] - 10s 339ms/step - loss: 0.0021 - mae: 0.0217 - val_loss: 0.0030 - val_mae: 0.0359 - lr: 1.0000e-05\n",
            "Epoch 92/500\n",
            "29/29 [==============================] - 10s 336ms/step - loss: 0.0022 - mae: 0.0223 - val_loss: 0.0030 - val_mae: 0.0359 - lr: 1.0000e-05\n",
            "Epoch 93/500\n",
            "29/29 [==============================] - 9s 304ms/step - loss: 0.0021 - mae: 0.0213 - val_loss: 0.0030 - val_mae: 0.0360 - lr: 1.0000e-05\n",
            "Epoch 94/500\n",
            "29/29 [==============================] - 5s 178ms/step - loss: 0.0021 - mae: 0.0218 - val_loss: 0.0030 - val_mae: 0.0361 - lr: 1.0000e-05\n",
            "Epoch 95/500\n",
            "29/29 [==============================] - 8s 265ms/step - loss: 0.0021 - mae: 0.0218 - val_loss: 0.0031 - val_mae: 0.0362 - lr: 1.0000e-05\n",
            "Epoch 96/500\n",
            "29/29 [==============================] - 5s 169ms/step - loss: 0.0022 - mae: 0.0221 - val_loss: 0.0030 - val_mae: 0.0362 - lr: 1.0000e-05\n",
            "Epoch 97/500\n",
            "29/29 [==============================] - 7s 257ms/step - loss: 0.0022 - mae: 0.0224 - val_loss: 0.0030 - val_mae: 0.0361 - lr: 1.0000e-05\n",
            "Epoch 98/500\n",
            "29/29 [==============================] - 5s 172ms/step - loss: 0.0021 - mae: 0.0219 - val_loss: 0.0030 - val_mae: 0.0361 - lr: 1.0000e-05\n",
            "Epoch 99/500\n",
            "29/29 [==============================] - 7s 257ms/step - loss: 0.0021 - mae: 0.0217 - val_loss: 0.0030 - val_mae: 0.0362 - lr: 1.0000e-05\n",
            "Epoch 100/500\n",
            "29/29 [==============================] - 5s 172ms/step - loss: 0.0021 - mae: 0.0215 - val_loss: 0.0031 - val_mae: 0.0365 - lr: 1.0000e-05\n",
            "Epoch 101/500\n",
            "29/29 [==============================] - 6s 206ms/step - loss: 0.0021 - mae: 0.0218 - val_loss: 0.0030 - val_mae: 0.0364 - lr: 1.0000e-05\n",
            "Epoch 102/500\n",
            "29/29 [==============================] - 6s 194ms/step - loss: 0.0022 - mae: 0.0225 - val_loss: 0.0030 - val_mae: 0.0363 - lr: 1.0000e-05\n",
            "Epoch 103/500\n",
            "29/29 [==============================] - 9s 300ms/step - loss: 0.0022 - mae: 0.0217 - val_loss: 0.0030 - val_mae: 0.0363 - lr: 1.0000e-05\n",
            "Epoch 104/500\n",
            "29/29 [==============================] - 9s 297ms/step - loss: 0.0021 - mae: 0.0215 - val_loss: 0.0030 - val_mae: 0.0363 - lr: 1.0000e-05\n",
            "Epoch 105/500\n",
            "29/29 [==============================] - 7s 232ms/step - loss: 0.0021 - mae: 0.0215 - val_loss: 0.0030 - val_mae: 0.0364 - lr: 1.0000e-05\n",
            "Epoch 106/500\n",
            "29/29 [==============================] - 6s 199ms/step - loss: 0.0021 - mae: 0.0216 - val_loss: 0.0030 - val_mae: 0.0364 - lr: 1.0000e-05\n",
            "Epoch 107/500\n",
            "29/29 [==============================] - 5s 172ms/step - loss: 0.0021 - mae: 0.0215 - val_loss: 0.0030 - val_mae: 0.0364 - lr: 1.0000e-05\n",
            "Epoch 108/500\n",
            "29/29 [==============================] - 5s 179ms/step - loss: 0.0021 - mae: 0.0216 - val_loss: 0.0030 - val_mae: 0.0364 - lr: 1.0000e-05\n",
            "Epoch 109/500\n",
            "29/29 [==============================] - 7s 232ms/step - loss: 0.0021 - mae: 0.0217 - val_loss: 0.0030 - val_mae: 0.0365 - lr: 1.0000e-05\n",
            "Epoch 110/500\n",
            "29/29 [==============================] - 5s 174ms/step - loss: 0.0021 - mae: 0.0214 - val_loss: 0.0030 - val_mae: 0.0368 - lr: 1.0000e-05\n",
            "Epoch 111/500\n",
            "29/29 [==============================] - 7s 241ms/step - loss: 0.0021 - mae: 0.0217 - val_loss: 0.0030 - val_mae: 0.0368 - lr: 1.0000e-05\n",
            "Epoch 112/500\n",
            "29/29 [==============================] - 5s 169ms/step - loss: 0.0021 - mae: 0.0216 - val_loss: 0.0030 - val_mae: 0.0366 - lr: 1.0000e-05\n",
            "Epoch 113/500\n",
            "29/29 [==============================] - 6s 196ms/step - loss: 0.0021 - mae: 0.0217 - val_loss: 0.0030 - val_mae: 0.0365 - lr: 1.0000e-05\n",
            "Epoch 114/500\n",
            "29/29 [==============================] - 5s 165ms/step - loss: 0.0021 - mae: 0.0213 - val_loss: 0.0030 - val_mae: 0.0363 - lr: 1.0000e-05\n",
            "Epoch 115/500\n",
            "29/29 [==============================] - 7s 242ms/step - loss: 0.0021 - mae: 0.0214 - val_loss: 0.0030 - val_mae: 0.0361 - lr: 1.0000e-05\n",
            "Epoch 116/500\n",
            "29/29 [==============================] - 5s 173ms/step - loss: 0.0021 - mae: 0.0213 - val_loss: 0.0030 - val_mae: 0.0361 - lr: 1.0000e-05\n",
            "Epoch 117/500\n",
            "29/29 [==============================] - 6s 215ms/step - loss: 0.0021 - mae: 0.0214 - val_loss: 0.0030 - val_mae: 0.0362 - lr: 1.0000e-05\n",
            "Epoch 118/500\n",
            "29/29 [==============================] - 5s 165ms/step - loss: 0.0021 - mae: 0.0219 - val_loss: 0.0030 - val_mae: 0.0362 - lr: 1.0000e-05\n",
            "Epoch 119/500\n",
            "29/29 [==============================] - 7s 250ms/step - loss: 0.0021 - mae: 0.0216 - val_loss: 0.0030 - val_mae: 0.0362 - lr: 1.0000e-05\n",
            "Epoch 120/500\n",
            "29/29 [==============================] - 5s 179ms/step - loss: 0.0021 - mae: 0.0217 - val_loss: 0.0030 - val_mae: 0.0363 - lr: 1.0000e-05\n",
            "Epoch 121/500\n",
            "29/29 [==============================] - 8s 287ms/step - loss: 0.0020 - mae: 0.0213 - val_loss: 0.0030 - val_mae: 0.0364 - lr: 1.0000e-05\n",
            "Epoch 122/500\n",
            "29/29 [==============================] - 6s 215ms/step - loss: 0.0020 - mae: 0.0212 - val_loss: 0.0030 - val_mae: 0.0366 - lr: 1.0000e-05\n",
            "Epoch 123/500\n",
            "29/29 [==============================] - 8s 268ms/step - loss: 0.0020 - mae: 0.0213 - val_loss: 0.0030 - val_mae: 0.0366 - lr: 1.0000e-05\n",
            "Epoch 124/500\n",
            "29/29 [==============================] - 5s 185ms/step - loss: 0.0021 - mae: 0.0215 - val_loss: 0.0030 - val_mae: 0.0365 - lr: 1.0000e-05\n",
            "Epoch 125/500\n",
            "29/29 [==============================] - 5s 173ms/step - loss: 0.0020 - mae: 0.0212 - val_loss: 0.0030 - val_mae: 0.0365 - lr: 1.0000e-05\n",
            "Epoch 126/500\n",
            "29/29 [==============================] - 5s 174ms/step - loss: 0.0020 - mae: 0.0210 - val_loss: 0.0030 - val_mae: 0.0365 - lr: 1.0000e-05\n",
            "Epoch 127/500\n",
            "29/29 [==============================] - 7s 234ms/step - loss: 0.0020 - mae: 0.0211 - val_loss: 0.0030 - val_mae: 0.0364 - lr: 1.0000e-05\n",
            "Epoch 128/500\n",
            "29/29 [==============================] - 5s 163ms/step - loss: 0.0021 - mae: 0.0217 - val_loss: 0.0030 - val_mae: 0.0364 - lr: 1.0000e-05\n",
            "Epoch 129/500\n",
            "29/29 [==============================] - 6s 226ms/step - loss: 0.0020 - mae: 0.0210 - val_loss: 0.0030 - val_mae: 0.0363 - lr: 1.0000e-05\n",
            "Epoch 130/500\n",
            "29/29 [==============================] - 5s 164ms/step - loss: 0.0021 - mae: 0.0219 - val_loss: 0.0030 - val_mae: 0.0363 - lr: 1.0000e-05\n",
            "Epoch 131/500\n",
            "29/29 [==============================] - 7s 239ms/step - loss: 0.0020 - mae: 0.0215 - val_loss: 0.0030 - val_mae: 0.0365 - lr: 1.0000e-05\n",
            "Epoch 132/500\n",
            "29/29 [==============================] - 5s 183ms/step - loss: 0.0021 - mae: 0.0213 - val_loss: 0.0030 - val_mae: 0.0365 - lr: 1.0000e-05\n",
            "Epoch 133/500\n",
            "29/29 [==============================] - 5s 174ms/step - loss: 0.0020 - mae: 0.0214 - val_loss: 0.0029 - val_mae: 0.0361 - lr: 1.0000e-05\n",
            "Epoch 134/500\n",
            "29/29 [==============================] - 7s 243ms/step - loss: 0.0020 - mae: 0.0210 - val_loss: 0.0030 - val_mae: 0.0363 - lr: 1.0000e-05\n",
            "Epoch 135/500\n",
            "29/29 [==============================] - 5s 178ms/step - loss: 0.0020 - mae: 0.0214 - val_loss: 0.0030 - val_mae: 0.0366 - lr: 1.0000e-05\n",
            "Epoch 136/500\n",
            "29/29 [==============================] - 7s 249ms/step - loss: 0.0020 - mae: 0.0214 - val_loss: 0.0030 - val_mae: 0.0367 - lr: 1.0000e-05\n",
            "Epoch 137/500\n",
            "29/29 [==============================] - 5s 178ms/step - loss: 0.0020 - mae: 0.0208 - val_loss: 0.0030 - val_mae: 0.0368 - lr: 1.0000e-05\n",
            "Epoch 138/500\n",
            "29/29 [==============================] - 7s 231ms/step - loss: 0.0019 - mae: 0.0208 - val_loss: 0.0030 - val_mae: 0.0368 - lr: 1.0000e-05\n",
            "Epoch 139/500\n",
            "29/29 [==============================] - 7s 263ms/step - loss: 0.0020 - mae: 0.0211 - val_loss: 0.0030 - val_mae: 0.0366 - lr: 1.0000e-05\n",
            "Epoch 140/500\n",
            "29/29 [==============================] - 5s 186ms/step - loss: 0.0020 - mae: 0.0213 - val_loss: 0.0030 - val_mae: 0.0367 - lr: 1.0000e-05\n",
            "Epoch 141/500\n",
            "29/29 [==============================] - 6s 192ms/step - loss: 0.0021 - mae: 0.0217 - val_loss: 0.0030 - val_mae: 0.0368 - lr: 1.0000e-05\n",
            "Epoch 142/500\n",
            "29/29 [==============================] - 5s 167ms/step - loss: 0.0020 - mae: 0.0208 - val_loss: 0.0030 - val_mae: 0.0368 - lr: 1.0000e-05\n",
            "Epoch 143/500\n",
            "29/29 [==============================] - 7s 246ms/step - loss: 0.0020 - mae: 0.0213 - val_loss: 0.0030 - val_mae: 0.0367 - lr: 1.0000e-05\n",
            "Epoch 144/500\n",
            "29/29 [==============================] - 5s 169ms/step - loss: 0.0020 - mae: 0.0213 - val_loss: 0.0029 - val_mae: 0.0366 - lr: 1.0000e-05\n",
            "Epoch 145/500\n",
            "29/29 [==============================] - 6s 206ms/step - loss: 0.0019 - mae: 0.0210 - val_loss: 0.0029 - val_mae: 0.0366 - lr: 1.0000e-05\n",
            "Epoch 146/500\n",
            "29/29 [==============================] - 5s 166ms/step - loss: 0.0019 - mae: 0.0206 - val_loss: 0.0029 - val_mae: 0.0366 - lr: 1.0000e-05\n",
            "Epoch 147/500\n",
            "29/29 [==============================] - 7s 238ms/step - loss: 0.0020 - mae: 0.0211 - val_loss: 0.0029 - val_mae: 0.0367 - lr: 1.0000e-05\n",
            "Epoch 148/500\n",
            "29/29 [==============================] - 6s 209ms/step - loss: 0.0019 - mae: 0.0210 - val_loss: 0.0029 - val_mae: 0.0366 - lr: 1.0000e-05\n",
            "Epoch 149/500\n",
            "29/29 [==============================] - 8s 271ms/step - loss: 0.0020 - mae: 0.0213 - val_loss: 0.0029 - val_mae: 0.0366 - lr: 1.0000e-05\n",
            "Epoch 150/500\n",
            "29/29 [==============================] - 5s 171ms/step - loss: 0.0020 - mae: 0.0212 - val_loss: 0.0030 - val_mae: 0.0370 - lr: 1.0000e-05\n",
            "Epoch 151/500\n",
            "29/29 [==============================] - 8s 263ms/step - loss: 0.0019 - mae: 0.0205 - val_loss: 0.0029 - val_mae: 0.0369 - lr: 1.0000e-05\n",
            "Epoch 152/500\n",
            "29/29 [==============================] - 5s 167ms/step - loss: 0.0020 - mae: 0.0215 - val_loss: 0.0029 - val_mae: 0.0369 - lr: 1.0000e-05\n",
            "Epoch 153/500\n",
            "29/29 [==============================] - 6s 206ms/step - loss: 0.0019 - mae: 0.0207 - val_loss: 0.0029 - val_mae: 0.0369 - lr: 1.0000e-05\n",
            "Epoch 154/500\n",
            "29/29 [==============================] - 5s 170ms/step - loss: 0.0019 - mae: 0.0209 - val_loss: 0.0029 - val_mae: 0.0367 - lr: 1.0000e-05\n",
            "Epoch 155/500\n",
            "29/29 [==============================] - 7s 241ms/step - loss: 0.0020 - mae: 0.0214 - val_loss: 0.0029 - val_mae: 0.0369 - lr: 1.0000e-05\n",
            "Epoch 156/500\n",
            "29/29 [==============================] - 5s 174ms/step - loss: 0.0020 - mae: 0.0213 - val_loss: 0.0029 - val_mae: 0.0368 - lr: 1.0000e-05\n",
            "Epoch 157/500\n",
            "29/29 [==============================] - 8s 263ms/step - loss: 0.0020 - mae: 0.0210 - val_loss: 0.0029 - val_mae: 0.0366 - lr: 1.0000e-05\n",
            "Epoch 158/500\n",
            "29/29 [==============================] - 6s 218ms/step - loss: 0.0020 - mae: 0.0213 - val_loss: 0.0029 - val_mae: 0.0368 - lr: 1.0000e-05\n",
            "Epoch 159/500\n",
            "29/29 [==============================] - 6s 197ms/step - loss: 0.0019 - mae: 0.0211 - val_loss: 0.0029 - val_mae: 0.0367 - lr: 1.0000e-05\n",
            "Epoch 160/500\n",
            "29/29 [==============================] - 5s 177ms/step - loss: 0.0019 - mae: 0.0208 - val_loss: 0.0029 - val_mae: 0.0369 - lr: 1.0000e-05\n",
            "Epoch 161/500\n",
            "29/29 [==============================] - 7s 256ms/step - loss: 0.0019 - mae: 0.0208 - val_loss: 0.0029 - val_mae: 0.0371 - lr: 1.0000e-05\n",
            "Epoch 162/500\n",
            "29/29 [==============================] - 5s 174ms/step - loss: 0.0019 - mae: 0.0209 - val_loss: 0.0029 - val_mae: 0.0366 - lr: 1.0000e-05\n",
            "Epoch 163/500\n",
            "29/29 [==============================] - 7s 235ms/step - loss: 0.0019 - mae: 0.0212 - val_loss: 0.0029 - val_mae: 0.0366 - lr: 1.0000e-05\n",
            "Epoch 164/500\n",
            "29/29 [==============================] - 5s 165ms/step - loss: 0.0019 - mae: 0.0206 - val_loss: 0.0029 - val_mae: 0.0370 - lr: 1.0000e-05\n",
            "Epoch 165/500\n",
            "29/29 [==============================] - 7s 247ms/step - loss: 0.0019 - mae: 0.0214 - val_loss: 0.0029 - val_mae: 0.0368 - lr: 1.0000e-05\n",
            "Epoch 166/500\n",
            "29/29 [==============================] - 5s 191ms/step - loss: 0.0019 - mae: 0.0206 - val_loss: 0.0029 - val_mae: 0.0366 - lr: 1.0000e-05\n",
            "Epoch 167/500\n",
            "29/29 [==============================] - 7s 244ms/step - loss: 0.0019 - mae: 0.0213 - val_loss: 0.0029 - val_mae: 0.0370 - lr: 1.0000e-05\n",
            "Epoch 168/500\n",
            "29/29 [==============================] - 5s 175ms/step - loss: 0.0019 - mae: 0.0210 - val_loss: 0.0029 - val_mae: 0.0371 - lr: 1.0000e-05\n",
            "Epoch 169/500\n",
            "29/29 [==============================] - 7s 244ms/step - loss: 0.0019 - mae: 0.0205 - val_loss: 0.0029 - val_mae: 0.0369 - lr: 1.0000e-05\n",
            "Epoch 170/500\n",
            "29/29 [==============================] - 5s 169ms/step - loss: 0.0019 - mae: 0.0211 - val_loss: 0.0029 - val_mae: 0.0371 - lr: 1.0000e-05\n",
            "Epoch 171/500\n",
            "29/29 [==============================] - 6s 221ms/step - loss: 0.0019 - mae: 0.0208 - val_loss: 0.0029 - val_mae: 0.0373 - lr: 1.0000e-05\n",
            "Epoch 172/500\n",
            "29/29 [==============================] - 6s 192ms/step - loss: 0.0019 - mae: 0.0204 - val_loss: 0.0029 - val_mae: 0.0373 - lr: 1.0000e-05\n",
            "Epoch 173/500\n",
            "29/29 [==============================] - 8s 264ms/step - loss: 0.0019 - mae: 0.0204 - val_loss: 0.0029 - val_mae: 0.0371 - lr: 1.0000e-05\n",
            "Epoch 174/500\n",
            "29/29 [==============================] - 5s 181ms/step - loss: 0.0019 - mae: 0.0208 - val_loss: 0.0029 - val_mae: 0.0372 - lr: 1.0000e-05\n",
            "Epoch 175/500\n",
            "29/29 [==============================] - 5s 171ms/step - loss: 0.0018 - mae: 0.0204 - val_loss: 0.0029 - val_mae: 0.0372 - lr: 1.0000e-05\n",
            "Epoch 176/500\n",
            "29/29 [==============================] - 7s 239ms/step - loss: 0.0019 - mae: 0.0211 - val_loss: 0.0029 - val_mae: 0.0371 - lr: 1.0000e-05\n",
            "Epoch 177/500\n",
            "29/29 [==============================] - 5s 181ms/step - loss: 0.0019 - mae: 0.0209 - val_loss: 0.0029 - val_mae: 0.0371 - lr: 1.0000e-05\n",
            "Epoch 178/500\n",
            "29/29 [==============================] - 7s 246ms/step - loss: 0.0019 - mae: 0.0213 - val_loss: 0.0029 - val_mae: 0.0373 - lr: 1.0000e-05\n",
            "Epoch 179/500\n",
            "29/29 [==============================] - 5s 182ms/step - loss: 0.0019 - mae: 0.0210 - val_loss: 0.0029 - val_mae: 0.0374 - lr: 1.0000e-05\n",
            "Epoch 180/500\n",
            "29/29 [==============================] - 7s 244ms/step - loss: 0.0018 - mae: 0.0207 - val_loss: 0.0029 - val_mae: 0.0373 - lr: 1.0000e-05\n",
            "Epoch 181/500\n",
            "29/29 [==============================] - 6s 225ms/step - loss: 0.0018 - mae: 0.0205 - val_loss: 0.0029 - val_mae: 0.0369 - lr: 1.0000e-05\n",
            "Epoch 182/500\n",
            "29/29 [==============================] - 5s 183ms/step - loss: 0.0018 - mae: 0.0203 - val_loss: 0.0029 - val_mae: 0.0370 - lr: 1.0000e-05\n",
            "Epoch 183/500\n",
            "29/29 [==============================] - 7s 250ms/step - loss: 0.0018 - mae: 0.0207 - val_loss: 0.0029 - val_mae: 0.0372 - lr: 1.0000e-05\n",
            "Epoch 184/500\n",
            "29/29 [==============================] - 5s 179ms/step - loss: 0.0019 - mae: 0.0208 - val_loss: 0.0029 - val_mae: 0.0372 - lr: 1.0000e-05\n",
            "Epoch 185/500\n",
            "29/29 [==============================] - 5s 183ms/step - loss: 0.0018 - mae: 0.0204 - val_loss: 0.0029 - val_mae: 0.0374 - lr: 1.0000e-05\n",
            "Epoch 186/500\n",
            "29/29 [==============================] - 5s 167ms/step - loss: 0.0018 - mae: 0.0203 - val_loss: 0.0028 - val_mae: 0.0368 - lr: 1.0000e-05\n",
            "Epoch 187/500\n",
            "29/29 [==============================] - 7s 245ms/step - loss: 0.0019 - mae: 0.0210 - val_loss: 0.0028 - val_mae: 0.0367 - lr: 1.0000e-05\n",
            "Epoch 188/500\n",
            "29/29 [==============================] - 5s 180ms/step - loss: 0.0018 - mae: 0.0208 - val_loss: 0.0029 - val_mae: 0.0372 - lr: 1.0000e-05\n",
            "Epoch 189/500\n",
            "29/29 [==============================] - 7s 249ms/step - loss: 0.0018 - mae: 0.0205 - val_loss: 0.0028 - val_mae: 0.0369 - lr: 1.0000e-05\n",
            "Epoch 190/500\n",
            "29/29 [==============================] - 5s 180ms/step - loss: 0.0018 - mae: 0.0202 - val_loss: 0.0028 - val_mae: 0.0367 - lr: 1.0000e-05\n",
            "Epoch 191/500\n",
            "29/29 [==============================] - 7s 239ms/step - loss: 0.0018 - mae: 0.0208 - val_loss: 0.0028 - val_mae: 0.0369 - lr: 1.0000e-05\n",
            "Epoch 192/500\n",
            "29/29 [==============================] - 5s 176ms/step - loss: 0.0018 - mae: 0.0203 - val_loss: 0.0028 - val_mae: 0.0366 - lr: 1.0000e-05\n",
            "Epoch 193/500\n",
            "29/29 [==============================] - 7s 236ms/step - loss: 0.0018 - mae: 0.0204 - val_loss: 0.0028 - val_mae: 0.0368 - lr: 1.0000e-05\n",
            "Epoch 194/500\n",
            "29/29 [==============================] - 5s 189ms/step - loss: 0.0019 - mae: 0.0211 - val_loss: 0.0028 - val_mae: 0.0368 - lr: 1.0000e-05\n",
            "Epoch 195/500\n",
            "29/29 [==============================] - 5s 165ms/step - loss: 0.0018 - mae: 0.0205 - val_loss: 0.0028 - val_mae: 0.0367 - lr: 1.0000e-05\n",
            "Epoch 196/500\n",
            "29/29 [==============================] - 7s 243ms/step - loss: 0.0018 - mae: 0.0204 - val_loss: 0.0028 - val_mae: 0.0367 - lr: 1.0000e-05\n",
            "Epoch 197/500\n",
            "29/29 [==============================] - 5s 172ms/step - loss: 0.0018 - mae: 0.0203 - val_loss: 0.0028 - val_mae: 0.0367 - lr: 1.0000e-05\n",
            "Epoch 198/500\n",
            "29/29 [==============================] - 7s 246ms/step - loss: 0.0018 - mae: 0.0204 - val_loss: 0.0028 - val_mae: 0.0366 - lr: 1.0000e-05\n",
            "Epoch 199/500\n",
            "29/29 [==============================] - 5s 169ms/step - loss: 0.0018 - mae: 0.0204 - val_loss: 0.0028 - val_mae: 0.0366 - lr: 1.0000e-05\n",
            "Epoch 200/500\n",
            "29/29 [==============================] - 6s 212ms/step - loss: 0.0018 - mae: 0.0205 - val_loss: 0.0028 - val_mae: 0.0369 - lr: 1.0000e-05\n",
            "Epoch 201/500\n",
            "29/29 [==============================] - 5s 177ms/step - loss: 0.0018 - mae: 0.0206 - val_loss: 0.0028 - val_mae: 0.0368 - lr: 1.0000e-05\n",
            "Epoch 202/500\n",
            "29/29 [==============================] - 7s 238ms/step - loss: 0.0017 - mae: 0.0200 - val_loss: 0.0028 - val_mae: 0.0367 - lr: 1.0000e-05\n",
            "Epoch 203/500\n",
            "29/29 [==============================] - 5s 166ms/step - loss: 0.0017 - mae: 0.0201 - val_loss: 0.0028 - val_mae: 0.0367 - lr: 1.0000e-05\n",
            "Epoch 204/500\n",
            "29/29 [==============================] - 5s 173ms/step - loss: 0.0017 - mae: 0.0200 - val_loss: 0.0028 - val_mae: 0.0365 - lr: 1.0000e-05\n",
            "Epoch 205/500\n",
            "29/29 [==============================] - 7s 234ms/step - loss: 0.0017 - mae: 0.0201 - val_loss: 0.0028 - val_mae: 0.0372 - lr: 1.0000e-05\n",
            "Epoch 206/500\n",
            "29/29 [==============================] - 5s 170ms/step - loss: 0.0017 - mae: 0.0202 - val_loss: 0.0028 - val_mae: 0.0370 - lr: 1.0000e-05\n",
            "Epoch 207/500\n",
            "29/29 [==============================] - 7s 246ms/step - loss: 0.0017 - mae: 0.0203 - val_loss: 0.0028 - val_mae: 0.0365 - lr: 1.0000e-05\n",
            "Epoch 208/500\n",
            "29/29 [==============================] - 5s 167ms/step - loss: 0.0018 - mae: 0.0205 - val_loss: 0.0028 - val_mae: 0.0367 - lr: 1.0000e-05\n",
            "Epoch 209/500\n",
            "29/29 [==============================] - 7s 239ms/step - loss: 0.0017 - mae: 0.0199 - val_loss: 0.0028 - val_mae: 0.0369 - lr: 1.0000e-05\n",
            "Epoch 210/500\n",
            "29/29 [==============================] - 5s 177ms/step - loss: 0.0017 - mae: 0.0199 - val_loss: 0.0028 - val_mae: 0.0369 - lr: 1.0000e-05\n",
            "Epoch 211/500\n",
            "29/29 [==============================] - 6s 199ms/step - loss: 0.0018 - mae: 0.0210 - val_loss: 0.0028 - val_mae: 0.0372 - lr: 1.0000e-05\n",
            "Epoch 212/500\n",
            "29/29 [==============================] - 5s 167ms/step - loss: 0.0017 - mae: 0.0201 - val_loss: 0.0028 - val_mae: 0.0368 - lr: 1.0000e-05\n",
            "Epoch 213/500\n",
            "29/29 [==============================] - 7s 242ms/step - loss: 0.0017 - mae: 0.0202 - val_loss: 0.0028 - val_mae: 0.0371 - lr: 1.0000e-05\n",
            "Epoch 214/500\n",
            "29/29 [==============================] - 5s 169ms/step - loss: 0.0017 - mae: 0.0204 - val_loss: 0.0028 - val_mae: 0.0372 - lr: 1.0000e-05\n",
            "Epoch 215/500\n",
            "29/29 [==============================] - 6s 204ms/step - loss: 0.0017 - mae: 0.0203 - val_loss: 0.0028 - val_mae: 0.0367 - lr: 1.0000e-05\n",
            "Epoch 216/500\n",
            "29/29 [==============================] - 5s 176ms/step - loss: 0.0017 - mae: 0.0200 - val_loss: 0.0028 - val_mae: 0.0369 - lr: 1.0000e-05\n",
            "Epoch 217/500\n",
            "29/29 [==============================] - 10s 346ms/step - loss: 0.0017 - mae: 0.0197 - val_loss: 0.0028 - val_mae: 0.0375 - lr: 1.0000e-05\n",
            "Epoch 218/500\n",
            "29/29 [==============================] - 6s 209ms/step - loss: 0.0017 - mae: 0.0196 - val_loss: 0.0028 - val_mae: 0.0376 - lr: 1.0000e-05\n",
            "Epoch 219/500\n",
            "29/29 [==============================] - 7s 240ms/step - loss: 0.0017 - mae: 0.0197 - val_loss: 0.0028 - val_mae: 0.0377 - lr: 1.0000e-05\n",
            "Epoch 220/500\n",
            "29/29 [==============================] - 5s 169ms/step - loss: 0.0017 - mae: 0.0200 - val_loss: 0.0028 - val_mae: 0.0376 - lr: 1.0000e-05\n",
            "Epoch 221/500\n",
            "29/29 [==============================] - 7s 239ms/step - loss: 0.0017 - mae: 0.0202 - val_loss: 0.0028 - val_mae: 0.0377 - lr: 1.0000e-05\n",
            "Epoch 222/500\n",
            "29/29 [==============================] - 5s 167ms/step - loss: 0.0017 - mae: 0.0201 - val_loss: 0.0028 - val_mae: 0.0378 - lr: 1.0000e-05\n",
            "Epoch 223/500\n",
            "29/29 [==============================] - 5s 174ms/step - loss: 0.0016 - mae: 0.0197 - val_loss: 0.0028 - val_mae: 0.0380 - lr: 1.0000e-05\n",
            "Epoch 224/500\n",
            "29/29 [==============================] - 7s 241ms/step - loss: 0.0017 - mae: 0.0203 - val_loss: 0.0028 - val_mae: 0.0376 - lr: 1.0000e-05\n",
            "Epoch 225/500\n",
            "29/29 [==============================] - 5s 168ms/step - loss: 0.0017 - mae: 0.0197 - val_loss: 0.0028 - val_mae: 0.0374 - lr: 1.0000e-05\n",
            "Epoch 226/500\n",
            "29/29 [==============================] - 6s 226ms/step - loss: 0.0017 - mae: 0.0202 - val_loss: 0.0028 - val_mae: 0.0373 - lr: 1.0000e-05\n",
            "Epoch 227/500\n",
            "29/29 [==============================] - 6s 189ms/step - loss: 0.0016 - mae: 0.0197 - val_loss: 0.0028 - val_mae: 0.0373 - lr: 1.0000e-05\n",
            "Epoch 228/500\n",
            "29/29 [==============================] - 7s 244ms/step - loss: 0.0018 - mae: 0.0206 - val_loss: 0.0028 - val_mae: 0.0376 - lr: 1.0000e-05\n",
            "Epoch 229/500\n",
            "29/29 [==============================] - 9s 317ms/step - loss: 0.0016 - mae: 0.0197 - val_loss: 0.0028 - val_mae: 0.0375 - lr: 1.0000e-05\n",
            "Epoch 230/500\n",
            "29/29 [==============================] - 5s 170ms/step - loss: 0.0017 - mae: 0.0198 - val_loss: 0.0028 - val_mae: 0.0378 - lr: 1.0000e-05\n"
          ]
        }
      ]
    },
    {
      "cell_type": "code",
      "source": [
        "medium_batches_model.save(\"/content/drive/MyDrive/CRYPTO/Models/medium_batches_model.h5\")"
      ],
      "metadata": {
        "colab": {
          "base_uri": "https://localhost:8080/"
        },
        "id": "rX4ncBbqWg04",
        "outputId": "89a00aec-2f48-4858-a07b-40ce85bf37a2"
      },
      "execution_count": 105,
      "outputs": [
        {
          "output_type": "stream",
          "name": "stderr",
          "text": [
            "/usr/local/lib/python3.10/dist-packages/keras/src/engine/training.py:3103: UserWarning: You are saving your model as an HDF5 file via `model.save()`. This file format is considered legacy. We recommend using instead the native Keras format, e.g. `model.save('my_model.keras')`.\n",
            "  saving_api.save_model(\n"
          ]
        }
      ]
    },
    {
      "cell_type": "code",
      "source": [
        "medium_batches_model_loaded=load_model(\"/content/drive/MyDrive/CRYPTO/Models/medium_batches_model.h5\")"
      ],
      "metadata": {
        "id": "725igGGVWlOy"
      },
      "execution_count": 106,
      "outputs": []
    },
    {
      "cell_type": "code",
      "source": [
        "medium_batches_model_loaded.evaluate(X_test,y_test)"
      ],
      "metadata": {
        "colab": {
          "base_uri": "https://localhost:8080/"
        },
        "id": "7VFrmGj5i2Tf",
        "outputId": "942f4c9d-c80c-4523-c1b2-21f981c41f90"
      },
      "execution_count": 112,
      "outputs": [
        {
          "output_type": "stream",
          "name": "stdout",
          "text": [
            "15/15 [==============================] - 4s 91ms/step - loss: 0.0028 - mae: 0.0367\n"
          ]
        },
        {
          "output_type": "execute_result",
          "data": {
            "text/plain": [
              "[0.0027533189859241247, 0.03671141713857651]"
            ]
          },
          "metadata": {},
          "execution_count": 112
        }
      ]
    },
    {
      "cell_type": "markdown",
      "source": [
        "Znowu zwiększamy BATCH_SIZE"
      ],
      "metadata": {
        "id": "2on5YfK652rg"
      }
    },
    {
      "cell_type": "code",
      "source": [
        "BATCH_SIZE = 128\n",
        "\n",
        "scalers = [MinMaxScaler() for _ in range(DATA.shape[1])]\n",
        "\n",
        "DATA_scaled = np.hstack([scaler.fit_transform(DATA[:, [i]]) for i, scaler in enumerate(scalers)])\n",
        "\n",
        "reshaped_data_X, reshaped_data_y=reshape_data_mlt_feature_changer(DATA_scaled,n_timesteps,final_indexes)\n",
        "\n",
        "X_train, X_test, y_train, y_test = train_test_split(reshaped_data_X, reshaped_data_y, test_size=0.2, random_state=42,shuffle=False)\n",
        "\n",
        "train_dataset = tf.data.Dataset.from_tensor_slices((X_train, y_train))\n",
        "test_dataset = tf.data.Dataset.from_tensor_slices((X_test, y_test))\n",
        "\n",
        "train_dataset = train_dataset.batch(BATCH_SIZE)\n",
        "test_dataset = test_dataset.batch(BATCH_SIZE)\n",
        "\n",
        "# Use AUTOTUNE for optimization\n",
        "train_dataset = train_dataset.prefetch(tf.data.experimental.AUTOTUNE)\n",
        "test_dataset = test_dataset.prefetch(tf.data.experimental.AUTOTUNE)\n",
        "\n",
        "\n",
        "# Define the LSTM model\n",
        "\n",
        "big_batches_model = Sequential([\n",
        "    Bidirectional(LSTM(128, return_sequences=True, dropout=0.2)),\n",
        "    LSTM(64, activation='relu', dropout=0.2, kernel_regularizer=l2(0.01)),\n",
        "    Dense(32, activation='relu'),\n",
        "    Dense(1)  # Output only 1 value\n",
        "])\n",
        "\n",
        "\n",
        "# Compile the big_batches_model with a lower learning rate\n",
        "optimizer = Adam(learning_rate=0.001)  # Adjust the learning rate as needed\n",
        "big_batches_model.compile(optimizer=optimizer, loss='mse',metrics=[\"mae\"])\n",
        "\n",
        "# Add a callback to reduce learning rate on plateau\n",
        "reduce_lr = ReduceLROnPlateau(monitor='val_loss', factor=0.2, patience=8, min_lr=0.00001)\n",
        "early_stopping = EarlyStopping(monitor='val_loss', patience=15, restore_best_weights=True)\n",
        "callbacks = [reduce_lr,early_stopping]\n",
        "\n",
        "# Train the big_batches_model with callbacks\n",
        "history = big_batches_model.fit(train_dataset, epochs=500, batch_size=128, validation_data=test_dataset, callbacks=callbacks)\n"
      ],
      "metadata": {
        "colab": {
          "base_uri": "https://localhost:8080/"
        },
        "id": "vl0K10J2WpCA",
        "outputId": "a238a104-8a16-4253-8e4c-4974fb4d9841"
      },
      "execution_count": 107,
      "outputs": [
        {
          "output_type": "stream",
          "name": "stdout",
          "text": [
            "Epoch 1/500\n",
            "15/15 [==============================] - 13s 327ms/step - loss: 2.1777 - mae: 0.1430 - val_loss: 1.7242 - val_mae: 0.1918 - lr: 0.0010\n",
            "Epoch 2/500\n",
            "15/15 [==============================] - 5s 331ms/step - loss: 1.4219 - mae: 0.1194 - val_loss: 1.1851 - val_mae: 0.2663 - lr: 0.0010\n",
            "Epoch 3/500\n",
            "15/15 [==============================] - 4s 271ms/step - loss: 0.9309 - mae: 0.0973 - val_loss: 0.7542 - val_mae: 0.2184 - lr: 0.0010\n",
            "Epoch 4/500\n",
            "15/15 [==============================] - 4s 241ms/step - loss: 0.6112 - mae: 0.1229 - val_loss: 0.4650 - val_mae: 0.1076 - lr: 0.0010\n",
            "Epoch 5/500\n",
            "15/15 [==============================] - 6s 389ms/step - loss: 0.3999 - mae: 0.1131 - val_loss: 0.3896 - val_mae: 0.2800 - lr: 0.0010\n",
            "Epoch 6/500\n",
            "15/15 [==============================] - 4s 241ms/step - loss: 0.3074 - mae: 0.1764 - val_loss: 0.2325 - val_mae: 0.1300 - lr: 0.0010\n",
            "Epoch 7/500\n",
            "15/15 [==============================] - 4s 249ms/step - loss: 0.1800 - mae: 0.0659 - val_loss: 0.1484 - val_mae: 0.0681 - lr: 0.0010\n",
            "Epoch 8/500\n",
            "15/15 [==============================] - 5s 347ms/step - loss: 0.1288 - mae: 0.0527 - val_loss: 0.1077 - val_mae: 0.0648 - lr: 0.0010\n",
            "Epoch 9/500\n",
            "15/15 [==============================] - 4s 275ms/step - loss: 0.0930 - mae: 0.0401 - val_loss: 0.0798 - val_mae: 0.0321 - lr: 0.0010\n",
            "Epoch 10/500\n",
            "15/15 [==============================] - 5s 297ms/step - loss: 0.0763 - mae: 0.0555 - val_loss: 0.0641 - val_mae: 0.0534 - lr: 0.0010\n",
            "Epoch 11/500\n",
            "15/15 [==============================] - 4s 246ms/step - loss: 0.0613 - mae: 0.0545 - val_loss: 0.0573 - val_mae: 0.0665 - lr: 0.0010\n",
            "Epoch 12/500\n",
            "15/15 [==============================] - 5s 356ms/step - loss: 0.0659 - mae: 0.0931 - val_loss: 0.0493 - val_mae: 0.0554 - lr: 0.0010\n",
            "Epoch 13/500\n",
            "15/15 [==============================] - 4s 241ms/step - loss: 0.0442 - mae: 0.0579 - val_loss: 0.0404 - val_mae: 0.0569 - lr: 0.0010\n",
            "Epoch 14/500\n",
            "15/15 [==============================] - 6s 380ms/step - loss: 0.0388 - mae: 0.0466 - val_loss: 0.0339 - val_mae: 0.0366 - lr: 0.0010\n",
            "Epoch 15/500\n",
            "15/15 [==============================] - 4s 264ms/step - loss: 0.0319 - mae: 0.0368 - val_loss: 0.0294 - val_mae: 0.0366 - lr: 0.0010\n",
            "Epoch 16/500\n",
            "15/15 [==============================] - 5s 339ms/step - loss: 0.0290 - mae: 0.0363 - val_loss: 0.0262 - val_mae: 0.0375 - lr: 0.0010\n",
            "Epoch 17/500\n",
            "15/15 [==============================] - 5s 319ms/step - loss: 0.0252 - mae: 0.0325 - val_loss: 0.0230 - val_mae: 0.0269 - lr: 0.0010\n",
            "Epoch 18/500\n",
            "15/15 [==============================] - 5s 317ms/step - loss: 0.0248 - mae: 0.0431 - val_loss: 0.0221 - val_mae: 0.0464 - lr: 0.0010\n",
            "Epoch 19/500\n",
            "15/15 [==============================] - 4s 288ms/step - loss: 0.0221 - mae: 0.0426 - val_loss: 0.0197 - val_mae: 0.0281 - lr: 0.0010\n",
            "Epoch 20/500\n",
            "15/15 [==============================] - 4s 273ms/step - loss: 0.0261 - mae: 0.0664 - val_loss: 0.0181 - val_mae: 0.0388 - lr: 0.0010\n",
            "Epoch 21/500\n",
            "15/15 [==============================] - 5s 293ms/step - loss: 0.0208 - mae: 0.0556 - val_loss: 0.0178 - val_mae: 0.0345 - lr: 0.0010\n",
            "Epoch 22/500\n",
            "15/15 [==============================] - 4s 248ms/step - loss: 0.0269 - mae: 0.0747 - val_loss: 0.0171 - val_mae: 0.0365 - lr: 0.0010\n",
            "Epoch 23/500\n",
            "15/15 [==============================] - 5s 372ms/step - loss: 0.0172 - mae: 0.0489 - val_loss: 0.0149 - val_mae: 0.0374 - lr: 0.0010\n",
            "Epoch 24/500\n",
            "15/15 [==============================] - 4s 260ms/step - loss: 0.0193 - mae: 0.0545 - val_loss: 0.0140 - val_mae: 0.0402 - lr: 0.0010\n",
            "Epoch 25/500\n",
            "15/15 [==============================] - 6s 406ms/step - loss: 0.0152 - mae: 0.0455 - val_loss: 0.0130 - val_mae: 0.0357 - lr: 0.0010\n",
            "Epoch 26/500\n",
            "15/15 [==============================] - 4s 243ms/step - loss: 0.0179 - mae: 0.0572 - val_loss: 0.0123 - val_mae: 0.0355 - lr: 0.0010\n",
            "Epoch 27/500\n",
            "15/15 [==============================] - 4s 243ms/step - loss: 0.0130 - mae: 0.0432 - val_loss: 0.0117 - val_mae: 0.0383 - lr: 0.0010\n",
            "Epoch 28/500\n",
            "15/15 [==============================] - 5s 371ms/step - loss: 0.0148 - mae: 0.0517 - val_loss: 0.0109 - val_mae: 0.0396 - lr: 0.0010\n",
            "Epoch 29/500\n",
            "15/15 [==============================] - 4s 247ms/step - loss: 0.0115 - mae: 0.0400 - val_loss: 0.0100 - val_mae: 0.0336 - lr: 0.0010\n",
            "Epoch 30/500\n",
            "15/15 [==============================] - 6s 385ms/step - loss: 0.0136 - mae: 0.0505 - val_loss: 0.0102 - val_mae: 0.0447 - lr: 0.0010\n",
            "Epoch 31/500\n",
            "15/15 [==============================] - 4s 248ms/step - loss: 0.0111 - mae: 0.0442 - val_loss: 0.0093 - val_mae: 0.0332 - lr: 0.0010\n",
            "Epoch 32/500\n",
            "15/15 [==============================] - 5s 347ms/step - loss: 0.0144 - mae: 0.0589 - val_loss: 0.0093 - val_mae: 0.0411 - lr: 0.0010\n",
            "Epoch 33/500\n",
            "15/15 [==============================] - 4s 271ms/step - loss: 0.0102 - mae: 0.0460 - val_loss: 0.0088 - val_mae: 0.0393 - lr: 0.0010\n",
            "Epoch 34/500\n",
            "15/15 [==============================] - 4s 250ms/step - loss: 0.0126 - mae: 0.0543 - val_loss: 0.0087 - val_mae: 0.0434 - lr: 0.0010\n",
            "Epoch 35/500\n",
            "15/15 [==============================] - 6s 390ms/step - loss: 0.0096 - mae: 0.0442 - val_loss: 0.0080 - val_mae: 0.0357 - lr: 0.0010\n",
            "Epoch 36/500\n",
            "15/15 [==============================] - 4s 240ms/step - loss: 0.0127 - mae: 0.0563 - val_loss: 0.0082 - val_mae: 0.0436 - lr: 0.0010\n",
            "Epoch 37/500\n",
            "15/15 [==============================] - 6s 377ms/step - loss: 0.0090 - mae: 0.0454 - val_loss: 0.0081 - val_mae: 0.0427 - lr: 0.0010\n",
            "Epoch 38/500\n",
            "15/15 [==============================] - 7s 456ms/step - loss: 0.0115 - mae: 0.0551 - val_loss: 0.0077 - val_mae: 0.0438 - lr: 0.0010\n",
            "Epoch 39/500\n",
            "15/15 [==============================] - 5s 322ms/step - loss: 0.0082 - mae: 0.0435 - val_loss: 0.0070 - val_mae: 0.0388 - lr: 0.0010\n",
            "Epoch 40/500\n",
            "15/15 [==============================] - 4s 244ms/step - loss: 0.0104 - mae: 0.0518 - val_loss: 0.0074 - val_mae: 0.0464 - lr: 0.0010\n",
            "Epoch 41/500\n",
            "15/15 [==============================] - 4s 251ms/step - loss: 0.0078 - mae: 0.0436 - val_loss: 0.0070 - val_mae: 0.0420 - lr: 0.0010\n",
            "Epoch 42/500\n",
            "15/15 [==============================] - 6s 363ms/step - loss: 0.0101 - mae: 0.0533 - val_loss: 0.0070 - val_mae: 0.0462 - lr: 0.0010\n",
            "Epoch 43/500\n",
            "15/15 [==============================] - 4s 242ms/step - loss: 0.0074 - mae: 0.0435 - val_loss: 0.0063 - val_mae: 0.0398 - lr: 0.0010\n",
            "Epoch 44/500\n",
            "15/15 [==============================] - 6s 387ms/step - loss: 0.0095 - mae: 0.0516 - val_loss: 0.0069 - val_mae: 0.0484 - lr: 0.0010\n",
            "Epoch 45/500\n",
            "15/15 [==============================] - 4s 242ms/step - loss: 0.0071 - mae: 0.0441 - val_loss: 0.0064 - val_mae: 0.0434 - lr: 0.0010\n",
            "Epoch 46/500\n",
            "15/15 [==============================] - 4s 244ms/step - loss: 0.0092 - mae: 0.0522 - val_loss: 0.0065 - val_mae: 0.0467 - lr: 0.0010\n",
            "Epoch 47/500\n",
            "15/15 [==============================] - 5s 306ms/step - loss: 0.0069 - mae: 0.0443 - val_loss: 0.0059 - val_mae: 0.0411 - lr: 0.0010\n",
            "Epoch 48/500\n",
            "15/15 [==============================] - 6s 400ms/step - loss: 0.0091 - mae: 0.0522 - val_loss: 0.0065 - val_mae: 0.0489 - lr: 0.0010\n",
            "Epoch 49/500\n",
            "15/15 [==============================] - 4s 283ms/step - loss: 0.0068 - mae: 0.0447 - val_loss: 0.0061 - val_mae: 0.0445 - lr: 0.0010\n",
            "Epoch 50/500\n",
            "15/15 [==============================] - 5s 332ms/step - loss: 0.0090 - mae: 0.0535 - val_loss: 0.0062 - val_mae: 0.0473 - lr: 0.0010\n",
            "Epoch 51/500\n",
            "15/15 [==============================] - 8s 514ms/step - loss: 0.0065 - mae: 0.0443 - val_loss: 0.0056 - val_mae: 0.0418 - lr: 0.0010\n",
            "Epoch 52/500\n",
            "15/15 [==============================] - 7s 456ms/step - loss: 0.0085 - mae: 0.0508 - val_loss: 0.0063 - val_mae: 0.0507 - lr: 0.0010\n",
            "Epoch 53/500\n",
            "15/15 [==============================] - 5s 344ms/step - loss: 0.0062 - mae: 0.0439 - val_loss: 0.0058 - val_mae: 0.0453 - lr: 0.0010\n",
            "Epoch 54/500\n",
            "15/15 [==============================] - 4s 240ms/step - loss: 0.0083 - mae: 0.0522 - val_loss: 0.0059 - val_mae: 0.0482 - lr: 0.0010\n",
            "Epoch 55/500\n",
            "15/15 [==============================] - 8s 574ms/step - loss: 0.0059 - mae: 0.0432 - val_loss: 0.0053 - val_mae: 0.0432 - lr: 0.0010\n",
            "Epoch 56/500\n",
            "15/15 [==============================] - 4s 241ms/step - loss: 0.0077 - mae: 0.0492 - val_loss: 0.0060 - val_mae: 0.0519 - lr: 0.0010\n",
            "Epoch 57/500\n",
            "15/15 [==============================] - 5s 310ms/step - loss: 0.0058 - mae: 0.0429 - val_loss: 0.0055 - val_mae: 0.0461 - lr: 0.0010\n",
            "Epoch 58/500\n",
            "15/15 [==============================] - 5s 360ms/step - loss: 0.0077 - mae: 0.0510 - val_loss: 0.0058 - val_mae: 0.0501 - lr: 0.0010\n",
            "Epoch 59/500\n",
            "15/15 [==============================] - 5s 340ms/step - loss: 0.0056 - mae: 0.0431 - val_loss: 0.0051 - val_mae: 0.0438 - lr: 0.0010\n",
            "Epoch 60/500\n",
            "15/15 [==============================] - 4s 275ms/step - loss: 0.0071 - mae: 0.0481 - val_loss: 0.0058 - val_mae: 0.0521 - lr: 0.0010\n",
            "Epoch 61/500\n",
            "15/15 [==============================] - 4s 247ms/step - loss: 0.0054 - mae: 0.0423 - val_loss: 0.0052 - val_mae: 0.0459 - lr: 0.0010\n",
            "Epoch 62/500\n",
            "15/15 [==============================] - 9s 604ms/step - loss: 0.0071 - mae: 0.0496 - val_loss: 0.0055 - val_mae: 0.0508 - lr: 0.0010\n",
            "Epoch 63/500\n",
            "15/15 [==============================] - 7s 461ms/step - loss: 0.0054 - mae: 0.0430 - val_loss: 0.0049 - val_mae: 0.0442 - lr: 0.0010\n",
            "Epoch 64/500\n",
            "15/15 [==============================] - 6s 425ms/step - loss: 0.0067 - mae: 0.0479 - val_loss: 0.0057 - val_mae: 0.0535 - lr: 0.0010\n",
            "Epoch 65/500\n",
            "15/15 [==============================] - 6s 396ms/step - loss: 0.0053 - mae: 0.0426 - val_loss: 0.0051 - val_mae: 0.0443 - lr: 0.0010\n",
            "Epoch 66/500\n",
            "15/15 [==============================] - 4s 257ms/step - loss: 0.0077 - mae: 0.0514 - val_loss: 0.0058 - val_mae: 0.0548 - lr: 0.0010\n",
            "Epoch 67/500\n",
            "15/15 [==============================] - 4s 250ms/step - loss: 0.0057 - mae: 0.0436 - val_loss: 0.0049 - val_mae: 0.0394 - lr: 0.0010\n",
            "Epoch 68/500\n",
            "15/15 [==============================] - 6s 381ms/step - loss: 0.0081 - mae: 0.0531 - val_loss: 0.0062 - val_mae: 0.0556 - lr: 0.0010\n",
            "Epoch 69/500\n",
            "15/15 [==============================] - 4s 254ms/step - loss: 0.0055 - mae: 0.0444 - val_loss: 0.0053 - val_mae: 0.0477 - lr: 0.0010\n",
            "Epoch 70/500\n",
            "15/15 [==============================] - 6s 390ms/step - loss: 0.0065 - mae: 0.0468 - val_loss: 0.0057 - val_mae: 0.0524 - lr: 0.0010\n",
            "Epoch 71/500\n",
            "15/15 [==============================] - 5s 354ms/step - loss: 0.0051 - mae: 0.0413 - val_loss: 0.0052 - val_mae: 0.0477 - lr: 0.0010\n",
            "Epoch 72/500\n",
            "15/15 [==============================] - 7s 480ms/step - loss: 0.0039 - mae: 0.0332 - val_loss: 0.0049 - val_mae: 0.0442 - lr: 2.0000e-04\n",
            "Epoch 73/500\n",
            "15/15 [==============================] - 6s 392ms/step - loss: 0.0033 - mae: 0.0259 - val_loss: 0.0051 - val_mae: 0.0491 - lr: 2.0000e-04\n",
            "Epoch 74/500\n",
            "15/15 [==============================] - 6s 373ms/step - loss: 0.0031 - mae: 0.0260 - val_loss: 0.0052 - val_mae: 0.0511 - lr: 2.0000e-04\n",
            "Epoch 75/500\n",
            "15/15 [==============================] - 4s 252ms/step - loss: 0.0030 - mae: 0.0255 - val_loss: 0.0051 - val_mae: 0.0506 - lr: 2.0000e-04\n",
            "Epoch 76/500\n",
            "15/15 [==============================] - 5s 365ms/step - loss: 0.0030 - mae: 0.0252 - val_loss: 0.0049 - val_mae: 0.0497 - lr: 2.0000e-04\n",
            "Epoch 77/500\n",
            "15/15 [==============================] - 6s 379ms/step - loss: 0.0030 - mae: 0.0255 - val_loss: 0.0049 - val_mae: 0.0494 - lr: 2.0000e-04\n",
            "Epoch 78/500\n",
            "15/15 [==============================] - 6s 406ms/step - loss: 0.0028 - mae: 0.0246 - val_loss: 0.0048 - val_mae: 0.0493 - lr: 2.0000e-04\n",
            "Epoch 79/500\n",
            "15/15 [==============================] - 6s 398ms/step - loss: 0.0029 - mae: 0.0255 - val_loss: 0.0047 - val_mae: 0.0485 - lr: 2.0000e-04\n",
            "Epoch 80/500\n",
            "15/15 [==============================] - 7s 473ms/step - loss: 0.0029 - mae: 0.0250 - val_loss: 0.0047 - val_mae: 0.0482 - lr: 2.0000e-04\n",
            "Epoch 81/500\n",
            "15/15 [==============================] - 6s 411ms/step - loss: 0.0028 - mae: 0.0248 - val_loss: 0.0046 - val_mae: 0.0479 - lr: 2.0000e-04\n",
            "Epoch 82/500\n",
            "15/15 [==============================] - 7s 468ms/step - loss: 0.0028 - mae: 0.0247 - val_loss: 0.0045 - val_mae: 0.0474 - lr: 2.0000e-04\n",
            "Epoch 83/500\n",
            "15/15 [==============================] - 5s 341ms/step - loss: 0.0027 - mae: 0.0243 - val_loss: 0.0045 - val_mae: 0.0468 - lr: 2.0000e-04\n",
            "Epoch 84/500\n",
            "15/15 [==============================] - 7s 441ms/step - loss: 0.0027 - mae: 0.0244 - val_loss: 0.0044 - val_mae: 0.0460 - lr: 2.0000e-04\n",
            "Epoch 85/500\n",
            "15/15 [==============================] - 6s 430ms/step - loss: 0.0027 - mae: 0.0244 - val_loss: 0.0043 - val_mae: 0.0457 - lr: 2.0000e-04\n",
            "Epoch 86/500\n",
            "15/15 [==============================] - 7s 487ms/step - loss: 0.0026 - mae: 0.0242 - val_loss: 0.0043 - val_mae: 0.0460 - lr: 2.0000e-04\n",
            "Epoch 87/500\n",
            "15/15 [==============================] - 5s 304ms/step - loss: 0.0026 - mae: 0.0244 - val_loss: 0.0042 - val_mae: 0.0453 - lr: 2.0000e-04\n",
            "Epoch 88/500\n",
            "15/15 [==============================] - 5s 311ms/step - loss: 0.0026 - mae: 0.0242 - val_loss: 0.0042 - val_mae: 0.0447 - lr: 2.0000e-04\n",
            "Epoch 89/500\n",
            "15/15 [==============================] - 4s 277ms/step - loss: 0.0026 - mae: 0.0245 - val_loss: 0.0041 - val_mae: 0.0438 - lr: 2.0000e-04\n",
            "Epoch 90/500\n",
            "15/15 [==============================] - 4s 270ms/step - loss: 0.0026 - mae: 0.0239 - val_loss: 0.0040 - val_mae: 0.0437 - lr: 2.0000e-04\n",
            "Epoch 91/500\n",
            "15/15 [==============================] - 4s 303ms/step - loss: 0.0026 - mae: 0.0240 - val_loss: 0.0040 - val_mae: 0.0439 - lr: 2.0000e-04\n",
            "Epoch 92/500\n",
            "15/15 [==============================] - 5s 304ms/step - loss: 0.0025 - mae: 0.0237 - val_loss: 0.0040 - val_mae: 0.0438 - lr: 2.0000e-04\n",
            "Epoch 93/500\n",
            "15/15 [==============================] - 4s 255ms/step - loss: 0.0025 - mae: 0.0240 - val_loss: 0.0040 - val_mae: 0.0435 - lr: 2.0000e-04\n",
            "Epoch 94/500\n",
            "15/15 [==============================] - 5s 338ms/step - loss: 0.0024 - mae: 0.0234 - val_loss: 0.0039 - val_mae: 0.0425 - lr: 2.0000e-04\n",
            "Epoch 95/500\n",
            "15/15 [==============================] - 7s 457ms/step - loss: 0.0025 - mae: 0.0236 - val_loss: 0.0039 - val_mae: 0.0429 - lr: 2.0000e-04\n",
            "Epoch 96/500\n",
            "15/15 [==============================] - 5s 323ms/step - loss: 0.0024 - mae: 0.0232 - val_loss: 0.0040 - val_mae: 0.0441 - lr: 2.0000e-04\n",
            "Epoch 97/500\n",
            "15/15 [==============================] - 6s 351ms/step - loss: 0.0024 - mae: 0.0228 - val_loss: 0.0039 - val_mae: 0.0434 - lr: 2.0000e-04\n",
            "Epoch 98/500\n",
            "15/15 [==============================] - 5s 371ms/step - loss: 0.0023 - mae: 0.0227 - val_loss: 0.0037 - val_mae: 0.0419 - lr: 2.0000e-04\n",
            "Epoch 99/500\n",
            "15/15 [==============================] - 4s 254ms/step - loss: 0.0023 - mae: 0.0225 - val_loss: 0.0038 - val_mae: 0.0428 - lr: 2.0000e-04\n",
            "Epoch 100/500\n",
            "15/15 [==============================] - 6s 417ms/step - loss: 0.0024 - mae: 0.0233 - val_loss: 0.0039 - val_mae: 0.0435 - lr: 2.0000e-04\n",
            "Epoch 101/500\n",
            "15/15 [==============================] - 4s 259ms/step - loss: 0.0023 - mae: 0.0230 - val_loss: 0.0038 - val_mae: 0.0432 - lr: 2.0000e-04\n",
            "Epoch 102/500\n",
            "15/15 [==============================] - 4s 258ms/step - loss: 0.0023 - mae: 0.0226 - val_loss: 0.0038 - val_mae: 0.0428 - lr: 2.0000e-04\n",
            "Epoch 103/500\n",
            "15/15 [==============================] - 6s 388ms/step - loss: 0.0023 - mae: 0.0225 - val_loss: 0.0038 - val_mae: 0.0427 - lr: 2.0000e-04\n",
            "Epoch 104/500\n",
            "15/15 [==============================] - 4s 272ms/step - loss: 0.0023 - mae: 0.0224 - val_loss: 0.0038 - val_mae: 0.0429 - lr: 2.0000e-04\n",
            "Epoch 105/500\n",
            "15/15 [==============================] - 6s 400ms/step - loss: 0.0022 - mae: 0.0222 - val_loss: 0.0036 - val_mae: 0.0417 - lr: 2.0000e-04\n",
            "Epoch 106/500\n",
            "15/15 [==============================] - 4s 247ms/step - loss: 0.0023 - mae: 0.0228 - val_loss: 0.0038 - val_mae: 0.0434 - lr: 2.0000e-04\n",
            "Epoch 107/500\n",
            "15/15 [==============================] - 6s 397ms/step - loss: 0.0022 - mae: 0.0225 - val_loss: 0.0039 - val_mae: 0.0443 - lr: 2.0000e-04\n",
            "Epoch 108/500\n",
            "15/15 [==============================] - 4s 246ms/step - loss: 0.0021 - mae: 0.0217 - val_loss: 0.0036 - val_mae: 0.0419 - lr: 2.0000e-04\n",
            "Epoch 109/500\n",
            "15/15 [==============================] - 4s 244ms/step - loss: 0.0021 - mae: 0.0220 - val_loss: 0.0037 - val_mae: 0.0432 - lr: 2.0000e-04\n",
            "Epoch 110/500\n",
            "15/15 [==============================] - 6s 407ms/step - loss: 0.0021 - mae: 0.0220 - val_loss: 0.0037 - val_mae: 0.0432 - lr: 2.0000e-04\n",
            "Epoch 111/500\n",
            "15/15 [==============================] - 4s 269ms/step - loss: 0.0021 - mae: 0.0218 - val_loss: 0.0037 - val_mae: 0.0433 - lr: 2.0000e-04\n",
            "Epoch 112/500\n",
            "15/15 [==============================] - 4s 282ms/step - loss: 0.0022 - mae: 0.0219 - val_loss: 0.0037 - val_mae: 0.0430 - lr: 2.0000e-04\n",
            "Epoch 113/500\n",
            "15/15 [==============================] - 6s 396ms/step - loss: 0.0021 - mae: 0.0224 - val_loss: 0.0038 - val_mae: 0.0440 - lr: 2.0000e-04\n",
            "Epoch 114/500\n",
            "15/15 [==============================] - 5s 365ms/step - loss: 0.0021 - mae: 0.0213 - val_loss: 0.0038 - val_mae: 0.0441 - lr: 4.0000e-05\n",
            "Epoch 115/500\n",
            "15/15 [==============================] - 4s 283ms/step - loss: 0.0021 - mae: 0.0213 - val_loss: 0.0037 - val_mae: 0.0436 - lr: 4.0000e-05\n",
            "Epoch 116/500\n",
            "15/15 [==============================] - 4s 249ms/step - loss: 0.0022 - mae: 0.0222 - val_loss: 0.0037 - val_mae: 0.0429 - lr: 4.0000e-05\n",
            "Epoch 117/500\n",
            "15/15 [==============================] - 4s 279ms/step - loss: 0.0020 - mae: 0.0213 - val_loss: 0.0036 - val_mae: 0.0427 - lr: 4.0000e-05\n",
            "Epoch 118/500\n",
            "15/15 [==============================] - 4s 286ms/step - loss: 0.0021 - mae: 0.0220 - val_loss: 0.0037 - val_mae: 0.0430 - lr: 4.0000e-05\n",
            "Epoch 119/500\n",
            "15/15 [==============================] - 4s 261ms/step - loss: 0.0021 - mae: 0.0218 - val_loss: 0.0036 - val_mae: 0.0429 - lr: 4.0000e-05\n",
            "Epoch 120/500\n",
            "15/15 [==============================] - 5s 315ms/step - loss: 0.0020 - mae: 0.0207 - val_loss: 0.0036 - val_mae: 0.0427 - lr: 4.0000e-05\n",
            "Epoch 121/500\n",
            "15/15 [==============================] - 5s 303ms/step - loss: 0.0021 - mae: 0.0216 - val_loss: 0.0036 - val_mae: 0.0427 - lr: 4.0000e-05\n",
            "Epoch 122/500\n",
            "15/15 [==============================] - 4s 260ms/step - loss: 0.0021 - mae: 0.0216 - val_loss: 0.0036 - val_mae: 0.0427 - lr: 1.0000e-05\n",
            "Epoch 123/500\n",
            "15/15 [==============================] - 5s 333ms/step - loss: 0.0021 - mae: 0.0215 - val_loss: 0.0036 - val_mae: 0.0426 - lr: 1.0000e-05\n",
            "Epoch 124/500\n",
            "15/15 [==============================] - 5s 298ms/step - loss: 0.0021 - mae: 0.0217 - val_loss: 0.0036 - val_mae: 0.0425 - lr: 1.0000e-05\n",
            "Epoch 125/500\n",
            "15/15 [==============================] - 4s 247ms/step - loss: 0.0021 - mae: 0.0216 - val_loss: 0.0036 - val_mae: 0.0424 - lr: 1.0000e-05\n",
            "Epoch 126/500\n",
            "15/15 [==============================] - 4s 251ms/step - loss: 0.0020 - mae: 0.0214 - val_loss: 0.0036 - val_mae: 0.0423 - lr: 1.0000e-05\n",
            "Epoch 127/500\n",
            "15/15 [==============================] - 6s 392ms/step - loss: 0.0021 - mae: 0.0215 - val_loss: 0.0036 - val_mae: 0.0423 - lr: 1.0000e-05\n",
            "Epoch 128/500\n",
            "15/15 [==============================] - 4s 251ms/step - loss: 0.0021 - mae: 0.0214 - val_loss: 0.0036 - val_mae: 0.0424 - lr: 1.0000e-05\n",
            "Epoch 129/500\n",
            "15/15 [==============================] - 4s 254ms/step - loss: 0.0021 - mae: 0.0220 - val_loss: 0.0036 - val_mae: 0.0424 - lr: 1.0000e-05\n",
            "Epoch 130/500\n",
            "15/15 [==============================] - 5s 356ms/step - loss: 0.0021 - mae: 0.0219 - val_loss: 0.0036 - val_mae: 0.0424 - lr: 1.0000e-05\n",
            "Epoch 131/500\n",
            "15/15 [==============================] - 4s 248ms/step - loss: 0.0021 - mae: 0.0216 - val_loss: 0.0036 - val_mae: 0.0425 - lr: 1.0000e-05\n",
            "Epoch 132/500\n",
            "15/15 [==============================] - 4s 245ms/step - loss: 0.0021 - mae: 0.0223 - val_loss: 0.0036 - val_mae: 0.0426 - lr: 1.0000e-05\n",
            "Epoch 133/500\n",
            "15/15 [==============================] - 6s 390ms/step - loss: 0.0020 - mae: 0.0207 - val_loss: 0.0036 - val_mae: 0.0426 - lr: 1.0000e-05\n",
            "Epoch 134/500\n",
            "15/15 [==============================] - 4s 264ms/step - loss: 0.0021 - mae: 0.0216 - val_loss: 0.0036 - val_mae: 0.0427 - lr: 1.0000e-05\n",
            "Epoch 135/500\n",
            "15/15 [==============================] - 7s 486ms/step - loss: 0.0021 - mae: 0.0215 - val_loss: 0.0036 - val_mae: 0.0427 - lr: 1.0000e-05\n",
            "Epoch 136/500\n",
            "15/15 [==============================] - 4s 257ms/step - loss: 0.0021 - mae: 0.0219 - val_loss: 0.0036 - val_mae: 0.0428 - lr: 1.0000e-05\n",
            "Epoch 137/500\n",
            "15/15 [==============================] - 4s 277ms/step - loss: 0.0020 - mae: 0.0211 - val_loss: 0.0036 - val_mae: 0.0428 - lr: 1.0000e-05\n",
            "Epoch 138/500\n",
            "15/15 [==============================] - 5s 356ms/step - loss: 0.0020 - mae: 0.0208 - val_loss: 0.0036 - val_mae: 0.0427 - lr: 1.0000e-05\n",
            "Epoch 139/500\n",
            "15/15 [==============================] - 4s 280ms/step - loss: 0.0021 - mae: 0.0217 - val_loss: 0.0036 - val_mae: 0.0427 - lr: 1.0000e-05\n",
            "Epoch 140/500\n",
            "15/15 [==============================] - 5s 350ms/step - loss: 0.0020 - mae: 0.0212 - val_loss: 0.0036 - val_mae: 0.0428 - lr: 1.0000e-05\n",
            "Epoch 141/500\n",
            "15/15 [==============================] - 4s 273ms/step - loss: 0.0021 - mae: 0.0215 - val_loss: 0.0036 - val_mae: 0.0429 - lr: 1.0000e-05\n",
            "Epoch 142/500\n",
            "15/15 [==============================] - 5s 355ms/step - loss: 0.0021 - mae: 0.0217 - val_loss: 0.0036 - val_mae: 0.0430 - lr: 1.0000e-05\n"
          ]
        }
      ]
    },
    {
      "cell_type": "code",
      "source": [
        "big_batches_model.save(\"/content/drive/MyDrive/CRYPTO/Models/big_batches_model.h5\")"
      ],
      "metadata": {
        "colab": {
          "base_uri": "https://localhost:8080/"
        },
        "id": "GbLhExxzBbrF",
        "outputId": "ebf567b7-cb28-4f29-9aae-3ce7ffa0f64e"
      },
      "execution_count": 108,
      "outputs": [
        {
          "output_type": "stream",
          "name": "stderr",
          "text": [
            "/usr/local/lib/python3.10/dist-packages/keras/src/engine/training.py:3103: UserWarning: You are saving your model as an HDF5 file via `model.save()`. This file format is considered legacy. We recommend using instead the native Keras format, e.g. `model.save('my_model.keras')`.\n",
            "  saving_api.save_model(\n"
          ]
        }
      ]
    },
    {
      "cell_type": "code",
      "source": [
        "big_batches_model_loaded=load_model(\"/content/drive/MyDrive/CRYPTO/Models/big_batches_model.h5\")"
      ],
      "metadata": {
        "id": "w-Qip0uIYKQq"
      },
      "execution_count": 109,
      "outputs": []
    },
    {
      "cell_type": "code",
      "source": [
        "big_batches_model_loaded.evaluate(X_test,y_test)"
      ],
      "metadata": {
        "colab": {
          "base_uri": "https://localhost:8080/"
        },
        "id": "s15P5TS5i5_b",
        "outputId": "cc4e1b3b-74a6-49a0-e660-5fe4add0a071"
      },
      "execution_count": 113,
      "outputs": [
        {
          "output_type": "stream",
          "name": "stdout",
          "text": [
            "15/15 [==============================] - 6s 73ms/step - loss: 0.0036 - mae: 0.0423\n"
          ]
        },
        {
          "output_type": "execute_result",
          "data": {
            "text/plain": [
              "[0.0035809408873319626, 0.04231996461749077]"
            ]
          },
          "metadata": {},
          "execution_count": 113
        }
      ]
    },
    {
      "cell_type": "markdown",
      "source": [
        "BATCH_SIZE=32 jest najlepszym rozwiązaniem"
      ],
      "metadata": {
        "id": "THgGEe4ii_cN"
      }
    },
    {
      "cell_type": "markdown",
      "source": [
        "Spróbujemy zastąpić Bidirectional LSTM na zwykł LSTM"
      ],
      "metadata": {
        "id": "jkT5jSz2ZytQ"
      }
    },
    {
      "cell_type": "code",
      "source": [
        "scalers = [MinMaxScaler() for _ in range(DATA.shape[1])]\n",
        "\n",
        "DATA_scaled = np.hstack([scaler.fit_transform(DATA[:, [i]]) for i, scaler in enumerate(scalers)])\n",
        "\n",
        "reshaped_data_X, reshaped_data_y=reshape_data_mlt_feature_changer(DATA_scaled,n_timesteps,final_indexes)\n",
        "\n",
        "X_train, X_test, y_train, y_test = train_test_split(reshaped_data_X, reshaped_data_y, test_size=0.2, random_state=42,shuffle=False)\n",
        "\n",
        "train_dataset = tf.data.Dataset.from_tensor_slices((X_train, y_train))\n",
        "test_dataset = tf.data.Dataset.from_tensor_slices((X_test, y_test))\n",
        "\n",
        "train_dataset = train_dataset.batch(BATCH_SIZE)\n",
        "test_dataset = test_dataset.batch(BATCH_SIZE)\n",
        "\n",
        "train_dataset = train_dataset.prefetch(tf.data.experimental.AUTOTUNE)\n",
        "test_dataset = test_dataset.prefetch(tf.data.experimental.AUTOTUNE)\n",
        "\n",
        "\n",
        "\n",
        "LSTM_model = Sequential()\n",
        "LSTM_model.add(LSTM(128, input_shape=(X_train.shape[1], X_train.shape[2]), return_sequences=True))\n",
        "LSTM_model.add(Dropout(0.2))\n",
        "LSTM_model.add(LSTM(64, return_sequences=False))\n",
        "LSTM_model.add(Dense(1))\n",
        "\n",
        "\n",
        "# Compile the big_batches_model with a lower learning rate\n",
        "optimizer = Adam(learning_rate=0.001)  # Adjust the learning rate as needed\n",
        "LSTM_model.compile(optimizer=optimizer, loss='mse',metrics=[\"mae\"])\n",
        "\n",
        "# Add a callback to reduce learning rate on plateau\n",
        "reduce_lr = ReduceLROnPlateau(monitor='val_loss', factor=0.2, patience=8, min_lr=0.00001)\n",
        "early_stopping = EarlyStopping(monitor='val_loss', patience=15, restore_best_weights=True)\n",
        "callbacks = [reduce_lr,early_stopping]\n",
        "\n",
        "# Train the big_batches_model with callbacks\n",
        "history = LSTM_model.fit(train_dataset, epochs=500, batch_size=128, validation_data=test_dataset, callbacks=callbacks)"
      ],
      "metadata": {
        "colab": {
          "base_uri": "https://localhost:8080/"
        },
        "id": "oxFcXC5uYOml",
        "outputId": "e03fbd93-9ca3-43d4-8dfb-262659d67367"
      },
      "execution_count": 114,
      "outputs": [
        {
          "output_type": "stream",
          "name": "stdout",
          "text": [
            "Epoch 1/500\n",
            "15/15 [==============================] - 13s 277ms/step - loss: 0.0214 - mae: 0.1244 - val_loss: 0.0104 - val_mae: 0.0603 - lr: 0.0010\n",
            "Epoch 2/500\n",
            "15/15 [==============================] - 3s 212ms/step - loss: 0.0483 - mae: 0.1493 - val_loss: 0.0931 - val_mae: 0.3017 - lr: 0.0010\n",
            "Epoch 3/500\n",
            "15/15 [==============================] - 2s 152ms/step - loss: 0.0217 - mae: 0.1109 - val_loss: 0.0065 - val_mae: 0.0743 - lr: 0.0010\n",
            "Epoch 4/500\n",
            "15/15 [==============================] - 2s 163ms/step - loss: 0.0297 - mae: 0.1437 - val_loss: 0.0439 - val_mae: 0.1820 - lr: 0.0010\n",
            "Epoch 5/500\n",
            "15/15 [==============================] - 2s 152ms/step - loss: 0.0614 - mae: 0.1561 - val_loss: 0.0169 - val_mae: 0.0817 - lr: 0.0010\n",
            "Epoch 6/500\n",
            "15/15 [==============================] - 4s 275ms/step - loss: 0.0107 - mae: 0.0944 - val_loss: 0.0045 - val_mae: 0.0506 - lr: 0.0010\n",
            "Epoch 7/500\n",
            "15/15 [==============================] - 2s 149ms/step - loss: 0.0023 - mae: 0.0338 - val_loss: 0.0032 - val_mae: 0.0512 - lr: 0.0010\n",
            "Epoch 8/500\n",
            "15/15 [==============================] - 3s 187ms/step - loss: 0.0018 - mae: 0.0307 - val_loss: 0.0015 - val_mae: 0.0244 - lr: 0.0010\n",
            "Epoch 9/500\n",
            "15/15 [==============================] - 6s 386ms/step - loss: 0.0035 - mae: 0.0429 - val_loss: 0.0060 - val_mae: 0.0734 - lr: 0.0010\n",
            "Epoch 10/500\n",
            "15/15 [==============================] - 5s 330ms/step - loss: 0.0031 - mae: 0.0473 - val_loss: 0.0020 - val_mae: 0.0309 - lr: 0.0010\n",
            "Epoch 11/500\n",
            "15/15 [==============================] - 4s 278ms/step - loss: 0.0045 - mae: 0.0561 - val_loss: 0.0054 - val_mae: 0.0693 - lr: 0.0010\n",
            "Epoch 12/500\n",
            "15/15 [==============================] - 6s 393ms/step - loss: 0.0035 - mae: 0.0508 - val_loss: 0.0019 - val_mae: 0.0278 - lr: 0.0010\n",
            "Epoch 13/500\n",
            "15/15 [==============================] - 5s 323ms/step - loss: 0.0056 - mae: 0.0587 - val_loss: 0.0039 - val_mae: 0.0582 - lr: 0.0010\n",
            "Epoch 14/500\n",
            "15/15 [==============================] - 5s 332ms/step - loss: 0.0046 - mae: 0.0567 - val_loss: 0.0023 - val_mae: 0.0291 - lr: 0.0010\n",
            "Epoch 15/500\n",
            "15/15 [==============================] - 4s 272ms/step - loss: 0.0090 - mae: 0.0719 - val_loss: 0.0023 - val_mae: 0.0418 - lr: 0.0010\n",
            "Epoch 16/500\n",
            "15/15 [==============================] - 4s 244ms/step - loss: 0.0052 - mae: 0.0621 - val_loss: 0.0018 - val_mae: 0.0279 - lr: 0.0010\n",
            "Epoch 17/500\n",
            "15/15 [==============================] - 5s 329ms/step - loss: 0.0024 - mae: 0.0338 - val_loss: 0.0022 - val_mae: 0.0270 - lr: 2.0000e-04\n",
            "Epoch 18/500\n",
            "15/15 [==============================] - 4s 258ms/step - loss: 0.0016 - mae: 0.0284 - val_loss: 0.0017 - val_mae: 0.0308 - lr: 2.0000e-04\n",
            "Epoch 19/500\n",
            "15/15 [==============================] - 3s 172ms/step - loss: 0.0012 - mae: 0.0234 - val_loss: 0.0019 - val_mae: 0.0377 - lr: 2.0000e-04\n",
            "Epoch 20/500\n",
            "15/15 [==============================] - 4s 246ms/step - loss: 0.0011 - mae: 0.0231 - val_loss: 0.0019 - val_mae: 0.0386 - lr: 2.0000e-04\n",
            "Epoch 21/500\n",
            "15/15 [==============================] - 4s 242ms/step - loss: 0.0011 - mae: 0.0221 - val_loss: 0.0018 - val_mae: 0.0367 - lr: 2.0000e-04\n",
            "Epoch 22/500\n",
            "15/15 [==============================] - 3s 179ms/step - loss: 0.0011 - mae: 0.0225 - val_loss: 0.0017 - val_mae: 0.0354 - lr: 2.0000e-04\n",
            "Epoch 23/500\n",
            "15/15 [==============================] - 6s 392ms/step - loss: 0.0010 - mae: 0.0220 - val_loss: 0.0016 - val_mae: 0.0351 - lr: 2.0000e-04\n"
          ]
        }
      ]
    },
    {
      "cell_type": "code",
      "source": [
        "LSTM_model.save(\"/content/drive/MyDrive/CRYPTO/Models/LSTM_batches_model.h5\")"
      ],
      "metadata": {
        "colab": {
          "base_uri": "https://localhost:8080/"
        },
        "id": "ATASL8sEjPGD",
        "outputId": "9abba590-e510-4cfc-c937-582f8c6f58bb"
      },
      "execution_count": 117,
      "outputs": [
        {
          "output_type": "stream",
          "name": "stderr",
          "text": [
            "/usr/local/lib/python3.10/dist-packages/keras/src/engine/training.py:3103: UserWarning: You are saving your model as an HDF5 file via `model.save()`. This file format is considered legacy. We recommend using instead the native Keras format, e.g. `model.save('my_model.keras')`.\n",
            "  saving_api.save_model(\n"
          ]
        }
      ]
    },
    {
      "cell_type": "code",
      "source": [
        "LSTM_model_loaded=load_model(\"/content/drive/MyDrive/CRYPTO/Models/LSTM_batches_model.h5\")"
      ],
      "metadata": {
        "id": "TBm-dF_mjaFi"
      },
      "execution_count": 118,
      "outputs": []
    },
    {
      "cell_type": "code",
      "source": [
        "LSTM_model_loaded.evaluate(X_test,y_test)"
      ],
      "metadata": {
        "colab": {
          "base_uri": "https://localhost:8080/"
        },
        "id": "kQ4w_4apjjxy",
        "outputId": "12575ac2-8436-46d1-ed39-b5d923241625"
      },
      "execution_count": 120,
      "outputs": [
        {
          "output_type": "stream",
          "name": "stdout",
          "text": [
            "15/15 [==============================] - 3s 40ms/step - loss: 0.0015 - mae: 0.0244\n"
          ]
        },
        {
          "output_type": "execute_result",
          "data": {
            "text/plain": [
              "[0.0015461184084415436, 0.024416744709014893]"
            ]
          },
          "metadata": {},
          "execution_count": 120
        }
      ]
    },
    {
      "cell_type": "markdown",
      "source": [
        "Zwykły LSTM radzi sobie lepiej\n",
        "\n",
        "Możemy sprawdzić jeszcze warstwę GRU, tak samo jak LSTM jest to warstwa przeznaczona do przewidywania sekwencji."
      ],
      "metadata": {
        "id": "RC9SWhuRkFcW"
      }
    },
    {
      "cell_type": "code",
      "source": [
        "from tensorflow.keras.layers import GRU\n",
        "scalers = [MinMaxScaler() for _ in range(DATA.shape[1])]\n",
        "\n",
        "DATA_scaled = np.hstack([scaler.fit_transform(DATA[:, [i]]) for i, scaler in enumerate(scalers)])\n",
        "\n",
        "reshaped_data_X, reshaped_data_y=reshape_data_mlt_feature_changer(DATA_scaled,n_timesteps,final_indexes)\n",
        "\n",
        "X_train, X_test, y_train, y_test = train_test_split(reshaped_data_X, reshaped_data_y, test_size=0.2, random_state=42,shuffle=False)\n",
        "\n",
        "train_dataset = tf.data.Dataset.from_tensor_slices((X_train, y_train))\n",
        "test_dataset = tf.data.Dataset.from_tensor_slices((X_test, y_test))\n",
        "\n",
        "train_dataset = train_dataset.batch(BATCH_SIZE)\n",
        "test_dataset = test_dataset.batch(BATCH_SIZE)\n",
        "\n",
        "train_dataset = train_dataset.prefetch(tf.data.experimental.AUTOTUNE)\n",
        "test_dataset = test_dataset.prefetch(tf.data.experimental.AUTOTUNE)\n",
        "\n",
        "\n",
        "\n",
        "GRU_model = Sequential()\n",
        "GRU_model.add(GRU(128, input_shape=(X_train.shape[1], X_train.shape[2]), return_sequences=True))\n",
        "GRU_model.add(Dropout(0.2))\n",
        "GRU_model.add(GRU(64, return_sequences=False))\n",
        "GRU_model.add(Dense(1))\n",
        "\n",
        "\n",
        "optimizer = Adam(learning_rate=0.001)\n",
        "GRU_model.compile(optimizer=optimizer, loss='mse',metrics=[\"mae\"])\n",
        "\n",
        "reduce_lr = ReduceLROnPlateau(monitor='val_loss', factor=0.2, patience=8, min_lr=0.00001)\n",
        "early_stopping = EarlyStopping(monitor='val_loss', patience=15, restore_best_weights=True)\n",
        "callbacks = [reduce_lr,early_stopping]\n",
        "\n",
        "history = GRU_model.fit(train_dataset, epochs=500, batch_size=128, validation_data=test_dataset, callbacks=callbacks)"
      ],
      "metadata": {
        "colab": {
          "base_uri": "https://localhost:8080/"
        },
        "id": "TaVbrk4Rj7S3",
        "outputId": "b85ea193-c777-47e6-fc83-eea2130cb2be"
      },
      "execution_count": 125,
      "outputs": [
        {
          "output_type": "stream",
          "name": "stdout",
          "text": [
            "Epoch 1/500\n",
            "15/15 [==============================] - 11s 229ms/step - loss: 0.0167 - mae: 0.1075 - val_loss: 0.0077 - val_mae: 0.0553 - lr: 0.0010\n",
            "Epoch 2/500\n",
            "15/15 [==============================] - 3s 222ms/step - loss: 0.0386 - mae: 0.1399 - val_loss: 0.2419 - val_mae: 0.4863 - lr: 0.0010\n",
            "Epoch 3/500\n",
            "15/15 [==============================] - 2s 135ms/step - loss: 0.0501 - mae: 0.1634 - val_loss: 0.0087 - val_mae: 0.0838 - lr: 0.0010\n",
            "Epoch 4/500\n",
            "15/15 [==============================] - 2s 141ms/step - loss: 0.0673 - mae: 0.2241 - val_loss: 0.0358 - val_mae: 0.1603 - lr: 0.0010\n",
            "Epoch 5/500\n",
            "15/15 [==============================] - 2s 131ms/step - loss: 0.0927 - mae: 0.2049 - val_loss: 0.0061 - val_mae: 0.0526 - lr: 0.0010\n",
            "Epoch 6/500\n",
            "15/15 [==============================] - 4s 297ms/step - loss: 0.0155 - mae: 0.1118 - val_loss: 0.0047 - val_mae: 0.0515 - lr: 0.0010\n",
            "Epoch 7/500\n",
            "15/15 [==============================] - 2s 126ms/step - loss: 0.0146 - mae: 0.1026 - val_loss: 0.0044 - val_mae: 0.0624 - lr: 0.0010\n",
            "Epoch 8/500\n",
            "15/15 [==============================] - 2s 148ms/step - loss: 0.0106 - mae: 0.0916 - val_loss: 8.6913e-04 - val_mae: 0.0194 - lr: 0.0010\n",
            "Epoch 9/500\n",
            "15/15 [==============================] - 2s 148ms/step - loss: 0.0084 - mae: 0.0708 - val_loss: 0.0012 - val_mae: 0.0204 - lr: 0.0010\n",
            "Epoch 10/500\n",
            "15/15 [==============================] - 2s 143ms/step - loss: 0.0030 - mae: 0.0442 - val_loss: 0.0014 - val_mae: 0.0327 - lr: 0.0010\n",
            "Epoch 11/500\n",
            "15/15 [==============================] - 3s 232ms/step - loss: 0.0023 - mae: 0.0325 - val_loss: 7.4714e-04 - val_mae: 0.0174 - lr: 0.0010\n",
            "Epoch 12/500\n",
            "15/15 [==============================] - 2s 133ms/step - loss: 0.0013 - mae: 0.0264 - val_loss: 9.7605e-04 - val_mae: 0.0260 - lr: 0.0010\n",
            "Epoch 13/500\n",
            "15/15 [==============================] - 2s 137ms/step - loss: 0.0012 - mae: 0.0244 - val_loss: 7.4660e-04 - val_mae: 0.0211 - lr: 0.0010\n",
            "Epoch 14/500\n",
            "15/15 [==============================] - 2s 142ms/step - loss: 0.0011 - mae: 0.0231 - val_loss: 8.9096e-04 - val_mae: 0.0241 - lr: 0.0010\n",
            "Epoch 15/500\n",
            "15/15 [==============================] - 2s 140ms/step - loss: 0.0011 - mae: 0.0231 - val_loss: 8.7195e-04 - val_mae: 0.0237 - lr: 0.0010\n",
            "Epoch 16/500\n",
            "15/15 [==============================] - 3s 232ms/step - loss: 9.5244e-04 - mae: 0.0221 - val_loss: 8.0135e-04 - val_mae: 0.0222 - lr: 0.0010\n",
            "Epoch 17/500\n",
            "15/15 [==============================] - 2s 145ms/step - loss: 0.0010 - mae: 0.0229 - val_loss: 8.8582e-04 - val_mae: 0.0239 - lr: 0.0010\n",
            "Epoch 18/500\n",
            "15/15 [==============================] - 2s 131ms/step - loss: 9.7382e-04 - mae: 0.0223 - val_loss: 8.6836e-04 - val_mae: 0.0234 - lr: 0.0010\n",
            "Epoch 19/500\n",
            "15/15 [==============================] - 2s 133ms/step - loss: 9.0381e-04 - mae: 0.0218 - val_loss: 9.8510e-04 - val_mae: 0.0254 - lr: 0.0010\n",
            "Epoch 20/500\n",
            "15/15 [==============================] - 2s 164ms/step - loss: 9.2315e-04 - mae: 0.0215 - val_loss: 9.4902e-04 - val_mae: 0.0248 - lr: 2.0000e-04\n",
            "Epoch 21/500\n",
            "15/15 [==============================] - 4s 235ms/step - loss: 9.1816e-04 - mae: 0.0217 - val_loss: 8.5127e-04 - val_mae: 0.0229 - lr: 2.0000e-04\n",
            "Epoch 22/500\n",
            "15/15 [==============================] - 2s 130ms/step - loss: 9.5608e-04 - mae: 0.0218 - val_loss: 8.4387e-04 - val_mae: 0.0228 - lr: 2.0000e-04\n",
            "Epoch 23/500\n",
            "15/15 [==============================] - 2s 137ms/step - loss: 9.0684e-04 - mae: 0.0213 - val_loss: 9.1590e-04 - val_mae: 0.0241 - lr: 2.0000e-04\n",
            "Epoch 24/500\n",
            "15/15 [==============================] - 2s 139ms/step - loss: 8.7003e-04 - mae: 0.0212 - val_loss: 9.1653e-04 - val_mae: 0.0241 - lr: 2.0000e-04\n",
            "Epoch 25/500\n",
            "15/15 [==============================] - 3s 179ms/step - loss: 8.9283e-04 - mae: 0.0213 - val_loss: 8.7675e-04 - val_mae: 0.0234 - lr: 2.0000e-04\n",
            "Epoch 26/500\n",
            "15/15 [==============================] - 2s 128ms/step - loss: 8.4204e-04 - mae: 0.0207 - val_loss: 8.7158e-04 - val_mae: 0.0233 - lr: 2.0000e-04\n",
            "Epoch 27/500\n",
            "15/15 [==============================] - 2s 128ms/step - loss: 8.2532e-04 - mae: 0.0207 - val_loss: 8.7086e-04 - val_mae: 0.0233 - lr: 2.0000e-04\n",
            "Epoch 28/500\n",
            "15/15 [==============================] - 2s 128ms/step - loss: 9.3354e-04 - mae: 0.0212 - val_loss: 8.7672e-04 - val_mae: 0.0234 - lr: 4.0000e-05\n"
          ]
        }
      ]
    },
    {
      "cell_type": "code",
      "source": [
        "GRU_model.evaluate(X_test,y_test)"
      ],
      "metadata": {
        "colab": {
          "base_uri": "https://localhost:8080/"
        },
        "id": "PfkODC18nVLH",
        "outputId": "e09ac6c7-1056-436e-edad-49308ee2f9e7"
      },
      "execution_count": 126,
      "outputs": [
        {
          "output_type": "stream",
          "name": "stdout",
          "text": [
            "15/15 [==============================] - 3s 33ms/step - loss: 7.4660e-04 - mae: 0.0211\n"
          ]
        },
        {
          "output_type": "execute_result",
          "data": {
            "text/plain": [
              "[0.000746600388083607, 0.02106551267206669]"
            ]
          },
          "metadata": {},
          "execution_count": 126
        }
      ]
    },
    {
      "cell_type": "code",
      "source": [
        "GRU_model.save(\"/content/drive/MyDrive/CRYPTO/Models/GRU_model.h5\")"
      ],
      "metadata": {
        "colab": {
          "base_uri": "https://localhost:8080/"
        },
        "id": "nOZnRj2dt-zq",
        "outputId": "1c7d0b70-1468-4ecf-f142-bfa84c336176"
      },
      "execution_count": 130,
      "outputs": [
        {
          "output_type": "stream",
          "name": "stderr",
          "text": [
            "/usr/local/lib/python3.10/dist-packages/keras/src/engine/training.py:3103: UserWarning: You are saving your model as an HDF5 file via `model.save()`. This file format is considered legacy. We recommend using instead the native Keras format, e.g. `model.save('my_model.keras')`.\n",
            "  saving_api.save_model(\n"
          ]
        }
      ]
    },
    {
      "cell_type": "code",
      "source": [
        "GRU_model_loaded=load_model(\"/content/drive/MyDrive/CRYPTO/Models/GRU_model.h5\")"
      ],
      "metadata": {
        "id": "qu7ZdhqGuDo4"
      },
      "execution_count": 131,
      "outputs": []
    },
    {
      "cell_type": "markdown",
      "source": [
        "Model GRU sprawuje się lepiej niż LSTM\n",
        "\n",
        "Podstawowa funkcja aktywacyjna to tanh, funkcja nieliniowa\n",
        "\n",
        "Sprawdzimy jeszcze funkcję relu oraz sigmoid"
      ],
      "metadata": {
        "id": "h2Tnnm-OpBnL"
      }
    },
    {
      "cell_type": "code",
      "source": [
        "scalers = [MinMaxScaler() for _ in range(DATA.shape[1])]\n",
        "\n",
        "DATA_scaled = np.hstack([scaler.fit_transform(DATA[:, [i]]) for i, scaler in enumerate(scalers)])\n",
        "\n",
        "reshaped_data_X, reshaped_data_y=reshape_data_mlt_feature_changer(DATA_scaled,n_timesteps,final_indexes)\n",
        "\n",
        "X_train, X_test, y_train, y_test = train_test_split(reshaped_data_X, reshaped_data_y, test_size=0.2, random_state=42,shuffle=False)\n",
        "\n",
        "train_dataset = tf.data.Dataset.from_tensor_slices((X_train, y_train))\n",
        "test_dataset = tf.data.Dataset.from_tensor_slices((X_test, y_test))\n",
        "\n",
        "train_dataset = train_dataset.batch(BATCH_SIZE)\n",
        "test_dataset = test_dataset.batch(BATCH_SIZE)\n",
        "\n",
        "train_dataset = train_dataset.prefetch(tf.data.experimental.AUTOTUNE)\n",
        "test_dataset = test_dataset.prefetch(tf.data.experimental.AUTOTUNE)\n",
        "\n",
        "\n",
        "\n",
        "GRU_relu_model = Sequential()\n",
        "GRU_relu_model.add(GRU(128, input_shape=(X_train.shape[1], X_train.shape[2]), return_sequences=True,activation=\"relu\"))\n",
        "GRU_relu_model.add(Dropout(0.2))\n",
        "GRU_relu_model.add(GRU(64, return_sequences=False,activation=\"relu\"))\n",
        "GRU_relu_model.add(Dense(1))\n",
        "\n",
        "\n",
        "optimizer = Adam(learning_rate=0.001)\n",
        "GRU_relu_model.compile(optimizer=optimizer, loss='mse',metrics=[\"mae\"])\n",
        "\n",
        "reduce_lr = ReduceLROnPlateau(monitor='val_loss', factor=0.2, patience=8, min_lr=0.00001)\n",
        "early_stopping = EarlyStopping(monitor='val_loss', patience=15, restore_best_weights=True)\n",
        "callbacks = [reduce_lr,early_stopping]\n",
        "\n",
        "history = GRU_relu_model.fit(train_dataset, epochs=500, batch_size=128, validation_data=test_dataset, callbacks=callbacks)"
      ],
      "metadata": {
        "colab": {
          "base_uri": "https://localhost:8080/"
        },
        "id": "cRdJXJ3UnVjc",
        "outputId": "b11d287c-59dd-4ac1-917f-5c2e5270e8ef"
      },
      "execution_count": 129,
      "outputs": [
        {
          "output_type": "stream",
          "name": "stdout",
          "text": [
            "Epoch 1/500\n",
            "15/15 [==============================] - 7s 170ms/step - loss: 0.0288 - mae: 0.1175 - val_loss: 0.0191 - val_mae: 0.1294 - lr: 0.0010\n",
            "Epoch 2/500\n",
            "15/15 [==============================] - 2s 124ms/step - loss: 0.0188 - mae: 0.1148 - val_loss: 0.0363 - val_mae: 0.1780 - lr: 0.0010\n",
            "Epoch 3/500\n",
            "15/15 [==============================] - 2s 136ms/step - loss: 0.0536 - mae: 0.2035 - val_loss: 0.0108 - val_mae: 0.0715 - lr: 0.0010\n",
            "Epoch 4/500\n",
            "15/15 [==============================] - 2s 149ms/step - loss: 0.0074 - mae: 0.0775 - val_loss: 0.0035 - val_mae: 0.0480 - lr: 0.0010\n",
            "Epoch 5/500\n",
            "15/15 [==============================] - 4s 275ms/step - loss: 0.0055 - mae: 0.0554 - val_loss: 0.0029 - val_mae: 0.0368 - lr: 0.0010\n",
            "Epoch 6/500\n",
            "15/15 [==============================] - 4s 246ms/step - loss: 0.0026 - mae: 0.0385 - val_loss: 0.0018 - val_mae: 0.0312 - lr: 0.0010\n",
            "Epoch 7/500\n",
            "15/15 [==============================] - 3s 219ms/step - loss: 0.0027 - mae: 0.0338 - val_loss: 0.0015 - val_mae: 0.0288 - lr: 0.0010\n",
            "Epoch 8/500\n",
            "15/15 [==============================] - 2s 159ms/step - loss: 0.0021 - mae: 0.0329 - val_loss: 0.0014 - val_mae: 0.0252 - lr: 0.0010\n",
            "Epoch 9/500\n",
            "15/15 [==============================] - 4s 268ms/step - loss: 0.0030 - mae: 0.0361 - val_loss: 0.0014 - val_mae: 0.0303 - lr: 0.0010\n",
            "Epoch 10/500\n",
            "15/15 [==============================] - 4s 252ms/step - loss: 0.0028 - mae: 0.0370 - val_loss: 0.0014 - val_mae: 0.0245 - lr: 0.0010\n",
            "Epoch 11/500\n",
            "15/15 [==============================] - 3s 213ms/step - loss: 0.0048 - mae: 0.0458 - val_loss: 0.0015 - val_mae: 0.0323 - lr: 0.0010\n",
            "Epoch 12/500\n",
            "15/15 [==============================] - 6s 424ms/step - loss: 0.0046 - mae: 0.0477 - val_loss: 0.0019 - val_mae: 0.0265 - lr: 0.0010\n",
            "Epoch 13/500\n",
            "15/15 [==============================] - 3s 189ms/step - loss: 0.0087 - mae: 0.0632 - val_loss: 0.0017 - val_mae: 0.0284 - lr: 0.0010\n",
            "Epoch 14/500\n",
            "15/15 [==============================] - 4s 258ms/step - loss: 0.0055 - mae: 0.0547 - val_loss: 0.0019 - val_mae: 0.0297 - lr: 0.0010\n",
            "Epoch 15/500\n",
            "15/15 [==============================] - 5s 325ms/step - loss: 0.0087 - mae: 0.0615 - val_loss: 0.0023 - val_mae: 0.0304 - lr: 0.0010\n",
            "Epoch 16/500\n",
            "15/15 [==============================] - 4s 244ms/step - loss: 0.0037 - mae: 0.0447 - val_loss: 0.0016 - val_mae: 0.0317 - lr: 0.0010\n",
            "Epoch 17/500\n",
            "15/15 [==============================] - 3s 200ms/step - loss: 0.0015 - mae: 0.0262 - val_loss: 0.0017 - val_mae: 0.0275 - lr: 2.0000e-04\n",
            "Epoch 18/500\n",
            "15/15 [==============================] - 5s 328ms/step - loss: 0.0015 - mae: 0.0261 - val_loss: 0.0015 - val_mae: 0.0275 - lr: 2.0000e-04\n",
            "Epoch 19/500\n",
            "15/15 [==============================] - 4s 250ms/step - loss: 0.0014 - mae: 0.0253 - val_loss: 0.0014 - val_mae: 0.0290 - lr: 2.0000e-04\n",
            "Epoch 20/500\n",
            "15/15 [==============================] - 4s 259ms/step - loss: 0.0013 - mae: 0.0250 - val_loss: 0.0014 - val_mae: 0.0295 - lr: 2.0000e-04\n",
            "Epoch 21/500\n",
            "15/15 [==============================] - 5s 330ms/step - loss: 0.0013 - mae: 0.0249 - val_loss: 0.0013 - val_mae: 0.0287 - lr: 2.0000e-04\n",
            "Epoch 22/500\n",
            "15/15 [==============================] - 5s 322ms/step - loss: 0.0012 - mae: 0.0240 - val_loss: 0.0013 - val_mae: 0.0281 - lr: 2.0000e-04\n",
            "Epoch 23/500\n",
            "15/15 [==============================] - 4s 259ms/step - loss: 0.0012 - mae: 0.0238 - val_loss: 0.0012 - val_mae: 0.0281 - lr: 2.0000e-04\n",
            "Epoch 24/500\n",
            "15/15 [==============================] - 4s 285ms/step - loss: 0.0011 - mae: 0.0234 - val_loss: 0.0012 - val_mae: 0.0278 - lr: 2.0000e-04\n",
            "Epoch 25/500\n",
            "15/15 [==============================] - 5s 363ms/step - loss: 0.0011 - mae: 0.0233 - val_loss: 0.0012 - val_mae: 0.0274 - lr: 2.0000e-04\n",
            "Epoch 26/500\n",
            "15/15 [==============================] - 4s 242ms/step - loss: 0.0011 - mae: 0.0232 - val_loss: 0.0011 - val_mae: 0.0271 - lr: 2.0000e-04\n",
            "Epoch 27/500\n",
            "15/15 [==============================] - 4s 277ms/step - loss: 0.0011 - mae: 0.0229 - val_loss: 0.0011 - val_mae: 0.0274 - lr: 2.0000e-04\n",
            "Epoch 28/500\n",
            "15/15 [==============================] - 3s 194ms/step - loss: 0.0010 - mae: 0.0224 - val_loss: 0.0011 - val_mae: 0.0278 - lr: 2.0000e-04\n",
            "Epoch 29/500\n",
            "15/15 [==============================] - 2s 141ms/step - loss: 0.0010 - mae: 0.0221 - val_loss: 0.0011 - val_mae: 0.0275 - lr: 2.0000e-04\n",
            "Epoch 30/500\n",
            "15/15 [==============================] - 2s 150ms/step - loss: 9.9206e-04 - mae: 0.0219 - val_loss: 0.0011 - val_mae: 0.0270 - lr: 2.0000e-04\n",
            "Epoch 31/500\n",
            "15/15 [==============================] - 3s 232ms/step - loss: 0.0010 - mae: 0.0221 - val_loss: 0.0011 - val_mae: 0.0268 - lr: 2.0000e-04\n",
            "Epoch 32/500\n",
            "15/15 [==============================] - 2s 125ms/step - loss: 9.9570e-04 - mae: 0.0220 - val_loss: 0.0011 - val_mae: 0.0271 - lr: 2.0000e-04\n",
            "Epoch 33/500\n",
            "15/15 [==============================] - 2s 126ms/step - loss: 9.5097e-04 - mae: 0.0215 - val_loss: 0.0011 - val_mae: 0.0269 - lr: 2.0000e-04\n",
            "Epoch 34/500\n",
            "15/15 [==============================] - 2s 124ms/step - loss: 9.8348e-04 - mae: 0.0217 - val_loss: 0.0011 - val_mae: 0.0275 - lr: 2.0000e-04\n",
            "Epoch 35/500\n",
            "15/15 [==============================] - 2s 142ms/step - loss: 9.1533e-04 - mae: 0.0211 - val_loss: 0.0012 - val_mae: 0.0288 - lr: 2.0000e-04\n",
            "Epoch 36/500\n",
            "15/15 [==============================] - 3s 212ms/step - loss: 0.0010 - mae: 0.0219 - val_loss: 0.0012 - val_mae: 0.0288 - lr: 4.0000e-05\n",
            "Epoch 37/500\n",
            "15/15 [==============================] - 2s 125ms/step - loss: 9.4128e-04 - mae: 0.0213 - val_loss: 0.0012 - val_mae: 0.0285 - lr: 4.0000e-05\n",
            "Epoch 38/500\n",
            "15/15 [==============================] - 2s 126ms/step - loss: 9.2377e-04 - mae: 0.0212 - val_loss: 0.0012 - val_mae: 0.0284 - lr: 4.0000e-05\n",
            "Epoch 39/500\n",
            "15/15 [==============================] - 2s 137ms/step - loss: 9.4798e-04 - mae: 0.0212 - val_loss: 0.0011 - val_mae: 0.0284 - lr: 4.0000e-05\n",
            "Epoch 40/500\n",
            "15/15 [==============================] - 2s 124ms/step - loss: 9.0735e-04 - mae: 0.0208 - val_loss: 0.0011 - val_mae: 0.0281 - lr: 4.0000e-05\n",
            "Epoch 41/500\n",
            "15/15 [==============================] - 2s 147ms/step - loss: 9.3634e-04 - mae: 0.0213 - val_loss: 0.0011 - val_mae: 0.0279 - lr: 4.0000e-05\n",
            "Epoch 42/500\n",
            "15/15 [==============================] - 3s 228ms/step - loss: 9.4724e-04 - mae: 0.0215 - val_loss: 0.0011 - val_mae: 0.0278 - lr: 4.0000e-05\n",
            "Epoch 43/500\n",
            "15/15 [==============================] - 2s 141ms/step - loss: 9.5554e-04 - mae: 0.0214 - val_loss: 0.0011 - val_mae: 0.0279 - lr: 4.0000e-05\n",
            "Epoch 44/500\n",
            "15/15 [==============================] - 2s 124ms/step - loss: 9.2831e-04 - mae: 0.0214 - val_loss: 0.0011 - val_mae: 0.0279 - lr: 1.0000e-05\n",
            "Epoch 45/500\n",
            "15/15 [==============================] - 2s 134ms/step - loss: 9.4105e-04 - mae: 0.0211 - val_loss: 0.0011 - val_mae: 0.0280 - lr: 1.0000e-05\n",
            "Epoch 46/500\n",
            "15/15 [==============================] - 2s 123ms/step - loss: 9.1295e-04 - mae: 0.0210 - val_loss: 0.0011 - val_mae: 0.0280 - lr: 1.0000e-05\n",
            "Epoch 47/500\n",
            "15/15 [==============================] - 3s 178ms/step - loss: 8.8095e-04 - mae: 0.0209 - val_loss: 0.0011 - val_mae: 0.0279 - lr: 1.0000e-05\n",
            "Epoch 48/500\n",
            "15/15 [==============================] - 3s 212ms/step - loss: 8.7628e-04 - mae: 0.0206 - val_loss: 0.0011 - val_mae: 0.0279 - lr: 1.0000e-05\n"
          ]
        }
      ]
    },
    {
      "cell_type": "code",
      "source": [
        "GRU_relu_model.evaluate(X_test,y_test)"
      ],
      "metadata": {
        "colab": {
          "base_uri": "https://localhost:8080/"
        },
        "id": "IcAXa-OZp7tV",
        "outputId": "1b2a5058-55da-4ccc-81f7-b0ebda648af2"
      },
      "execution_count": 132,
      "outputs": [
        {
          "output_type": "stream",
          "name": "stdout",
          "text": [
            "15/15 [==============================] - 1s 24ms/step - loss: 0.0011 - mae: 0.0269\n"
          ]
        },
        {
          "output_type": "execute_result",
          "data": {
            "text/plain": [
              "[0.0010715718381106853, 0.026895053684711456]"
            ]
          },
          "metadata": {},
          "execution_count": 132
        }
      ]
    },
    {
      "cell_type": "code",
      "source": [
        "GRU_relu_model.save(\"/content/drive/MyDrive/CRYPTO/Models/GRU_relu_model.h5\")"
      ],
      "metadata": {
        "colab": {
          "base_uri": "https://localhost:8080/"
        },
        "id": "Pxau8yQKvSce",
        "outputId": "ecc52322-f0c3-487c-d899-bc5770683562"
      },
      "execution_count": 135,
      "outputs": [
        {
          "output_type": "stream",
          "name": "stderr",
          "text": [
            "/usr/local/lib/python3.10/dist-packages/keras/src/engine/training.py:3103: UserWarning: You are saving your model as an HDF5 file via `model.save()`. This file format is considered legacy. We recommend using instead the native Keras format, e.g. `model.save('my_model.keras')`.\n",
            "  saving_api.save_model(\n"
          ]
        }
      ]
    },
    {
      "cell_type": "code",
      "source": [
        "GRU_relu_model_loaded=load_model(\"/content/drive/MyDrive/CRYPTO/Models/GRU_relu_model.h5\")"
      ],
      "metadata": {
        "id": "Ay0HoNtJvboz"
      },
      "execution_count": 136,
      "outputs": []
    },
    {
      "cell_type": "code",
      "source": [
        "from tensorflow.keras.layers import GRU\n",
        "scalers = [MinMaxScaler() for _ in range(DATA.shape[1])]\n",
        "\n",
        "DATA_scaled = np.hstack([scaler.fit_transform(DATA[:, [i]]) for i, scaler in enumerate(scalers)])\n",
        "\n",
        "reshaped_data_X, reshaped_data_y=reshape_data_mlt_feature_changer(DATA_scaled,n_timesteps,final_indexes)\n",
        "\n",
        "X_train, X_test, y_train, y_test = train_test_split(reshaped_data_X, reshaped_data_y, test_size=0.2, random_state=42,shuffle=False)\n",
        "\n",
        "train_dataset = tf.data.Dataset.from_tensor_slices((X_train, y_train))\n",
        "test_dataset = tf.data.Dataset.from_tensor_slices((X_test, y_test))\n",
        "\n",
        "train_dataset = train_dataset.batch(BATCH_SIZE)\n",
        "test_dataset = test_dataset.batch(BATCH_SIZE)\n",
        "\n",
        "train_dataset = train_dataset.prefetch(tf.data.experimental.AUTOTUNE)\n",
        "test_dataset = test_dataset.prefetch(tf.data.experimental.AUTOTUNE)\n",
        "\n",
        "\n",
        "\n",
        "GRU_sigmoid_model = Sequential()\n",
        "GRU_sigmoid_model.add(GRU(128, input_shape=(X_train.shape[1], X_train.shape[2]), return_sequences=True,activation=\"sigmoid\"))\n",
        "GRU_sigmoid_model.add(Dropout(0.2))\n",
        "GRU_sigmoid_model.add(GRU(64, return_sequences=False,activation=\"sigmoid\"))\n",
        "GRU_sigmoid_model.add(Dense(1))\n",
        "\n",
        "\n",
        "optimizer = Adam(learning_rate=0.001)\n",
        "GRU_sigmoid_model.compile(optimizer=optimizer, loss='mse',metrics=[\"mae\"])\n",
        "\n",
        "reduce_lr = ReduceLROnPlateau(monitor='val_loss', factor=0.2, patience=8, min_lr=0.00001)\n",
        "early_stopping = EarlyStopping(monitor='val_loss', patience=15, restore_best_weights=True)\n",
        "callbacks = [reduce_lr,early_stopping]\n",
        "\n",
        "history = GRU_sigmoid_model.fit(train_dataset, epochs=500, batch_size=128, validation_data=test_dataset, callbacks=callbacks)"
      ],
      "metadata": {
        "colab": {
          "base_uri": "https://localhost:8080/"
        },
        "id": "zYkfgOsEp75o",
        "outputId": "29d543ea-f62f-4b8a-b6c8-8deefe7eaa8f"
      },
      "execution_count": 133,
      "outputs": [
        {
          "output_type": "stream",
          "name": "stdout",
          "text": [
            "Epoch 1/500\n",
            "15/15 [==============================] - 13s 459ms/step - loss: 0.0895 - mae: 0.2554 - val_loss: 0.0342 - val_mae: 0.1576 - lr: 0.0010\n",
            "Epoch 2/500\n",
            "15/15 [==============================] - 3s 208ms/step - loss: 0.1494 - mae: 0.3120 - val_loss: 0.0296 - val_mae: 0.1252 - lr: 0.0010\n",
            "Epoch 3/500\n",
            "15/15 [==============================] - 4s 279ms/step - loss: 0.1087 - mae: 0.2953 - val_loss: 0.0484 - val_mae: 0.1535 - lr: 0.0010\n",
            "Epoch 4/500\n",
            "15/15 [==============================] - 3s 218ms/step - loss: 0.0568 - mae: 0.1921 - val_loss: 0.0251 - val_mae: 0.1097 - lr: 0.0010\n",
            "Epoch 5/500\n",
            "15/15 [==============================] - 2s 126ms/step - loss: 0.0682 - mae: 0.2224 - val_loss: 0.0274 - val_mae: 0.1034 - lr: 0.0010\n",
            "Epoch 6/500\n",
            "15/15 [==============================] - 2s 138ms/step - loss: 0.0465 - mae: 0.1825 - val_loss: 0.0204 - val_mae: 0.0943 - lr: 0.0010\n",
            "Epoch 7/500\n",
            "15/15 [==============================] - 3s 211ms/step - loss: 0.0399 - mae: 0.1667 - val_loss: 0.0164 - val_mae: 0.0890 - lr: 0.0010\n",
            "Epoch 8/500\n",
            "15/15 [==============================] - 3s 180ms/step - loss: 0.0296 - mae: 0.1441 - val_loss: 0.0130 - val_mae: 0.0819 - lr: 0.0010\n",
            "Epoch 9/500\n",
            "15/15 [==============================] - 2s 138ms/step - loss: 0.0180 - mae: 0.1096 - val_loss: 0.0098 - val_mae: 0.0753 - lr: 0.0010\n",
            "Epoch 10/500\n",
            "15/15 [==============================] - 2s 139ms/step - loss: 0.0102 - mae: 0.0788 - val_loss: 0.0076 - val_mae: 0.0691 - lr: 0.0010\n",
            "Epoch 11/500\n",
            "15/15 [==============================] - 2s 126ms/step - loss: 0.0056 - mae: 0.0557 - val_loss: 0.0059 - val_mae: 0.0599 - lr: 0.0010\n",
            "Epoch 12/500\n",
            "15/15 [==============================] - 2s 128ms/step - loss: 0.0043 - mae: 0.0501 - val_loss: 0.0052 - val_mae: 0.0539 - lr: 0.0010\n",
            "Epoch 13/500\n",
            "15/15 [==============================] - 3s 234ms/step - loss: 0.0050 - mae: 0.0581 - val_loss: 0.0053 - val_mae: 0.0560 - lr: 0.0010\n",
            "Epoch 14/500\n",
            "15/15 [==============================] - 2s 161ms/step - loss: 0.0056 - mae: 0.0590 - val_loss: 0.0058 - val_mae: 0.0624 - lr: 0.0010\n",
            "Epoch 15/500\n",
            "15/15 [==============================] - 2s 129ms/step - loss: 0.0055 - mae: 0.0555 - val_loss: 0.0061 - val_mae: 0.0656 - lr: 0.0010\n",
            "Epoch 16/500\n",
            "15/15 [==============================] - 2s 130ms/step - loss: 0.0052 - mae: 0.0528 - val_loss: 0.0057 - val_mae: 0.0637 - lr: 0.0010\n",
            "Epoch 17/500\n",
            "15/15 [==============================] - 2s 127ms/step - loss: 0.0047 - mae: 0.0510 - val_loss: 0.0049 - val_mae: 0.0577 - lr: 0.0010\n",
            "Epoch 18/500\n",
            "15/15 [==============================] - 2s 125ms/step - loss: 0.0041 - mae: 0.0484 - val_loss: 0.0044 - val_mae: 0.0532 - lr: 0.0010\n",
            "Epoch 19/500\n",
            "15/15 [==============================] - 3s 214ms/step - loss: 0.0041 - mae: 0.0494 - val_loss: 0.0043 - val_mae: 0.0516 - lr: 0.0010\n",
            "Epoch 20/500\n",
            "15/15 [==============================] - 2s 132ms/step - loss: 0.0044 - mae: 0.0507 - val_loss: 0.0046 - val_mae: 0.0555 - lr: 0.0010\n",
            "Epoch 21/500\n",
            "15/15 [==============================] - 2s 138ms/step - loss: 0.0046 - mae: 0.0515 - val_loss: 0.0047 - val_mae: 0.0575 - lr: 0.0010\n",
            "Epoch 22/500\n",
            "15/15 [==============================] - 2s 139ms/step - loss: 0.0048 - mae: 0.0515 - val_loss: 0.0048 - val_mae: 0.0596 - lr: 0.0010\n",
            "Epoch 23/500\n",
            "15/15 [==============================] - 2s 137ms/step - loss: 0.0045 - mae: 0.0503 - val_loss: 0.0044 - val_mae: 0.0572 - lr: 0.0010\n",
            "Epoch 24/500\n",
            "15/15 [==============================] - 5s 285ms/step - loss: 0.0042 - mae: 0.0494 - val_loss: 0.0040 - val_mae: 0.0537 - lr: 0.0010\n",
            "Epoch 25/500\n",
            "15/15 [==============================] - 3s 239ms/step - loss: 0.0041 - mae: 0.0490 - val_loss: 0.0037 - val_mae: 0.0511 - lr: 0.0010\n",
            "Epoch 26/500\n",
            "15/15 [==============================] - 4s 292ms/step - loss: 0.0039 - mae: 0.0472 - val_loss: 0.0039 - val_mae: 0.0536 - lr: 0.0010\n",
            "Epoch 27/500\n",
            "15/15 [==============================] - 5s 344ms/step - loss: 0.0040 - mae: 0.0479 - val_loss: 0.0037 - val_mae: 0.0524 - lr: 0.0010\n",
            "Epoch 28/500\n",
            "15/15 [==============================] - 4s 248ms/step - loss: 0.0037 - mae: 0.0468 - val_loss: 0.0034 - val_mae: 0.0490 - lr: 0.0010\n",
            "Epoch 29/500\n",
            "15/15 [==============================] - 5s 336ms/step - loss: 0.0040 - mae: 0.0480 - val_loss: 0.0040 - val_mae: 0.0554 - lr: 0.0010\n",
            "Epoch 30/500\n",
            "15/15 [==============================] - 3s 212ms/step - loss: 0.0043 - mae: 0.0502 - val_loss: 0.0040 - val_mae: 0.0560 - lr: 0.0010\n",
            "Epoch 31/500\n",
            "15/15 [==============================] - 3s 209ms/step - loss: 0.0041 - mae: 0.0499 - val_loss: 0.0039 - val_mae: 0.0556 - lr: 0.0010\n",
            "Epoch 32/500\n",
            "15/15 [==============================] - 2s 162ms/step - loss: 0.0040 - mae: 0.0495 - val_loss: 0.0035 - val_mae: 0.0528 - lr: 0.0010\n",
            "Epoch 33/500\n",
            "15/15 [==============================] - 5s 309ms/step - loss: 0.0038 - mae: 0.0487 - val_loss: 0.0037 - val_mae: 0.0547 - lr: 0.0010\n",
            "Epoch 34/500\n",
            "15/15 [==============================] - 6s 383ms/step - loss: 0.0039 - mae: 0.0488 - val_loss: 0.0036 - val_mae: 0.0541 - lr: 0.0010\n",
            "Epoch 35/500\n",
            "15/15 [==============================] - 4s 240ms/step - loss: 0.0038 - mae: 0.0488 - val_loss: 0.0035 - val_mae: 0.0538 - lr: 0.0010\n",
            "Epoch 36/500\n",
            "15/15 [==============================] - 4s 301ms/step - loss: 0.0037 - mae: 0.0473 - val_loss: 0.0033 - val_mae: 0.0517 - lr: 0.0010\n",
            "Epoch 37/500\n",
            "15/15 [==============================] - 3s 211ms/step - loss: 0.0025 - mae: 0.0393 - val_loss: 0.0022 - val_mae: 0.0309 - lr: 2.0000e-04\n",
            "Epoch 38/500\n",
            "15/15 [==============================] - 3s 197ms/step - loss: 0.0019 - mae: 0.0333 - val_loss: 0.0016 - val_mae: 0.0295 - lr: 2.0000e-04\n",
            "Epoch 39/500\n",
            "15/15 [==============================] - 5s 314ms/step - loss: 0.0018 - mae: 0.0318 - val_loss: 0.0016 - val_mae: 0.0274 - lr: 2.0000e-04\n",
            "Epoch 40/500\n",
            "15/15 [==============================] - 4s 260ms/step - loss: 0.0017 - mae: 0.0310 - val_loss: 0.0015 - val_mae: 0.0273 - lr: 2.0000e-04\n",
            "Epoch 41/500\n",
            "15/15 [==============================] - 4s 239ms/step - loss: 0.0017 - mae: 0.0310 - val_loss: 0.0015 - val_mae: 0.0273 - lr: 2.0000e-04\n",
            "Epoch 42/500\n",
            "15/15 [==============================] - 7s 448ms/step - loss: 0.0016 - mae: 0.0305 - val_loss: 0.0015 - val_mae: 0.0272 - lr: 2.0000e-04\n",
            "Epoch 43/500\n",
            "15/15 [==============================] - 3s 217ms/step - loss: 0.0017 - mae: 0.0307 - val_loss: 0.0014 - val_mae: 0.0271 - lr: 2.0000e-04\n",
            "Epoch 44/500\n",
            "15/15 [==============================] - 4s 292ms/step - loss: 0.0017 - mae: 0.0311 - val_loss: 0.0014 - val_mae: 0.0268 - lr: 2.0000e-04\n",
            "Epoch 45/500\n",
            "15/15 [==============================] - 6s 378ms/step - loss: 0.0016 - mae: 0.0304 - val_loss: 0.0014 - val_mae: 0.0269 - lr: 2.0000e-04\n",
            "Epoch 46/500\n",
            "15/15 [==============================] - 4s 257ms/step - loss: 0.0016 - mae: 0.0301 - val_loss: 0.0014 - val_mae: 0.0267 - lr: 2.0000e-04\n",
            "Epoch 47/500\n",
            "15/15 [==============================] - 3s 231ms/step - loss: 0.0016 - mae: 0.0302 - val_loss: 0.0014 - val_mae: 0.0265 - lr: 2.0000e-04\n",
            "Epoch 48/500\n",
            "15/15 [==============================] - 5s 313ms/step - loss: 0.0016 - mae: 0.0299 - val_loss: 0.0014 - val_mae: 0.0263 - lr: 2.0000e-04\n",
            "Epoch 49/500\n",
            "15/15 [==============================] - 3s 214ms/step - loss: 0.0017 - mae: 0.0310 - val_loss: 0.0014 - val_mae: 0.0273 - lr: 2.0000e-04\n",
            "Epoch 50/500\n",
            "15/15 [==============================] - 2s 127ms/step - loss: 0.0016 - mae: 0.0292 - val_loss: 0.0014 - val_mae: 0.0262 - lr: 2.0000e-04\n",
            "Epoch 51/500\n",
            "15/15 [==============================] - 2s 127ms/step - loss: 0.0015 - mae: 0.0295 - val_loss: 0.0014 - val_mae: 0.0269 - lr: 2.0000e-04\n",
            "Epoch 52/500\n",
            "15/15 [==============================] - 2s 169ms/step - loss: 0.0016 - mae: 0.0302 - val_loss: 0.0013 - val_mae: 0.0262 - lr: 2.0000e-04\n",
            "Epoch 53/500\n",
            "15/15 [==============================] - 3s 211ms/step - loss: 0.0016 - mae: 0.0297 - val_loss: 0.0013 - val_mae: 0.0260 - lr: 4.0000e-05\n",
            "Epoch 54/500\n",
            "15/15 [==============================] - 2s 139ms/step - loss: 0.0016 - mae: 0.0305 - val_loss: 0.0013 - val_mae: 0.0262 - lr: 4.0000e-05\n",
            "Epoch 55/500\n",
            "15/15 [==============================] - 2s 132ms/step - loss: 0.0017 - mae: 0.0300 - val_loss: 0.0013 - val_mae: 0.0262 - lr: 4.0000e-05\n",
            "Epoch 56/500\n",
            "15/15 [==============================] - 2s 125ms/step - loss: 0.0016 - mae: 0.0301 - val_loss: 0.0013 - val_mae: 0.0261 - lr: 4.0000e-05\n",
            "Epoch 57/500\n",
            "15/15 [==============================] - 2s 131ms/step - loss: 0.0016 - mae: 0.0296 - val_loss: 0.0013 - val_mae: 0.0261 - lr: 4.0000e-05\n",
            "Epoch 58/500\n",
            "15/15 [==============================] - 3s 234ms/step - loss: 0.0017 - mae: 0.0303 - val_loss: 0.0013 - val_mae: 0.0263 - lr: 4.0000e-05\n",
            "Epoch 59/500\n",
            "15/15 [==============================] - 2s 144ms/step - loss: 0.0016 - mae: 0.0300 - val_loss: 0.0013 - val_mae: 0.0262 - lr: 4.0000e-05\n",
            "Epoch 60/500\n",
            "15/15 [==============================] - 2s 127ms/step - loss: 0.0016 - mae: 0.0297 - val_loss: 0.0013 - val_mae: 0.0261 - lr: 4.0000e-05\n",
            "Epoch 61/500\n",
            "15/15 [==============================] - 2s 123ms/step - loss: 0.0016 - mae: 0.0300 - val_loss: 0.0013 - val_mae: 0.0260 - lr: 1.0000e-05\n",
            "Epoch 62/500\n",
            "15/15 [==============================] - 2s 141ms/step - loss: 0.0016 - mae: 0.0297 - val_loss: 0.0013 - val_mae: 0.0260 - lr: 1.0000e-05\n",
            "Epoch 63/500\n",
            "15/15 [==============================] - 3s 216ms/step - loss: 0.0016 - mae: 0.0296 - val_loss: 0.0013 - val_mae: 0.0260 - lr: 1.0000e-05\n",
            "Epoch 64/500\n",
            "15/15 [==============================] - 2s 139ms/step - loss: 0.0016 - mae: 0.0298 - val_loss: 0.0013 - val_mae: 0.0260 - lr: 1.0000e-05\n",
            "Epoch 65/500\n",
            "15/15 [==============================] - 2s 139ms/step - loss: 0.0015 - mae: 0.0293 - val_loss: 0.0013 - val_mae: 0.0260 - lr: 1.0000e-05\n",
            "Epoch 66/500\n",
            "15/15 [==============================] - 2s 137ms/step - loss: 0.0016 - mae: 0.0298 - val_loss: 0.0013 - val_mae: 0.0260 - lr: 1.0000e-05\n",
            "Epoch 67/500\n",
            "15/15 [==============================] - 2s 128ms/step - loss: 0.0015 - mae: 0.0291 - val_loss: 0.0013 - val_mae: 0.0260 - lr: 1.0000e-05\n",
            "Epoch 68/500\n",
            "15/15 [==============================] - 3s 232ms/step - loss: 0.0015 - mae: 0.0292 - val_loss: 0.0013 - val_mae: 0.0260 - lr: 1.0000e-05\n",
            "Epoch 69/500\n",
            "15/15 [==============================] - 2s 138ms/step - loss: 0.0016 - mae: 0.0298 - val_loss: 0.0013 - val_mae: 0.0260 - lr: 1.0000e-05\n",
            "Epoch 70/500\n",
            "15/15 [==============================] - 2s 131ms/step - loss: 0.0016 - mae: 0.0300 - val_loss: 0.0013 - val_mae: 0.0260 - lr: 1.0000e-05\n",
            "Epoch 71/500\n",
            "15/15 [==============================] - 2s 132ms/step - loss: 0.0016 - mae: 0.0298 - val_loss: 0.0013 - val_mae: 0.0260 - lr: 1.0000e-05\n",
            "Epoch 72/500\n",
            "15/15 [==============================] - 2s 141ms/step - loss: 0.0016 - mae: 0.0297 - val_loss: 0.0013 - val_mae: 0.0260 - lr: 1.0000e-05\n",
            "Epoch 73/500\n",
            "15/15 [==============================] - 3s 231ms/step - loss: 0.0015 - mae: 0.0287 - val_loss: 0.0013 - val_mae: 0.0260 - lr: 1.0000e-05\n",
            "Epoch 74/500\n",
            "15/15 [==============================] - 3s 177ms/step - loss: 0.0017 - mae: 0.0301 - val_loss: 0.0013 - val_mae: 0.0260 - lr: 1.0000e-05\n",
            "Epoch 75/500\n",
            "15/15 [==============================] - 2s 157ms/step - loss: 0.0016 - mae: 0.0295 - val_loss: 0.0013 - val_mae: 0.0260 - lr: 1.0000e-05\n",
            "Epoch 76/500\n",
            "15/15 [==============================] - 2s 144ms/step - loss: 0.0016 - mae: 0.0293 - val_loss: 0.0013 - val_mae: 0.0260 - lr: 1.0000e-05\n",
            "Epoch 77/500\n",
            "15/15 [==============================] - 3s 174ms/step - loss: 0.0015 - mae: 0.0293 - val_loss: 0.0013 - val_mae: 0.0260 - lr: 1.0000e-05\n",
            "Epoch 78/500\n",
            "15/15 [==============================] - 2s 135ms/step - loss: 0.0016 - mae: 0.0292 - val_loss: 0.0013 - val_mae: 0.0260 - lr: 1.0000e-05\n",
            "Epoch 79/500\n",
            "15/15 [==============================] - 2s 153ms/step - loss: 0.0016 - mae: 0.0295 - val_loss: 0.0013 - val_mae: 0.0261 - lr: 1.0000e-05\n",
            "Epoch 80/500\n",
            "15/15 [==============================] - 2s 154ms/step - loss: 0.0016 - mae: 0.0299 - val_loss: 0.0013 - val_mae: 0.0261 - lr: 1.0000e-05\n",
            "Epoch 81/500\n",
            "15/15 [==============================] - 2s 133ms/step - loss: 0.0016 - mae: 0.0298 - val_loss: 0.0013 - val_mae: 0.0261 - lr: 1.0000e-05\n",
            "Epoch 82/500\n",
            "15/15 [==============================] - 3s 233ms/step - loss: 0.0016 - mae: 0.0290 - val_loss: 0.0013 - val_mae: 0.0260 - lr: 1.0000e-05\n",
            "Epoch 83/500\n",
            "15/15 [==============================] - 2s 133ms/step - loss: 0.0015 - mae: 0.0295 - val_loss: 0.0013 - val_mae: 0.0260 - lr: 1.0000e-05\n",
            "Epoch 84/500\n",
            "15/15 [==============================] - 2s 137ms/step - loss: 0.0016 - mae: 0.0298 - val_loss: 0.0013 - val_mae: 0.0260 - lr: 1.0000e-05\n",
            "Epoch 85/500\n",
            "15/15 [==============================] - 2s 128ms/step - loss: 0.0015 - mae: 0.0292 - val_loss: 0.0013 - val_mae: 0.0260 - lr: 1.0000e-05\n",
            "Epoch 86/500\n",
            "15/15 [==============================] - 2s 140ms/step - loss: 0.0015 - mae: 0.0289 - val_loss: 0.0013 - val_mae: 0.0260 - lr: 1.0000e-05\n",
            "Epoch 87/500\n",
            "15/15 [==============================] - 3s 230ms/step - loss: 0.0015 - mae: 0.0292 - val_loss: 0.0013 - val_mae: 0.0260 - lr: 1.0000e-05\n",
            "Epoch 88/500\n",
            "15/15 [==============================] - 2s 145ms/step - loss: 0.0015 - mae: 0.0291 - val_loss: 0.0013 - val_mae: 0.0260 - lr: 1.0000e-05\n",
            "Epoch 89/500\n",
            "15/15 [==============================] - 2s 140ms/step - loss: 0.0016 - mae: 0.0299 - val_loss: 0.0013 - val_mae: 0.0260 - lr: 1.0000e-05\n",
            "Epoch 90/500\n",
            "15/15 [==============================] - 2s 145ms/step - loss: 0.0016 - mae: 0.0296 - val_loss: 0.0013 - val_mae: 0.0260 - lr: 1.0000e-05\n",
            "Epoch 91/500\n",
            "15/15 [==============================] - 2s 139ms/step - loss: 0.0015 - mae: 0.0292 - val_loss: 0.0013 - val_mae: 0.0260 - lr: 1.0000e-05\n",
            "Epoch 92/500\n",
            "15/15 [==============================] - 2s 150ms/step - loss: 0.0015 - mae: 0.0292 - val_loss: 0.0013 - val_mae: 0.0259 - lr: 1.0000e-05\n",
            "Epoch 93/500\n",
            "15/15 [==============================] - 3s 228ms/step - loss: 0.0016 - mae: 0.0301 - val_loss: 0.0013 - val_mae: 0.0259 - lr: 1.0000e-05\n",
            "Epoch 94/500\n",
            "15/15 [==============================] - 2s 129ms/step - loss: 0.0015 - mae: 0.0295 - val_loss: 0.0013 - val_mae: 0.0259 - lr: 1.0000e-05\n",
            "Epoch 95/500\n",
            "15/15 [==============================] - 2s 131ms/step - loss: 0.0015 - mae: 0.0293 - val_loss: 0.0013 - val_mae: 0.0259 - lr: 1.0000e-05\n",
            "Epoch 96/500\n",
            "15/15 [==============================] - 2s 130ms/step - loss: 0.0015 - mae: 0.0286 - val_loss: 0.0013 - val_mae: 0.0259 - lr: 1.0000e-05\n",
            "Epoch 97/500\n",
            "15/15 [==============================] - 2s 132ms/step - loss: 0.0015 - mae: 0.0291 - val_loss: 0.0013 - val_mae: 0.0258 - lr: 1.0000e-05\n",
            "Epoch 98/500\n",
            "15/15 [==============================] - 3s 232ms/step - loss: 0.0015 - mae: 0.0290 - val_loss: 0.0013 - val_mae: 0.0258 - lr: 1.0000e-05\n",
            "Epoch 99/500\n",
            "15/15 [==============================] - 2s 128ms/step - loss: 0.0015 - mae: 0.0294 - val_loss: 0.0013 - val_mae: 0.0258 - lr: 1.0000e-05\n",
            "Epoch 100/500\n",
            "15/15 [==============================] - 2s 140ms/step - loss: 0.0015 - mae: 0.0290 - val_loss: 0.0013 - val_mae: 0.0259 - lr: 1.0000e-05\n",
            "Epoch 101/500\n",
            "15/15 [==============================] - 3s 213ms/step - loss: 0.0016 - mae: 0.0294 - val_loss: 0.0013 - val_mae: 0.0258 - lr: 1.0000e-05\n",
            "Epoch 102/500\n",
            "15/15 [==============================] - 4s 248ms/step - loss: 0.0016 - mae: 0.0298 - val_loss: 0.0013 - val_mae: 0.0259 - lr: 1.0000e-05\n",
            "Epoch 103/500\n",
            "15/15 [==============================] - 3s 211ms/step - loss: 0.0015 - mae: 0.0293 - val_loss: 0.0013 - val_mae: 0.0259 - lr: 1.0000e-05\n",
            "Epoch 104/500\n",
            "15/15 [==============================] - 2s 129ms/step - loss: 0.0015 - mae: 0.0291 - val_loss: 0.0013 - val_mae: 0.0258 - lr: 1.0000e-05\n",
            "Epoch 105/500\n",
            "15/15 [==============================] - 2s 134ms/step - loss: 0.0014 - mae: 0.0285 - val_loss: 0.0013 - val_mae: 0.0258 - lr: 1.0000e-05\n",
            "Epoch 106/500\n",
            "15/15 [==============================] - 2s 133ms/step - loss: 0.0015 - mae: 0.0286 - val_loss: 0.0013 - val_mae: 0.0258 - lr: 1.0000e-05\n",
            "Epoch 107/500\n",
            "15/15 [==============================] - 2s 130ms/step - loss: 0.0016 - mae: 0.0292 - val_loss: 0.0013 - val_mae: 0.0259 - lr: 1.0000e-05\n",
            "Epoch 108/500\n",
            "15/15 [==============================] - 2s 135ms/step - loss: 0.0015 - mae: 0.0293 - val_loss: 0.0013 - val_mae: 0.0259 - lr: 1.0000e-05\n",
            "Epoch 109/500\n",
            "15/15 [==============================] - 3s 220ms/step - loss: 0.0016 - mae: 0.0295 - val_loss: 0.0013 - val_mae: 0.0259 - lr: 1.0000e-05\n",
            "Epoch 110/500\n",
            "15/15 [==============================] - 2s 130ms/step - loss: 0.0015 - mae: 0.0296 - val_loss: 0.0013 - val_mae: 0.0259 - lr: 1.0000e-05\n",
            "Epoch 111/500\n",
            "15/15 [==============================] - 2s 140ms/step - loss: 0.0016 - mae: 0.0296 - val_loss: 0.0013 - val_mae: 0.0259 - lr: 1.0000e-05\n",
            "Epoch 112/500\n",
            "15/15 [==============================] - 2s 126ms/step - loss: 0.0016 - mae: 0.0296 - val_loss: 0.0013 - val_mae: 0.0258 - lr: 1.0000e-05\n",
            "Epoch 113/500\n",
            "15/15 [==============================] - 2s 146ms/step - loss: 0.0016 - mae: 0.0299 - val_loss: 0.0013 - val_mae: 0.0258 - lr: 1.0000e-05\n",
            "Epoch 114/500\n",
            "15/15 [==============================] - 5s 314ms/step - loss: 0.0015 - mae: 0.0290 - val_loss: 0.0013 - val_mae: 0.0259 - lr: 1.0000e-05\n",
            "Epoch 115/500\n",
            "15/15 [==============================] - 2s 138ms/step - loss: 0.0016 - mae: 0.0296 - val_loss: 0.0013 - val_mae: 0.0259 - lr: 1.0000e-05\n",
            "Epoch 116/500\n",
            "15/15 [==============================] - 2s 139ms/step - loss: 0.0015 - mae: 0.0290 - val_loss: 0.0013 - val_mae: 0.0259 - lr: 1.0000e-05\n",
            "Epoch 117/500\n",
            "15/15 [==============================] - 2s 144ms/step - loss: 0.0015 - mae: 0.0290 - val_loss: 0.0013 - val_mae: 0.0258 - lr: 1.0000e-05\n",
            "Epoch 118/500\n",
            "15/15 [==============================] - 2s 138ms/step - loss: 0.0016 - mae: 0.0295 - val_loss: 0.0013 - val_mae: 0.0257 - lr: 1.0000e-05\n",
            "Epoch 119/500\n",
            "15/15 [==============================] - 3s 224ms/step - loss: 0.0016 - mae: 0.0295 - val_loss: 0.0013 - val_mae: 0.0257 - lr: 1.0000e-05\n",
            "Epoch 120/500\n",
            "15/15 [==============================] - 2s 152ms/step - loss: 0.0015 - mae: 0.0290 - val_loss: 0.0013 - val_mae: 0.0258 - lr: 1.0000e-05\n",
            "Epoch 121/500\n",
            "15/15 [==============================] - 2s 133ms/step - loss: 0.0015 - mae: 0.0294 - val_loss: 0.0013 - val_mae: 0.0259 - lr: 1.0000e-05\n",
            "Epoch 122/500\n",
            "15/15 [==============================] - 3s 196ms/step - loss: 0.0016 - mae: 0.0294 - val_loss: 0.0013 - val_mae: 0.0258 - lr: 1.0000e-05\n",
            "Epoch 123/500\n",
            "15/15 [==============================] - 4s 243ms/step - loss: 0.0016 - mae: 0.0303 - val_loss: 0.0013 - val_mae: 0.0258 - lr: 1.0000e-05\n",
            "Epoch 124/500\n",
            "15/15 [==============================] - 2s 143ms/step - loss: 0.0016 - mae: 0.0292 - val_loss: 0.0013 - val_mae: 0.0258 - lr: 1.0000e-05\n",
            "Epoch 125/500\n",
            "15/15 [==============================] - 2s 136ms/step - loss: 0.0015 - mae: 0.0294 - val_loss: 0.0013 - val_mae: 0.0257 - lr: 1.0000e-05\n",
            "Epoch 126/500\n",
            "15/15 [==============================] - 2s 137ms/step - loss: 0.0015 - mae: 0.0292 - val_loss: 0.0013 - val_mae: 0.0256 - lr: 1.0000e-05\n",
            "Epoch 127/500\n",
            "15/15 [==============================] - 3s 174ms/step - loss: 0.0016 - mae: 0.0295 - val_loss: 0.0013 - val_mae: 0.0256 - lr: 1.0000e-05\n",
            "Epoch 128/500\n",
            "15/15 [==============================] - 2s 136ms/step - loss: 0.0015 - mae: 0.0292 - val_loss: 0.0013 - val_mae: 0.0257 - lr: 1.0000e-05\n",
            "Epoch 129/500\n",
            "15/15 [==============================] - 2s 143ms/step - loss: 0.0016 - mae: 0.0300 - val_loss: 0.0013 - val_mae: 0.0257 - lr: 1.0000e-05\n",
            "Epoch 130/500\n",
            "15/15 [==============================] - 2s 130ms/step - loss: 0.0014 - mae: 0.0284 - val_loss: 0.0013 - val_mae: 0.0256 - lr: 1.0000e-05\n",
            "Epoch 131/500\n",
            "15/15 [==============================] - 2s 131ms/step - loss: 0.0015 - mae: 0.0290 - val_loss: 0.0013 - val_mae: 0.0256 - lr: 1.0000e-05\n",
            "Epoch 132/500\n",
            "15/15 [==============================] - 3s 178ms/step - loss: 0.0015 - mae: 0.0291 - val_loss: 0.0013 - val_mae: 0.0256 - lr: 1.0000e-05\n",
            "Epoch 133/500\n",
            "15/15 [==============================] - 3s 220ms/step - loss: 0.0016 - mae: 0.0295 - val_loss: 0.0013 - val_mae: 0.0257 - lr: 1.0000e-05\n",
            "Epoch 134/500\n",
            "15/15 [==============================] - 2s 130ms/step - loss: 0.0016 - mae: 0.0296 - val_loss: 0.0013 - val_mae: 0.0258 - lr: 1.0000e-05\n",
            "Epoch 135/500\n",
            "15/15 [==============================] - 2s 131ms/step - loss: 0.0015 - mae: 0.0292 - val_loss: 0.0013 - val_mae: 0.0257 - lr: 1.0000e-05\n",
            "Epoch 136/500\n",
            "15/15 [==============================] - 2s 129ms/step - loss: 0.0016 - mae: 0.0297 - val_loss: 0.0013 - val_mae: 0.0257 - lr: 1.0000e-05\n",
            "Epoch 137/500\n",
            "15/15 [==============================] - 2s 146ms/step - loss: 0.0016 - mae: 0.0296 - val_loss: 0.0013 - val_mae: 0.0258 - lr: 1.0000e-05\n",
            "Epoch 138/500\n",
            "15/15 [==============================] - 3s 220ms/step - loss: 0.0016 - mae: 0.0297 - val_loss: 0.0013 - val_mae: 0.0258 - lr: 1.0000e-05\n",
            "Epoch 139/500\n",
            "15/15 [==============================] - 2s 132ms/step - loss: 0.0015 - mae: 0.0290 - val_loss: 0.0013 - val_mae: 0.0258 - lr: 1.0000e-05\n",
            "Epoch 140/500\n",
            "15/15 [==============================] - 2s 129ms/step - loss: 0.0016 - mae: 0.0300 - val_loss: 0.0013 - val_mae: 0.0257 - lr: 1.0000e-05\n",
            "Epoch 141/500\n",
            "15/15 [==============================] - 2s 138ms/step - loss: 0.0014 - mae: 0.0285 - val_loss: 0.0013 - val_mae: 0.0255 - lr: 1.0000e-05\n",
            "Epoch 142/500\n",
            "15/15 [==============================] - 2s 133ms/step - loss: 0.0015 - mae: 0.0293 - val_loss: 0.0013 - val_mae: 0.0255 - lr: 1.0000e-05\n",
            "Epoch 143/500\n",
            "15/15 [==============================] - 4s 249ms/step - loss: 0.0016 - mae: 0.0297 - val_loss: 0.0013 - val_mae: 0.0256 - lr: 1.0000e-05\n",
            "Epoch 144/500\n",
            "15/15 [==============================] - 2s 159ms/step - loss: 0.0016 - mae: 0.0297 - val_loss: 0.0013 - val_mae: 0.0257 - lr: 1.0000e-05\n",
            "Epoch 145/500\n",
            "15/15 [==============================] - 2s 137ms/step - loss: 0.0016 - mae: 0.0294 - val_loss: 0.0013 - val_mae: 0.0257 - lr: 1.0000e-05\n",
            "Epoch 146/500\n",
            "15/15 [==============================] - 2s 131ms/step - loss: 0.0015 - mae: 0.0287 - val_loss: 0.0013 - val_mae: 0.0256 - lr: 1.0000e-05\n",
            "Epoch 147/500\n",
            "15/15 [==============================] - 2s 128ms/step - loss: 0.0016 - mae: 0.0293 - val_loss: 0.0013 - val_mae: 0.0257 - lr: 1.0000e-05\n",
            "Epoch 148/500\n",
            "15/15 [==============================] - 2s 134ms/step - loss: 0.0015 - mae: 0.0288 - val_loss: 0.0013 - val_mae: 0.0256 - lr: 1.0000e-05\n",
            "Epoch 149/500\n",
            "15/15 [==============================] - 3s 231ms/step - loss: 0.0016 - mae: 0.0297 - val_loss: 0.0013 - val_mae: 0.0256 - lr: 1.0000e-05\n",
            "Epoch 150/500\n",
            "15/15 [==============================] - 2s 128ms/step - loss: 0.0015 - mae: 0.0293 - val_loss: 0.0013 - val_mae: 0.0256 - lr: 1.0000e-05\n",
            "Epoch 151/500\n",
            "15/15 [==============================] - 2s 131ms/step - loss: 0.0015 - mae: 0.0290 - val_loss: 0.0013 - val_mae: 0.0255 - lr: 1.0000e-05\n",
            "Epoch 152/500\n",
            "15/15 [==============================] - 2s 139ms/step - loss: 0.0015 - mae: 0.0286 - val_loss: 0.0013 - val_mae: 0.0255 - lr: 1.0000e-05\n",
            "Epoch 153/500\n",
            "15/15 [==============================] - 2s 143ms/step - loss: 0.0015 - mae: 0.0293 - val_loss: 0.0013 - val_mae: 0.0255 - lr: 1.0000e-05\n",
            "Epoch 154/500\n",
            "15/15 [==============================] - 3s 228ms/step - loss: 0.0015 - mae: 0.0291 - val_loss: 0.0013 - val_mae: 0.0255 - lr: 1.0000e-05\n",
            "Epoch 155/500\n",
            "15/15 [==============================] - 2s 134ms/step - loss: 0.0015 - mae: 0.0290 - val_loss: 0.0013 - val_mae: 0.0255 - lr: 1.0000e-05\n",
            "Epoch 156/500\n",
            "15/15 [==============================] - 2s 135ms/step - loss: 0.0015 - mae: 0.0286 - val_loss: 0.0013 - val_mae: 0.0255 - lr: 1.0000e-05\n",
            "Epoch 157/500\n",
            "15/15 [==============================] - 2s 133ms/step - loss: 0.0015 - mae: 0.0290 - val_loss: 0.0013 - val_mae: 0.0255 - lr: 1.0000e-05\n",
            "Epoch 158/500\n",
            "15/15 [==============================] - 2s 156ms/step - loss: 0.0016 - mae: 0.0293 - val_loss: 0.0013 - val_mae: 0.0255 - lr: 1.0000e-05\n",
            "Epoch 159/500\n",
            "15/15 [==============================] - 3s 228ms/step - loss: 0.0015 - mae: 0.0291 - val_loss: 0.0013 - val_mae: 0.0256 - lr: 1.0000e-05\n",
            "Epoch 160/500\n",
            "15/15 [==============================] - 2s 134ms/step - loss: 0.0016 - mae: 0.0297 - val_loss: 0.0013 - val_mae: 0.0255 - lr: 1.0000e-05\n",
            "Epoch 161/500\n",
            "15/15 [==============================] - 2s 130ms/step - loss: 0.0015 - mae: 0.0286 - val_loss: 0.0013 - val_mae: 0.0255 - lr: 1.0000e-05\n",
            "Epoch 162/500\n",
            "15/15 [==============================] - 2s 143ms/step - loss: 0.0015 - mae: 0.0292 - val_loss: 0.0013 - val_mae: 0.0256 - lr: 1.0000e-05\n",
            "Epoch 163/500\n",
            "15/15 [==============================] - 3s 189ms/step - loss: 0.0016 - mae: 0.0299 - val_loss: 0.0013 - val_mae: 0.0255 - lr: 1.0000e-05\n",
            "Epoch 164/500\n",
            "15/15 [==============================] - 3s 220ms/step - loss: 0.0016 - mae: 0.0297 - val_loss: 0.0013 - val_mae: 0.0254 - lr: 1.0000e-05\n",
            "Epoch 165/500\n",
            "15/15 [==============================] - 2s 156ms/step - loss: 0.0016 - mae: 0.0301 - val_loss: 0.0013 - val_mae: 0.0255 - lr: 1.0000e-05\n",
            "Epoch 166/500\n",
            "15/15 [==============================] - 2s 135ms/step - loss: 0.0015 - mae: 0.0292 - val_loss: 0.0013 - val_mae: 0.0254 - lr: 1.0000e-05\n",
            "Epoch 167/500\n",
            "15/15 [==============================] - 2s 135ms/step - loss: 0.0015 - mae: 0.0290 - val_loss: 0.0013 - val_mae: 0.0253 - lr: 1.0000e-05\n",
            "Epoch 168/500\n",
            "15/15 [==============================] - 2s 129ms/step - loss: 0.0015 - mae: 0.0293 - val_loss: 0.0013 - val_mae: 0.0253 - lr: 1.0000e-05\n",
            "Epoch 169/500\n",
            "15/15 [==============================] - 3s 214ms/step - loss: 0.0015 - mae: 0.0291 - val_loss: 0.0013 - val_mae: 0.0255 - lr: 1.0000e-05\n",
            "Epoch 170/500\n",
            "15/15 [==============================] - 2s 134ms/step - loss: 0.0015 - mae: 0.0288 - val_loss: 0.0013 - val_mae: 0.0256 - lr: 1.0000e-05\n",
            "Epoch 171/500\n",
            "15/15 [==============================] - 2s 126ms/step - loss: 0.0015 - mae: 0.0286 - val_loss: 0.0013 - val_mae: 0.0256 - lr: 1.0000e-05\n",
            "Epoch 172/500\n",
            "15/15 [==============================] - 2s 141ms/step - loss: 0.0015 - mae: 0.0290 - val_loss: 0.0013 - val_mae: 0.0255 - lr: 1.0000e-05\n",
            "Epoch 173/500\n",
            "15/15 [==============================] - 2s 139ms/step - loss: 0.0016 - mae: 0.0291 - val_loss: 0.0013 - val_mae: 0.0255 - lr: 1.0000e-05\n",
            "Epoch 174/500\n",
            "15/15 [==============================] - 3s 224ms/step - loss: 0.0014 - mae: 0.0285 - val_loss: 0.0013 - val_mae: 0.0254 - lr: 1.0000e-05\n",
            "Epoch 175/500\n",
            "15/15 [==============================] - 2s 139ms/step - loss: 0.0014 - mae: 0.0282 - val_loss: 0.0013 - val_mae: 0.0253 - lr: 1.0000e-05\n",
            "Epoch 176/500\n",
            "15/15 [==============================] - 2s 136ms/step - loss: 0.0015 - mae: 0.0288 - val_loss: 0.0013 - val_mae: 0.0254 - lr: 1.0000e-05\n",
            "Epoch 177/500\n",
            "15/15 [==============================] - 2s 143ms/step - loss: 0.0016 - mae: 0.0293 - val_loss: 0.0013 - val_mae: 0.0255 - lr: 1.0000e-05\n",
            "Epoch 178/500\n",
            "15/15 [==============================] - 2s 137ms/step - loss: 0.0015 - mae: 0.0294 - val_loss: 0.0013 - val_mae: 0.0253 - lr: 1.0000e-05\n",
            "Epoch 179/500\n",
            "15/15 [==============================] - 3s 229ms/step - loss: 0.0015 - mae: 0.0290 - val_loss: 0.0013 - val_mae: 0.0252 - lr: 1.0000e-05\n",
            "Epoch 180/500\n",
            "15/15 [==============================] - 2s 152ms/step - loss: 0.0015 - mae: 0.0288 - val_loss: 0.0013 - val_mae: 0.0252 - lr: 1.0000e-05\n",
            "Epoch 181/500\n",
            "15/15 [==============================] - 2s 128ms/step - loss: 0.0015 - mae: 0.0288 - val_loss: 0.0013 - val_mae: 0.0252 - lr: 1.0000e-05\n",
            "Epoch 182/500\n",
            "15/15 [==============================] - 3s 168ms/step - loss: 0.0015 - mae: 0.0291 - val_loss: 0.0013 - val_mae: 0.0254 - lr: 1.0000e-05\n",
            "Epoch 183/500\n",
            "15/15 [==============================] - 3s 226ms/step - loss: 0.0015 - mae: 0.0288 - val_loss: 0.0013 - val_mae: 0.0253 - lr: 1.0000e-05\n",
            "Epoch 184/500\n",
            "15/15 [==============================] - 3s 191ms/step - loss: 0.0015 - mae: 0.0291 - val_loss: 0.0012 - val_mae: 0.0253 - lr: 1.0000e-05\n",
            "Epoch 185/500\n",
            "15/15 [==============================] - 3s 197ms/step - loss: 0.0015 - mae: 0.0292 - val_loss: 0.0012 - val_mae: 0.0253 - lr: 1.0000e-05\n",
            "Epoch 186/500\n",
            "15/15 [==============================] - 2s 143ms/step - loss: 0.0015 - mae: 0.0287 - val_loss: 0.0012 - val_mae: 0.0253 - lr: 1.0000e-05\n",
            "Epoch 187/500\n",
            "15/15 [==============================] - 2s 132ms/step - loss: 0.0016 - mae: 0.0293 - val_loss: 0.0012 - val_mae: 0.0253 - lr: 1.0000e-05\n",
            "Epoch 188/500\n",
            "15/15 [==============================] - 2s 141ms/step - loss: 0.0015 - mae: 0.0290 - val_loss: 0.0012 - val_mae: 0.0253 - lr: 1.0000e-05\n",
            "Epoch 189/500\n",
            "15/15 [==============================] - 3s 226ms/step - loss: 0.0016 - mae: 0.0290 - val_loss: 0.0012 - val_mae: 0.0253 - lr: 1.0000e-05\n",
            "Epoch 190/500\n",
            "15/15 [==============================] - 2s 134ms/step - loss: 0.0015 - mae: 0.0290 - val_loss: 0.0012 - val_mae: 0.0252 - lr: 1.0000e-05\n",
            "Epoch 191/500\n",
            "15/15 [==============================] - 2s 143ms/step - loss: 0.0015 - mae: 0.0290 - val_loss: 0.0012 - val_mae: 0.0252 - lr: 1.0000e-05\n",
            "Epoch 192/500\n",
            "15/15 [==============================] - 2s 127ms/step - loss: 0.0015 - mae: 0.0290 - val_loss: 0.0012 - val_mae: 0.0252 - lr: 1.0000e-05\n",
            "Epoch 193/500\n",
            "15/15 [==============================] - 2s 147ms/step - loss: 0.0015 - mae: 0.0284 - val_loss: 0.0012 - val_mae: 0.0255 - lr: 1.0000e-05\n",
            "Epoch 194/500\n",
            "15/15 [==============================] - 3s 229ms/step - loss: 0.0015 - mae: 0.0284 - val_loss: 0.0012 - val_mae: 0.0255 - lr: 1.0000e-05\n",
            "Epoch 195/500\n",
            "15/15 [==============================] - 2s 127ms/step - loss: 0.0016 - mae: 0.0293 - val_loss: 0.0012 - val_mae: 0.0254 - lr: 1.0000e-05\n",
            "Epoch 196/500\n",
            "15/15 [==============================] - 2s 130ms/step - loss: 0.0015 - mae: 0.0284 - val_loss: 0.0012 - val_mae: 0.0252 - lr: 1.0000e-05\n",
            "Epoch 197/500\n",
            "15/15 [==============================] - 2s 143ms/step - loss: 0.0015 - mae: 0.0291 - val_loss: 0.0012 - val_mae: 0.0251 - lr: 1.0000e-05\n",
            "Epoch 198/500\n",
            "15/15 [==============================] - 2s 132ms/step - loss: 0.0015 - mae: 0.0281 - val_loss: 0.0012 - val_mae: 0.0251 - lr: 1.0000e-05\n",
            "Epoch 199/500\n",
            "15/15 [==============================] - 3s 222ms/step - loss: 0.0015 - mae: 0.0288 - val_loss: 0.0012 - val_mae: 0.0253 - lr: 1.0000e-05\n",
            "Epoch 200/500\n",
            "15/15 [==============================] - 2s 127ms/step - loss: 0.0015 - mae: 0.0288 - val_loss: 0.0012 - val_mae: 0.0253 - lr: 1.0000e-05\n",
            "Epoch 201/500\n",
            "15/15 [==============================] - 2s 139ms/step - loss: 0.0016 - mae: 0.0292 - val_loss: 0.0012 - val_mae: 0.0254 - lr: 1.0000e-05\n",
            "Epoch 202/500\n",
            "15/15 [==============================] - 2s 129ms/step - loss: 0.0016 - mae: 0.0295 - val_loss: 0.0012 - val_mae: 0.0252 - lr: 1.0000e-05\n",
            "Epoch 203/500\n",
            "15/15 [==============================] - 2s 129ms/step - loss: 0.0015 - mae: 0.0285 - val_loss: 0.0012 - val_mae: 0.0252 - lr: 1.0000e-05\n",
            "Epoch 204/500\n",
            "15/15 [==============================] - 3s 209ms/step - loss: 0.0015 - mae: 0.0286 - val_loss: 0.0012 - val_mae: 0.0252 - lr: 1.0000e-05\n",
            "Epoch 205/500\n",
            "15/15 [==============================] - 2s 130ms/step - loss: 0.0014 - mae: 0.0284 - val_loss: 0.0012 - val_mae: 0.0251 - lr: 1.0000e-05\n",
            "Epoch 206/500\n",
            "15/15 [==============================] - 2s 129ms/step - loss: 0.0015 - mae: 0.0284 - val_loss: 0.0012 - val_mae: 0.0252 - lr: 1.0000e-05\n",
            "Epoch 207/500\n",
            "15/15 [==============================] - 3s 238ms/step - loss: 0.0015 - mae: 0.0285 - val_loss: 0.0012 - val_mae: 0.0252 - lr: 1.0000e-05\n",
            "Epoch 208/500\n",
            "15/15 [==============================] - 5s 338ms/step - loss: 0.0015 - mae: 0.0290 - val_loss: 0.0012 - val_mae: 0.0252 - lr: 1.0000e-05\n",
            "Epoch 209/500\n",
            "15/15 [==============================] - 4s 234ms/step - loss: 0.0015 - mae: 0.0285 - val_loss: 0.0012 - val_mae: 0.0251 - lr: 1.0000e-05\n",
            "Epoch 210/500\n",
            "15/15 [==============================] - 3s 207ms/step - loss: 0.0015 - mae: 0.0292 - val_loss: 0.0012 - val_mae: 0.0252 - lr: 1.0000e-05\n",
            "Epoch 211/500\n",
            "15/15 [==============================] - 2s 135ms/step - loss: 0.0015 - mae: 0.0288 - val_loss: 0.0012 - val_mae: 0.0253 - lr: 1.0000e-05\n",
            "Epoch 212/500\n",
            "15/15 [==============================] - 3s 212ms/step - loss: 0.0015 - mae: 0.0296 - val_loss: 0.0012 - val_mae: 0.0253 - lr: 1.0000e-05\n",
            "Epoch 213/500\n",
            "15/15 [==============================] - 2s 135ms/step - loss: 0.0014 - mae: 0.0285 - val_loss: 0.0012 - val_mae: 0.0252 - lr: 1.0000e-05\n",
            "Epoch 214/500\n",
            "15/15 [==============================] - 2s 144ms/step - loss: 0.0015 - mae: 0.0285 - val_loss: 0.0012 - val_mae: 0.0250 - lr: 1.0000e-05\n",
            "Epoch 215/500\n",
            "15/15 [==============================] - 2s 127ms/step - loss: 0.0015 - mae: 0.0291 - val_loss: 0.0012 - val_mae: 0.0251 - lr: 1.0000e-05\n",
            "Epoch 216/500\n",
            "15/15 [==============================] - 2s 129ms/step - loss: 0.0015 - mae: 0.0288 - val_loss: 0.0012 - val_mae: 0.0253 - lr: 1.0000e-05\n",
            "Epoch 217/500\n",
            "15/15 [==============================] - 4s 237ms/step - loss: 0.0015 - mae: 0.0288 - val_loss: 0.0012 - val_mae: 0.0252 - lr: 1.0000e-05\n",
            "Epoch 218/500\n",
            "15/15 [==============================] - 2s 127ms/step - loss: 0.0014 - mae: 0.0281 - val_loss: 0.0012 - val_mae: 0.0252 - lr: 1.0000e-05\n",
            "Epoch 219/500\n",
            "15/15 [==============================] - 2s 129ms/step - loss: 0.0015 - mae: 0.0289 - val_loss: 0.0012 - val_mae: 0.0250 - lr: 1.0000e-05\n",
            "Epoch 220/500\n",
            "15/15 [==============================] - 2s 129ms/step - loss: 0.0014 - mae: 0.0283 - val_loss: 0.0012 - val_mae: 0.0250 - lr: 1.0000e-05\n",
            "Epoch 221/500\n",
            "15/15 [==============================] - 2s 128ms/step - loss: 0.0015 - mae: 0.0283 - val_loss: 0.0012 - val_mae: 0.0249 - lr: 1.0000e-05\n",
            "Epoch 222/500\n",
            "15/15 [==============================] - 3s 207ms/step - loss: 0.0015 - mae: 0.0287 - val_loss: 0.0012 - val_mae: 0.0251 - lr: 1.0000e-05\n",
            "Epoch 223/500\n",
            "15/15 [==============================] - 2s 131ms/step - loss: 0.0015 - mae: 0.0290 - val_loss: 0.0012 - val_mae: 0.0251 - lr: 1.0000e-05\n",
            "Epoch 224/500\n",
            "15/15 [==============================] - 2s 132ms/step - loss: 0.0015 - mae: 0.0292 - val_loss: 0.0012 - val_mae: 0.0251 - lr: 1.0000e-05\n",
            "Epoch 225/500\n",
            "15/15 [==============================] - 2s 129ms/step - loss: 0.0015 - mae: 0.0286 - val_loss: 0.0012 - val_mae: 0.0251 - lr: 1.0000e-05\n",
            "Epoch 226/500\n",
            "15/15 [==============================] - 2s 140ms/step - loss: 0.0015 - mae: 0.0288 - val_loss: 0.0012 - val_mae: 0.0251 - lr: 1.0000e-05\n",
            "Epoch 227/500\n",
            "15/15 [==============================] - 3s 212ms/step - loss: 0.0015 - mae: 0.0287 - val_loss: 0.0012 - val_mae: 0.0250 - lr: 1.0000e-05\n",
            "Epoch 228/500\n",
            "15/15 [==============================] - 2s 139ms/step - loss: 0.0015 - mae: 0.0287 - val_loss: 0.0012 - val_mae: 0.0250 - lr: 1.0000e-05\n",
            "Epoch 229/500\n",
            "15/15 [==============================] - 2s 132ms/step - loss: 0.0015 - mae: 0.0285 - val_loss: 0.0012 - val_mae: 0.0249 - lr: 1.0000e-05\n",
            "Epoch 230/500\n",
            "15/15 [==============================] - 2s 129ms/step - loss: 0.0015 - mae: 0.0289 - val_loss: 0.0012 - val_mae: 0.0249 - lr: 1.0000e-05\n",
            "Epoch 231/500\n",
            "15/15 [==============================] - 2s 128ms/step - loss: 0.0015 - mae: 0.0288 - val_loss: 0.0012 - val_mae: 0.0250 - lr: 1.0000e-05\n",
            "Epoch 232/500\n",
            "15/15 [==============================] - 3s 174ms/step - loss: 0.0015 - mae: 0.0288 - val_loss: 0.0012 - val_mae: 0.0250 - lr: 1.0000e-05\n",
            "Epoch 233/500\n",
            "15/15 [==============================] - 2s 132ms/step - loss: 0.0015 - mae: 0.0294 - val_loss: 0.0012 - val_mae: 0.0250 - lr: 1.0000e-05\n",
            "Epoch 234/500\n",
            "15/15 [==============================] - 2s 131ms/step - loss: 0.0014 - mae: 0.0283 - val_loss: 0.0012 - val_mae: 0.0250 - lr: 1.0000e-05\n",
            "Epoch 235/500\n",
            "15/15 [==============================] - 2s 142ms/step - loss: 0.0014 - mae: 0.0284 - val_loss: 0.0012 - val_mae: 0.0249 - lr: 1.0000e-05\n",
            "Epoch 236/500\n",
            "15/15 [==============================] - 2s 136ms/step - loss: 0.0015 - mae: 0.0288 - val_loss: 0.0012 - val_mae: 0.0250 - lr: 1.0000e-05\n",
            "Epoch 237/500\n",
            "15/15 [==============================] - 3s 225ms/step - loss: 0.0014 - mae: 0.0275 - val_loss: 0.0012 - val_mae: 0.0251 - lr: 1.0000e-05\n",
            "Epoch 238/500\n",
            "15/15 [==============================] - 2s 142ms/step - loss: 0.0015 - mae: 0.0289 - val_loss: 0.0012 - val_mae: 0.0249 - lr: 1.0000e-05\n",
            "Epoch 239/500\n",
            "15/15 [==============================] - 2s 131ms/step - loss: 0.0015 - mae: 0.0285 - val_loss: 0.0012 - val_mae: 0.0248 - lr: 1.0000e-05\n",
            "Epoch 240/500\n",
            "15/15 [==============================] - 2s 131ms/step - loss: 0.0015 - mae: 0.0287 - val_loss: 0.0012 - val_mae: 0.0248 - lr: 1.0000e-05\n",
            "Epoch 241/500\n",
            "15/15 [==============================] - 2s 128ms/step - loss: 0.0015 - mae: 0.0291 - val_loss: 0.0012 - val_mae: 0.0249 - lr: 1.0000e-05\n",
            "Epoch 242/500\n",
            "15/15 [==============================] - 3s 208ms/step - loss: 0.0014 - mae: 0.0283 - val_loss: 0.0012 - val_mae: 0.0250 - lr: 1.0000e-05\n",
            "Epoch 243/500\n",
            "15/15 [==============================] - 2s 128ms/step - loss: 0.0014 - mae: 0.0285 - val_loss: 0.0012 - val_mae: 0.0251 - lr: 1.0000e-05\n",
            "Epoch 244/500\n",
            "15/15 [==============================] - 2s 138ms/step - loss: 0.0015 - mae: 0.0287 - val_loss: 0.0012 - val_mae: 0.0250 - lr: 1.0000e-05\n",
            "Epoch 245/500\n",
            "15/15 [==============================] - 2s 129ms/step - loss: 0.0015 - mae: 0.0286 - val_loss: 0.0012 - val_mae: 0.0250 - lr: 1.0000e-05\n",
            "Epoch 246/500\n",
            "15/15 [==============================] - 2s 167ms/step - loss: 0.0015 - mae: 0.0291 - val_loss: 0.0012 - val_mae: 0.0251 - lr: 1.0000e-05\n",
            "Epoch 247/500\n",
            "15/15 [==============================] - 3s 224ms/step - loss: 0.0014 - mae: 0.0280 - val_loss: 0.0012 - val_mae: 0.0251 - lr: 1.0000e-05\n",
            "Epoch 248/500\n",
            "15/15 [==============================] - 2s 145ms/step - loss: 0.0015 - mae: 0.0291 - val_loss: 0.0012 - val_mae: 0.0251 - lr: 1.0000e-05\n",
            "Epoch 249/500\n",
            "15/15 [==============================] - 2s 143ms/step - loss: 0.0016 - mae: 0.0291 - val_loss: 0.0012 - val_mae: 0.0247 - lr: 1.0000e-05\n",
            "Epoch 250/500\n",
            "15/15 [==============================] - 2s 135ms/step - loss: 0.0015 - mae: 0.0283 - val_loss: 0.0012 - val_mae: 0.0246 - lr: 1.0000e-05\n",
            "Epoch 251/500\n",
            "15/15 [==============================] - 2s 143ms/step - loss: 0.0015 - mae: 0.0284 - val_loss: 0.0012 - val_mae: 0.0247 - lr: 1.0000e-05\n",
            "Epoch 252/500\n",
            "15/15 [==============================] - 3s 228ms/step - loss: 0.0015 - mae: 0.0285 - val_loss: 0.0012 - val_mae: 0.0248 - lr: 1.0000e-05\n",
            "Epoch 253/500\n",
            "15/15 [==============================] - 2s 132ms/step - loss: 0.0015 - mae: 0.0287 - val_loss: 0.0012 - val_mae: 0.0247 - lr: 1.0000e-05\n",
            "Epoch 254/500\n",
            "15/15 [==============================] - 2s 135ms/step - loss: 0.0015 - mae: 0.0288 - val_loss: 0.0012 - val_mae: 0.0247 - lr: 1.0000e-05\n",
            "Epoch 255/500\n",
            "15/15 [==============================] - 2s 129ms/step - loss: 0.0014 - mae: 0.0283 - val_loss: 0.0012 - val_mae: 0.0247 - lr: 1.0000e-05\n",
            "Epoch 256/500\n",
            "15/15 [==============================] - 2s 144ms/step - loss: 0.0016 - mae: 0.0291 - val_loss: 0.0012 - val_mae: 0.0248 - lr: 1.0000e-05\n",
            "Epoch 257/500\n",
            "15/15 [==============================] - 3s 226ms/step - loss: 0.0015 - mae: 0.0287 - val_loss: 0.0012 - val_mae: 0.0250 - lr: 1.0000e-05\n",
            "Epoch 258/500\n",
            "15/15 [==============================] - 2s 129ms/step - loss: 0.0015 - mae: 0.0282 - val_loss: 0.0012 - val_mae: 0.0250 - lr: 1.0000e-05\n",
            "Epoch 259/500\n",
            "15/15 [==============================] - 3s 179ms/step - loss: 0.0014 - mae: 0.0282 - val_loss: 0.0012 - val_mae: 0.0248 - lr: 1.0000e-05\n",
            "Epoch 260/500\n",
            "15/15 [==============================] - 3s 171ms/step - loss: 0.0014 - mae: 0.0282 - val_loss: 0.0012 - val_mae: 0.0249 - lr: 1.0000e-05\n",
            "Epoch 261/500\n",
            "15/15 [==============================] - 3s 220ms/step - loss: 0.0015 - mae: 0.0287 - val_loss: 0.0012 - val_mae: 0.0249 - lr: 1.0000e-05\n",
            "Epoch 262/500\n",
            "15/15 [==============================] - 2s 129ms/step - loss: 0.0015 - mae: 0.0293 - val_loss: 0.0012 - val_mae: 0.0247 - lr: 1.0000e-05\n",
            "Epoch 263/500\n",
            "15/15 [==============================] - 2s 131ms/step - loss: 0.0014 - mae: 0.0281 - val_loss: 0.0012 - val_mae: 0.0246 - lr: 1.0000e-05\n",
            "Epoch 264/500\n",
            "15/15 [==============================] - 2s 131ms/step - loss: 0.0015 - mae: 0.0287 - val_loss: 0.0012 - val_mae: 0.0246 - lr: 1.0000e-05\n",
            "Epoch 265/500\n",
            "15/15 [==============================] - 2s 143ms/step - loss: 0.0015 - mae: 0.0282 - val_loss: 0.0012 - val_mae: 0.0246 - lr: 1.0000e-05\n",
            "Epoch 266/500\n",
            "15/15 [==============================] - 3s 226ms/step - loss: 0.0014 - mae: 0.0281 - val_loss: 0.0012 - val_mae: 0.0248 - lr: 1.0000e-05\n",
            "Epoch 267/500\n",
            "15/15 [==============================] - 2s 140ms/step - loss: 0.0015 - mae: 0.0289 - val_loss: 0.0012 - val_mae: 0.0247 - lr: 1.0000e-05\n",
            "Epoch 268/500\n",
            "15/15 [==============================] - 2s 145ms/step - loss: 0.0015 - mae: 0.0282 - val_loss: 0.0012 - val_mae: 0.0247 - lr: 1.0000e-05\n",
            "Epoch 269/500\n",
            "15/15 [==============================] - 2s 142ms/step - loss: 0.0015 - mae: 0.0286 - val_loss: 0.0012 - val_mae: 0.0247 - lr: 1.0000e-05\n",
            "Epoch 270/500\n",
            "15/15 [==============================] - 2s 137ms/step - loss: 0.0015 - mae: 0.0285 - val_loss: 0.0012 - val_mae: 0.0245 - lr: 1.0000e-05\n",
            "Epoch 271/500\n",
            "15/15 [==============================] - 3s 221ms/step - loss: 0.0015 - mae: 0.0291 - val_loss: 0.0012 - val_mae: 0.0246 - lr: 1.0000e-05\n",
            "Epoch 272/500\n",
            "15/15 [==============================] - 2s 131ms/step - loss: 0.0015 - mae: 0.0286 - val_loss: 0.0012 - val_mae: 0.0245 - lr: 1.0000e-05\n",
            "Epoch 273/500\n",
            "15/15 [==============================] - 2s 132ms/step - loss: 0.0014 - mae: 0.0283 - val_loss: 0.0012 - val_mae: 0.0246 - lr: 1.0000e-05\n",
            "Epoch 274/500\n",
            "15/15 [==============================] - 2s 130ms/step - loss: 0.0014 - mae: 0.0282 - val_loss: 0.0012 - val_mae: 0.0247 - lr: 1.0000e-05\n",
            "Epoch 275/500\n",
            "15/15 [==============================] - 2s 139ms/step - loss: 0.0014 - mae: 0.0284 - val_loss: 0.0012 - val_mae: 0.0246 - lr: 1.0000e-05\n",
            "Epoch 276/500\n",
            "15/15 [==============================] - 3s 234ms/step - loss: 0.0014 - mae: 0.0280 - val_loss: 0.0012 - val_mae: 0.0247 - lr: 1.0000e-05\n",
            "Epoch 277/500\n",
            "15/15 [==============================] - 2s 137ms/step - loss: 0.0015 - mae: 0.0286 - val_loss: 0.0012 - val_mae: 0.0247 - lr: 1.0000e-05\n",
            "Epoch 278/500\n",
            "15/15 [==============================] - 2s 132ms/step - loss: 0.0015 - mae: 0.0288 - val_loss: 0.0012 - val_mae: 0.0247 - lr: 1.0000e-05\n",
            "Epoch 279/500\n",
            "15/15 [==============================] - 2s 136ms/step - loss: 0.0015 - mae: 0.0289 - val_loss: 0.0012 - val_mae: 0.0246 - lr: 1.0000e-05\n",
            "Epoch 280/500\n",
            "15/15 [==============================] - 2s 169ms/step - loss: 0.0015 - mae: 0.0280 - val_loss: 0.0012 - val_mae: 0.0246 - lr: 1.0000e-05\n",
            "Epoch 281/500\n",
            "15/15 [==============================] - 3s 229ms/step - loss: 0.0014 - mae: 0.0278 - val_loss: 0.0012 - val_mae: 0.0245 - lr: 1.0000e-05\n",
            "Epoch 282/500\n",
            "15/15 [==============================] - 2s 136ms/step - loss: 0.0014 - mae: 0.0279 - val_loss: 0.0012 - val_mae: 0.0246 - lr: 1.0000e-05\n",
            "Epoch 283/500\n",
            "15/15 [==============================] - 2s 129ms/step - loss: 0.0014 - mae: 0.0281 - val_loss: 0.0012 - val_mae: 0.0247 - lr: 1.0000e-05\n",
            "Epoch 284/500\n",
            "15/15 [==============================] - 2s 146ms/step - loss: 0.0014 - mae: 0.0279 - val_loss: 0.0012 - val_mae: 0.0245 - lr: 1.0000e-05\n",
            "Epoch 285/500\n",
            "15/15 [==============================] - 2s 151ms/step - loss: 0.0014 - mae: 0.0284 - val_loss: 0.0012 - val_mae: 0.0245 - lr: 1.0000e-05\n",
            "Epoch 286/500\n",
            "15/15 [==============================] - 3s 226ms/step - loss: 0.0014 - mae: 0.0280 - val_loss: 0.0012 - val_mae: 0.0246 - lr: 1.0000e-05\n",
            "Epoch 287/500\n",
            "15/15 [==============================] - 2s 132ms/step - loss: 0.0014 - mae: 0.0279 - val_loss: 0.0012 - val_mae: 0.0247 - lr: 1.0000e-05\n",
            "Epoch 288/500\n",
            "15/15 [==============================] - 2s 142ms/step - loss: 0.0015 - mae: 0.0286 - val_loss: 0.0012 - val_mae: 0.0244 - lr: 1.0000e-05\n",
            "Epoch 289/500\n",
            "15/15 [==============================] - 2s 142ms/step - loss: 0.0014 - mae: 0.0278 - val_loss: 0.0012 - val_mae: 0.0245 - lr: 1.0000e-05\n",
            "Epoch 290/500\n",
            "15/15 [==============================] - 2s 159ms/step - loss: 0.0015 - mae: 0.0290 - val_loss: 0.0012 - val_mae: 0.0245 - lr: 1.0000e-05\n",
            "Epoch 291/500\n",
            "15/15 [==============================] - 3s 230ms/step - loss: 0.0014 - mae: 0.0281 - val_loss: 0.0012 - val_mae: 0.0245 - lr: 1.0000e-05\n",
            "Epoch 292/500\n",
            "15/15 [==============================] - 2s 143ms/step - loss: 0.0015 - mae: 0.0283 - val_loss: 0.0012 - val_mae: 0.0247 - lr: 1.0000e-05\n",
            "Epoch 293/500\n",
            "15/15 [==============================] - 2s 143ms/step - loss: 0.0015 - mae: 0.0285 - val_loss: 0.0011 - val_mae: 0.0245 - lr: 1.0000e-05\n",
            "Epoch 294/500\n",
            "15/15 [==============================] - 2s 134ms/step - loss: 0.0014 - mae: 0.0281 - val_loss: 0.0011 - val_mae: 0.0244 - lr: 1.0000e-05\n",
            "Epoch 295/500\n",
            "15/15 [==============================] - 2s 167ms/step - loss: 0.0014 - mae: 0.0279 - val_loss: 0.0011 - val_mae: 0.0245 - lr: 1.0000e-05\n",
            "Epoch 296/500\n",
            "15/15 [==============================] - 3s 227ms/step - loss: 0.0015 - mae: 0.0284 - val_loss: 0.0011 - val_mae: 0.0244 - lr: 1.0000e-05\n",
            "Epoch 297/500\n",
            "15/15 [==============================] - 2s 134ms/step - loss: 0.0015 - mae: 0.0285 - val_loss: 0.0011 - val_mae: 0.0245 - lr: 1.0000e-05\n",
            "Epoch 298/500\n",
            "15/15 [==============================] - 2s 137ms/step - loss: 0.0014 - mae: 0.0280 - val_loss: 0.0011 - val_mae: 0.0246 - lr: 1.0000e-05\n",
            "Epoch 299/500\n",
            "15/15 [==============================] - 2s 131ms/step - loss: 0.0014 - mae: 0.0282 - val_loss: 0.0011 - val_mae: 0.0244 - lr: 1.0000e-05\n",
            "Epoch 300/500\n",
            "15/15 [==============================] - 2s 131ms/step - loss: 0.0014 - mae: 0.0280 - val_loss: 0.0011 - val_mae: 0.0243 - lr: 1.0000e-05\n",
            "Epoch 301/500\n",
            "15/15 [==============================] - 3s 237ms/step - loss: 0.0014 - mae: 0.0280 - val_loss: 0.0011 - val_mae: 0.0244 - lr: 1.0000e-05\n",
            "Epoch 302/500\n",
            "15/15 [==============================] - 2s 137ms/step - loss: 0.0015 - mae: 0.0285 - val_loss: 0.0011 - val_mae: 0.0243 - lr: 1.0000e-05\n",
            "Epoch 303/500\n",
            "15/15 [==============================] - 2s 135ms/step - loss: 0.0014 - mae: 0.0283 - val_loss: 0.0011 - val_mae: 0.0242 - lr: 1.0000e-05\n",
            "Epoch 304/500\n",
            "15/15 [==============================] - 2s 131ms/step - loss: 0.0014 - mae: 0.0282 - val_loss: 0.0011 - val_mae: 0.0244 - lr: 1.0000e-05\n",
            "Epoch 305/500\n",
            "15/15 [==============================] - 2s 131ms/step - loss: 0.0014 - mae: 0.0278 - val_loss: 0.0011 - val_mae: 0.0245 - lr: 1.0000e-05\n",
            "Epoch 306/500\n",
            "15/15 [==============================] - 3s 231ms/step - loss: 0.0015 - mae: 0.0283 - val_loss: 0.0011 - val_mae: 0.0245 - lr: 1.0000e-05\n",
            "Epoch 307/500\n",
            "15/15 [==============================] - 2s 130ms/step - loss: 0.0015 - mae: 0.0282 - val_loss: 0.0011 - val_mae: 0.0244 - lr: 1.0000e-05\n",
            "Epoch 308/500\n",
            "15/15 [==============================] - 2s 134ms/step - loss: 0.0014 - mae: 0.0286 - val_loss: 0.0011 - val_mae: 0.0243 - lr: 1.0000e-05\n",
            "Epoch 309/500\n",
            "15/15 [==============================] - 2s 134ms/step - loss: 0.0014 - mae: 0.0281 - val_loss: 0.0011 - val_mae: 0.0242 - lr: 1.0000e-05\n",
            "Epoch 310/500\n",
            "15/15 [==============================] - 2s 140ms/step - loss: 0.0014 - mae: 0.0280 - val_loss: 0.0011 - val_mae: 0.0244 - lr: 1.0000e-05\n",
            "Epoch 311/500\n",
            "15/15 [==============================] - 2s 163ms/step - loss: 0.0015 - mae: 0.0288 - val_loss: 0.0011 - val_mae: 0.0243 - lr: 1.0000e-05\n",
            "Epoch 312/500\n",
            "15/15 [==============================] - 3s 230ms/step - loss: 0.0014 - mae: 0.0279 - val_loss: 0.0011 - val_mae: 0.0244 - lr: 1.0000e-05\n",
            "Epoch 313/500\n",
            "15/15 [==============================] - 2s 132ms/step - loss: 0.0014 - mae: 0.0281 - val_loss: 0.0011 - val_mae: 0.0244 - lr: 1.0000e-05\n",
            "Epoch 314/500\n",
            "15/15 [==============================] - 2s 143ms/step - loss: 0.0014 - mae: 0.0280 - val_loss: 0.0011 - val_mae: 0.0242 - lr: 1.0000e-05\n",
            "Epoch 315/500\n",
            "15/15 [==============================] - 2s 129ms/step - loss: 0.0013 - mae: 0.0277 - val_loss: 0.0011 - val_mae: 0.0244 - lr: 1.0000e-05\n",
            "Epoch 316/500\n",
            "15/15 [==============================] - 2s 132ms/step - loss: 0.0014 - mae: 0.0278 - val_loss: 0.0011 - val_mae: 0.0243 - lr: 1.0000e-05\n",
            "Epoch 317/500\n",
            "15/15 [==============================] - 2s 157ms/step - loss: 0.0014 - mae: 0.0280 - val_loss: 0.0011 - val_mae: 0.0241 - lr: 1.0000e-05\n",
            "Epoch 318/500\n",
            "15/15 [==============================] - 3s 227ms/step - loss: 0.0015 - mae: 0.0283 - val_loss: 0.0011 - val_mae: 0.0241 - lr: 1.0000e-05\n",
            "Epoch 319/500\n",
            "15/15 [==============================] - 2s 143ms/step - loss: 0.0015 - mae: 0.0284 - val_loss: 0.0011 - val_mae: 0.0242 - lr: 1.0000e-05\n",
            "Epoch 320/500\n",
            "15/15 [==============================] - 2s 142ms/step - loss: 0.0014 - mae: 0.0278 - val_loss: 0.0011 - val_mae: 0.0241 - lr: 1.0000e-05\n",
            "Epoch 321/500\n",
            "15/15 [==============================] - 2s 131ms/step - loss: 0.0015 - mae: 0.0283 - val_loss: 0.0011 - val_mae: 0.0242 - lr: 1.0000e-05\n",
            "Epoch 322/500\n",
            "15/15 [==============================] - 3s 197ms/step - loss: 0.0014 - mae: 0.0281 - val_loss: 0.0011 - val_mae: 0.0243 - lr: 1.0000e-05\n",
            "Epoch 323/500\n",
            "15/15 [==============================] - 3s 199ms/step - loss: 0.0014 - mae: 0.0275 - val_loss: 0.0011 - val_mae: 0.0242 - lr: 1.0000e-05\n",
            "Epoch 324/500\n",
            "15/15 [==============================] - 2s 143ms/step - loss: 0.0014 - mae: 0.0278 - val_loss: 0.0011 - val_mae: 0.0242 - lr: 1.0000e-05\n",
            "Epoch 325/500\n",
            "15/15 [==============================] - 2s 142ms/step - loss: 0.0014 - mae: 0.0281 - val_loss: 0.0011 - val_mae: 0.0242 - lr: 1.0000e-05\n",
            "Epoch 326/500\n",
            "15/15 [==============================] - 2s 133ms/step - loss: 0.0014 - mae: 0.0281 - val_loss: 0.0011 - val_mae: 0.0240 - lr: 1.0000e-05\n",
            "Epoch 327/500\n",
            "15/15 [==============================] - 3s 228ms/step - loss: 0.0014 - mae: 0.0278 - val_loss: 0.0011 - val_mae: 0.0240 - lr: 1.0000e-05\n",
            "Epoch 328/500\n",
            "15/15 [==============================] - 2s 134ms/step - loss: 0.0014 - mae: 0.0280 - val_loss: 0.0011 - val_mae: 0.0242 - lr: 1.0000e-05\n",
            "Epoch 329/500\n",
            "15/15 [==============================] - 2s 131ms/step - loss: 0.0014 - mae: 0.0281 - val_loss: 0.0011 - val_mae: 0.0243 - lr: 1.0000e-05\n",
            "Epoch 330/500\n",
            "15/15 [==============================] - 2s 129ms/step - loss: 0.0015 - mae: 0.0283 - val_loss: 0.0011 - val_mae: 0.0244 - lr: 1.0000e-05\n",
            "Epoch 331/500\n",
            "15/15 [==============================] - 2s 133ms/step - loss: 0.0014 - mae: 0.0276 - val_loss: 0.0011 - val_mae: 0.0244 - lr: 1.0000e-05\n",
            "Epoch 332/500\n",
            "15/15 [==============================] - 3s 232ms/step - loss: 0.0014 - mae: 0.0280 - val_loss: 0.0011 - val_mae: 0.0243 - lr: 1.0000e-05\n",
            "Epoch 333/500\n",
            "15/15 [==============================] - 2s 153ms/step - loss: 0.0014 - mae: 0.0276 - val_loss: 0.0011 - val_mae: 0.0241 - lr: 1.0000e-05\n",
            "Epoch 334/500\n",
            "15/15 [==============================] - 2s 137ms/step - loss: 0.0014 - mae: 0.0280 - val_loss: 0.0011 - val_mae: 0.0241 - lr: 1.0000e-05\n",
            "Epoch 335/500\n",
            "15/15 [==============================] - 2s 133ms/step - loss: 0.0015 - mae: 0.0283 - val_loss: 0.0011 - val_mae: 0.0240 - lr: 1.0000e-05\n",
            "Epoch 336/500\n",
            "15/15 [==============================] - 2s 169ms/step - loss: 0.0014 - mae: 0.0279 - val_loss: 0.0011 - val_mae: 0.0241 - lr: 1.0000e-05\n",
            "Epoch 337/500\n",
            "15/15 [==============================] - 4s 235ms/step - loss: 0.0014 - mae: 0.0285 - val_loss: 0.0011 - val_mae: 0.0241 - lr: 1.0000e-05\n",
            "Epoch 338/500\n",
            "15/15 [==============================] - 3s 169ms/step - loss: 0.0014 - mae: 0.0279 - val_loss: 0.0011 - val_mae: 0.0241 - lr: 1.0000e-05\n",
            "Epoch 339/500\n",
            "15/15 [==============================] - 2s 133ms/step - loss: 0.0014 - mae: 0.0278 - val_loss: 0.0011 - val_mae: 0.0242 - lr: 1.0000e-05\n",
            "Epoch 340/500\n",
            "15/15 [==============================] - 2s 164ms/step - loss: 0.0014 - mae: 0.0280 - val_loss: 0.0011 - val_mae: 0.0244 - lr: 1.0000e-05\n",
            "Epoch 341/500\n",
            "15/15 [==============================] - 4s 258ms/step - loss: 0.0014 - mae: 0.0281 - val_loss: 0.0011 - val_mae: 0.0239 - lr: 1.0000e-05\n",
            "Epoch 342/500\n",
            "15/15 [==============================] - 4s 263ms/step - loss: 0.0014 - mae: 0.0280 - val_loss: 0.0011 - val_mae: 0.0240 - lr: 1.0000e-05\n",
            "Epoch 343/500\n",
            "15/15 [==============================] - 4s 237ms/step - loss: 0.0015 - mae: 0.0283 - val_loss: 0.0011 - val_mae: 0.0244 - lr: 1.0000e-05\n",
            "Epoch 344/500\n",
            "15/15 [==============================] - 4s 280ms/step - loss: 0.0014 - mae: 0.0281 - val_loss: 0.0011 - val_mae: 0.0241 - lr: 1.0000e-05\n",
            "Epoch 345/500\n",
            "15/15 [==============================] - 4s 248ms/step - loss: 0.0014 - mae: 0.0275 - val_loss: 0.0011 - val_mae: 0.0240 - lr: 1.0000e-05\n",
            "Epoch 346/500\n",
            "15/15 [==============================] - 3s 181ms/step - loss: 0.0014 - mae: 0.0276 - val_loss: 0.0011 - val_mae: 0.0241 - lr: 1.0000e-05\n",
            "Epoch 347/500\n",
            "15/15 [==============================] - 4s 244ms/step - loss: 0.0014 - mae: 0.0278 - val_loss: 0.0011 - val_mae: 0.0242 - lr: 1.0000e-05\n",
            "Epoch 348/500\n",
            "15/15 [==============================] - 3s 207ms/step - loss: 0.0014 - mae: 0.0275 - val_loss: 0.0011 - val_mae: 0.0243 - lr: 1.0000e-05\n",
            "Epoch 349/500\n",
            "15/15 [==============================] - 3s 218ms/step - loss: 0.0014 - mae: 0.0278 - val_loss: 0.0011 - val_mae: 0.0240 - lr: 1.0000e-05\n",
            "Epoch 350/500\n",
            "15/15 [==============================] - 5s 314ms/step - loss: 0.0014 - mae: 0.0279 - val_loss: 0.0011 - val_mae: 0.0241 - lr: 1.0000e-05\n",
            "Epoch 351/500\n",
            "15/15 [==============================] - 4s 244ms/step - loss: 0.0014 - mae: 0.0276 - val_loss: 0.0011 - val_mae: 0.0243 - lr: 1.0000e-05\n",
            "Epoch 352/500\n",
            "15/15 [==============================] - 3s 230ms/step - loss: 0.0014 - mae: 0.0278 - val_loss: 0.0011 - val_mae: 0.0242 - lr: 1.0000e-05\n",
            "Epoch 353/500\n",
            "15/15 [==============================] - 4s 255ms/step - loss: 0.0014 - mae: 0.0279 - val_loss: 0.0011 - val_mae: 0.0240 - lr: 1.0000e-05\n",
            "Epoch 354/500\n",
            "15/15 [==============================] - 4s 282ms/step - loss: 0.0014 - mae: 0.0277 - val_loss: 0.0011 - val_mae: 0.0239 - lr: 1.0000e-05\n",
            "Epoch 355/500\n",
            "15/15 [==============================] - 2s 146ms/step - loss: 0.0014 - mae: 0.0281 - val_loss: 0.0011 - val_mae: 0.0242 - lr: 1.0000e-05\n",
            "Epoch 356/500\n",
            "15/15 [==============================] - 2s 140ms/step - loss: 0.0014 - mae: 0.0282 - val_loss: 0.0011 - val_mae: 0.0240 - lr: 1.0000e-05\n",
            "Epoch 357/500\n",
            "15/15 [==============================] - 2s 134ms/step - loss: 0.0014 - mae: 0.0282 - val_loss: 0.0011 - val_mae: 0.0239 - lr: 1.0000e-05\n",
            "Epoch 358/500\n",
            "15/15 [==============================] - 2s 132ms/step - loss: 0.0014 - mae: 0.0277 - val_loss: 0.0011 - val_mae: 0.0238 - lr: 1.0000e-05\n",
            "Epoch 359/500\n",
            "15/15 [==============================] - 3s 200ms/step - loss: 0.0014 - mae: 0.0283 - val_loss: 0.0011 - val_mae: 0.0240 - lr: 1.0000e-05\n",
            "Epoch 360/500\n",
            "15/15 [==============================] - 3s 194ms/step - loss: 0.0014 - mae: 0.0280 - val_loss: 0.0011 - val_mae: 0.0240 - lr: 1.0000e-05\n",
            "Epoch 361/500\n",
            "15/15 [==============================] - 4s 239ms/step - loss: 0.0014 - mae: 0.0280 - val_loss: 0.0011 - val_mae: 0.0241 - lr: 1.0000e-05\n",
            "Epoch 362/500\n",
            "15/15 [==============================] - 4s 282ms/step - loss: 0.0014 - mae: 0.0285 - val_loss: 0.0011 - val_mae: 0.0243 - lr: 1.0000e-05\n",
            "Epoch 363/500\n",
            "15/15 [==============================] - 4s 237ms/step - loss: 0.0014 - mae: 0.0279 - val_loss: 0.0011 - val_mae: 0.0240 - lr: 1.0000e-05\n",
            "Epoch 364/500\n",
            "15/15 [==============================] - 4s 258ms/step - loss: 0.0014 - mae: 0.0274 - val_loss: 0.0011 - val_mae: 0.0239 - lr: 1.0000e-05\n",
            "Epoch 365/500\n",
            "15/15 [==============================] - 5s 313ms/step - loss: 0.0014 - mae: 0.0275 - val_loss: 0.0011 - val_mae: 0.0241 - lr: 1.0000e-05\n",
            "Epoch 366/500\n",
            "15/15 [==============================] - 5s 327ms/step - loss: 0.0014 - mae: 0.0277 - val_loss: 0.0011 - val_mae: 0.0239 - lr: 1.0000e-05\n",
            "Epoch 367/500\n",
            "15/15 [==============================] - 4s 260ms/step - loss: 0.0014 - mae: 0.0273 - val_loss: 0.0011 - val_mae: 0.0239 - lr: 1.0000e-05\n",
            "Epoch 368/500\n",
            "15/15 [==============================] - 3s 233ms/step - loss: 0.0014 - mae: 0.0275 - val_loss: 0.0011 - val_mae: 0.0241 - lr: 1.0000e-05\n",
            "Epoch 369/500\n",
            "15/15 [==============================] - 4s 284ms/step - loss: 0.0014 - mae: 0.0280 - val_loss: 0.0011 - val_mae: 0.0241 - lr: 1.0000e-05\n",
            "Epoch 370/500\n",
            "15/15 [==============================] - 3s 173ms/step - loss: 0.0014 - mae: 0.0276 - val_loss: 0.0011 - val_mae: 0.0240 - lr: 1.0000e-05\n",
            "Epoch 371/500\n",
            "15/15 [==============================] - 3s 227ms/step - loss: 0.0013 - mae: 0.0274 - val_loss: 0.0011 - val_mae: 0.0239 - lr: 1.0000e-05\n",
            "Epoch 372/500\n",
            "15/15 [==============================] - 5s 316ms/step - loss: 0.0014 - mae: 0.0276 - val_loss: 0.0011 - val_mae: 0.0240 - lr: 1.0000e-05\n",
            "Epoch 373/500\n",
            "15/15 [==============================] - 2s 145ms/step - loss: 0.0014 - mae: 0.0273 - val_loss: 0.0011 - val_mae: 0.0238 - lr: 1.0000e-05\n",
            "Epoch 374/500\n",
            "15/15 [==============================] - 2s 162ms/step - loss: 0.0013 - mae: 0.0269 - val_loss: 0.0011 - val_mae: 0.0239 - lr: 1.0000e-05\n",
            "Epoch 375/500\n",
            "15/15 [==============================] - 3s 190ms/step - loss: 0.0014 - mae: 0.0274 - val_loss: 0.0011 - val_mae: 0.0241 - lr: 1.0000e-05\n",
            "Epoch 376/500\n",
            "15/15 [==============================] - 5s 320ms/step - loss: 0.0014 - mae: 0.0276 - val_loss: 0.0011 - val_mae: 0.0241 - lr: 1.0000e-05\n",
            "Epoch 377/500\n",
            "15/15 [==============================] - 3s 230ms/step - loss: 0.0013 - mae: 0.0268 - val_loss: 0.0011 - val_mae: 0.0238 - lr: 1.0000e-05\n",
            "Epoch 378/500\n",
            "15/15 [==============================] - 3s 184ms/step - loss: 0.0014 - mae: 0.0273 - val_loss: 0.0011 - val_mae: 0.0238 - lr: 1.0000e-05\n",
            "Epoch 379/500\n",
            "15/15 [==============================] - 3s 173ms/step - loss: 0.0014 - mae: 0.0275 - val_loss: 0.0011 - val_mae: 0.0239 - lr: 1.0000e-05\n",
            "Epoch 380/500\n",
            "15/15 [==============================] - 4s 265ms/step - loss: 0.0013 - mae: 0.0270 - val_loss: 0.0011 - val_mae: 0.0240 - lr: 1.0000e-05\n",
            "Epoch 381/500\n",
            "15/15 [==============================] - 4s 248ms/step - loss: 0.0014 - mae: 0.0275 - val_loss: 0.0011 - val_mae: 0.0235 - lr: 1.0000e-05\n",
            "Epoch 382/500\n",
            "15/15 [==============================] - 3s 185ms/step - loss: 0.0014 - mae: 0.0276 - val_loss: 0.0011 - val_mae: 0.0236 - lr: 1.0000e-05\n",
            "Epoch 383/500\n",
            "15/15 [==============================] - 3s 202ms/step - loss: 0.0014 - mae: 0.0281 - val_loss: 0.0011 - val_mae: 0.0239 - lr: 1.0000e-05\n",
            "Epoch 384/500\n",
            "15/15 [==============================] - 3s 170ms/step - loss: 0.0014 - mae: 0.0281 - val_loss: 0.0011 - val_mae: 0.0239 - lr: 1.0000e-05\n",
            "Epoch 385/500\n",
            "15/15 [==============================] - 5s 314ms/step - loss: 0.0014 - mae: 0.0277 - val_loss: 0.0011 - val_mae: 0.0240 - lr: 1.0000e-05\n",
            "Epoch 386/500\n",
            "15/15 [==============================] - 5s 301ms/step - loss: 0.0014 - mae: 0.0276 - val_loss: 0.0011 - val_mae: 0.0237 - lr: 1.0000e-05\n",
            "Epoch 387/500\n",
            "15/15 [==============================] - 4s 244ms/step - loss: 0.0014 - mae: 0.0272 - val_loss: 0.0011 - val_mae: 0.0238 - lr: 1.0000e-05\n",
            "Epoch 388/500\n",
            "15/15 [==============================] - 3s 232ms/step - loss: 0.0014 - mae: 0.0279 - val_loss: 0.0011 - val_mae: 0.0240 - lr: 1.0000e-05\n",
            "Epoch 389/500\n",
            "15/15 [==============================] - 3s 171ms/step - loss: 0.0014 - mae: 0.0276 - val_loss: 0.0011 - val_mae: 0.0240 - lr: 1.0000e-05\n",
            "Epoch 390/500\n",
            "15/15 [==============================] - 4s 269ms/step - loss: 0.0014 - mae: 0.0279 - val_loss: 0.0011 - val_mae: 0.0237 - lr: 1.0000e-05\n",
            "Epoch 391/500\n",
            "15/15 [==============================] - 6s 396ms/step - loss: 0.0014 - mae: 0.0279 - val_loss: 0.0011 - val_mae: 0.0238 - lr: 1.0000e-05\n",
            "Epoch 392/500\n",
            "15/15 [==============================] - 3s 185ms/step - loss: 0.0014 - mae: 0.0279 - val_loss: 0.0011 - val_mae: 0.0237 - lr: 1.0000e-05\n",
            "Epoch 393/500\n",
            "15/15 [==============================] - 3s 177ms/step - loss: 0.0014 - mae: 0.0273 - val_loss: 0.0011 - val_mae: 0.0239 - lr: 1.0000e-05\n",
            "Epoch 394/500\n",
            "15/15 [==============================] - 5s 339ms/step - loss: 0.0014 - mae: 0.0279 - val_loss: 0.0011 - val_mae: 0.0236 - lr: 1.0000e-05\n",
            "Epoch 395/500\n",
            "15/15 [==============================] - 2s 156ms/step - loss: 0.0014 - mae: 0.0275 - val_loss: 0.0011 - val_mae: 0.0236 - lr: 1.0000e-05\n",
            "Epoch 396/500\n",
            "15/15 [==============================] - 2s 143ms/step - loss: 0.0013 - mae: 0.0268 - val_loss: 0.0011 - val_mae: 0.0238 - lr: 1.0000e-05\n",
            "Epoch 397/500\n",
            "15/15 [==============================] - 3s 214ms/step - loss: 0.0014 - mae: 0.0274 - val_loss: 0.0011 - val_mae: 0.0238 - lr: 1.0000e-05\n",
            "Epoch 398/500\n",
            "15/15 [==============================] - 4s 303ms/step - loss: 0.0014 - mae: 0.0277 - val_loss: 0.0011 - val_mae: 0.0238 - lr: 1.0000e-05\n",
            "Epoch 399/500\n",
            "15/15 [==============================] - 4s 250ms/step - loss: 0.0013 - mae: 0.0270 - val_loss: 0.0011 - val_mae: 0.0236 - lr: 1.0000e-05\n",
            "Epoch 400/500\n",
            "15/15 [==============================] - 3s 169ms/step - loss: 0.0014 - mae: 0.0277 - val_loss: 0.0011 - val_mae: 0.0240 - lr: 1.0000e-05\n",
            "Epoch 401/500\n",
            "15/15 [==============================] - 5s 322ms/step - loss: 0.0014 - mae: 0.0276 - val_loss: 0.0011 - val_mae: 0.0236 - lr: 1.0000e-05\n",
            "Epoch 402/500\n",
            "15/15 [==============================] - 2s 158ms/step - loss: 0.0014 - mae: 0.0282 - val_loss: 0.0011 - val_mae: 0.0236 - lr: 1.0000e-05\n",
            "Epoch 403/500\n",
            "15/15 [==============================] - 2s 146ms/step - loss: 0.0013 - mae: 0.0270 - val_loss: 0.0011 - val_mae: 0.0239 - lr: 1.0000e-05\n",
            "Epoch 404/500\n",
            "15/15 [==============================] - 3s 225ms/step - loss: 0.0014 - mae: 0.0281 - val_loss: 0.0011 - val_mae: 0.0237 - lr: 1.0000e-05\n",
            "Epoch 405/500\n",
            "15/15 [==============================] - 5s 340ms/step - loss: 0.0014 - mae: 0.0276 - val_loss: 0.0011 - val_mae: 0.0235 - lr: 1.0000e-05\n",
            "Epoch 406/500\n",
            "15/15 [==============================] - 4s 271ms/step - loss: 0.0013 - mae: 0.0273 - val_loss: 0.0011 - val_mae: 0.0237 - lr: 1.0000e-05\n",
            "Epoch 407/500\n",
            "15/15 [==============================] - 3s 234ms/step - loss: 0.0013 - mae: 0.0267 - val_loss: 0.0011 - val_mae: 0.0239 - lr: 1.0000e-05\n",
            "Epoch 408/500\n",
            "15/15 [==============================] - 3s 229ms/step - loss: 0.0014 - mae: 0.0276 - val_loss: 0.0010 - val_mae: 0.0237 - lr: 1.0000e-05\n",
            "Epoch 409/500\n",
            "15/15 [==============================] - 4s 265ms/step - loss: 0.0014 - mae: 0.0277 - val_loss: 0.0010 - val_mae: 0.0237 - lr: 1.0000e-05\n",
            "Epoch 410/500\n",
            "15/15 [==============================] - 2s 153ms/step - loss: 0.0014 - mae: 0.0275 - val_loss: 0.0011 - val_mae: 0.0239 - lr: 1.0000e-05\n",
            "Epoch 411/500\n",
            "15/15 [==============================] - 2s 141ms/step - loss: 0.0013 - mae: 0.0270 - val_loss: 0.0010 - val_mae: 0.0237 - lr: 1.0000e-05\n",
            "Epoch 412/500\n",
            "15/15 [==============================] - 2s 140ms/step - loss: 0.0013 - mae: 0.0269 - val_loss: 0.0010 - val_mae: 0.0236 - lr: 1.0000e-05\n",
            "Epoch 413/500\n",
            "15/15 [==============================] - 2s 166ms/step - loss: 0.0013 - mae: 0.0272 - val_loss: 0.0010 - val_mae: 0.0238 - lr: 1.0000e-05\n",
            "Epoch 414/500\n",
            "15/15 [==============================] - 3s 227ms/step - loss: 0.0014 - mae: 0.0275 - val_loss: 0.0010 - val_mae: 0.0237 - lr: 1.0000e-05\n",
            "Epoch 415/500\n",
            "15/15 [==============================] - 2s 133ms/step - loss: 0.0013 - mae: 0.0271 - val_loss: 0.0010 - val_mae: 0.0236 - lr: 1.0000e-05\n",
            "Epoch 416/500\n",
            "15/15 [==============================] - 3s 179ms/step - loss: 0.0014 - mae: 0.0277 - val_loss: 0.0010 - val_mae: 0.0236 - lr: 1.0000e-05\n",
            "Epoch 417/500\n",
            "15/15 [==============================] - 2s 155ms/step - loss: 0.0014 - mae: 0.0278 - val_loss: 0.0010 - val_mae: 0.0237 - lr: 1.0000e-05\n",
            "Epoch 418/500\n",
            "15/15 [==============================] - 4s 245ms/step - loss: 0.0013 - mae: 0.0269 - val_loss: 0.0010 - val_mae: 0.0238 - lr: 1.0000e-05\n",
            "Epoch 419/500\n",
            "15/15 [==============================] - 2s 164ms/step - loss: 0.0014 - mae: 0.0272 - val_loss: 0.0010 - val_mae: 0.0236 - lr: 1.0000e-05\n",
            "Epoch 420/500\n",
            "15/15 [==============================] - 2s 160ms/step - loss: 0.0014 - mae: 0.0275 - val_loss: 0.0010 - val_mae: 0.0235 - lr: 1.0000e-05\n",
            "Epoch 421/500\n",
            "15/15 [==============================] - 3s 234ms/step - loss: 0.0013 - mae: 0.0273 - val_loss: 0.0010 - val_mae: 0.0237 - lr: 1.0000e-05\n",
            "Epoch 422/500\n",
            "15/15 [==============================] - 4s 297ms/step - loss: 0.0014 - mae: 0.0270 - val_loss: 0.0010 - val_mae: 0.0237 - lr: 1.0000e-05\n",
            "Epoch 423/500\n",
            "15/15 [==============================] - 3s 178ms/step - loss: 0.0013 - mae: 0.0270 - val_loss: 0.0010 - val_mae: 0.0236 - lr: 1.0000e-05\n",
            "Epoch 424/500\n",
            "15/15 [==============================] - 4s 284ms/step - loss: 0.0013 - mae: 0.0267 - val_loss: 0.0010 - val_mae: 0.0237 - lr: 1.0000e-05\n",
            "Epoch 425/500\n",
            "15/15 [==============================] - 4s 280ms/step - loss: 0.0014 - mae: 0.0275 - val_loss: 0.0010 - val_mae: 0.0239 - lr: 1.0000e-05\n",
            "Epoch 426/500\n",
            "15/15 [==============================] - 3s 217ms/step - loss: 0.0013 - mae: 0.0269 - val_loss: 0.0010 - val_mae: 0.0235 - lr: 1.0000e-05\n",
            "Epoch 427/500\n",
            "15/15 [==============================] - 2s 160ms/step - loss: 0.0013 - mae: 0.0272 - val_loss: 0.0010 - val_mae: 0.0235 - lr: 1.0000e-05\n",
            "Epoch 428/500\n",
            "15/15 [==============================] - 3s 185ms/step - loss: 0.0014 - mae: 0.0277 - val_loss: 0.0010 - val_mae: 0.0239 - lr: 1.0000e-05\n",
            "Epoch 429/500\n",
            "15/15 [==============================] - 4s 281ms/step - loss: 0.0014 - mae: 0.0273 - val_loss: 0.0010 - val_mae: 0.0235 - lr: 1.0000e-05\n",
            "Epoch 430/500\n",
            "15/15 [==============================] - 4s 242ms/step - loss: 0.0014 - mae: 0.0277 - val_loss: 0.0010 - val_mae: 0.0233 - lr: 1.0000e-05\n",
            "Epoch 431/500\n",
            "15/15 [==============================] - 2s 152ms/step - loss: 0.0013 - mae: 0.0270 - val_loss: 0.0010 - val_mae: 0.0236 - lr: 1.0000e-05\n",
            "Epoch 432/500\n",
            "15/15 [==============================] - 3s 225ms/step - loss: 0.0013 - mae: 0.0269 - val_loss: 0.0010 - val_mae: 0.0236 - lr: 1.0000e-05\n",
            "Epoch 433/500\n",
            "15/15 [==============================] - 4s 258ms/step - loss: 0.0014 - mae: 0.0271 - val_loss: 0.0010 - val_mae: 0.0237 - lr: 1.0000e-05\n",
            "Epoch 434/500\n",
            "15/15 [==============================] - 3s 221ms/step - loss: 0.0013 - mae: 0.0268 - val_loss: 0.0010 - val_mae: 0.0235 - lr: 1.0000e-05\n",
            "Epoch 435/500\n",
            "15/15 [==============================] - 2s 158ms/step - loss: 0.0013 - mae: 0.0272 - val_loss: 0.0010 - val_mae: 0.0234 - lr: 1.0000e-05\n",
            "Epoch 436/500\n",
            "15/15 [==============================] - 4s 237ms/step - loss: 0.0013 - mae: 0.0272 - val_loss: 0.0010 - val_mae: 0.0238 - lr: 1.0000e-05\n",
            "Epoch 437/500\n",
            "15/15 [==============================] - 2s 134ms/step - loss: 0.0013 - mae: 0.0271 - val_loss: 0.0010 - val_mae: 0.0236 - lr: 1.0000e-05\n",
            "Epoch 438/500\n",
            "15/15 [==============================] - 2s 135ms/step - loss: 0.0013 - mae: 0.0272 - val_loss: 0.0010 - val_mae: 0.0235 - lr: 1.0000e-05\n",
            "Epoch 439/500\n",
            "15/15 [==============================] - 3s 225ms/step - loss: 0.0013 - mae: 0.0267 - val_loss: 0.0010 - val_mae: 0.0236 - lr: 1.0000e-05\n",
            "Epoch 440/500\n",
            "15/15 [==============================] - 6s 392ms/step - loss: 0.0013 - mae: 0.0269 - val_loss: 0.0010 - val_mae: 0.0234 - lr: 1.0000e-05\n",
            "Epoch 441/500\n",
            "15/15 [==============================] - 4s 289ms/step - loss: 0.0014 - mae: 0.0275 - val_loss: 0.0010 - val_mae: 0.0237 - lr: 1.0000e-05\n",
            "Epoch 442/500\n",
            "15/15 [==============================] - 4s 248ms/step - loss: 0.0014 - mae: 0.0279 - val_loss: 0.0010 - val_mae: 0.0233 - lr: 1.0000e-05\n",
            "Epoch 443/500\n",
            "15/15 [==============================] - 5s 323ms/step - loss: 0.0013 - mae: 0.0268 - val_loss: 0.0010 - val_mae: 0.0236 - lr: 1.0000e-05\n",
            "Epoch 444/500\n",
            "15/15 [==============================] - 2s 162ms/step - loss: 0.0013 - mae: 0.0271 - val_loss: 0.0010 - val_mae: 0.0233 - lr: 1.0000e-05\n",
            "Epoch 445/500\n",
            "15/15 [==============================] - 5s 351ms/step - loss: 0.0014 - mae: 0.0272 - val_loss: 0.0010 - val_mae: 0.0236 - lr: 1.0000e-05\n",
            "Epoch 446/500\n",
            "15/15 [==============================] - 5s 301ms/step - loss: 0.0013 - mae: 0.0271 - val_loss: 0.0010 - val_mae: 0.0233 - lr: 1.0000e-05\n",
            "Epoch 447/500\n",
            "15/15 [==============================] - 4s 277ms/step - loss: 0.0014 - mae: 0.0276 - val_loss: 0.0010 - val_mae: 0.0236 - lr: 1.0000e-05\n",
            "Epoch 448/500\n",
            "15/15 [==============================] - 3s 229ms/step - loss: 0.0014 - mae: 0.0273 - val_loss: 0.0010 - val_mae: 0.0238 - lr: 1.0000e-05\n",
            "Epoch 449/500\n",
            "15/15 [==============================] - 3s 189ms/step - loss: 0.0013 - mae: 0.0269 - val_loss: 0.0010 - val_mae: 0.0233 - lr: 1.0000e-05\n",
            "Epoch 450/500\n",
            "15/15 [==============================] - 4s 256ms/step - loss: 0.0014 - mae: 0.0277 - val_loss: 0.0010 - val_mae: 0.0234 - lr: 1.0000e-05\n",
            "Epoch 451/500\n",
            "15/15 [==============================] - 3s 228ms/step - loss: 0.0014 - mae: 0.0274 - val_loss: 0.0010 - val_mae: 0.0236 - lr: 1.0000e-05\n",
            "Epoch 452/500\n",
            "15/15 [==============================] - 3s 177ms/step - loss: 0.0014 - mae: 0.0274 - val_loss: 0.0010 - val_mae: 0.0234 - lr: 1.0000e-05\n",
            "Epoch 453/500\n",
            "15/15 [==============================] - 2s 135ms/step - loss: 0.0013 - mae: 0.0273 - val_loss: 0.0010 - val_mae: 0.0235 - lr: 1.0000e-05\n",
            "Epoch 454/500\n",
            "15/15 [==============================] - 3s 188ms/step - loss: 0.0014 - mae: 0.0274 - val_loss: 0.0010 - val_mae: 0.0236 - lr: 1.0000e-05\n",
            "Epoch 455/500\n",
            "15/15 [==============================] - 3s 187ms/step - loss: 0.0014 - mae: 0.0276 - val_loss: 0.0010 - val_mae: 0.0232 - lr: 1.0000e-05\n",
            "Epoch 456/500\n",
            "15/15 [==============================] - 6s 387ms/step - loss: 0.0013 - mae: 0.0270 - val_loss: 0.0010 - val_mae: 0.0234 - lr: 1.0000e-05\n",
            "Epoch 457/500\n",
            "15/15 [==============================] - 2s 134ms/step - loss: 0.0014 - mae: 0.0277 - val_loss: 0.0010 - val_mae: 0.0235 - lr: 1.0000e-05\n",
            "Epoch 458/500\n",
            "15/15 [==============================] - 2s 135ms/step - loss: 0.0014 - mae: 0.0271 - val_loss: 0.0010 - val_mae: 0.0233 - lr: 1.0000e-05\n",
            "Epoch 459/500\n",
            "15/15 [==============================] - 3s 182ms/step - loss: 0.0014 - mae: 0.0283 - val_loss: 0.0010 - val_mae: 0.0233 - lr: 1.0000e-05\n",
            "Epoch 460/500\n",
            "15/15 [==============================] - 3s 223ms/step - loss: 0.0013 - mae: 0.0270 - val_loss: 0.0010 - val_mae: 0.0234 - lr: 1.0000e-05\n",
            "Epoch 461/500\n",
            "15/15 [==============================] - 2s 137ms/step - loss: 0.0013 - mae: 0.0266 - val_loss: 0.0010 - val_mae: 0.0234 - lr: 1.0000e-05\n",
            "Epoch 462/500\n",
            "15/15 [==============================] - 2s 139ms/step - loss: 0.0013 - mae: 0.0271 - val_loss: 0.0010 - val_mae: 0.0233 - lr: 1.0000e-05\n",
            "Epoch 463/500\n",
            "15/15 [==============================] - 2s 134ms/step - loss: 0.0013 - mae: 0.0272 - val_loss: 0.0010 - val_mae: 0.0233 - lr: 1.0000e-05\n",
            "Epoch 464/500\n",
            "15/15 [==============================] - 3s 182ms/step - loss: 0.0012 - mae: 0.0261 - val_loss: 0.0010 - val_mae: 0.0233 - lr: 1.0000e-05\n",
            "Epoch 465/500\n",
            "15/15 [==============================] - 3s 230ms/step - loss: 0.0014 - mae: 0.0271 - val_loss: 0.0010 - val_mae: 0.0234 - lr: 1.0000e-05\n",
            "Epoch 466/500\n",
            "15/15 [==============================] - 2s 139ms/step - loss: 0.0014 - mae: 0.0276 - val_loss: 0.0010 - val_mae: 0.0233 - lr: 1.0000e-05\n",
            "Epoch 467/500\n",
            "15/15 [==============================] - 2s 135ms/step - loss: 0.0013 - mae: 0.0265 - val_loss: 0.0010 - val_mae: 0.0234 - lr: 1.0000e-05\n",
            "Epoch 468/500\n",
            "15/15 [==============================] - 2s 140ms/step - loss: 0.0014 - mae: 0.0273 - val_loss: 0.0010 - val_mae: 0.0235 - lr: 1.0000e-05\n",
            "Epoch 469/500\n",
            "15/15 [==============================] - 2s 138ms/step - loss: 0.0014 - mae: 0.0275 - val_loss: 0.0010 - val_mae: 0.0234 - lr: 1.0000e-05\n",
            "Epoch 470/500\n",
            "15/15 [==============================] - 3s 231ms/step - loss: 0.0013 - mae: 0.0270 - val_loss: 0.0010 - val_mae: 0.0237 - lr: 1.0000e-05\n",
            "Epoch 471/500\n",
            "15/15 [==============================] - 2s 138ms/step - loss: 0.0013 - mae: 0.0269 - val_loss: 0.0010 - val_mae: 0.0234 - lr: 1.0000e-05\n",
            "Epoch 472/500\n",
            "15/15 [==============================] - 2s 136ms/step - loss: 0.0014 - mae: 0.0273 - val_loss: 0.0010 - val_mae: 0.0234 - lr: 1.0000e-05\n",
            "Epoch 473/500\n",
            "15/15 [==============================] - 2s 146ms/step - loss: 0.0013 - mae: 0.0267 - val_loss: 0.0010 - val_mae: 0.0235 - lr: 1.0000e-05\n",
            "Epoch 474/500\n",
            "15/15 [==============================] - 2s 156ms/step - loss: 0.0013 - mae: 0.0273 - val_loss: 0.0010 - val_mae: 0.0233 - lr: 1.0000e-05\n",
            "Epoch 475/500\n",
            "15/15 [==============================] - 5s 331ms/step - loss: 0.0013 - mae: 0.0271 - val_loss: 0.0010 - val_mae: 0.0233 - lr: 1.0000e-05\n",
            "Epoch 476/500\n",
            "15/15 [==============================] - 3s 214ms/step - loss: 0.0013 - mae: 0.0268 - val_loss: 0.0010 - val_mae: 0.0234 - lr: 1.0000e-05\n",
            "Epoch 477/500\n",
            "15/15 [==============================] - 3s 198ms/step - loss: 0.0013 - mae: 0.0269 - val_loss: 0.0010 - val_mae: 0.0233 - lr: 1.0000e-05\n",
            "Epoch 478/500\n",
            "15/15 [==============================] - 3s 211ms/step - loss: 0.0014 - mae: 0.0272 - val_loss: 0.0010 - val_mae: 0.0235 - lr: 1.0000e-05\n",
            "Epoch 479/500\n",
            "15/15 [==============================] - 4s 268ms/step - loss: 0.0013 - mae: 0.0269 - val_loss: 0.0010 - val_mae: 0.0236 - lr: 1.0000e-05\n",
            "Epoch 480/500\n",
            "15/15 [==============================] - 3s 218ms/step - loss: 0.0013 - mae: 0.0268 - val_loss: 9.9998e-04 - val_mae: 0.0230 - lr: 1.0000e-05\n",
            "Epoch 481/500\n",
            "15/15 [==============================] - 2s 165ms/step - loss: 0.0013 - mae: 0.0267 - val_loss: 9.9992e-04 - val_mae: 0.0231 - lr: 1.0000e-05\n",
            "Epoch 482/500\n",
            "15/15 [==============================] - 3s 231ms/step - loss: 0.0013 - mae: 0.0270 - val_loss: 0.0010 - val_mae: 0.0235 - lr: 1.0000e-05\n",
            "Epoch 483/500\n",
            "15/15 [==============================] - 4s 263ms/step - loss: 0.0013 - mae: 0.0267 - val_loss: 9.9894e-04 - val_mae: 0.0232 - lr: 1.0000e-05\n",
            "Epoch 484/500\n",
            "15/15 [==============================] - 2s 163ms/step - loss: 0.0014 - mae: 0.0272 - val_loss: 9.9732e-04 - val_mae: 0.0231 - lr: 1.0000e-05\n",
            "Epoch 485/500\n",
            "15/15 [==============================] - 2s 153ms/step - loss: 0.0013 - mae: 0.0266 - val_loss: 9.9836e-04 - val_mae: 0.0233 - lr: 1.0000e-05\n",
            "Epoch 486/500\n",
            "15/15 [==============================] - 3s 182ms/step - loss: 0.0013 - mae: 0.0274 - val_loss: 9.9814e-04 - val_mae: 0.0233 - lr: 1.0000e-05\n",
            "Epoch 487/500\n",
            "15/15 [==============================] - 5s 314ms/step - loss: 0.0014 - mae: 0.0274 - val_loss: 9.9716e-04 - val_mae: 0.0232 - lr: 1.0000e-05\n",
            "Epoch 488/500\n",
            "15/15 [==============================] - 4s 294ms/step - loss: 0.0014 - mae: 0.0273 - val_loss: 9.9738e-04 - val_mae: 0.0232 - lr: 1.0000e-05\n",
            "Epoch 489/500\n",
            "15/15 [==============================] - 3s 224ms/step - loss: 0.0013 - mae: 0.0272 - val_loss: 0.0010 - val_mae: 0.0235 - lr: 1.0000e-05\n",
            "Epoch 490/500\n",
            "15/15 [==============================] - 3s 213ms/step - loss: 0.0013 - mae: 0.0271 - val_loss: 9.9537e-04 - val_mae: 0.0231 - lr: 1.0000e-05\n",
            "Epoch 491/500\n",
            "15/15 [==============================] - 3s 230ms/step - loss: 0.0013 - mae: 0.0264 - val_loss: 9.9515e-04 - val_mae: 0.0231 - lr: 1.0000e-05\n",
            "Epoch 492/500\n",
            "15/15 [==============================] - 2s 150ms/step - loss: 0.0014 - mae: 0.0277 - val_loss: 9.9772e-04 - val_mae: 0.0233 - lr: 1.0000e-05\n",
            "Epoch 493/500\n",
            "15/15 [==============================] - 2s 133ms/step - loss: 0.0013 - mae: 0.0270 - val_loss: 9.9924e-04 - val_mae: 0.0234 - lr: 1.0000e-05\n",
            "Epoch 494/500\n",
            "15/15 [==============================] - 2s 137ms/step - loss: 0.0013 - mae: 0.0269 - val_loss: 9.9682e-04 - val_mae: 0.0233 - lr: 1.0000e-05\n",
            "Epoch 495/500\n",
            "15/15 [==============================] - 3s 175ms/step - loss: 0.0013 - mae: 0.0270 - val_loss: 9.9754e-04 - val_mae: 0.0234 - lr: 1.0000e-05\n",
            "Epoch 496/500\n",
            "15/15 [==============================] - 4s 279ms/step - loss: 0.0013 - mae: 0.0267 - val_loss: 9.9306e-04 - val_mae: 0.0230 - lr: 1.0000e-05\n",
            "Epoch 497/500\n",
            "15/15 [==============================] - 3s 231ms/step - loss: 0.0014 - mae: 0.0273 - val_loss: 9.9464e-04 - val_mae: 0.0233 - lr: 1.0000e-05\n",
            "Epoch 498/500\n",
            "15/15 [==============================] - 4s 247ms/step - loss: 0.0012 - mae: 0.0265 - val_loss: 9.9453e-04 - val_mae: 0.0233 - lr: 1.0000e-05\n",
            "Epoch 499/500\n",
            "15/15 [==============================] - 5s 329ms/step - loss: 0.0013 - mae: 0.0272 - val_loss: 9.9337e-04 - val_mae: 0.0232 - lr: 1.0000e-05\n",
            "Epoch 500/500\n",
            "15/15 [==============================] - 4s 250ms/step - loss: 0.0012 - mae: 0.0264 - val_loss: 9.9468e-04 - val_mae: 0.0233 - lr: 1.0000e-05\n"
          ]
        }
      ]
    },
    {
      "cell_type": "code",
      "source": [
        "GRU_sigmoid_model.evaluate(X_test,y_test)"
      ],
      "metadata": {
        "colab": {
          "base_uri": "https://localhost:8080/"
        },
        "id": "WcXZWVB3u05-",
        "outputId": "95b6fd76-86a9-4e67-8da0-916325830956"
      },
      "execution_count": 134,
      "outputs": [
        {
          "output_type": "stream",
          "name": "stdout",
          "text": [
            "15/15 [==============================] - 1s 24ms/step - loss: 9.9468e-04 - mae: 0.0233\n"
          ]
        },
        {
          "output_type": "execute_result",
          "data": {
            "text/plain": [
              "[0.0009946845239028335, 0.023342275992035866]"
            ]
          },
          "metadata": {},
          "execution_count": 134
        }
      ]
    },
    {
      "cell_type": "code",
      "source": [
        "GRU_sigmoid_model.save(\"/content/drive/MyDrive/CRYPTO/Models/GRU_sigmoid_model.h5\")"
      ],
      "metadata": {
        "id": "qAf9pzd4vBZ7"
      },
      "execution_count": 137,
      "outputs": []
    },
    {
      "cell_type": "code",
      "source": [
        "GRU_sigmoid_model_loaded=load_model(\"/content/drive/MyDrive/CRYPTO/Models/GRU_sigmoid_model.h5\")"
      ],
      "metadata": {
        "id": "S5WnTpkkvjwk"
      },
      "execution_count": 138,
      "outputs": []
    },
    {
      "cell_type": "markdown",
      "source": [
        "Model z warstwami GRU z bazową aktywacją tanh osiąga najlepsze wyniki.\n",
        "\n",
        "Dane są na tyle nieskomplikowane, że jakiekolwiek rozszerzenie modelu tylko go pogarsza.\n",
        "\n",
        "Wprowadzanie i testowanie kolejnych warstw nie przyniesie żadncyh efektów.\n",
        "\n",
        "GRU_model jest na tyle prosty że nie możemy już nic więcej z nim zrobić.\n",
        "\n",
        "Możemy uznać ten model za nasz model ostateczny.\n",
        "\n",
        "\n",
        "\n"
      ],
      "metadata": {
        "id": "Aoss81576b5X"
      }
    },
    {
      "cell_type": "markdown",
      "source": [
        "Na koniec trzeba jeszcze zwrócić uwagę na jedną rzecz. Nasz ostateczny model ma gorsze wyniki niż jeszcze prostsze modele które trenowaliśmy wcześniej (modele z pętli), na których sprawdzaliśmy wpływ poszczególnych danych.\n",
        "\n",
        "Czy to oznacza, że nasz ostateczny model jest gorszy od pierwszego lepszego modelu?\n",
        "\n",
        "I tak i nie.\n",
        "\n",
        "Prosty model sekwencyjny przewiduje na podstawie zmian w cenie które zaobserwował w przeszłości i nic poza tym. Na pierwszy rzut oka widać, że jest to bardzo naiwne. Ceny rynkowe są zależne od tysięcy różnych czynników, prosty model, który tego nie rozumie, przestanie być wairygodny kiedy tylko wydarzy się coś co ma wpływ na cenę a co nie wystąpiło w przeszłości. Model który nauczył się patternów spadków i wzrostów cen nie będzie miał możliwości prawidłowo zareagować w takiej sytuacji.\n",
        "\n",
        "Model który stworzyliśmy jest w stanie zareagować na tego typu sytuacje znacznie lepiej. Używa on danych z wielu różnych źródeł, które na swój sposób obrazują działanie rynku, walut i innych coinów. Dzięki dywersyfikacji danych model ma znacznie większą odporność na niespodziewane wydarzenia na rynku.\n",
        "\n",
        "Mimo iż jego MAE jest gorsze o niecały 1% od prostego modelu. Jest on znacznie bezpieczniejszym produktem np. dla kogoś kto chce inwestować część swoich oszczędności. Nie będzie on dokładny co do złotówki(chociaż w naszym przypadku to co do USD), ale będzie znacznie stabilniejszy i odporniejszy na różnego rodzaju rynkowe zawirowania.\n",
        "\n"
      ],
      "metadata": {
        "id": "3-80K7la-14e"
      }
    },
    {
      "cell_type": "code",
      "source": [
        "train_predictions=GRU_model.predict(X_train)"
      ],
      "metadata": {
        "colab": {
          "base_uri": "https://localhost:8080/"
        },
        "id": "suYW2y0m8S-o",
        "outputId": "3702efcb-7ebd-43d8-96ca-60cab930b590"
      },
      "execution_count": 141,
      "outputs": [
        {
          "output_type": "stream",
          "name": "stdout",
          "text": [
            "58/58 [==============================] - 2s 28ms/step\n"
          ]
        }
      ]
    },
    {
      "cell_type": "code",
      "source": [
        "test_predictions=GRU_model.predict(X_test)"
      ],
      "metadata": {
        "colab": {
          "base_uri": "https://localhost:8080/"
        },
        "id": "zLmXsLRXvjr9",
        "outputId": "85694312-d131-4c60-d165-86263da9f8c0"
      },
      "execution_count": 142,
      "outputs": [
        {
          "output_type": "stream",
          "name": "stdout",
          "text": [
            "15/15 [==============================] - 0s 29ms/step\n"
          ]
        }
      ]
    },
    {
      "cell_type": "code",
      "source": [
        "final_predictions=np.append(train_predictions,test_predictions)"
      ],
      "metadata": {
        "id": "5yLhjYFm8jG_"
      },
      "execution_count": 144,
      "outputs": []
    },
    {
      "cell_type": "code",
      "source": [
        "final_predictions = scalers[3].inverse_transform(final_predictions.reshape(-1, 1))"
      ],
      "metadata": {
        "id": "amu3ptSB89Qo"
      },
      "execution_count": 147,
      "outputs": []
    },
    {
      "cell_type": "code",
      "source": [
        "final_y=np.append(y_train,y_test)"
      ],
      "metadata": {
        "id": "QJou765g8XHm"
      },
      "execution_count": 143,
      "outputs": []
    },
    {
      "cell_type": "code",
      "source": [
        "final_y=scalers[3].inverse_transform(final_y.reshape(-1, 1))"
      ],
      "metadata": {
        "id": "6gijGSa-9Hy4"
      },
      "execution_count": 148,
      "outputs": []
    },
    {
      "cell_type": "markdown",
      "source": [
        "Nasz model miał MAE(mean absolute error) na poziomie 0.02.\n",
        "\n",
        "Używaliśmy MinMaxScaler co oznacza  że nasz model przewiduje cenę średnio o 2% większą lub mniejszą od ceny prawdziwej.\n",
        "\n",
        "Najprościej będzie to zwizualizować"
      ],
      "metadata": {
        "id": "JV7rsPOu9WjE"
      }
    },
    {
      "cell_type": "code",
      "source": [
        "plt.figure(figsize=(10, 6))\n",
        "plt.plot(final_predictions, label='Predictions', color='blue')\n",
        "plt.plot(final_y, label='Real', color='red')\n",
        "plt.title('Real values VS Predictions')\n",
        "plt.xlabel('Index')\n",
        "plt.ylabel('Value')\n",
        "plt.legend()\n",
        "plt.show()\n",
        "\n"
      ],
      "metadata": {
        "colab": {
          "base_uri": "https://localhost:8080/",
          "height": 564
        },
        "id": "igRNn0CW6VG6",
        "outputId": "140e093a-d434-4e07-aa3b-8df2e1c8f070"
      },
      "execution_count": 149,
      "outputs": [
        {
          "output_type": "display_data",
          "data": {
            "text/plain": [
              "<Figure size 1000x600 with 1 Axes>"
            ],
            "image/png": "[encoded data removed]"
          },
          "metadata": {}
        }
      ]
    },
    {
      "cell_type": "code",
      "source": [],
      "metadata": {
        "id": "BU2gsDN4HOLv"
      },
      "execution_count": 149,
      "outputs": []
    }
  ]
}