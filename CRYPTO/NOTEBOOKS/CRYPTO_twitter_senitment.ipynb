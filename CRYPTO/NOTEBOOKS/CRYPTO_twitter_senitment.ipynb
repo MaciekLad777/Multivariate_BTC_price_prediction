{
  "nbformat": 4,
  "nbformat_minor": 0,
  "metadata": {
    "colab": {
      "provenance": []
    },
    "kernelspec": {
      "name": "python3",
      "display_name": "Python 3"
    },
    "language_info": {
      "name": "python"
    }
  },
  "cells": [
    {
      "cell_type": "code",
      "source": [
        "!unzip \"/content/drive/MyDrive/CRYPTO/4_Twitter/Bitcoin_tweets_dataset_2.csv.zip\" -d \"/content/drive/MyDrive/CRYPTO/4_Twitter/Unzipped_data\""
      ],
      "metadata": {
        "id": "hECWEPC3YvGr",
        "colab": {
          "base_uri": "https://localhost:8080/"
        },
        "outputId": "7c973020-4a53-41fc-999e-bae1b86ddc4c"
      },
      "execution_count": null,
      "outputs": [
        {
          "output_type": "stream",
          "name": "stdout",
          "text": [
            "Archive:  /content/drive/MyDrive/CRYPTO/4_Twitter/Bitcoin_tweets_dataset_2.csv.zip\n",
            "  inflating: /content/drive/MyDrive/CRYPTO/4_Twitter/Unzipped_data/Bitcoin_tweets_dataset_2.csv  \n"
          ]
        }
      ]
    },
    {
      "cell_type": "code",
      "execution_count": null,
      "metadata": {
        "id": "-NMp7pSFYm19",
        "colab": {
          "base_uri": "https://localhost:8080/"
        },
        "outputId": "a62b76b5-041e-4e3c-ca85-0f32f7dfc80a"
      },
      "outputs": [
        {
          "output_type": "stream",
          "name": "stdout",
          "text": [
            "Error: read_csv() got an unexpected keyword argument 'error_bad_lines'\n"
          ]
        }
      ],
      "source": [
        "import csv\n",
        "import pandas as pd\n",
        "\n",
        "file_path = \"/content/drive/MyDrive/CRYPTO/4_Twitter/Unzipped_data/Bitcoin_tweets_dataset_2.csv\"\n",
        "\n"
      ]
    },
    {
      "cell_type": "code",
      "source": [
        "data_lines=[]\n",
        "with open(file_path, 'r', newline='', encoding='utf-8') as csvfile:\n",
        "    csv_reader = csv.reader(csvfile)\n",
        "\n",
        "    for row in csv_reader:\n",
        "        data_lines.append(row)\n"
      ],
      "metadata": {
        "id": "XoKhH9lx1QCM"
      },
      "execution_count": null,
      "outputs": []
    },
    {
      "cell_type": "code",
      "source": [
        "indexes=data_lines[0]"
      ],
      "metadata": {
        "id": "UgzhgJAPzBou"
      },
      "execution_count": null,
      "outputs": []
    },
    {
      "cell_type": "code",
      "source": [
        "len(indexes)"
      ],
      "metadata": {
        "colab": {
          "base_uri": "https://localhost:8080/"
        },
        "id": "a3KSNztT_sxv",
        "outputId": "bed91514-3304-4367-b7db-ec7fdfee25b3"
      },
      "execution_count": null,
      "outputs": [
        {
          "output_type": "execute_result",
          "data": {
            "text/plain": [
              "13"
            ]
          },
          "metadata": {},
          "execution_count": 71
        }
      ]
    },
    {
      "cell_type": "code",
      "source": [
        "data_lines[1]"
      ],
      "metadata": {
        "colab": {
          "base_uri": "https://localhost:8080/"
        },
        "id": "mPi0T-Af2mzT",
        "outputId": "52fd7ace-3260-4fb4-c539-68f9600d29eb"
      },
      "execution_count": null,
      "outputs": [
        {
          "output_type": "execute_result",
          "data": {
            "text/plain": [
              "['ChefSam',\n",
              " 'Sunshine State',\n",
              " 'Culinarian | Hot Sauce Artisan | Kombucha Brewer | Nature Lover | Runner | #BITCOIN | 🧡💜 Nostr: npub1zfxzty3up9zmn3ky3se49vg6km69murefh480246retaevwq',\n",
              " '2011-03-23 03:50:13',\n",
              " '4680',\n",
              " '2643',\n",
              " '6232',\n",
              " 'False',\n",
              " '2023-03-01 23:59:59',\n",
              " 'Which #bitcoin books should I think about reading next? https://t.co/32gas26rKB',\n",
              " \"['bitcoin']\",\n",
              " 'Twitter for iPhone',\n",
              " 'False']"
            ]
          },
          "metadata": {},
          "execution_count": 31
        }
      ]
    },
    {
      "cell_type": "code",
      "source": [
        "data_lines[1][8][:10]"
      ],
      "metadata": {
        "colab": {
          "base_uri": "https://localhost:8080/",
          "height": 36
        },
        "id": "1rLhSQg_2nza",
        "outputId": "7e641a30-b76b-40f8-a903-88020f73d6a1"
      },
      "execution_count": null,
      "outputs": [
        {
          "output_type": "execute_result",
          "data": {
            "text/plain": [
              "'2023-03-01'"
            ],
            "application/vnd.google.colaboratory.intrinsic+json": {
              "type": "string"
            }
          },
          "metadata": {},
          "execution_count": 34
        }
      ]
    },
    {
      "cell_type": "code",
      "source": [
        "len(data_lines)"
      ],
      "metadata": {
        "colab": {
          "base_uri": "https://localhost:8080/"
        },
        "id": "HqQlXxjB3LLr",
        "outputId": "bdc45a5b-b483-446a-99b5-98a568d70255"
      },
      "execution_count": null,
      "outputs": [
        {
          "output_type": "execute_result",
          "data": {
            "text/plain": [
              "174439"
            ]
          },
          "metadata": {},
          "execution_count": 35
        }
      ]
    },
    {
      "cell_type": "markdown",
      "source": [
        "Mamy bardzo dużą ilość danych jednak już na pierwszy rzut oka widać że zdecydowania większość nie jest warta używania.\n",
        "\n",
        "1.Musimy wybrać tylko te tweety które występowały w rozpatrywanym przez nas okresie\n",
        "\n",
        "2.Interesują nas tweety osób które znają się na danym temacie oraz są w jakimkolwiek stopniu rozpoznawalne.\n",
        "\n",
        "    -Odpowiednia ilość obserwujących [user_followers]\n",
        "    \n",
        "    -Zweryfikowany użytkownik [user_verified] = True\n",
        "\n",
        "Na ten moment reszta cech jest nam obojętna. Po wstępnym przesianiu ocenimy co można zrobić dalej"
      ],
      "metadata": {
        "id": "qJXWxTL93KjH"
      }
    },
    {
      "cell_type": "markdown",
      "source": [
        "Najpierw daty"
      ],
      "metadata": {
        "id": "x6WdUfWa6bDK"
      }
    },
    {
      "cell_type": "code",
      "source": [
        "from datetime import datetime"
      ],
      "metadata": {
        "id": "jZPafr4F68Jc"
      },
      "execution_count": null,
      "outputs": []
    },
    {
      "cell_type": "code",
      "source": [
        "del data_lines[0]"
      ],
      "metadata": {
        "id": "MU84ONtj8hYA"
      },
      "execution_count": null,
      "outputs": []
    },
    {
      "cell_type": "code",
      "source": [
        "data_lines[392]"
      ],
      "metadata": {
        "colab": {
          "base_uri": "https://localhost:8080/"
        },
        "id": "GDS4vRud-5xa",
        "outputId": "391c9499-9afb-49ae-9b0e-0e664937c9dc"
      },
      "execution_count": null,
      "outputs": [
        {
          "output_type": "execute_result",
          "data": {
            "text/plain": [
              "['$ALPH 3.16%']"
            ]
          },
          "metadata": {},
          "execution_count": 67
        }
      ]
    },
    {
      "cell_type": "code",
      "source": [
        "del data_lines[392]"
      ],
      "metadata": {
        "id": "Qmy3rODU-UBV"
      },
      "execution_count": null,
      "outputs": []
    },
    {
      "cell_type": "code",
      "source": [
        "data_lines[1]"
      ],
      "metadata": {
        "colab": {
          "base_uri": "https://localhost:8080/"
        },
        "id": "qka_wVSn_Z4w",
        "outputId": "3ac5a8e0-b92a-4000-bf8c-72ebe0960a01"
      },
      "execution_count": null,
      "outputs": [
        {
          "output_type": "execute_result",
          "data": {
            "text/plain": [
              "['Roy⚡️',\n",
              " '',\n",
              " 'Truth-seeking pleb 📚 • Science 🧪 • Nature 🌱☀️ • 🌽 stacker • Freedom 🦅 • Dad 👨\\u200d🍼🧡',\n",
              " '2022-01-30 17:41:41',\n",
              " '770',\n",
              " '1145',\n",
              " '9166',\n",
              " 'False',\n",
              " '2023-03-01 23:59:47',\n",
              " '@ThankGodForBTC I appreciate the message, but not a fan of the religious references. Religion has nothing to do with #Bitcoin.',\n",
              " \"['Bitcoin']\",\n",
              " 'Twitter for iPhone',\n",
              " 'False']"
            ]
          },
          "metadata": {},
          "execution_count": 69
        }
      ]
    },
    {
      "cell_type": "code",
      "source": [
        "data_lines[385:400]"
      ],
      "metadata": {
        "id": "_g8Q_yogEw7g"
      },
      "execution_count": null,
      "outputs": []
    },
    {
      "cell_type": "code",
      "source": [
        "from datetime import date\n",
        "dates=[]\n",
        "new_data_lines=[]\n",
        "for x in range(len(data_lines)):\n",
        "    if(len(data_lines[x])<len(indexes)):\n",
        "        continue\n",
        "\n",
        "    date_x=data_lines[x][8][:10]\n",
        "    date_object = datetime.strptime(date_x, \"%Y-%m-%d\").date()\n",
        "\n",
        "    start_date=date(2017, 11, 9)\n",
        "    end_date=date(2024, 4, 9)\n",
        "\n",
        "    if(date_object>start_date and date_object<end_date):\n",
        "        new_data_lines.append(data_lines[x])\n",
        "        dates.append(date_x)"
      ],
      "metadata": {
        "id": "MCHGXmDxbq-T"
      },
      "execution_count": null,
      "outputs": []
    },
    {
      "cell_type": "code",
      "source": [
        "max_date = max(dates)"
      ],
      "metadata": {
        "id": "U2qqDlCOJ5VM"
      },
      "execution_count": null,
      "outputs": []
    },
    {
      "cell_type": "code",
      "source": [
        "max_date"
      ],
      "metadata": {
        "colab": {
          "base_uri": "https://localhost:8080/",
          "height": 36
        },
        "id": "RFILLy4sKScp",
        "outputId": "2c2c3b39-b9db-447b-f64b-4233b5f273fa"
      },
      "execution_count": null,
      "outputs": [
        {
          "output_type": "execute_result",
          "data": {
            "text/plain": [
              "'2023-03-05'"
            ],
            "application/vnd.google.colaboratory.intrinsic+json": {
              "type": "string"
            }
          },
          "metadata": {},
          "execution_count": 90
        }
      ]
    },
    {
      "cell_type": "code",
      "source": [
        "min_date = min(dates)"
      ],
      "metadata": {
        "id": "JkNZHQ7oKTzJ"
      },
      "execution_count": null,
      "outputs": []
    },
    {
      "cell_type": "code",
      "source": [
        "min_date"
      ],
      "metadata": {
        "colab": {
          "base_uri": "https://localhost:8080/",
          "height": 36
        },
        "id": "pl_FUITSKXgF",
        "outputId": "bbab6439-9e67-41e1-94ef-eb827f4020fc"
      },
      "execution_count": null,
      "outputs": [
        {
          "output_type": "execute_result",
          "data": {
            "text/plain": [
              "'2023-02-25'"
            ],
            "application/vnd.google.colaboratory.intrinsic+json": {
              "type": "string"
            }
          },
          "metadata": {},
          "execution_count": 92
        }
      ]
    },
    {
      "cell_type": "markdown",
      "source": [
        "Niestety dane pochodzą jedynie z okresu niecałych dwóch tygodni.\n",
        "\n",
        "W takiej sytuacji nie możemy ich użyć, wprowadzenie dodatkowych danych dla kilkunastu rekordów w żaden sposób nie wspomoże naszego modelu"
      ],
      "metadata": {
        "id": "a3IIjH9vr6o_"
      }
    }
  ]
}