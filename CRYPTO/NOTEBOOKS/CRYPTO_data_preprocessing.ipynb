{
  "metadata": {
    "kernelspec": {
      "name": "python",
      "display_name": "Python (Pyodide)",
      "language": "python"
    },
    "language_info": {
      "codemirror_mode": {
        "name": "python",
        "version": 3
      },
      "file_extension": ".py",
      "mimetype": "text/x-python",
      "name": "python",
      "nbconvert_exporter": "python",
      "pygments_lexer": "ipython3",
      "version": "3.8"
    },
    "colab": {
      "provenance": []
    }
  },
  "nbformat_minor": 0,
  "nbformat": 4,
  "cells": [
    {
      "cell_type": "code",
      "source": [
        "from google.colab import drive\n",
        "drive.mount('/content/drive')"
      ],
      "metadata": {
        "colab": {
          "base_uri": "https://localhost:8080/"
        },
        "id": "D_sj_hedlZBl",
        "outputId": "320acca1-ba9d-4856-eb82-44f371fc2a9f"
      },
      "outputs": [
        {
          "output_type": "stream",
          "name": "stdout",
          "text": [
            "Mounted at /content/drive\n"
          ]
        }
      ],
      "execution_count": null
    },
    {
      "cell_type": "markdown",
      "source": [
        "0.Classic timeseries:\n",
        "\n",
        "/content/drive/MyDrive/CRYPTO/BTC-USD.csv\n",
        "\n",
        "Low,\n",
        "High,\n",
        "Close,\n",
        "\n",
        "1.Co-curencies:\n",
        "\n",
        "    (Wszystko w porównaniu do USD)\n",
        "    -Ethereum\n",
        "    -Avalanche\n",
        "    -Dogecoin\n",
        "    -BNB\n",
        "    -BTC cash\n",
        "\n",
        "2.Halvings\n",
        "\n",
        "    Dodać własnoręcznie liczbę która będzie reprezentowac halving. W dzien kiedy halving wystąpił liczba się zmniejszy o połowę.\n",
        "\n",
        "3.Sentyment\n",
        "\n",
        " Na podstawie API strony Alternative. Nie jest dokładnie powiedziane na podstawie jakich danych bazują. Jest to jednak wartościowa informacja.\n",
        "https://api.alternative.me/fng/?limit=10000&format=csv\n",
        "\n",
        "4.Twitter\n",
        "\n",
        "    Na Podstawie wpisów z twittera sami przeanalizujemy sentyment. Dzięki temu nie będziemy polegac jedynie na sentymencie pobieranym z API.\n",
        "\n",
        "5.Waluty światowe\n",
        "\n",
        "    (Wszystko w porównaniu do BTC)\n",
        "    EUR(Euro)\n",
        "    CNY(Yuan chiński)\n",
        "    JPY(Yen japoński)\n",
        "    GBP(Funt brytyjski)\n",
        "    CAD(Dolar Kanadyjski)\n",
        "\n",
        "6.Market Volume\n",
        "\n",
        "    Ilośc wymienionej waluty (BTC,USD)\n",
        "\n",
        "7.Giełdy światowe\n",
        "\n",
        "    Wartośc najiększych giełd\n",
        "\n",
        "\n"
      ],
      "metadata": {
        "id": "lO54HfXGeSnt"
      }
    },
    {
      "cell_type": "code",
      "source": [
        "from datetime import date\n",
        "from datetime import timedelta\n",
        "from datetime import datetime"
      ],
      "metadata": {
        "id": "bokQvkk56g-I"
      },
      "outputs": [],
      "execution_count": null
    },
    {
      "cell_type": "code",
      "source": [
        "# OPEN,HIGH,LOW,CLOSE,START_DATE,CLOSE_DATE\n",
        "def csv_extractor(path):\n",
        "    XXX_USD=[]\n",
        "    with open(path, 'r') as file:\n",
        "        csv_reader = csv.reader(file)\n",
        "\n",
        "        for row in csv_reader:\n",
        "            XXX_USD.append(row)\n",
        "\n",
        "    START_DATE_XXX_USD=XXX_USD[1][0]\n",
        "    CLOSE_DATE_XXX_USD=XXX_USD[len(XXX_USD)-1][0]\n",
        "    START_DATE_XXX_USD,CLOSE_DATE_XXX_USD\n",
        "\n",
        "    XXX_OPEN=[]\n",
        "    XXX_HIGH=[]\n",
        "    XXX_LOW=[]\n",
        "    XXX_CLOSE=[]\n",
        "\n",
        "    BU_new=XXX_USD[1:]\n",
        "    for x in range(len(XXX_USD[1:])):\n",
        "\n",
        "        XXX_OPEN.append(BU_new[x][1])\n",
        "        XXX_HIGH.append(BU_new[x][2])\n",
        "        XXX_LOW.append(BU_new[x][3])\n",
        "        XXX_CLOSE.append(BU_new[x][4])\n",
        "\n",
        "    return XXX_OPEN,XXX_HIGH,XXX_LOW,XXX_CLOSE,START_DATE_XXX_USD,CLOSE_DATE_XXX_USD"
      ],
      "metadata": {
        "id": "d0vhavuNBMDf"
      },
      "outputs": [],
      "execution_count": null
    },
    {
      "cell_type": "code",
      "source": [
        "# Tworzymy listę z informacjami, dane, start date,close date,len\n",
        "\n",
        "def condensate_info(name,data,start_date,close_date):\n",
        "    LIST=[]\n",
        "\n",
        "    start_date = datetime.strptime(start_date, '%Y-%m-%d')\n",
        "    start_year = start_date.year\n",
        "    start_month = start_date.month\n",
        "    start_day = start_date.day\n",
        "    start_date =date(start_year,start_month,start_day)\n",
        "\n",
        "\n",
        "    close_date = datetime.strptime(close_date, '%Y-%m-%d')\n",
        "    close_year = close_date.year\n",
        "    close_month = close_date.month\n",
        "    close_day = close_date.day\n",
        "    close_date =date(close_year,close_month,close_day)\n",
        "\n",
        "    difference=close_date-start_date\n",
        "\n",
        "    data_duration=difference.days +1\n",
        "\n",
        "    len_data=len(data)\n",
        "    data_name=name\n",
        "\n",
        "\n",
        "    LIST.append(data_name)\n",
        "    LIST.append(len_data)\n",
        "    LIST.append(data_duration)\n",
        "    LIST.append(start_date)\n",
        "    LIST.append(close_date)\n",
        "\n",
        "    return LIST\n"
      ],
      "metadata": {
        "id": "CHOmshGqjxLO"
      },
      "outputs": [],
      "execution_count": null
    },
    {
      "cell_type": "code",
      "source": [],
      "metadata": {
        "id": "QXxBTuYw1tjR"
      },
      "outputs": [],
      "execution_count": null
    },
    {
      "cell_type": "code",
      "source": [
        "DATA_INFO=[]"
      ],
      "metadata": {
        "id": "rB-yOiP8w-Uw"
      },
      "outputs": [],
      "execution_count": null
    },
    {
      "cell_type": "markdown",
      "source": [
        "0.Classic Timeseries\n",
        "\n",
        "Podstawowe dane BTC/USD\n"
      ],
      "metadata": {
        "id": "3KgOrqG-4zSr"
      }
    },
    {
      "cell_type": "code",
      "source": [
        "import csv"
      ],
      "metadata": {
        "id": "7KEqxqwnhqd6"
      },
      "outputs": [],
      "execution_count": null
    },
    {
      "cell_type": "code",
      "source": [
        "BTC_OPEN,BTC_HIGH,BTC_LOW,BTC_CLOSE,START_DATE_BTC_USD,CLOSE_DATE_BTC_USD=csv_extractor('/content/drive/MyDrive/CRYPTO/0_Timeseries/BTC-USD.csv')"
      ],
      "metadata": {
        "id": "NMgQAZetCgld"
      },
      "outputs": [],
      "execution_count": null
    },
    {
      "cell_type": "code",
      "source": [
        "DATA_INFO.append(condensate_info(\"BTC_OPEN\",BTC_OPEN,START_DATE_BTC_USD,CLOSE_DATE_BTC_USD))\n",
        "DATA_INFO.append(condensate_info(\"BTC_HIGH\",BTC_HIGH,START_DATE_BTC_USD,CLOSE_DATE_BTC_USD))\n",
        "DATA_INFO.append(condensate_info(\"BTC_LOW\",BTC_LOW,START_DATE_BTC_USD,CLOSE_DATE_BTC_USD))\n",
        "DATA_INFO.append(condensate_info(\"BTC_CLOSE\",BTC_CLOSE,START_DATE_BTC_USD,CLOSE_DATE_BTC_USD))"
      ],
      "metadata": {
        "id": "y6lD4z4jx30J"
      },
      "outputs": [],
      "execution_count": null
    },
    {
      "cell_type": "code",
      "source": [
        "BTC_OPEN[0],BTC_HIGH[0],BTC_LOW[0],BTC_CLOSE[0],START_DATE_BTC_USD,CLOSE_DATE_BTC_USD,"
      ],
      "metadata": {
        "colab": {
          "base_uri": "https://localhost:8080/"
        },
        "id": "PcQOhzYpCtNw",
        "outputId": "cf049e40-3f8c-45ab-f9f0-3c6314688c00"
      },
      "outputs": [
        {
          "output_type": "execute_result",
          "data": {
            "text/plain": [
              "('465.864014',\n",
              " '468.174011',\n",
              " '452.421997',\n",
              " '457.334015',\n",
              " '2014-09-17',\n",
              " '2024-04-09')"
            ]
          },
          "metadata": {},
          "execution_count": 9
        }
      ],
      "execution_count": null
    },
    {
      "cell_type": "markdown",
      "source": [
        "1.Co-curencies\n",
        "\n",
        "Ceny innych ważnych, powiązanych z BTC coinów"
      ],
      "metadata": {
        "id": "hWSMevLC_6Z5"
      }
    },
    {
      "cell_type": "markdown",
      "source": [
        "BNB"
      ],
      "metadata": {
        "id": "nNzFxlI5DBFz"
      }
    },
    {
      "cell_type": "code",
      "source": [
        "BNB_OPEN,BNB_HIGH,BNB_LOW,BNB_CLOSE,START_DATE_BNB_USD,CLOSE_DATE_BNB_USD=csv_extractor('/content/drive/MyDrive/CRYPTO/1_Co-curencies/BNB-USD.csv')"
      ],
      "metadata": {
        "id": "elpQ6IaFBzYP"
      },
      "outputs": [],
      "execution_count": null
    },
    {
      "cell_type": "code",
      "source": [
        "DATA_INFO.append(condensate_info(\"BNB_OPEN\",BNB_OPEN,START_DATE_BNB_USD,CLOSE_DATE_BNB_USD))\n",
        "DATA_INFO.append(condensate_info(\"BNB_HIGH\",BNB_HIGH,START_DATE_BNB_USD,CLOSE_DATE_BNB_USD))\n",
        "DATA_INFO.append(condensate_info(\"BNB_LOW\",BNB_LOW,START_DATE_BNB_USD,CLOSE_DATE_BNB_USD))\n",
        "DATA_INFO.append(condensate_info(\"BNB_CLOSE\",BNB_CLOSE,START_DATE_BNB_USD,CLOSE_DATE_BNB_USD))"
      ],
      "metadata": {
        "id": "h9ZR8kbw2uSx"
      },
      "outputs": [],
      "execution_count": null
    },
    {
      "cell_type": "code",
      "source": [
        "BNB_OPEN[0],BNB_HIGH[0],BNB_LOW[0],BNB_CLOSE[0],START_DATE_BNB_USD,CLOSE_DATE_BNB_USD"
      ],
      "metadata": {
        "colab": {
          "base_uri": "https://localhost:8080/"
        },
        "id": "VdmSgxQY5dZS",
        "outputId": "3a5d71a5-fa2f-42c4-c669-49e15520c0ae"
      },
      "outputs": [
        {
          "output_type": "execute_result",
          "data": {
            "text/plain": [
              "('2.053140', '2.174230', '1.893940', '1.990770', '2017-11-09', '2024-04-05')"
            ]
          },
          "metadata": {},
          "execution_count": 12
        }
      ],
      "execution_count": null
    },
    {
      "cell_type": "markdown",
      "source": [
        "ETH"
      ],
      "metadata": {
        "id": "p-Z-AmxMDCQv"
      }
    },
    {
      "cell_type": "code",
      "source": [
        "ETH_OPEN,ETH_HIGH,ETH_LOW,ETH_CLOSE,START_DATE_ETH_USD,CLOSE_DATE_ETH_USD=csv_extractor('/content/drive/MyDrive/CRYPTO/1_Co-curencies/ETH-USD.csv')"
      ],
      "metadata": {
        "id": "T5w8WuXHDPfg"
      },
      "outputs": [],
      "execution_count": null
    },
    {
      "cell_type": "code",
      "source": [
        "DATA_INFO.append(condensate_info(\"ETH_OPEN\",ETH_OPEN,START_DATE_ETH_USD,CLOSE_DATE_ETH_USD))\n",
        "DATA_INFO.append(condensate_info(\"ETH_HIGH\",ETH_HIGH,START_DATE_ETH_USD,CLOSE_DATE_ETH_USD))\n",
        "DATA_INFO.append(condensate_info(\"ETH_LOW\",ETH_LOW,START_DATE_ETH_USD,CLOSE_DATE_ETH_USD))\n",
        "DATA_INFO.append(condensate_info(\"ETH_CLOSE\",ETH_CLOSE,START_DATE_ETH_USD,CLOSE_DATE_ETH_USD))"
      ],
      "metadata": {
        "id": "gSR_4FyX3TPn"
      },
      "outputs": [],
      "execution_count": null
    },
    {
      "cell_type": "code",
      "source": [
        "ETH_OPEN[0],ETH_HIGH[0],ETH_LOW[0],ETH_CLOSE[0],START_DATE_ETH_USD,CLOSE_DATE_ETH_USD"
      ],
      "metadata": {
        "colab": {
          "base_uri": "https://localhost:8080/"
        },
        "id": "VFLjnrjuD5fs",
        "outputId": "d8d31d76-b5ce-4c87-eff8-97964d65ae49"
      },
      "outputs": [
        {
          "output_type": "execute_result",
          "data": {
            "text/plain": [
              "('308.644989',\n",
              " '329.451996',\n",
              " '307.056000',\n",
              " '320.884003',\n",
              " '2017-11-09',\n",
              " '2024-04-05')"
            ]
          },
          "metadata": {},
          "execution_count": 15
        }
      ],
      "execution_count": null
    },
    {
      "cell_type": "markdown",
      "source": [
        "BCH - Bitcoin Cash"
      ],
      "metadata": {
        "id": "t2l8krpJDDRe"
      }
    },
    {
      "cell_type": "code",
      "source": [
        "BCH_OPEN,BCH_HIGH,BCH_LOW,BCH_CLOSE,START_DATE_BCH_USD,CLOSE_DATE_BCH_USD=csv_extractor('/content/drive/MyDrive/CRYPTO/1_Co-curencies/BCH-USD.csv')"
      ],
      "metadata": {
        "id": "9FvfIlUvEnnd"
      },
      "outputs": [],
      "execution_count": null
    },
    {
      "cell_type": "code",
      "source": [
        "DATA_INFO.append(condensate_info(\"BCH_OPEN\",BCH_OPEN,START_DATE_BCH_USD,CLOSE_DATE_BCH_USD))\n",
        "DATA_INFO.append(condensate_info(\"BCH_HIGH\",BCH_HIGH,START_DATE_BCH_USD,CLOSE_DATE_BCH_USD))\n",
        "DATA_INFO.append(condensate_info(\"BCH_LOW\",BCH_LOW,START_DATE_BCH_USD,CLOSE_DATE_BCH_USD))\n",
        "DATA_INFO.append(condensate_info(\"BCH_CLOSE\",BCH_CLOSE,START_DATE_BCH_USD,CLOSE_DATE_BCH_USD))"
      ],
      "metadata": {
        "id": "To4iMRQy3V8m"
      },
      "outputs": [],
      "execution_count": null
    },
    {
      "cell_type": "code",
      "source": [
        "BCH_OPEN[0],BCH_HIGH[0],BCH_LOW[0],BCH_CLOSE[0],START_DATE_BCH_USD,CLOSE_DATE_BCH_USD"
      ],
      "metadata": {
        "colab": {
          "base_uri": "https://localhost:8080/"
        },
        "id": "CksDPUDBFD9l",
        "outputId": "36218ea2-5adf-4e1d-b9e6-63f48dae9fac"
      },
      "outputs": [
        {
          "output_type": "execute_result",
          "data": {
            "text/plain": [
              "('622.312012',\n",
              " '670.135986',\n",
              " '619.257996',\n",
              " '654.302979',\n",
              " '2017-11-09',\n",
              " '2024-04-09')"
            ]
          },
          "metadata": {},
          "execution_count": 18
        }
      ],
      "execution_count": null
    },
    {
      "cell_type": "markdown",
      "source": [
        "Doge Coin"
      ],
      "metadata": {
        "id": "RpcJLaaVDKMF"
      }
    },
    {
      "cell_type": "code",
      "source": [
        "DOGE_OPEN,DOGE_HIGH,DOGE_LOW,DOGE_CLOSE,START_DATE_DOGE_USD,CLOSE_DATE_DOGE_USD=csv_extractor('/content/drive/MyDrive/CRYPTO/1_Co-curencies/DOGE-USD.csv')"
      ],
      "metadata": {
        "id": "EeaQ1CH4FfZz"
      },
      "outputs": [],
      "execution_count": null
    },
    {
      "cell_type": "code",
      "source": [
        "DATA_INFO.append(condensate_info(\"DOGE_OPEN\",DOGE_OPEN,START_DATE_DOGE_USD,CLOSE_DATE_DOGE_USD))\n",
        "DATA_INFO.append(condensate_info(\"DOGE_HIGH\",DOGE_HIGH,START_DATE_DOGE_USD,CLOSE_DATE_DOGE_USD))\n",
        "DATA_INFO.append(condensate_info(\"DOGE_LOW\",DOGE_LOW,START_DATE_DOGE_USD,CLOSE_DATE_DOGE_USD))\n",
        "DATA_INFO.append(condensate_info(\"DOGE_CLOSE\",DOGE_CLOSE,START_DATE_DOGE_USD,CLOSE_DATE_DOGE_USD))"
      ],
      "metadata": {
        "id": "xx4C0Avt3dFK"
      },
      "outputs": [],
      "execution_count": null
    },
    {
      "cell_type": "code",
      "source": [
        "DOGE_OPEN[0],DOGE_HIGH[0],DOGE_LOW[0],DOGE_CLOSE[0],START_DATE_DOGE_USD,CLOSE_DATE_DOGE_USD"
      ],
      "metadata": {
        "colab": {
          "base_uri": "https://localhost:8080/"
        },
        "id": "JubbbvS3Fw_f",
        "outputId": "e51cf3ac-9748-45e3-de71-0a1ed5b78929"
      },
      "outputs": [
        {
          "output_type": "execute_result",
          "data": {
            "text/plain": [
              "('0.001207', '0.001415', '0.001181', '0.001415', '2017-11-09', '2024-04-09')"
            ]
          },
          "metadata": {},
          "execution_count": 21
        }
      ],
      "execution_count": null
    },
    {
      "cell_type": "markdown",
      "source": [
        "Avalanche"
      ],
      "metadata": {
        "id": "UlddR1rUDMEo"
      }
    },
    {
      "cell_type": "code",
      "source": [
        "AVAX_OPEN,AVAX_HIGH,AVAX_LOW,AVAX_CLOSE,START_DATE_AVAX_USD,CLOSE_DATE_AVAX_USD=csv_extractor('/content/drive/MyDrive/CRYPTO/1_Co-curencies/AVAX-USD.csv')"
      ],
      "metadata": {
        "id": "vlK3YfqBNxDx"
      },
      "outputs": [],
      "execution_count": null
    },
    {
      "cell_type": "code",
      "source": [
        "DATA_INFO.append(condensate_info(\"AVAX_OPEN\",AVAX_OPEN,START_DATE_AVAX_USD,CLOSE_DATE_AVAX_USD))\n",
        "DATA_INFO.append(condensate_info(\"AVAX_HIGH\",AVAX_HIGH,START_DATE_AVAX_USD,CLOSE_DATE_AVAX_USD))\n",
        "DATA_INFO.append(condensate_info(\"AVAX_LOW\",AVAX_LOW,START_DATE_AVAX_USD,CLOSE_DATE_AVAX_USD))\n",
        "DATA_INFO.append(condensate_info(\"AVAX_CLOSE\",AVAX_CLOSE,START_DATE_AVAX_USD,CLOSE_DATE_AVAX_USD))"
      ],
      "metadata": {
        "id": "M1AY3fju3g7r"
      },
      "outputs": [],
      "execution_count": null
    },
    {
      "cell_type": "code",
      "source": [
        "AVAX_OPEN[0],AVAX_HIGH[0],AVAX_LOW[0],AVAX_CLOSE[0],START_DATE_AVAX_USD,CLOSE_DATE_AVAX_USD"
      ],
      "metadata": {
        "colab": {
          "base_uri": "https://localhost:8080/"
        },
        "id": "WXGNhrFZN_eD",
        "outputId": "2dcc9ece-764b-4864-df76-e05edc9beba7"
      },
      "outputs": [
        {
          "output_type": "execute_result",
          "data": {
            "text/plain": [
              "('4.613968', '4.915115', '4.481499', '4.896294', '2020-07-13', '2024-04-09')"
            ]
          },
          "metadata": {},
          "execution_count": 24
        }
      ],
      "execution_count": null
    },
    {
      "cell_type": "markdown",
      "source": [
        "3.Sentiment API"
      ],
      "metadata": {
        "id": "FykIEvUm5J50"
      }
    },
    {
      "cell_type": "code",
      "source": [
        "import requests\n",
        "\n",
        "url = 'https://api.alternative.me/fng/?limit=10000&format=csv'\n",
        "\n",
        "response = requests.get(url)\n",
        "\n",
        "if response.status_code == 200:\n",
        "    filename = '/content/drive/MyDrive/CRYPTO/3_Sentiment/fear_and_greed_index.csv'\n",
        "\n",
        "    with open(filename, 'w', newline='', encoding='utf-8') as file:\n",
        "        file.write(response.text)\n",
        "\n",
        "    print(f\"CSV data has been successfully downloaded and saved as '{filename}'.\")\n",
        "else:\n",
        "    print(\"Failed to retrieve CSV data\", response.status_code)\n"
      ],
      "metadata": {
        "colab": {
          "base_uri": "https://localhost:8080/"
        },
        "id": "R-RaR7L9bfZj",
        "outputId": "e35f9021-f00c-48ac-bf75-405be37bbf4f"
      },
      "outputs": [
        {
          "output_type": "stream",
          "name": "stdout",
          "text": [
            "CSV data has been successfully downloaded and saved as '/content/drive/MyDrive/CRYPTO/3_Sentiment/fear_and_greed_index.csv'.\n"
          ]
        }
      ],
      "execution_count": null
    },
    {
      "cell_type": "code",
      "source": [
        "import csv\n",
        "\n",
        "filename = '/content/drive/MyDrive/CRYPTO/3_Sentiment/fear_and_greed_index.csv'\n",
        "\n",
        "data=[]\n",
        "with open(filename, 'r', newline='', encoding='utf-8') as file:\n",
        "    reader = csv.reader(file)\n",
        "\n",
        "    for row in reader:\n",
        "        data.append(row)\n"
      ],
      "metadata": {
        "id": "6_G7BqU_aR6I"
      },
      "execution_count": null,
      "outputs": []
    },
    {
      "cell_type": "code",
      "source": [
        "len(data)"
      ],
      "metadata": {
        "colab": {
          "base_uri": "https://localhost:8080/"
        },
        "id": "Z8Doz54reUpi",
        "outputId": "02d42484-40f4-4af8-f2a0-a7e62c7b979f"
      },
      "outputs": [
        {
          "output_type": "execute_result",
          "data": {
            "text/plain": [
              "2274"
            ]
          },
          "metadata": {},
          "execution_count": 27
        }
      ],
      "execution_count": null
    },
    {
      "cell_type": "code",
      "source": [
        "data[3]"
      ],
      "metadata": {
        "colab": {
          "base_uri": "https://localhost:8080/"
        },
        "id": "FJHjmSSLeWdZ",
        "outputId": "449ceb00-a80c-447b-a276-a7744e3e271e"
      },
      "outputs": [
        {
          "output_type": "execute_result",
          "data": {
            "text/plain": [
              "['fng_value', 'fng_classification', 'date']"
            ]
          },
          "metadata": {},
          "execution_count": 28
        }
      ],
      "execution_count": null
    },
    {
      "cell_type": "markdown",
      "source": [
        "Usuwamy niepotrzebne wiersze z końca i początku"
      ],
      "metadata": {
        "id": "wXH0jiH_4h3H"
      }
    },
    {
      "cell_type": "code",
      "source": [
        "for x in range(5):\n",
        "    del data[len(data)-1:]\n",
        "\n",
        "for x in range(4):\n",
        "    del data[0]\n"
      ],
      "metadata": {
        "id": "Ua1Po3KTe0qZ"
      },
      "outputs": [],
      "execution_count": null
    },
    {
      "cell_type": "code",
      "source": [
        "len(data)"
      ],
      "metadata": {
        "colab": {
          "base_uri": "https://localhost:8080/"
        },
        "id": "j5LY30-ne6tD",
        "outputId": "09610831-d85c-457c-a72c-58e912fb3780"
      },
      "outputs": [
        {
          "output_type": "execute_result",
          "data": {
            "text/plain": [
              "2265"
            ]
          },
          "metadata": {},
          "execution_count": 30
        }
      ],
      "execution_count": null
    },
    {
      "cell_type": "code",
      "source": [
        "data[:5]"
      ],
      "metadata": {
        "colab": {
          "base_uri": "https://localhost:8080/"
        },
        "id": "ZWFVgKSc3fEk",
        "outputId": "96a616ed-3a79-4d41-ea0b-2cedefa70e91"
      },
      "outputs": [
        {
          "output_type": "execute_result",
          "data": {
            "text/plain": [
              "[['17-04-2024', '67', 'Greed'],\n",
              " ['16-04-2024', '65', 'Greed'],\n",
              " ['15-04-2024', '74', 'Greed'],\n",
              " ['14-04-2024', '72', 'Greed'],\n",
              " ['13-04-2024', '72', 'Greed']]"
            ]
          },
          "metadata": {},
          "execution_count": 31
        }
      ],
      "execution_count": null
    },
    {
      "cell_type": "code",
      "source": [
        "data[len(data)-5:]"
      ],
      "metadata": {
        "colab": {
          "base_uri": "https://localhost:8080/"
        },
        "id": "bA0qAJzkejT6",
        "outputId": "e4081408-00cc-49fb-b93b-9c9a3417812a"
      },
      "outputs": [
        {
          "output_type": "execute_result",
          "data": {
            "text/plain": [
              "[['05-02-2018', '11', 'Extreme Fear'],\n",
              " ['04-02-2018', '24', 'Extreme Fear'],\n",
              " ['03-02-2018', '40', 'Fear'],\n",
              " ['02-02-2018', '15', 'Extreme Fear'],\n",
              " ['01-02-2018', '30', 'Fear']]"
            ]
          },
          "metadata": {},
          "execution_count": 32
        }
      ],
      "execution_count": null
    },
    {
      "cell_type": "code",
      "source": [
        "data[len(data)-1][0]"
      ],
      "metadata": {
        "colab": {
          "base_uri": "https://localhost:8080/",
          "height": 36
        },
        "id": "TaNNziuk3UVA",
        "outputId": "02a9df3c-c341-4a43-b87d-c96d76c37a20"
      },
      "outputs": [
        {
          "output_type": "execute_result",
          "data": {
            "text/plain": [
              "'01-02-2018'"
            ],
            "application/vnd.google.colaboratory.intrinsic+json": {
              "type": "string"
            }
          },
          "metadata": {},
          "execution_count": 33
        }
      ],
      "execution_count": null
    },
    {
      "cell_type": "code",
      "source": [
        "api_dates=[]\n",
        "for x in data:\n",
        "    api_dates.append(x[0])"
      ],
      "metadata": {
        "id": "Bxa7PKRKeSzv"
      },
      "outputs": [],
      "execution_count": null
    },
    {
      "cell_type": "code",
      "source": [
        "from datetime import datetime\n",
        "\n",
        "def filter_dates_indexes(input_dates):\n",
        "    start_date = datetime.strptime(\"01-02-2018\", \"%d-%m-%Y\")\n",
        "    end_date = datetime.strptime(\"09-04-2024\", \"%d-%m-%Y\")\n",
        "\n",
        "    indexes = []\n",
        "\n",
        "    for index, date_str in enumerate(input_dates):\n",
        "        date = datetime.strptime(date_str, \"%d-%m-%Y\")\n",
        "        if start_date <= date <= end_date:\n",
        "            indexes.append(index)\n",
        "\n",
        "    return indexes\n",
        "\n",
        "filtered_indexes = filter_dates_indexes(api_dates)\n"
      ],
      "metadata": {
        "id": "fHKBWenKdeML"
      },
      "outputs": [],
      "execution_count": null
    },
    {
      "cell_type": "code",
      "source": [
        "filtered_indexes[:10]"
      ],
      "metadata": {
        "colab": {
          "base_uri": "https://localhost:8080/"
        },
        "id": "ZZyHTRAVfo2z",
        "outputId": "d87f058a-f4ee-4316-fbd8-e074c7ab211f"
      },
      "outputs": [
        {
          "output_type": "execute_result",
          "data": {
            "text/plain": [
              "[8, 9, 10, 11, 12, 13, 14, 15, 16, 17]"
            ]
          },
          "metadata": {},
          "execution_count": 36
        }
      ],
      "execution_count": null
    },
    {
      "cell_type": "code",
      "source": [
        "filtered_data=[]\n",
        "for x in filtered_indexes:\n",
        "    filtered_data.append(data[x])"
      ],
      "metadata": {
        "id": "6bT7ce-kf1iR"
      },
      "outputs": [],
      "execution_count": null
    },
    {
      "cell_type": "code",
      "source": [
        "len(filtered_indexes)"
      ],
      "metadata": {
        "colab": {
          "base_uri": "https://localhost:8080/"
        },
        "id": "-HErZYHieyLW",
        "outputId": "4890b730-480d-413f-9ce5-ab8d9cd59287"
      },
      "outputs": [
        {
          "output_type": "execute_result",
          "data": {
            "text/plain": [
              "2257"
            ]
          },
          "metadata": {},
          "execution_count": 38
        }
      ],
      "execution_count": null
    },
    {
      "cell_type": "code",
      "source": [
        "START_DATE_API=data[len(data)-1][0]"
      ],
      "metadata": {
        "id": "ud79tDtS4JP8"
      },
      "outputs": [],
      "execution_count": null
    },
    {
      "cell_type": "code",
      "source": [
        "CLOSE_DATE_API=data[0][0]"
      ],
      "metadata": {
        "id": "WiZ10I4w4H72"
      },
      "outputs": [],
      "execution_count": null
    },
    {
      "cell_type": "code",
      "source": [
        "START_DATE_API,CLOSE_DATE_API"
      ],
      "metadata": {
        "colab": {
          "base_uri": "https://localhost:8080/"
        },
        "id": "zEwxv8u14TqP",
        "outputId": "00bc45e3-6146-43d2-b491-c05b2835e789"
      },
      "outputs": [
        {
          "output_type": "execute_result",
          "data": {
            "text/plain": [
              "('01-02-2018', '17-04-2024')"
            ]
          },
          "metadata": {},
          "execution_count": 41
        }
      ],
      "execution_count": null
    },
    {
      "cell_type": "code",
      "source": [
        "START_DATE_API=\"2018-02-01\"\n",
        "CLOSE_DATE_API=\"2024-04-09\""
      ],
      "metadata": {
        "id": "ncK0h-zq7EiY"
      },
      "outputs": [],
      "execution_count": null
    },
    {
      "cell_type": "code",
      "source": [
        "API_DATA=[]\n",
        "for x in range(len(filtered_data)):\n",
        "    API_DATA.append(filtered_data[x][1])"
      ],
      "metadata": {
        "id": "t2wDCe7z4bnd"
      },
      "outputs": [],
      "execution_count": null
    },
    {
      "cell_type": "code",
      "source": [
        "len(API_DATA)"
      ],
      "metadata": {
        "colab": {
          "base_uri": "https://localhost:8080/"
        },
        "id": "krICT-0H0ZRB",
        "outputId": "320b95d8-95aa-4f88-dcee-a6693b0a7372"
      },
      "outputs": [
        {
          "output_type": "execute_result",
          "data": {
            "text/plain": [
              "2257"
            ]
          },
          "metadata": {},
          "execution_count": 44
        }
      ],
      "execution_count": null
    },
    {
      "cell_type": "code",
      "source": [
        "API_DATA[:5]"
      ],
      "metadata": {
        "colab": {
          "base_uri": "https://localhost:8080/"
        },
        "id": "4DLL-2yc4nsP",
        "outputId": "2f06c764-0b9b-4f1a-a602-d978404d0284"
      },
      "outputs": [
        {
          "output_type": "execute_result",
          "data": {
            "text/plain": [
              "['80', '76', '78', '75', '79']"
            ]
          },
          "metadata": {},
          "execution_count": 45
        }
      ],
      "execution_count": null
    },
    {
      "cell_type": "code",
      "source": [
        "DATA_INFO.append(condensate_info(\"API_DATA\",API_DATA,START_DATE_API,CLOSE_DATE_API))"
      ],
      "metadata": {
        "id": "x2XDB1o_3mAi"
      },
      "outputs": [],
      "execution_count": null
    },
    {
      "cell_type": "markdown",
      "source": [
        "4.Twitter\n",
        "\n",
        "Operacje na tweetach w notatniku CRYPTO_twitter_sentiment"
      ],
      "metadata": {
        "id": "cLSoDtFvOOaR"
      }
    },
    {
      "cell_type": "markdown",
      "source": [
        "5.World currencies"
      ],
      "metadata": {
        "id": "eL3qywyIOPjC"
      }
    },
    {
      "cell_type": "markdown",
      "source": [
        "CAD"
      ],
      "metadata": {
        "id": "Q63gRZ9HQlcw"
      }
    },
    {
      "cell_type": "code",
      "source": [
        "CAD_OPEN,CAD_HIGH,CAD_LOW,CAD_CLOSE,START_DATE_CAD,CLOSE_DATE_CAD=csv_extractor('/content/drive/MyDrive/CRYPTO/5_World_currencies/BTC-CAD.csv')"
      ],
      "metadata": {
        "id": "QW5vRZcQQqcL"
      },
      "outputs": [],
      "execution_count": null
    },
    {
      "cell_type": "code",
      "source": [
        "DATA_INFO.append(condensate_info(\"CAD_OPEN\",CAD_OPEN,START_DATE_CAD,CLOSE_DATE_CAD))\n",
        "DATA_INFO.append(condensate_info(\"CAD_HIGH\",CAD_HIGH,START_DATE_CAD,CLOSE_DATE_CAD))\n",
        "DATA_INFO.append(condensate_info(\"CAD_LOW\",CAD_LOW,START_DATE_CAD,CLOSE_DATE_CAD))\n",
        "DATA_INFO.append(condensate_info(\"CAD_CLOSE\",CAD_CLOSE,START_DATE_CAD,CLOSE_DATE_CAD))"
      ],
      "metadata": {
        "id": "C6MPyRRV3y2z"
      },
      "outputs": [],
      "execution_count": null
    },
    {
      "cell_type": "code",
      "source": [
        "CAD_OPEN[0],CAD_HIGH[0],CAD_LOW[0],CAD_CLOSE[0],START_DATE_CAD,CLOSE_DATE_CAD"
      ],
      "metadata": {
        "colab": {
          "base_uri": "https://localhost:8080/"
        },
        "id": "o_bnV0g1Q7ot",
        "outputId": "8ba68216-3f6d-4c9e-f8c5-5dae9b801235"
      },
      "outputs": [
        {
          "output_type": "execute_result",
          "data": {
            "text/plain": [
              "('511.192596',\n",
              " '513.446411',\n",
              " '497.302246',\n",
              " '503.479004',\n",
              " '2014-09-17',\n",
              " '2024-04-09')"
            ]
          },
          "metadata": {},
          "execution_count": 49
        }
      ],
      "execution_count": null
    },
    {
      "cell_type": "markdown",
      "source": [
        "CNY"
      ],
      "metadata": {
        "id": "JLoFEafdQmMX"
      }
    },
    {
      "cell_type": "code",
      "source": [
        "CNY_OPEN,CNY_HIGH,CNY_LOW,CNY_CLOSE,START_DATE_CNY,CLOSE_DATE_CNY=csv_extractor('/content/drive/MyDrive/CRYPTO/5_World_currencies/BTC-CNY.csv')"
      ],
      "metadata": {
        "id": "AYn2FIY7ROTz"
      },
      "outputs": [],
      "execution_count": null
    },
    {
      "cell_type": "code",
      "source": [
        "DATA_INFO.append(condensate_info(\"CNY_OPEN\",CNY_OPEN,START_DATE_CNY,CLOSE_DATE_CNY))\n",
        "DATA_INFO.append(condensate_info(\"CNY_HIGH\",CNY_HIGH,START_DATE_CNY,CLOSE_DATE_CNY))\n",
        "DATA_INFO.append(condensate_info(\"CNY_LOW\",CNY_LOW,START_DATE_CNY,CLOSE_DATE_CNY))\n",
        "DATA_INFO.append(condensate_info(\"CNY_CLOSE\",CNY_CLOSE,START_DATE_CNY,CLOSE_DATE_CNY))"
      ],
      "metadata": {
        "id": "V7d0LwVY39qe"
      },
      "outputs": [],
      "execution_count": null
    },
    {
      "cell_type": "code",
      "source": [
        "CNY_OPEN[0],CNY_HIGH[0],CNY_LOW[0],CNY_CLOSE[0],START_DATE_CNY,CLOSE_DATE_CNY"
      ],
      "metadata": {
        "colab": {
          "base_uri": "https://localhost:8080/"
        },
        "id": "9c2ivUw7RT19",
        "outputId": "f6d997f8-91b0-43f1-d1a9-118785660a3f"
      },
      "outputs": [
        {
          "output_type": "execute_result",
          "data": {
            "text/plain": [
              "('2863.153564',\n",
              " '2876.039795',\n",
              " '2777.192383',\n",
              " '2807.344971',\n",
              " '2014-09-17',\n",
              " '2024-04-09')"
            ]
          },
          "metadata": {},
          "execution_count": 52
        }
      ],
      "execution_count": null
    },
    {
      "cell_type": "markdown",
      "source": [
        "EUR"
      ],
      "metadata": {
        "id": "OsejkgwSQnCa"
      }
    },
    {
      "cell_type": "code",
      "source": [
        "EUR_OPEN,EUR_HIGH,EUR_LOW,EUR_CLOSE,START_DATE_EUR,CLOSE_DATE_EUR=csv_extractor('/content/drive/MyDrive/CRYPTO/5_World_currencies/BTC-EUR.csv')"
      ],
      "metadata": {
        "id": "R7zs2_8BRYdl"
      },
      "outputs": [],
      "execution_count": null
    },
    {
      "cell_type": "code",
      "source": [
        "DATA_INFO.append(condensate_info(\"EUR_OPEN\",EUR_OPEN,START_DATE_EUR,CLOSE_DATE_EUR))\n",
        "DATA_INFO.append(condensate_info(\"EUR_HIGH\",EUR_HIGH,START_DATE_EUR,CLOSE_DATE_EUR))\n",
        "DATA_INFO.append(condensate_info(\"EUR_LOW\",EUR_LOW,START_DATE_EUR,CLOSE_DATE_EUR))\n",
        "DATA_INFO.append(condensate_info(\"EUR_CLOSE\",EUR_CLOSE,START_DATE_EUR,CLOSE_DATE_EUR))"
      ],
      "metadata": {
        "id": "6c-VKSdO4Arc"
      },
      "outputs": [],
      "execution_count": null
    },
    {
      "cell_type": "code",
      "source": [
        "EUR_OPEN[0],EUR_HIGH[0],EUR_LOW[0],EUR_CLOSE[0],START_DATE_EUR,CLOSE_DATE_EUR"
      ],
      "metadata": {
        "colab": {
          "base_uri": "https://localhost:8080/"
        },
        "id": "Tjz4Tu6IRdix",
        "outputId": "5b2135a6-6ef9-4104-8a5d-e79035c7a478"
      },
      "outputs": [
        {
          "output_type": "execute_result",
          "data": {
            "text/plain": [
              "('359.546204',\n",
              " '361.468506',\n",
              " '351.586884',\n",
              " '355.957367',\n",
              " '2014-09-17',\n",
              " '2024-04-05')"
            ]
          },
          "metadata": {},
          "execution_count": 55
        }
      ],
      "execution_count": null
    },
    {
      "cell_type": "markdown",
      "source": [
        "GBP"
      ],
      "metadata": {
        "id": "7QYWJ13DQn0l"
      }
    },
    {
      "cell_type": "code",
      "source": [
        "GBP_OPEN,GBP_HIGH,GBP_LOW,GBP_CLOSE,START_DATE_GBP,CLOSE_DATE_GBP=csv_extractor('/content/drive/MyDrive/CRYPTO/5_World_currencies/BTC-GBP.csv')"
      ],
      "metadata": {
        "id": "iOLILLL0Rg8H"
      },
      "outputs": [],
      "execution_count": null
    },
    {
      "cell_type": "code",
      "source": [
        "DATA_INFO.append(condensate_info(\"GBP_OPEN\",GBP_OPEN,START_DATE_GBP,CLOSE_DATE_GBP))\n",
        "DATA_INFO.append(condensate_info(\"GBP_HIGH\",GBP_HIGH,START_DATE_GBP,CLOSE_DATE_GBP))\n",
        "DATA_INFO.append(condensate_info(\"GBP_LOW\",GBP_LOW,START_DATE_GBP,CLOSE_DATE_GBP))\n",
        "DATA_INFO.append(condensate_info(\"GBP_CLOSE\",GBP_CLOSE,START_DATE_GBP,CLOSE_DATE_GBP))"
      ],
      "metadata": {
        "id": "7vNA87bz4Dfl"
      },
      "outputs": [],
      "execution_count": null
    },
    {
      "cell_type": "code",
      "source": [
        "GBP_OPEN[0],GBP_HIGH[0],GBP_LOW[0],GBP_CLOSE[0],START_DATE_GBP,CLOSE_DATE_GBP"
      ],
      "metadata": {
        "colab": {
          "base_uri": "https://localhost:8080/"
        },
        "id": "_Rh5lyBRRmrN",
        "outputId": "a473539c-7f66-436e-ff53-1dcf1ba134e5"
      },
      "outputs": [
        {
          "output_type": "execute_result",
          "data": {
            "text/plain": [
              "('286.456390',\n",
              " '287.523193',\n",
              " '278.037109',\n",
              " '281.176758',\n",
              " '2014-09-17',\n",
              " '2024-04-05')"
            ]
          },
          "metadata": {},
          "execution_count": 58
        }
      ],
      "execution_count": null
    },
    {
      "cell_type": "markdown",
      "source": [
        "JPY"
      ],
      "metadata": {
        "id": "UEs_17cVQpgo"
      }
    },
    {
      "cell_type": "code",
      "source": [
        "JPY_OPEN,JPY_HIGH,JPY_LOW,JPY_CLOSE,START_DATE_JPY,CLOSE_DATE_JPY=csv_extractor('/content/drive/MyDrive/CRYPTO/5_World_currencies/BTC-JPY.csv')"
      ],
      "metadata": {
        "id": "JClshCJQ4rIN"
      },
      "outputs": [],
      "execution_count": null
    },
    {
      "cell_type": "code",
      "source": [
        "DATA_INFO.append(condensate_info(\"JPY_OPEN\",JPY_OPEN,START_DATE_JPY,CLOSE_DATE_JPY))\n",
        "DATA_INFO.append(condensate_info(\"JPY_HIGH\",JPY_HIGH,START_DATE_JPY,CLOSE_DATE_JPY))\n",
        "DATA_INFO.append(condensate_info(\"JPY_LOW\",JPY_LOW,START_DATE_JPY,CLOSE_DATE_JPY))\n",
        "DATA_INFO.append(condensate_info(\"JPY_CLOSE\",JPY_CLOSE,START_DATE_JPY,CLOSE_DATE_JPY))"
      ],
      "metadata": {
        "id": "3cqsHcTO4Gp9"
      },
      "outputs": [],
      "execution_count": null
    },
    {
      "cell_type": "code",
      "source": [
        "JPY_OPEN[0],JPY_HIGH[0],JPY_LOW[0],JPY_CLOSE[0],START_DATE_JPY,CLOSE_DATE_JPY"
      ],
      "metadata": {
        "colab": {
          "base_uri": "https://localhost:8080/"
        },
        "id": "vwITL-CdRs72",
        "outputId": "30664227-6811-472e-e5ba-35aff2266915"
      },
      "outputs": [
        {
          "output_type": "execute_result",
          "data": {
            "text/plain": [
              "('49912.671875',\n",
              " '50192.937500',\n",
              " '48992.777344',\n",
              " '49639.035156',\n",
              " '2014-09-17',\n",
              " '2024-04-05')"
            ]
          },
          "metadata": {},
          "execution_count": 61
        }
      ],
      "execution_count": null
    },
    {
      "cell_type": "markdown",
      "source": [
        "6.Market Volume\n",
        "\n",
        "Wartośc wykonywanych tranzakcji"
      ],
      "metadata": {
        "id": "v20PRNYCR4fz"
      }
    },
    {
      "cell_type": "code",
      "source": [
        "import csv\n",
        "\n",
        "MV_DATA=[]\n",
        "\n",
        "with open('/content/drive/MyDrive/CRYPTO/6_Market_volume/BTC-Daily.csv', 'r') as file:\n",
        "    csv_reader = csv.reader(file)\n",
        "\n",
        "    for row in csv_reader:\n",
        "        MV_DATA.append(row)"
      ],
      "metadata": {
        "id": "ja_ipYIFRvNC"
      },
      "outputs": [],
      "execution_count": null
    },
    {
      "cell_type": "code",
      "source": [
        "MV_DATA[0]"
      ],
      "metadata": {
        "colab": {
          "base_uri": "https://localhost:8080/"
        },
        "id": "kQuKBe8WSx3b",
        "outputId": "57327d85-d0b7-4c8e-c1d0-97313339b21d"
      },
      "outputs": [
        {
          "output_type": "execute_result",
          "data": {
            "text/plain": [
              "['unix',\n",
              " 'date',\n",
              " 'symbol',\n",
              " 'open',\n",
              " 'high',\n",
              " 'low',\n",
              " 'close',\n",
              " 'Volume BTC',\n",
              " 'Volume USD']"
            ]
          },
          "metadata": {},
          "execution_count": 63
        }
      ],
      "execution_count": null
    },
    {
      "cell_type": "code",
      "source": [
        "MV_DATA[1]"
      ],
      "metadata": {
        "colab": {
          "base_uri": "https://localhost:8080/"
        },
        "id": "oepB2zwPS-EQ",
        "outputId": "2dd9db56-c397-46ab-d09f-68211816193f"
      },
      "outputs": [
        {
          "output_type": "execute_result",
          "data": {
            "text/plain": [
              "['1646092800',\n",
              " '2022-03-01 00:00:00',\n",
              " 'BTC/USD',\n",
              " '43221.71',\n",
              " '43626.49',\n",
              " '43185.48',\n",
              " '43185.48',\n",
              " '49.00628870',\n",
              " '2116360.1005280763']"
            ]
          },
          "metadata": {},
          "execution_count": 64
        }
      ],
      "execution_count": null
    },
    {
      "cell_type": "code",
      "source": [
        "MV_START_DATE=MV_DATA[len(MV_DATA)-1][1]"
      ],
      "metadata": {
        "id": "lWTarjEmTAbH"
      },
      "outputs": [],
      "execution_count": null
    },
    {
      "cell_type": "code",
      "source": [
        "MV_CLOSE_DATE=MV_DATA[1][1]"
      ],
      "metadata": {
        "id": "ox1IiKzbUlkW"
      },
      "outputs": [],
      "execution_count": null
    },
    {
      "cell_type": "code",
      "source": [
        "MV_DATA[0][8]"
      ],
      "metadata": {
        "colab": {
          "base_uri": "https://localhost:8080/",
          "height": 36
        },
        "id": "Gju_MY3RS_OP",
        "outputId": "b8e3b1a1-55e9-4ca6-fbee-f05c6dd24a25"
      },
      "outputs": [
        {
          "output_type": "execute_result",
          "data": {
            "text/plain": [
              "'Volume USD'"
            ],
            "application/vnd.google.colaboratory.intrinsic+json": {
              "type": "string"
            }
          },
          "metadata": {},
          "execution_count": 67
        }
      ],
      "execution_count": null
    },
    {
      "cell_type": "code",
      "source": [
        "MV_DATA_n=MV_DATA[1:]\n",
        "BTC_USD_VOLUME=[]\n",
        "for x in range(len(MV_DATA_n)):\n",
        "    BTC_USD_VOLUME.append(MV_DATA_n[x][8])"
      ],
      "metadata": {
        "id": "8VuRNfsI4pHv"
      },
      "outputs": [],
      "execution_count": null
    },
    {
      "cell_type": "code",
      "source": [
        "len(BTC_USD_VOLUME)"
      ],
      "metadata": {
        "colab": {
          "base_uri": "https://localhost:8080/"
        },
        "id": "8-WwJFLPUOT_",
        "outputId": "def0caa1-f928-4a7c-e426-e81ae1bdd2a5"
      },
      "outputs": [
        {
          "output_type": "execute_result",
          "data": {
            "text/plain": [
              "2651"
            ]
          },
          "metadata": {},
          "execution_count": 69
        }
      ],
      "execution_count": null
    },
    {
      "cell_type": "code",
      "source": [
        "BTC_USD_VOLUME[0]"
      ],
      "metadata": {
        "colab": {
          "base_uri": "https://localhost:8080/",
          "height": 36
        },
        "id": "hVFuliT34HP8",
        "outputId": "baa057d7-a636-4c0c-8b30-c171115c45b2"
      },
      "outputs": [
        {
          "output_type": "execute_result",
          "data": {
            "text/plain": [
              "'2116360.1005280763'"
            ],
            "application/vnd.google.colaboratory.intrinsic+json": {
              "type": "string"
            }
          },
          "metadata": {},
          "execution_count": 70
        }
      ],
      "execution_count": null
    },
    {
      "cell_type": "code",
      "source": [
        "BTC_USD_VOLUME = BTC_USD_VOLUME[::-1]\n",
        "MV_START_DATE=\"2014-11-28\"\n",
        "MV_CLOSE_DATE=\"2022-03-01\""
      ],
      "metadata": {
        "id": "3ywvYutTlaV4"
      },
      "outputs": [],
      "execution_count": null
    },
    {
      "cell_type": "code",
      "source": [
        "BTC_USD_VOLUME[0],MV_START_DATE,MV_CLOSE_DATE"
      ],
      "metadata": {
        "colab": {
          "base_uri": "https://localhost:8080/"
        },
        "id": "2yYO5W-n3_WY",
        "outputId": "62b9d907-cce3-4cb9-e0b9-43a368fad345"
      },
      "outputs": [
        {
          "output_type": "execute_result",
          "data": {
            "text/plain": [
              "('8617.15', '2014-11-28', '2022-03-01')"
            ]
          },
          "metadata": {},
          "execution_count": 72
        }
      ],
      "execution_count": null
    },
    {
      "cell_type": "code",
      "source": [
        "DATA_INFO.append(condensate_info(\"BTC_USD_VOLUME\",BTC_USD_VOLUME,MV_START_DATE,MV_CLOSE_DATE))\n"
      ],
      "metadata": {
        "id": "2hDwY6Ka4Lya"
      },
      "outputs": [],
      "execution_count": null
    },
    {
      "cell_type": "markdown",
      "source": [
        "7.World Markets\n",
        "\n",
        "Wartośc najważniejszych rynków\n",
        "\n"
      ],
      "metadata": {
        "id": "GCBH0-NpUyVN"
      }
    },
    {
      "cell_type": "code",
      "source": [
        "import csv\n",
        "\n",
        "markets_csv=[]\n",
        "with open('/content/drive/MyDrive/CRYPTO/7_World_markets/Market.csv', 'r') as file:\n",
        "    csv_reader = csv.reader(file)\n",
        "\n",
        "    for row in csv_reader:\n",
        "        markets_csv.append(row)\n"
      ],
      "metadata": {
        "id": "_sdBfxqWUbhH"
      },
      "outputs": [],
      "execution_count": null
    },
    {
      "cell_type": "code",
      "source": [
        "markets_csv[0]"
      ],
      "metadata": {
        "colab": {
          "base_uri": "https://localhost:8080/"
        },
        "id": "6Pp2TtdY3-V5",
        "outputId": "4f1c04e9-5431-4127-fd93-ae8b76dd53b8"
      },
      "outputs": [
        {
          "output_type": "execute_result",
          "data": {
            "text/plain": [
              "['Date',\n",
              " 'BTC',\n",
              " 'NYSE',\n",
              " 'NASDAQ',\n",
              " 'LSE',\n",
              " 'BTC_Volume',\n",
              " 'NYSE_Volume',\n",
              " 'NASDAQ_Volume',\n",
              " 'LSE_Volume']"
            ]
          },
          "metadata": {},
          "execution_count": 75
        }
      ],
      "execution_count": null
    },
    {
      "cell_type": "code",
      "source": [
        "MARKETS_CLOSE_DATE=markets_csv[len(markets_csv)-1][0]"
      ],
      "metadata": {
        "id": "FBdbkCNlVeD7"
      },
      "outputs": [],
      "execution_count": null
    },
    {
      "cell_type": "code",
      "source": [
        "MARKETS_START_DATE=markets_csv[1][0]"
      ],
      "metadata": {
        "id": "MNAdTyVqVvju"
      },
      "outputs": [],
      "execution_count": null
    },
    {
      "cell_type": "code",
      "source": [
        "markets_csv_n=markets_csv[1:]\n",
        "NYSE=[]\n",
        "NASDAQ=[]\n",
        "LSE=[]\n",
        "\n",
        "MARKET_DATES=[]\n",
        "\n",
        "for x in range(len(markets_csv_n)):\n",
        "    NYSE.append(markets_csv_n[x][2])\n",
        "    NASDAQ.append(markets_csv_n[x][3])\n",
        "    LSE.append(markets_csv_n[x][4])"
      ],
      "metadata": {
        "id": "4Qjq9Qy7Vq8x"
      },
      "outputs": [],
      "execution_count": null
    },
    {
      "cell_type": "code",
      "source": [
        "NYSE[0],NASDAQ[0],LSE[0],MARKETS_START_DATE,MARKETS_CLOSE_DATE"
      ],
      "metadata": {
        "colab": {
          "base_uri": "https://localhost:8080/"
        },
        "id": "7K6IdaHt32CZ",
        "outputId": "db4ea728-31c2-468a-eb3d-1493a5882716"
      },
      "outputs": [
        {
          "output_type": "execute_result",
          "data": {
            "text/plain": [
              "('12902.7197265625', '7006.89990234375', '3742.0', '2018-01-02', '2023-06-30')"
            ]
          },
          "metadata": {},
          "execution_count": 79
        }
      ],
      "execution_count": null
    },
    {
      "cell_type": "code",
      "source": [
        "DATA_INFO.append(condensate_info(\"NYSE\",NYSE,MARKETS_START_DATE,MARKETS_CLOSE_DATE))\n",
        "DATA_INFO.append(condensate_info(\"NASDAQ\",NASDAQ,MARKETS_START_DATE,MARKETS_CLOSE_DATE))\n",
        "DATA_INFO.append(condensate_info(\"LSE\",LSE,MARKETS_START_DATE,MARKETS_CLOSE_DATE))"
      ],
      "metadata": {
        "id": "iQLwl2CC4rcG"
      },
      "outputs": [],
      "execution_count": null
    },
    {
      "cell_type": "markdown",
      "source": [
        "Sprawdzanie dat"
      ],
      "metadata": {
        "id": "Ea5VGKGhl42R"
      }
    },
    {
      "cell_type": "code",
      "source": [
        "DATA_INFO"
      ],
      "metadata": {
        "colab": {
          "base_uri": "https://localhost:8080/"
        },
        "id": "bsSEdjEI5Ebm",
        "outputId": "94d8f5fc-6e2f-4c6a-d2a3-423318d3f730"
      },
      "outputs": [
        {
          "output_type": "execute_result",
          "data": {
            "text/plain": [
              "[['BTC_OPEN',\n",
              "  3493,\n",
              "  3493,\n",
              "  datetime.date(2014, 9, 17),\n",
              "  datetime.date(2024, 4, 9)],\n",
              " ['BTC_HIGH',\n",
              "  3493,\n",
              "  3493,\n",
              "  datetime.date(2014, 9, 17),\n",
              "  datetime.date(2024, 4, 9)],\n",
              " ['BTC_LOW',\n",
              "  3493,\n",
              "  3493,\n",
              "  datetime.date(2014, 9, 17),\n",
              "  datetime.date(2024, 4, 9)],\n",
              " ['BTC_CLOSE',\n",
              "  3493,\n",
              "  3493,\n",
              "  datetime.date(2014, 9, 17),\n",
              "  datetime.date(2024, 4, 9)],\n",
              " ['BNB_OPEN',\n",
              "  2340,\n",
              "  2340,\n",
              "  datetime.date(2017, 11, 9),\n",
              "  datetime.date(2024, 4, 5)],\n",
              " ['BNB_HIGH',\n",
              "  2340,\n",
              "  2340,\n",
              "  datetime.date(2017, 11, 9),\n",
              "  datetime.date(2024, 4, 5)],\n",
              " ['BNB_LOW',\n",
              "  2340,\n",
              "  2340,\n",
              "  datetime.date(2017, 11, 9),\n",
              "  datetime.date(2024, 4, 5)],\n",
              " ['BNB_CLOSE',\n",
              "  2340,\n",
              "  2340,\n",
              "  datetime.date(2017, 11, 9),\n",
              "  datetime.date(2024, 4, 5)],\n",
              " ['ETH_OPEN',\n",
              "  2340,\n",
              "  2340,\n",
              "  datetime.date(2017, 11, 9),\n",
              "  datetime.date(2024, 4, 5)],\n",
              " ['ETH_HIGH',\n",
              "  2340,\n",
              "  2340,\n",
              "  datetime.date(2017, 11, 9),\n",
              "  datetime.date(2024, 4, 5)],\n",
              " ['ETH_LOW',\n",
              "  2340,\n",
              "  2340,\n",
              "  datetime.date(2017, 11, 9),\n",
              "  datetime.date(2024, 4, 5)],\n",
              " ['ETH_CLOSE',\n",
              "  2340,\n",
              "  2340,\n",
              "  datetime.date(2017, 11, 9),\n",
              "  datetime.date(2024, 4, 5)],\n",
              " ['BCH_OPEN',\n",
              "  2344,\n",
              "  2344,\n",
              "  datetime.date(2017, 11, 9),\n",
              "  datetime.date(2024, 4, 9)],\n",
              " ['BCH_HIGH',\n",
              "  2344,\n",
              "  2344,\n",
              "  datetime.date(2017, 11, 9),\n",
              "  datetime.date(2024, 4, 9)],\n",
              " ['BCH_LOW',\n",
              "  2344,\n",
              "  2344,\n",
              "  datetime.date(2017, 11, 9),\n",
              "  datetime.date(2024, 4, 9)],\n",
              " ['BCH_CLOSE',\n",
              "  2344,\n",
              "  2344,\n",
              "  datetime.date(2017, 11, 9),\n",
              "  datetime.date(2024, 4, 9)],\n",
              " ['DOGE_OPEN',\n",
              "  2344,\n",
              "  2344,\n",
              "  datetime.date(2017, 11, 9),\n",
              "  datetime.date(2024, 4, 9)],\n",
              " ['DOGE_HIGH',\n",
              "  2344,\n",
              "  2344,\n",
              "  datetime.date(2017, 11, 9),\n",
              "  datetime.date(2024, 4, 9)],\n",
              " ['DOGE_LOW',\n",
              "  2344,\n",
              "  2344,\n",
              "  datetime.date(2017, 11, 9),\n",
              "  datetime.date(2024, 4, 9)],\n",
              " ['DOGE_CLOSE',\n",
              "  2344,\n",
              "  2344,\n",
              "  datetime.date(2017, 11, 9),\n",
              "  datetime.date(2024, 4, 9)],\n",
              " ['AVAX_OPEN',\n",
              "  1367,\n",
              "  1367,\n",
              "  datetime.date(2020, 7, 13),\n",
              "  datetime.date(2024, 4, 9)],\n",
              " ['AVAX_HIGH',\n",
              "  1367,\n",
              "  1367,\n",
              "  datetime.date(2020, 7, 13),\n",
              "  datetime.date(2024, 4, 9)],\n",
              " ['AVAX_LOW',\n",
              "  1367,\n",
              "  1367,\n",
              "  datetime.date(2020, 7, 13),\n",
              "  datetime.date(2024, 4, 9)],\n",
              " ['AVAX_CLOSE',\n",
              "  1367,\n",
              "  1367,\n",
              "  datetime.date(2020, 7, 13),\n",
              "  datetime.date(2024, 4, 9)],\n",
              " ['API_DATA',\n",
              "  2257,\n",
              "  2260,\n",
              "  datetime.date(2018, 2, 1),\n",
              "  datetime.date(2024, 4, 9)],\n",
              " ['CAD_OPEN',\n",
              "  3493,\n",
              "  3493,\n",
              "  datetime.date(2014, 9, 17),\n",
              "  datetime.date(2024, 4, 9)],\n",
              " ['CAD_HIGH',\n",
              "  3493,\n",
              "  3493,\n",
              "  datetime.date(2014, 9, 17),\n",
              "  datetime.date(2024, 4, 9)],\n",
              " ['CAD_LOW',\n",
              "  3493,\n",
              "  3493,\n",
              "  datetime.date(2014, 9, 17),\n",
              "  datetime.date(2024, 4, 9)],\n",
              " ['CAD_CLOSE',\n",
              "  3493,\n",
              "  3493,\n",
              "  datetime.date(2014, 9, 17),\n",
              "  datetime.date(2024, 4, 9)],\n",
              " ['CNY_OPEN',\n",
              "  3493,\n",
              "  3493,\n",
              "  datetime.date(2014, 9, 17),\n",
              "  datetime.date(2024, 4, 9)],\n",
              " ['CNY_HIGH',\n",
              "  3493,\n",
              "  3493,\n",
              "  datetime.date(2014, 9, 17),\n",
              "  datetime.date(2024, 4, 9)],\n",
              " ['CNY_LOW',\n",
              "  3493,\n",
              "  3493,\n",
              "  datetime.date(2014, 9, 17),\n",
              "  datetime.date(2024, 4, 9)],\n",
              " ['CNY_CLOSE',\n",
              "  3493,\n",
              "  3493,\n",
              "  datetime.date(2014, 9, 17),\n",
              "  datetime.date(2024, 4, 9)],\n",
              " ['EUR_OPEN',\n",
              "  3489,\n",
              "  3489,\n",
              "  datetime.date(2014, 9, 17),\n",
              "  datetime.date(2024, 4, 5)],\n",
              " ['EUR_HIGH',\n",
              "  3489,\n",
              "  3489,\n",
              "  datetime.date(2014, 9, 17),\n",
              "  datetime.date(2024, 4, 5)],\n",
              " ['EUR_LOW',\n",
              "  3489,\n",
              "  3489,\n",
              "  datetime.date(2014, 9, 17),\n",
              "  datetime.date(2024, 4, 5)],\n",
              " ['EUR_CLOSE',\n",
              "  3489,\n",
              "  3489,\n",
              "  datetime.date(2014, 9, 17),\n",
              "  datetime.date(2024, 4, 5)],\n",
              " ['GBP_OPEN',\n",
              "  3489,\n",
              "  3489,\n",
              "  datetime.date(2014, 9, 17),\n",
              "  datetime.date(2024, 4, 5)],\n",
              " ['GBP_HIGH',\n",
              "  3489,\n",
              "  3489,\n",
              "  datetime.date(2014, 9, 17),\n",
              "  datetime.date(2024, 4, 5)],\n",
              " ['GBP_LOW',\n",
              "  3489,\n",
              "  3489,\n",
              "  datetime.date(2014, 9, 17),\n",
              "  datetime.date(2024, 4, 5)],\n",
              " ['GBP_CLOSE',\n",
              "  3489,\n",
              "  3489,\n",
              "  datetime.date(2014, 9, 17),\n",
              "  datetime.date(2024, 4, 5)],\n",
              " ['JPY_OPEN',\n",
              "  3489,\n",
              "  3489,\n",
              "  datetime.date(2014, 9, 17),\n",
              "  datetime.date(2024, 4, 5)],\n",
              " ['JPY_HIGH',\n",
              "  3489,\n",
              "  3489,\n",
              "  datetime.date(2014, 9, 17),\n",
              "  datetime.date(2024, 4, 5)],\n",
              " ['JPY_LOW',\n",
              "  3489,\n",
              "  3489,\n",
              "  datetime.date(2014, 9, 17),\n",
              "  datetime.date(2024, 4, 5)],\n",
              " ['JPY_CLOSE',\n",
              "  3489,\n",
              "  3489,\n",
              "  datetime.date(2014, 9, 17),\n",
              "  datetime.date(2024, 4, 5)],\n",
              " ['BTC_USD_VOLUME',\n",
              "  2651,\n",
              "  2651,\n",
              "  datetime.date(2014, 11, 28),\n",
              "  datetime.date(2022, 3, 1)],\n",
              " ['NYSE', 1383, 2006, datetime.date(2018, 1, 2), datetime.date(2023, 6, 30)],\n",
              " ['NASDAQ', 1383, 2006, datetime.date(2018, 1, 2), datetime.date(2023, 6, 30)],\n",
              " ['LSE', 1383, 2006, datetime.date(2018, 1, 2), datetime.date(2023, 6, 30)]]"
            ]
          },
          "metadata": {},
          "execution_count": 81
        }
      ],
      "execution_count": null
    },
    {
      "cell_type": "code",
      "source": [
        "DATA_LIST=[BTC_OPEN,BTC_HIGH,BTC_LOW,BTC_CLOSE,BNB_OPEN,BNB_HIGH,BNB_LOW,BNB_CLOSE,ETH_OPEN,ETH_HIGH,ETH_LOW,ETH_CLOSE,BCH_OPEN,BCH_HIGH,BCH_LOW,BCH_CLOSE,DOGE_OPEN,DOGE_HIGH,DOGE_LOW,DOGE_CLOSE,AVAX_OPEN,AVAX_HIGH,AVAX_LOW,AVAX_CLOSE,API_DATA,CAD_OPEN,CAD_HIGH,CAD_LOW,CAD_CLOSE,CNY_OPEN,CNY_HIGH,CNY_LOW,CNY_CLOSE,EUR_OPEN,EUR_HIGH,EUR_LOW,EUR_CLOSE,GBP_OPEN,GBP_HIGH,GBP_LOW,GBP_CLOSE,JPY_OPEN,JPY_HIGH,JPY_LOW,JPY_CLOSE,BTC_USD_VOLUME,NYSE,NASDAQ,LSE]"
      ],
      "metadata": {
        "id": "kXoMazZGrjsA"
      },
      "outputs": [],
      "execution_count": null
    },
    {
      "cell_type": "code",
      "source": [
        "print(f'BTC_USD:  {START_DATE_BTC_USD}---{CLOSE_DATE_BTC_USD}')\n",
        "print(f'ETH_USD:  {START_DATE_ETH_USD}---{CLOSE_DATE_ETH_USD}')\n",
        "print(f'AVAX_USD: {START_DATE_AVAX_USD}---{CLOSE_DATE_AVAX_USD}')\n",
        "print(f'BCH_USD:  {START_DATE_BCH_USD}---{CLOSE_DATE_BCH_USD}')\n",
        "print(f'BNB_USD:  {START_DATE_BNB_USD}---{CLOSE_DATE_BNB_USD}')\n",
        "print(f'DOGE_USD: {START_DATE_DOGE_USD}---{CLOSE_DATE_DOGE_USD}')\n",
        "print(f'API:      {START_DATE_API}---{CLOSE_DATE_API}')\n",
        "print(f'CAD:      {START_DATE_CAD}---{CLOSE_DATE_CAD}')\n",
        "print(f'CNY:      {START_DATE_CNY}---{CLOSE_DATE_CNY}')\n",
        "print(f'EUR:      {START_DATE_EUR}---{CLOSE_DATE_EUR}')\n",
        "print(f'GBP:      {START_DATE_GBP}---{CLOSE_DATE_GBP}')\n",
        "print(f'JPY:      {START_DATE_JPY}---{CLOSE_DATE_JPY}')\n",
        "print(f'Volume:   {MV_START_DATE}---{MV_CLOSE_DATE}')\n",
        "print(f'MARKETS:  {MARKETS_START_DATE}---{MARKETS_CLOSE_DATE}')"
      ],
      "metadata": {
        "colab": {
          "base_uri": "https://localhost:8080/"
        },
        "id": "-wvl8DyQ3PNl",
        "outputId": "098ebc24-21e4-42c7-dfb6-534ebb3aada1"
      },
      "outputs": [
        {
          "output_type": "stream",
          "name": "stdout",
          "text": [
            "BTC_USD:  2014-09-17---2024-04-09\n",
            "ETH_USD:  2017-11-09---2024-04-05\n",
            "AVAX_USD: 2020-07-13---2024-04-09\n",
            "BCH_USD:  2017-11-09---2024-04-09\n",
            "BNB_USD:  2017-11-09---2024-04-05\n",
            "DOGE_USD: 2017-11-09---2024-04-09\n",
            "API:      2018-02-01---2024-04-09\n",
            "CAD:      2014-09-17---2024-04-09\n",
            "CNY:      2014-09-17---2024-04-09\n",
            "EUR:      2014-09-17---2024-04-05\n",
            "GBP:      2014-09-17---2024-04-05\n",
            "JPY:      2014-09-17---2024-04-05\n",
            "Volume:   2014-11-28---2022-03-01\n",
            "MARKETS:  2018-01-02---2023-06-30\n"
          ]
        }
      ],
      "execution_count": null
    },
    {
      "cell_type": "markdown",
      "source": [
        "Najlepsza datą na rozpoczęcie będzie 2017-11-09\n",
        "\n",
        "Większość coinów nie miało wcześniej dużych wahań przez co nie daje to dużo wartościowych informacji dla modelu\n",
        "\n",
        "Datą zakończenia będzie 2024-04-09\n",
        "\n",
        "Najważniejsze dane mamy właśnie do tego dnia, a im więcej danych rozpatrzymy tym lepiej."
      ],
      "metadata": {
        "id": "OdoRZgecqEVs"
      }
    },
    {
      "cell_type": "markdown",
      "source": [
        "Sprawdzamy czy jakieś listy mają brakujące dane, mniej rekordów niż dni"
      ],
      "metadata": {
        "id": "nM2W8zaNit6o"
      }
    },
    {
      "cell_type": "code",
      "source": [
        "DATA_INFO[0]"
      ],
      "metadata": {
        "colab": {
          "base_uri": "https://localhost:8080/"
        },
        "id": "RkzZAGym7u_E",
        "outputId": "e93da5b3-3d5d-40e9-ecd4-394229adcfef"
      },
      "outputs": [
        {
          "output_type": "execute_result",
          "data": {
            "text/plain": [
              "['BTC_OPEN', 3493, 3493, datetime.date(2014, 9, 17), datetime.date(2024, 4, 9)]"
            ]
          },
          "metadata": {},
          "execution_count": 84
        }
      ],
      "execution_count": null
    },
    {
      "cell_type": "code",
      "source": [
        "def check_data_length(DATA_INFO=DATA_INFO):\n",
        "    i=0\n",
        "    Good_indexes=[]\n",
        "    Bad_indexes=[]\n",
        "    for x in DATA_INFO:\n",
        "        if(x[1]==x[2]):\n",
        "            print(\"-----\")\n",
        "            print(f\"{x[0]} - GOOD\")\n",
        "            Good_indexes.append(i)\n",
        "            i=i+1\n",
        "        else:\n",
        "            print(\"-----\")\n",
        "            print(f\"{x[0]}\")\n",
        "            print(f\"Data len: {x[1]}\")\n",
        "            print(f\"Duration: {x[2]}\")\n",
        "            Bad_indexes.append(i)\n",
        "            i=i+1\n",
        "\n",
        "    return Good_indexes,Bad_indexes"
      ],
      "metadata": {
        "id": "QXUKtm8D7nGK"
      },
      "outputs": [],
      "execution_count": null
    },
    {
      "cell_type": "code",
      "source": [
        "Good_indexes,Bad_indexes=check_data_length()"
      ],
      "metadata": {
        "colab": {
          "base_uri": "https://localhost:8080/"
        },
        "id": "DeK_0Wy08hay",
        "outputId": "82c29c3e-462e-4183-8b3d-c6df9b2cdd28"
      },
      "outputs": [
        {
          "output_type": "stream",
          "name": "stdout",
          "text": [
            "-----\n",
            "BTC_OPEN - GOOD\n",
            "-----\n",
            "BTC_HIGH - GOOD\n",
            "-----\n",
            "BTC_LOW - GOOD\n",
            "-----\n",
            "BTC_CLOSE - GOOD\n",
            "-----\n",
            "BNB_OPEN - GOOD\n",
            "-----\n",
            "BNB_HIGH - GOOD\n",
            "-----\n",
            "BNB_LOW - GOOD\n",
            "-----\n",
            "BNB_CLOSE - GOOD\n",
            "-----\n",
            "ETH_OPEN - GOOD\n",
            "-----\n",
            "ETH_HIGH - GOOD\n",
            "-----\n",
            "ETH_LOW - GOOD\n",
            "-----\n",
            "ETH_CLOSE - GOOD\n",
            "-----\n",
            "BCH_OPEN - GOOD\n",
            "-----\n",
            "BCH_HIGH - GOOD\n",
            "-----\n",
            "BCH_LOW - GOOD\n",
            "-----\n",
            "BCH_CLOSE - GOOD\n",
            "-----\n",
            "DOGE_OPEN - GOOD\n",
            "-----\n",
            "DOGE_HIGH - GOOD\n",
            "-----\n",
            "DOGE_LOW - GOOD\n",
            "-----\n",
            "DOGE_CLOSE - GOOD\n",
            "-----\n",
            "AVAX_OPEN - GOOD\n",
            "-----\n",
            "AVAX_HIGH - GOOD\n",
            "-----\n",
            "AVAX_LOW - GOOD\n",
            "-----\n",
            "AVAX_CLOSE - GOOD\n",
            "-----\n",
            "API_DATA\n",
            "Data len: 2257\n",
            "Duration: 2260\n",
            "-----\n",
            "CAD_OPEN - GOOD\n",
            "-----\n",
            "CAD_HIGH - GOOD\n",
            "-----\n",
            "CAD_LOW - GOOD\n",
            "-----\n",
            "CAD_CLOSE - GOOD\n",
            "-----\n",
            "CNY_OPEN - GOOD\n",
            "-----\n",
            "CNY_HIGH - GOOD\n",
            "-----\n",
            "CNY_LOW - GOOD\n",
            "-----\n",
            "CNY_CLOSE - GOOD\n",
            "-----\n",
            "EUR_OPEN - GOOD\n",
            "-----\n",
            "EUR_HIGH - GOOD\n",
            "-----\n",
            "EUR_LOW - GOOD\n",
            "-----\n",
            "EUR_CLOSE - GOOD\n",
            "-----\n",
            "GBP_OPEN - GOOD\n",
            "-----\n",
            "GBP_HIGH - GOOD\n",
            "-----\n",
            "GBP_LOW - GOOD\n",
            "-----\n",
            "GBP_CLOSE - GOOD\n",
            "-----\n",
            "JPY_OPEN - GOOD\n",
            "-----\n",
            "JPY_HIGH - GOOD\n",
            "-----\n",
            "JPY_LOW - GOOD\n",
            "-----\n",
            "JPY_CLOSE - GOOD\n",
            "-----\n",
            "BTC_USD_VOLUME - GOOD\n",
            "-----\n",
            "NYSE\n",
            "Data len: 1383\n",
            "Duration: 2006\n",
            "-----\n",
            "NASDAQ\n",
            "Data len: 1383\n",
            "Duration: 2006\n",
            "-----\n",
            "LSE\n",
            "Data len: 1383\n",
            "Duration: 2006\n"
          ]
        }
      ],
      "execution_count": null
    },
    {
      "cell_type": "code",
      "source": [
        "Bad_indexes"
      ],
      "metadata": {
        "colab": {
          "base_uri": "https://localhost:8080/"
        },
        "id": "l48D6VvLl-3f",
        "outputId": "1d78bd28-ab7e-478f-dc27-76533696c6cb"
      },
      "outputs": [
        {
          "output_type": "execute_result",
          "data": {
            "text/plain": [
              "[24, 46, 47, 48]"
            ]
          },
          "metadata": {},
          "execution_count": 87
        }
      ],
      "execution_count": null
    },
    {
      "cell_type": "markdown",
      "source": [
        "Dane które nie mają brakujących rekordów musimy jedynie skrócić lub rozszerzyć. Dane które mają brakujące rekordy trzeba poddac troche innej obróbce"
      ],
      "metadata": {
        "id": "wtILqZ8ukBEM"
      }
    },
    {
      "cell_type": "markdown",
      "source": [
        "Przycinanie i poszerzanie danych"
      ],
      "metadata": {
        "id": "Gjt4Uj_ekM8K"
      }
    },
    {
      "cell_type": "code",
      "source": [
        "# Funkcja która odpowiednio przycina danae oraz dodaje rekordy\n",
        "# Jeśli dane mają rekordy sprzed 2017-11-9 to je usuwa\n",
        "# Jeśli dane zaczynają się po 2017-11-9 to dodaje rekordy na początku\n",
        "\n",
        "# To samo na końcu\n",
        "\n",
        "# Jeśli dane mają rekordy po 2024-04-09 to je usuwa\n",
        "# Jeśli kończą się przed 2024-04-09 to dodaje rekordy na końcu\n",
        "\n",
        "# Jeśli dane końce danych zaczynają się i kończą w pożądanych miejscach to funckja zwraca przekazane dane\n",
        "\n",
        "\n",
        "def crop_data(data,start_date,close_date,target_date=(2017, 11, 9),end_date=date(2024,4,9)):\n",
        "    in_DATA=data.copy()\n",
        "    difference = target_date - start_date\n",
        "    duration = difference.days\n",
        "\n",
        "    s_difference=end_date-close_date\n",
        "    s_duration=s_difference.days\n",
        "\n",
        "    print(s_duration)\n",
        "\n",
        "    # Funkcja do obróbki prawego końca danych\n",
        "    def s_dur_checker(s_duration=s_duration,in_DATA=in_DATA):\n",
        "\n",
        "        # Jeśli oryginalne dane kończą się przed end date\n",
        "        if(s_duration>0):\n",
        "            new_elements = [None] * s_duration\n",
        "            in_DATA=in_DATA+new_elements\n",
        "            print(f\"S:1\")\n",
        "            return in_DATA\n",
        "\n",
        "        # Jeśli oryginalne dane kończą się po end date\n",
        "        elif(s_duration<0):\n",
        "            in_DATA = in_DATA[:s_duration]\n",
        "            print(f\"S:2\")\n",
        "            return in_DATA\n",
        "\n",
        "        # Jeśli oryginalne dane kończą w end date\n",
        "        elif(s_duration==0):\n",
        "            return in_DATA\n",
        "            print(f\"S:3\")\n",
        "        else:\n",
        "            print(\"ERROR\")\n",
        "\n",
        "\n",
        "    print(duration)\n",
        "    # Data początkowa jest przed target date\n",
        "    if(duration>0):\n",
        "        del in_DATA[:duration]\n",
        "        print(f\"F:1\")\n",
        "        # Sprawdzamy prawy koniec danych\n",
        "        in_DATA=s_dur_checker()\n",
        "\n",
        "        return in_DATA\n",
        "\n",
        "    # Data początkowa jest po target date\n",
        "    elif(duration<0):\n",
        "        duration=duration-2*duration\n",
        "        new_elements = [None] * duration\n",
        "        new_in_DATA=new_elements+in_DATA\n",
        "        print(f\"F:2\")\n",
        "        # Sprawdzamy prawy koniec danych\n",
        "        returned_DATA=s_dur_checker(in_DATA=new_in_DATA)\n",
        "\n",
        "        return returned_DATA\n",
        "\n",
        "    # Data początkowa jest taka jak target date\n",
        "    elif(duration==0):\n",
        "        print(f\"F:3\")\n",
        "        # Sprawdzamy prawy koniec danych\n",
        "        in_DATA=s_dur_checker()\n",
        "\n",
        "        return in_DATA\n",
        "\n",
        "    else:\n",
        "        return in_DATA\n",
        "\n",
        "\n"
      ],
      "metadata": {
        "id": "Lsv61qW9whSc"
      },
      "outputs": [],
      "execution_count": null
    },
    {
      "cell_type": "markdown",
      "source": [
        "Dodawanie rekordów do \"dziurawych\" danych"
      ],
      "metadata": {
        "id": "Da48nLMX6yVg"
      }
    },
    {
      "cell_type": "code",
      "source": [
        "fp=\"/content/drive/MyDrive/CRYPTO/3_Sentiment/fear_and_greed_index.csv\""
      ],
      "metadata": {
        "id": "0yRZrjvJ92fM"
      },
      "outputs": [],
      "execution_count": null
    },
    {
      "cell_type": "code",
      "source": [
        "from datetime import datetime, timedelta\n",
        "\n",
        "def check_missing_dates(date_array):\n",
        "    date_array = [datetime.strptime(date_str, \"%Y-%m-%d\") for date_str in date_array]\n",
        "\n",
        "    date_array.sort()\n",
        "\n",
        "    start_date = date_array[0]\n",
        "    end_date = date_array[-1]\n",
        "\n",
        "    occurred_dates = set(date_array)\n",
        "\n",
        "    missing_dates=[]\n",
        "    current_date = start_date\n",
        "    while current_date <= end_date:\n",
        "        if current_date not in occurred_dates:\n",
        "            missing_date=current_date.strftime(\"%Y-%m-%d\")\n",
        "            missing_dates.append(missing_date)\n",
        "\n",
        "        current_date += timedelta(days=1)\n",
        "\n",
        "\n",
        "    if(len(missing_dates)>0):\n",
        "        return missing_dates\n",
        "\n"
      ],
      "metadata": {
        "id": "t-XzvZf_bnB3"
      },
      "outputs": [],
      "execution_count": null
    },
    {
      "cell_type": "markdown",
      "source": [
        "Najpierw sprawdzimy dane z API"
      ],
      "metadata": {
        "id": "C6We3oCW9bh2"
      }
    },
    {
      "cell_type": "code",
      "source": [
        "START_DATE_API,CLOSE_DATE_API"
      ],
      "metadata": {
        "colab": {
          "base_uri": "https://localhost:8080/"
        },
        "id": "Z0AxX8Eg-k-O",
        "outputId": "8f0db7ca-23dc-42e2-ae4c-f6b5c0e04712"
      },
      "execution_count": null,
      "outputs": [
        {
          "output_type": "execute_result",
          "data": {
            "text/plain": [
              "('2018-02-01', '2024-04-09')"
            ]
          },
          "metadata": {},
          "execution_count": 93
        }
      ]
    },
    {
      "cell_type": "code",
      "source": [
        "data[:10]"
      ],
      "metadata": {
        "colab": {
          "base_uri": "https://localhost:8080/"
        },
        "id": "ZzUZXwah-M4_",
        "outputId": "9bcb39ee-c6c2-4a12-d528-71b6e5930154"
      },
      "execution_count": null,
      "outputs": [
        {
          "output_type": "execute_result",
          "data": {
            "text/plain": [
              "[['17-04-2024', '67', 'Greed'],\n",
              " ['16-04-2024', '65', 'Greed'],\n",
              " ['15-04-2024', '74', 'Greed'],\n",
              " ['14-04-2024', '72', 'Greed'],\n",
              " ['13-04-2024', '72', 'Greed'],\n",
              " ['12-04-2024', '79', 'Extreme Greed'],\n",
              " ['11-04-2024', '76', 'Extreme Greed'],\n",
              " ['10-04-2024', '78', 'Extreme Greed'],\n",
              " ['09-04-2024', '80', 'Extreme Greed'],\n",
              " ['08-04-2024', '76', 'Extreme Greed']]"
            ]
          },
          "metadata": {},
          "execution_count": 94
        }
      ]
    },
    {
      "cell_type": "code",
      "source": [
        "def check_date_format(date_string):\n",
        "        import re\n",
        "        pattern_f = r'^\\d{2}-\\d{2}-\\d{4}$'\n",
        "        pattern_s = r'^\\d{4}-\\d{2}-\\d{2}$'\n",
        "        if (re.match(pattern_f, date_string)):\n",
        "            return True,1\n",
        "        elif(re.match(pattern_s, date_string)):\n",
        "            return True,2\n",
        "        else:\n",
        "            return False,0"
      ],
      "metadata": {
        "id": "4bj4RAlq_WXe"
      },
      "execution_count": null,
      "outputs": []
    },
    {
      "cell_type": "code",
      "source": [
        "boolean,number=check_date_format(data[0][0])"
      ],
      "metadata": {
        "id": "YewMZVdQ_XhA"
      },
      "execution_count": null,
      "outputs": []
    },
    {
      "cell_type": "code",
      "source": [
        "from datetime import datetime\n",
        "\n",
        "def filter_dates_indexes(input_dates):\n",
        "\n",
        "    start_date = datetime.strptime(\"2018-02-01\", \"%Y-%m-%d\")\n",
        "    end_date = datetime.strptime(\"2024-04-09\", \"%Y-%m-%d\")\n",
        "\n",
        "    indexes = []\n",
        "\n",
        "    for index, date_str in enumerate(input_dates):\n",
        "        date = datetime.strptime(date_str, \"%Y-%m-%d\")\n",
        "        if start_date <= date <= end_date:\n",
        "            indexes.append(index)\n",
        "\n",
        "    return indexes"
      ],
      "metadata": {
        "id": "6ThygcEs--EY"
      },
      "execution_count": null,
      "outputs": []
    },
    {
      "cell_type": "code",
      "source": [
        "for sublist in data:\n",
        "    parts = sublist[0].split('-')\n",
        "    sublist[0] = f\"{parts[2]}-{parts[1]}-{parts[0]}\""
      ],
      "metadata": {
        "id": "o_5h_4ELD1BK"
      },
      "execution_count": null,
      "outputs": []
    },
    {
      "cell_type": "code",
      "source": [
        "data[:10]"
      ],
      "metadata": {
        "colab": {
          "base_uri": "https://localhost:8080/"
        },
        "id": "oxehg13EEj1t",
        "outputId": "38d0941b-9722-4653-967e-a25f43e062b5"
      },
      "execution_count": null,
      "outputs": [
        {
          "output_type": "execute_result",
          "data": {
            "text/plain": [
              "[['2024-04-17', '67', 'Greed'],\n",
              " ['2024-04-16', '65', 'Greed'],\n",
              " ['2024-04-15', '74', 'Greed'],\n",
              " ['2024-04-14', '72', 'Greed'],\n",
              " ['2024-04-13', '72', 'Greed'],\n",
              " ['2024-04-12', '79', 'Extreme Greed'],\n",
              " ['2024-04-11', '76', 'Extreme Greed'],\n",
              " ['2024-04-10', '78', 'Extreme Greed'],\n",
              " ['2024-04-09', '80', 'Extreme Greed'],\n",
              " ['2024-04-08', '76', 'Extreme Greed']]"
            ]
          },
          "metadata": {},
          "execution_count": 99
        }
      ]
    },
    {
      "cell_type": "code",
      "source": [
        "split_data = [entry[0].split(',') + entry[1].split(',') + entry[2].split(',') for entry in data]"
      ],
      "metadata": {
        "id": "ZB65xuPWQjnw"
      },
      "execution_count": null,
      "outputs": []
    },
    {
      "cell_type": "code",
      "source": [
        "DATES=[]\n",
        "for x in split_data:\n",
        "    DATES.append(x[0])\n"
      ],
      "metadata": {
        "id": "5sc2aosgI-HL"
      },
      "execution_count": null,
      "outputs": []
    },
    {
      "cell_type": "code",
      "source": [
        "split_data[0][1]"
      ],
      "metadata": {
        "colab": {
          "base_uri": "https://localhost:8080/",
          "height": 36
        },
        "id": "fV2QLOnERDMF",
        "outputId": "b98120f1-8c8e-471f-d0a9-e7496155b46f"
      },
      "execution_count": null,
      "outputs": [
        {
          "output_type": "execute_result",
          "data": {
            "text/plain": [
              "'67'"
            ],
            "application/vnd.google.colaboratory.intrinsic+json": {
              "type": "string"
            }
          },
          "metadata": {},
          "execution_count": 102
        }
      ]
    },
    {
      "cell_type": "code",
      "source": [
        "indexes=filter_dates_indexes(DATES)"
      ],
      "metadata": {
        "id": "AlNS7o8WQ-Es"
      },
      "execution_count": null,
      "outputs": []
    },
    {
      "cell_type": "code",
      "source": [
        "add=len(DATES)-len(indexes)"
      ],
      "metadata": {
        "id": "WUCqXY4BRdP0"
      },
      "execution_count": null,
      "outputs": []
    },
    {
      "cell_type": "code",
      "source": [
        "import numpy as np\n",
        "dates_and_values = np.empty((len(indexes), 2),dtype=object)"
      ],
      "metadata": {
        "id": "Kke4zEitRtDW"
      },
      "execution_count": null,
      "outputs": []
    },
    {
      "cell_type": "code",
      "source": [
        "for x in range(len(dates_and_values)):\n",
        "    dates_and_values[x][0]=DATES[indexes[x]]\n",
        "    dates_and_values[x][1]=split_data[x+add][1]"
      ],
      "metadata": {
        "id": "pqZP8uCOR4_0"
      },
      "execution_count": null,
      "outputs": []
    },
    {
      "cell_type": "code",
      "source": [
        "len(dates_and_values)"
      ],
      "metadata": {
        "colab": {
          "base_uri": "https://localhost:8080/"
        },
        "id": "7BjZtqiIVM6N",
        "outputId": "37dc615f-cb58-497d-cdfd-dc309c9fdf1b"
      },
      "execution_count": null,
      "outputs": [
        {
          "output_type": "execute_result",
          "data": {
            "text/plain": [
              "2257"
            ]
          },
          "metadata": {},
          "execution_count": 107
        }
      ]
    },
    {
      "cell_type": "code",
      "source": [
        "len(dates_and_values)"
      ],
      "metadata": {
        "colab": {
          "base_uri": "https://localhost:8080/"
        },
        "id": "VXAPDqM1Bcei",
        "outputId": "140a0c7c-00dd-4640-a592-d94724eab9c2"
      },
      "execution_count": null,
      "outputs": [
        {
          "output_type": "execute_result",
          "data": {
            "text/plain": [
              "2257"
            ]
          },
          "metadata": {},
          "execution_count": 108
        }
      ]
    },
    {
      "cell_type": "code",
      "source": [
        "START_DATE_API"
      ],
      "metadata": {
        "colab": {
          "base_uri": "https://localhost:8080/",
          "height": 36
        },
        "id": "ImzSdAD-S7hk",
        "outputId": "99a1b6b6-1d16-4cbb-b670-c2f8e80a2917"
      },
      "execution_count": null,
      "outputs": [
        {
          "output_type": "execute_result",
          "data": {
            "text/plain": [
              "'2018-02-01'"
            ],
            "application/vnd.google.colaboratory.intrinsic+json": {
              "type": "string"
            }
          },
          "metadata": {},
          "execution_count": 109
        }
      ]
    },
    {
      "cell_type": "code",
      "source": [
        "sdate = datetime.strptime(START_DATE_API, '%Y-%m-%d')\n",
        "cdate = datetime.strptime(CLOSE_DATE_API, '%Y-%m-%d')"
      ],
      "metadata": {
        "id": "V2VshuTUTFob"
      },
      "execution_count": null,
      "outputs": []
    },
    {
      "cell_type": "code",
      "source": [
        "difference_in_days = abs((cdate - sdate).days) +1"
      ],
      "metadata": {
        "id": "PnKXA6cYS5jd"
      },
      "execution_count": null,
      "outputs": []
    },
    {
      "cell_type": "code",
      "source": [
        "START_DATE_API"
      ],
      "metadata": {
        "colab": {
          "base_uri": "https://localhost:8080/",
          "height": 36
        },
        "id": "1uuHkJjnZSvy",
        "outputId": "018b1acf-e47f-4d8b-d278-47fe2993b1a6"
      },
      "execution_count": null,
      "outputs": [
        {
          "output_type": "execute_result",
          "data": {
            "text/plain": [
              "'2018-02-01'"
            ],
            "application/vnd.google.colaboratory.intrinsic+json": {
              "type": "string"
            }
          },
          "metadata": {},
          "execution_count": 112
        }
      ]
    },
    {
      "cell_type": "code",
      "source": [
        "start_date = datetime.strptime(\"2018-02-01\", \"%Y-%m-%d\")\n",
        "end_date = datetime.strptime(\"2024-04-09\", \"%Y-%m-%d\")\n",
        "difference_in_days = (end_date - start_date).days + 1\n",
        "empty_arr = [[None, None] for _ in range(difference_in_days)]\n",
        "\n",
        "current_date = start_date\n",
        "for i in range(difference_in_days):\n",
        "    empty_arr[i][0] = current_date.strftime(\"%Y-%m-%d\")\n",
        "    current_date += timedelta(days=1)\n"
      ],
      "metadata": {
        "id": "oT861P7WZuiU"
      },
      "execution_count": null,
      "outputs": []
    },
    {
      "cell_type": "code",
      "source": [
        "empty_arr[:10]"
      ],
      "metadata": {
        "colab": {
          "base_uri": "https://localhost:8080/"
        },
        "id": "VeWKALQjT8vX",
        "outputId": "c242aa75-60e0-4a22-a85e-c80f6f0bbf48"
      },
      "execution_count": null,
      "outputs": [
        {
          "output_type": "execute_result",
          "data": {
            "text/plain": [
              "[['2018-02-01', None],\n",
              " ['2018-02-02', None],\n",
              " ['2018-02-03', None],\n",
              " ['2018-02-04', None],\n",
              " ['2018-02-05', None],\n",
              " ['2018-02-06', None],\n",
              " ['2018-02-07', None],\n",
              " ['2018-02-08', None],\n",
              " ['2018-02-09', None],\n",
              " ['2018-02-10', None]]"
            ]
          },
          "metadata": {},
          "execution_count": 114
        }
      ]
    },
    {
      "cell_type": "code",
      "source": [
        "dav_rev=np.flip(dates_and_values)"
      ],
      "metadata": {
        "id": "NmhUvQg9Y7BS"
      },
      "execution_count": null,
      "outputs": []
    },
    {
      "cell_type": "code",
      "source": [
        "dav_rev[:5]"
      ],
      "metadata": {
        "colab": {
          "base_uri": "https://localhost:8080/"
        },
        "id": "tOPexx6GaCUP",
        "outputId": "370be7ce-3730-4caa-cbfc-2321a72dfefe"
      },
      "execution_count": null,
      "outputs": [
        {
          "output_type": "execute_result",
          "data": {
            "text/plain": [
              "array([['30', '2018-02-01'],\n",
              "       ['15', '2018-02-02'],\n",
              "       ['40', '2018-02-03'],\n",
              "       ['24', '2018-02-04'],\n",
              "       ['11', '2018-02-05']], dtype=object)"
            ]
          },
          "metadata": {},
          "execution_count": 116
        }
      ]
    },
    {
      "cell_type": "code",
      "source": [
        "for x in range(len(dates_and_values)):\n",
        "    for y in range(len(empty_arr)):\n",
        "        if(empty_arr[y][0]==dav_rev[x][1]):\n",
        "            empty_arr[y][1]=dav_rev[x][0]"
      ],
      "metadata": {
        "id": "YkPrflJNUMfO"
      },
      "execution_count": null,
      "outputs": []
    },
    {
      "cell_type": "code",
      "source": [
        "empty_arr[:10]"
      ],
      "metadata": {
        "colab": {
          "base_uri": "https://localhost:8080/"
        },
        "id": "6RB4V0l9YwEQ",
        "outputId": "250a8790-db5c-4ab4-ba92-47093a1e4a00"
      },
      "execution_count": null,
      "outputs": [
        {
          "output_type": "execute_result",
          "data": {
            "text/plain": [
              "[['2018-02-01', '30'],\n",
              " ['2018-02-02', '15'],\n",
              " ['2018-02-03', '40'],\n",
              " ['2018-02-04', '24'],\n",
              " ['2018-02-05', '11'],\n",
              " ['2018-02-06', '8'],\n",
              " ['2018-02-07', '36'],\n",
              " ['2018-02-08', '30'],\n",
              " ['2018-02-09', '44'],\n",
              " ['2018-02-10', '54']]"
            ]
          },
          "metadata": {},
          "execution_count": 118
        }
      ]
    },
    {
      "cell_type": "code",
      "source": [
        "NEW_API=[]\n",
        "for x in empty_arr:\n",
        "    NEW_API.append(x[1])"
      ],
      "metadata": {
        "id": "HKDIzZQ-b2b_"
      },
      "execution_count": null,
      "outputs": []
    },
    {
      "cell_type": "code",
      "source": [
        "DATA_INFO[24]"
      ],
      "metadata": {
        "colab": {
          "base_uri": "https://localhost:8080/"
        },
        "id": "NZzFMGC3ckWP",
        "outputId": "4e64560e-e793-4ed0-a2a3-c39ada2329e8"
      },
      "execution_count": null,
      "outputs": [
        {
          "output_type": "execute_result",
          "data": {
            "text/plain": [
              "['API_DATA', 2257, 2260, datetime.date(2018, 2, 1), datetime.date(2024, 4, 9)]"
            ]
          },
          "metadata": {},
          "execution_count": 120
        }
      ]
    },
    {
      "cell_type": "code",
      "source": [
        "PREPROCESSED_API_DATA=crop_data(NEW_API,DATA_INFO[24][3],DATA_INFO[24][4],target_date=date(2017, 11, 9),end_date=date(2024,4,9))"
      ],
      "metadata": {
        "colab": {
          "base_uri": "https://localhost:8080/"
        },
        "id": "pdkJ1FvMbj2w",
        "outputId": "a1a8db85-46bb-4d12-cef7-1d3c8df1b71c"
      },
      "execution_count": null,
      "outputs": [
        {
          "output_type": "stream",
          "name": "stdout",
          "text": [
            "0\n",
            "-84\n",
            "F:2\n"
          ]
        }
      ]
    },
    {
      "cell_type": "code",
      "source": [
        "len(PREPROCESSED_API_DATA)"
      ],
      "metadata": {
        "colab": {
          "base_uri": "https://localhost:8080/"
        },
        "id": "fONKkXRSczS1",
        "outputId": "11edf54b-3006-454e-d740-edbe20504b18"
      },
      "execution_count": null,
      "outputs": [
        {
          "output_type": "execute_result",
          "data": {
            "text/plain": [
              "2344"
            ]
          },
          "metadata": {},
          "execution_count": 122
        }
      ]
    },
    {
      "cell_type": "code",
      "source": [
        "DATA_INFO[24].append(PREPROCESSED_API_DATA)"
      ],
      "metadata": {
        "id": "cgtGQZZcsJQP"
      },
      "execution_count": null,
      "outputs": []
    },
    {
      "cell_type": "markdown",
      "source": [
        "Teraz giełdy"
      ],
      "metadata": {
        "id": "bv2005X9fike"
      }
    },
    {
      "cell_type": "code",
      "source": [
        "len(NASDAQ)"
      ],
      "metadata": {
        "colab": {
          "base_uri": "https://localhost:8080/"
        },
        "id": "QTt-MmRre83W",
        "outputId": "c069b596-d642-4a59-b1df-1f240ec3e916"
      },
      "execution_count": null,
      "outputs": [
        {
          "output_type": "execute_result",
          "data": {
            "text/plain": [
              "1383"
            ]
          },
          "metadata": {},
          "execution_count": 124
        }
      ]
    },
    {
      "cell_type": "code",
      "source": [
        "def market_preproces(market):\n",
        "    import csv\n",
        "\n",
        "    if(market==\"NYSE\"):\n",
        "        number=2\n",
        "    elif(market==\"NASDAQ\"):\n",
        "        number=3\n",
        "    elif(market==\"LSE\"):\n",
        "        number=4\n",
        "    else:\n",
        "        print(\"PODAJ DOBRY RYNEK\")\n",
        "\n",
        "    markets_csv=[]\n",
        "    with open('/content/drive/MyDrive/CRYPTO/7_World_markets/Market.csv', 'r') as file:\n",
        "        csv_reader = csv.reader(file)\n",
        "\n",
        "        for row in csv_reader:\n",
        "            markets_csv.append(row)\n",
        "\n",
        "    del markets_csv[0]\n",
        "\n",
        "    dates_and_values = np.full((len(markets_csv), 2), '', dtype=object)\n",
        "\n",
        "    for x in range(len(markets_csv)):\n",
        "        dates_and_values[x][0]=str(markets_csv[x][0])\n",
        "        dates_and_values[x][1]=str(markets_csv[x][number])\n",
        "\n",
        "    start_date = datetime.strptime(\"2018-01-02\", \"%Y-%m-%d\")\n",
        "    end_date = datetime.strptime(\"2023-06-30\", \"%Y-%m-%d\")\n",
        "    difference_in_days = (end_date - start_date).days + 1\n",
        "    empty_arr = [[None, None] for _ in range(difference_in_days)]\n",
        "    current_date = start_date\n",
        "    for i in range(difference_in_days):\n",
        "        empty_arr[i][0] = current_date.strftime(\"%Y-%m-%d\")\n",
        "        current_date += timedelta(days=1)\n",
        "\n",
        "\n",
        "\n",
        "    for x in range(len(dates_and_values)):\n",
        "        for y in range(len(empty_arr)):\n",
        "            if(empty_arr[y][0]==dates_and_values[x][0]):\n",
        "                empty_arr[y][1]=dates_and_values[x][1]\n",
        "\n",
        "    v_empty_array=[]\n",
        "    for x in range(len(empty_arr)):\n",
        "        v_empty_array.append(empty_arr[x][1])\n",
        "\n",
        "    return v_empty_array"
      ],
      "metadata": {
        "id": "4ObIHI35fw3E"
      },
      "execution_count": null,
      "outputs": []
    },
    {
      "cell_type": "code",
      "source": [
        "dates_and_values = np.full((len(markets_csv), 2), '', dtype=object)"
      ],
      "metadata": {
        "id": "lx9h3__okphz"
      },
      "execution_count": null,
      "outputs": []
    },
    {
      "cell_type": "code",
      "source": [
        "MARKETS_START_DATE,MARKETS_CLOSE_DATE"
      ],
      "metadata": {
        "colab": {
          "base_uri": "https://localhost:8080/"
        },
        "id": "sHxip4ovnigi",
        "outputId": "06932b16-6d2e-4477-eb8a-9227d7f1ecbb"
      },
      "execution_count": null,
      "outputs": [
        {
          "output_type": "execute_result",
          "data": {
            "text/plain": [
              "('2018-01-02', '2023-06-30')"
            ]
          },
          "metadata": {},
          "execution_count": 127
        }
      ]
    },
    {
      "cell_type": "code",
      "source": [
        "len(DATA_INFO)"
      ],
      "metadata": {
        "colab": {
          "base_uri": "https://localhost:8080/"
        },
        "id": "gLcf0T9uW_2m",
        "outputId": "3d586c62-2c74-42f0-94ff-03dd469a3d47"
      },
      "execution_count": null,
      "outputs": [
        {
          "output_type": "execute_result",
          "data": {
            "text/plain": [
              "49"
            ]
          },
          "metadata": {},
          "execution_count": 128
        }
      ]
    },
    {
      "cell_type": "code",
      "source": [
        "DATA_INFO[46]"
      ],
      "metadata": {
        "colab": {
          "base_uri": "https://localhost:8080/"
        },
        "id": "ljYzJAwzXEaj",
        "outputId": "d4860e7f-4e26-4cae-eaaf-d04ed5f6040f"
      },
      "execution_count": null,
      "outputs": [
        {
          "output_type": "execute_result",
          "data": {
            "text/plain": [
              "['NYSE', 1383, 2006, datetime.date(2018, 1, 2), datetime.date(2023, 6, 30)]"
            ]
          },
          "metadata": {},
          "execution_count": 129
        }
      ]
    },
    {
      "cell_type": "code",
      "source": [
        "NYSE_to_process=crop_data(market_preproces(\"NYSE\"),DATA_INFO[46][3],DATA_INFO[46][4])"
      ],
      "metadata": {
        "colab": {
          "base_uri": "https://localhost:8080/"
        },
        "id": "U4C_gHONzJUR",
        "outputId": "0e20470d-3707-4c9c-e048-ebac3b63b815"
      },
      "execution_count": null,
      "outputs": [
        {
          "output_type": "stream",
          "name": "stdout",
          "text": [
            "284\n",
            "-54\n",
            "F:2\n",
            "S:1\n"
          ]
        }
      ]
    },
    {
      "cell_type": "code",
      "source": [
        "DATA_INFO[46].append(NYSE_to_process)"
      ],
      "metadata": {
        "id": "pLwkmkzE281T"
      },
      "execution_count": null,
      "outputs": []
    },
    {
      "cell_type": "code",
      "source": [
        "NASDAQ_to_process=crop_data(market_preproces(\"NASDAQ\"),DATA_INFO[47][3],DATA_INFO[47][4])"
      ],
      "metadata": {
        "colab": {
          "base_uri": "https://localhost:8080/"
        },
        "id": "S4MVvCwG0gnb",
        "outputId": "cef093e6-e3eb-4c58-d387-265cea536ac4"
      },
      "execution_count": null,
      "outputs": [
        {
          "output_type": "stream",
          "name": "stdout",
          "text": [
            "284\n",
            "-54\n",
            "F:2\n",
            "S:1\n"
          ]
        }
      ]
    },
    {
      "cell_type": "code",
      "source": [
        "DATA_INFO[47].append(NASDAQ_to_process)"
      ],
      "metadata": {
        "id": "ca2K0pyw025K"
      },
      "execution_count": null,
      "outputs": []
    },
    {
      "cell_type": "code",
      "source": [
        "LSE_to_process=crop_data(market_preproces(\"LSE\"),DATA_INFO[48][3],DATA_INFO[48][4])"
      ],
      "metadata": {
        "colab": {
          "base_uri": "https://localhost:8080/"
        },
        "id": "GJNRxGCn0e5I",
        "outputId": "897fbab3-a36f-4b68-ce5f-7d9e3568d2e6"
      },
      "execution_count": null,
      "outputs": [
        {
          "output_type": "stream",
          "name": "stdout",
          "text": [
            "284\n",
            "-54\n",
            "F:2\n",
            "S:1\n"
          ]
        }
      ]
    },
    {
      "cell_type": "code",
      "source": [
        "DATA_INFO[48].append(LSE_to_process)"
      ],
      "metadata": {
        "id": "80bimZs-0z3x"
      },
      "execution_count": null,
      "outputs": []
    },
    {
      "cell_type": "markdown",
      "source": [
        "Teraz zajmiemy się resztą danych, tymi regularnymi oraz bez dziur"
      ],
      "metadata": {
        "id": "tnKJAlFwY-37"
      }
    },
    {
      "cell_type": "code",
      "source": [
        "excluded_indicies=[24,46,47,48]"
      ],
      "metadata": {
        "id": "UfKMNKn6Y7_T"
      },
      "execution_count": null,
      "outputs": []
    },
    {
      "cell_type": "code",
      "source": [
        "for x in range(len(DATA_LIST)):\n",
        "    if(x not in excluded_indicies):\n",
        "        DATA_INFO[x].append(crop_data(DATA_LIST[x],DATA_INFO[x][3],DATA_INFO[x][4]))"
      ],
      "metadata": {
        "colab": {
          "base_uri": "https://localhost:8080/"
        },
        "id": "94iwpJ5NZ_e1",
        "outputId": "105fa4b0-93d2-4b40-c69e-bddc346e79ae"
      },
      "execution_count": null,
      "outputs": [
        {
          "output_type": "stream",
          "name": "stdout",
          "text": [
            "0\n",
            "1149\n",
            "F:1\n",
            "0\n",
            "1149\n",
            "F:1\n",
            "0\n",
            "1149\n",
            "F:1\n",
            "0\n",
            "1149\n",
            "F:1\n",
            "4\n",
            "0\n",
            "F:3\n",
            "S:1\n",
            "4\n",
            "0\n",
            "F:3\n",
            "S:1\n",
            "4\n",
            "0\n",
            "F:3\n",
            "S:1\n",
            "4\n",
            "0\n",
            "F:3\n",
            "S:1\n",
            "4\n",
            "0\n",
            "F:3\n",
            "S:1\n",
            "4\n",
            "0\n",
            "F:3\n",
            "S:1\n",
            "4\n",
            "0\n",
            "F:3\n",
            "S:1\n",
            "4\n",
            "0\n",
            "F:3\n",
            "S:1\n",
            "0\n",
            "0\n",
            "F:3\n",
            "0\n",
            "0\n",
            "F:3\n",
            "0\n",
            "0\n",
            "F:3\n",
            "0\n",
            "0\n",
            "F:3\n",
            "0\n",
            "0\n",
            "F:3\n",
            "0\n",
            "0\n",
            "F:3\n",
            "0\n",
            "0\n",
            "F:3\n",
            "0\n",
            "0\n",
            "F:3\n",
            "0\n",
            "-977\n",
            "F:2\n",
            "0\n",
            "-977\n",
            "F:2\n",
            "0\n",
            "-977\n",
            "F:2\n",
            "0\n",
            "-977\n",
            "F:2\n",
            "0\n",
            "1149\n",
            "F:1\n",
            "0\n",
            "1149\n",
            "F:1\n",
            "0\n",
            "1149\n",
            "F:1\n",
            "0\n",
            "1149\n",
            "F:1\n",
            "0\n",
            "1149\n",
            "F:1\n",
            "0\n",
            "1149\n",
            "F:1\n",
            "0\n",
            "1149\n",
            "F:1\n",
            "0\n",
            "1149\n",
            "F:1\n",
            "4\n",
            "1149\n",
            "F:1\n",
            "S:1\n",
            "4\n",
            "1149\n",
            "F:1\n",
            "S:1\n",
            "4\n",
            "1149\n",
            "F:1\n",
            "S:1\n",
            "4\n",
            "1149\n",
            "F:1\n",
            "S:1\n",
            "4\n",
            "1149\n",
            "F:1\n",
            "S:1\n",
            "4\n",
            "1149\n",
            "F:1\n",
            "S:1\n",
            "4\n",
            "1149\n",
            "F:1\n",
            "S:1\n",
            "4\n",
            "1149\n",
            "F:1\n",
            "S:1\n",
            "4\n",
            "1149\n",
            "F:1\n",
            "S:1\n",
            "4\n",
            "1149\n",
            "F:1\n",
            "S:1\n",
            "4\n",
            "1149\n",
            "F:1\n",
            "S:1\n",
            "4\n",
            "1149\n",
            "F:1\n",
            "S:1\n",
            "770\n",
            "1077\n",
            "F:1\n",
            "S:1\n"
          ]
        }
      ]
    },
    {
      "cell_type": "markdown",
      "source": [
        "Teraz dane są w odpowiednim kształcie, oraz mają odpowiednią długość"
      ],
      "metadata": {
        "id": "aWsa4SXKoIH-"
      }
    },
    {
      "cell_type": "code",
      "source": [
        "DATA_LEN=2344"
      ],
      "metadata": {
        "id": "YsS3gLUtcto3"
      },
      "execution_count": null,
      "outputs": []
    },
    {
      "cell_type": "code",
      "source": [
        "DATA_ARRAY = np.full((DATA_LEN, len(DATA_INFO)), '', dtype=object)"
      ],
      "metadata": {
        "id": "EVoU9_lQVzW3"
      },
      "execution_count": null,
      "outputs": []
    },
    {
      "cell_type": "code",
      "source": [
        "DATA_ARRAY_od_gpt = np.full((DATA_LEN, len(DATA_INFO)), np.nan)"
      ],
      "metadata": {
        "id": "xKL_8lrBdYjd"
      },
      "execution_count": null,
      "outputs": []
    },
    {
      "cell_type": "code",
      "source": [
        "for y in range(len(DATA_INFO)):\n",
        "    for x in range(len(DATA_ARRAY)):\n",
        "        DATA_ARRAY[x][y]=DATA_INFO[y][5][x]\n"
      ],
      "metadata": {
        "id": "Gu-woE2uhYcV"
      },
      "execution_count": null,
      "outputs": []
    },
    {
      "cell_type": "markdown",
      "source": [
        "Na koniec dodamy jeszcze halvingi\n",
        "\n",
        "W okresie który rozpatrujemy miał miejsce tylko jeden halving - 2020-5-11"
      ],
      "metadata": {
        "id": "BuI5lZ8OTBv1"
      }
    },
    {
      "cell_type": "code",
      "source": [
        "START_DATE=date(2017, 11, 9)\n",
        "HALVING_DATE=date(2020, 5, 11)"
      ],
      "metadata": {
        "id": "dtaThHWNTetw"
      },
      "execution_count": null,
      "outputs": []
    },
    {
      "cell_type": "code",
      "source": [
        "diff=(HALVING_DATE-START_DATE).days"
      ],
      "metadata": {
        "id": "ySKf-S-4T0qq"
      },
      "execution_count": null,
      "outputs": []
    },
    {
      "cell_type": "code",
      "source": [
        "diff"
      ],
      "metadata": {
        "colab": {
          "base_uri": "https://localhost:8080/"
        },
        "id": "YlbdGsEVUBWq",
        "outputId": "21445636-b21b-47eb-9e7e-96080a3407d3"
      },
      "execution_count": null,
      "outputs": [
        {
          "output_type": "execute_result",
          "data": {
            "text/plain": [
              "914"
            ]
          },
          "metadata": {},
          "execution_count": 152
        }
      ]
    },
    {
      "cell_type": "code",
      "source": [
        "pre_halving_value=1\n",
        "post_halving_value=0.5"
      ],
      "metadata": {
        "id": "3j0nXjlBUInL"
      },
      "execution_count": null,
      "outputs": []
    },
    {
      "cell_type": "code",
      "source": [
        "post_halving_len=2344-diff"
      ],
      "metadata": {
        "id": "M5aokNgjURKQ"
      },
      "execution_count": null,
      "outputs": []
    },
    {
      "cell_type": "code",
      "source": [
        "pre_halving_array = [pre_halving_value] * diff\n",
        "post_halving_arr = [post_halving_value] * post_halving_len"
      ],
      "metadata": {
        "id": "pAhukL-4UChV"
      },
      "execution_count": null,
      "outputs": []
    },
    {
      "cell_type": "code",
      "source": [
        "HALVING=pre_halving_array+post_halving_arr"
      ],
      "metadata": {
        "id": "XdWaGbRDUyaA"
      },
      "execution_count": null,
      "outputs": []
    },
    {
      "cell_type": "code",
      "source": [
        "len(HALVING)"
      ],
      "metadata": {
        "colab": {
          "base_uri": "https://localhost:8080/"
        },
        "id": "1XiE0niHUvyl",
        "outputId": "df762199-7ffb-4598-89d1-945fe65ceb1f"
      },
      "execution_count": null,
      "outputs": [
        {
          "output_type": "execute_result",
          "data": {
            "text/plain": [
              "2344"
            ]
          },
          "metadata": {},
          "execution_count": 159
        }
      ]
    },
    {
      "cell_type": "code",
      "source": [
        "DATA_ARRAY.shape"
      ],
      "metadata": {
        "colab": {
          "base_uri": "https://localhost:8080/"
        },
        "id": "gLiEGoZMcZzg",
        "outputId": "496dc665-a438-41d2-e2b6-5f3744a25a56"
      },
      "execution_count": null,
      "outputs": [
        {
          "output_type": "execute_result",
          "data": {
            "text/plain": [
              "(2344, 49)"
            ]
          },
          "metadata": {},
          "execution_count": 161
        }
      ]
    },
    {
      "cell_type": "code",
      "source": [
        "new_column = np.zeros((2344, 1))\n",
        "\n",
        "new_array = np.concatenate((DATA_ARRAY, new_column), axis=1)"
      ],
      "metadata": {
        "id": "x-DmA1y8dIiZ"
      },
      "execution_count": null,
      "outputs": []
    },
    {
      "cell_type": "code",
      "source": [
        "for x in range(len(new_array)):\n",
        "    new_array[x][49]=HALVING[x]"
      ],
      "metadata": {
        "id": "eQC5n8IYcetI"
      },
      "execution_count": null,
      "outputs": []
    },
    {
      "cell_type": "code",
      "source": [
        "DATA_ARRAY=new_array"
      ],
      "metadata": {
        "id": "EWDwJYcSc3It"
      },
      "execution_count": null,
      "outputs": []
    },
    {
      "cell_type": "markdown",
      "source": [
        "Zapisujemy dane do pliku"
      ],
      "metadata": {
        "id": "tUmzDAbDllEa"
      }
    },
    {
      "cell_type": "code",
      "source": [
        "import pandas as pd\n",
        "\n",
        "df = pd.DataFrame(DATA_ARRAY)\n",
        "\n",
        "file_path = \"/content/drive/MyDrive/CRYPTO/Preprocessed_data/data.csv\"\n",
        "\n",
        "df.to_csv(file_path, index=False)\n"
      ],
      "metadata": {
        "id": "Ul2XXUmMsde-"
      },
      "execution_count": null,
      "outputs": []
    },
    {
      "cell_type": "code",
      "source": [
        "DATA_ARRAY.shape"
      ],
      "metadata": {
        "colab": {
          "base_uri": "https://localhost:8080/"
        },
        "id": "-ZvJhX1lsTCF",
        "outputId": "87902f67-ac01-4c90-e465-7cab2e5cefad"
      },
      "execution_count": null,
      "outputs": [
        {
          "output_type": "execute_result",
          "data": {
            "text/plain": [
              "(2344, 50)"
            ]
          },
          "metadata": {},
          "execution_count": 172
        }
      ]
    },
    {
      "cell_type": "code",
      "source": [],
      "metadata": {
        "id": "a7FbN2y-ntzB"
      },
      "execution_count": null,
      "outputs": []
    },
    {
      "cell_type": "code",
      "source": [],
      "metadata": {
        "id": "D1CcQyEXQZaZ"
      },
      "execution_count": null,
      "outputs": []
    }
  ]
}